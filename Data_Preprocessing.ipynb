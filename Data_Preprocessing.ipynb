{
  "nbformat": 4,
  "nbformat_minor": 0,
  "metadata": {
    "colab": {
      "provenance": [],
      "authorship_tag": "ABX9TyOnmSaaY++cnBk+aSAygRc6",
      "include_colab_link": true
    },
    "kernelspec": {
      "name": "python3",
      "display_name": "Python 3"
    },
    "language_info": {
      "name": "python"
    },
    "accelerator": "GPU",
    "gpuClass": "standard"
  },
  "cells": [
    {
      "cell_type": "markdown",
      "metadata": {
        "id": "view-in-github",
        "colab_type": "text"
      },
      "source": [
        "<a href=\"https://colab.research.google.com/github/shumshersubashgautam/QuantumGAN-HighEnergyPhysics/blob/main/Data_Preprocessing.ipynb\" target=\"_parent\"><img src=\"https://colab.research.google.com/assets/colab-badge.svg\" alt=\"Open In Colab\"/></a>"
      ]
    },
    {
      "cell_type": "code",
      "execution_count": 1,
      "metadata": {
        "colab": {
          "base_uri": "https://localhost:8080/"
        },
        "id": "Tsq5aiBoeGtA",
        "outputId": "fb70db55-f8d6-43fb-c5a3-19658765fd40"
      },
      "outputs": [
        {
          "output_type": "stream",
          "name": "stdout",
          "text": [
            "Wed Mar  1 09:20:41 2023       \n",
            "+-----------------------------------------------------------------------------+\n",
            "| NVIDIA-SMI 525.85.12    Driver Version: 525.85.12    CUDA Version: 12.0     |\n",
            "|-------------------------------+----------------------+----------------------+\n",
            "| GPU  Name        Persistence-M| Bus-Id        Disp.A | Volatile Uncorr. ECC |\n",
            "| Fan  Temp  Perf  Pwr:Usage/Cap|         Memory-Usage | GPU-Util  Compute M. |\n",
            "|                               |                      |               MIG M. |\n",
            "|===============================+======================+======================|\n",
            "|   0  Tesla T4            Off  | 00000000:00:04.0 Off |                    0 |\n",
            "| N/A   55C    P0    26W /  70W |      0MiB / 15360MiB |      0%      Default |\n",
            "|                               |                      |                  N/A |\n",
            "+-------------------------------+----------------------+----------------------+\n",
            "                                                                               \n",
            "+-----------------------------------------------------------------------------+\n",
            "| Processes:                                                                  |\n",
            "|  GPU   GI   CI        PID   Type   Process name                  GPU Memory |\n",
            "|        ID   ID                                                   Usage      |\n",
            "|=============================================================================|\n",
            "|  No running processes found                                                 |\n",
            "+-----------------------------------------------------------------------------+\n"
          ]
        }
      ],
      "source": [
        "!nvidia-smi"
      ]
    },
    {
      "cell_type": "code",
      "source": [
        "from IPython.display import clear_output"
      ],
      "metadata": {
        "id": "-263q2cZeP9A"
      },
      "execution_count": 2,
      "outputs": []
    },
    {
      "cell_type": "code",
      "source": [
        "!pip install -q tensorflow==2.7.0\n",
        "clear_output()"
      ],
      "metadata": {
        "id": "mlelLU6ZeWs3"
      },
      "execution_count": 3,
      "outputs": []
    },
    {
      "cell_type": "code",
      "source": [
        "!pip install pennylane-lightning[gpu]\n",
        "clear_output()"
      ],
      "metadata": {
        "id": "6hJEpCPaeYkH"
      },
      "execution_count": 4,
      "outputs": []
    },
    {
      "cell_type": "code",
      "source": [
        "!wget https://developer.download.nvidia.com/compute/cuquantum/redist/cuquantum/linux-x86_64/cuquantum-linux-x86_64-22.05.0.41-archive.tar.xz"
      ],
      "metadata": {
        "colab": {
          "base_uri": "https://localhost:8080/"
        },
        "id": "2H8jkiS-edV_",
        "outputId": "87235500-7d66-49a0-a720-d7e1d0566ff4"
      },
      "execution_count": 5,
      "outputs": [
        {
          "output_type": "stream",
          "name": "stdout",
          "text": [
            "--2023-03-01 09:22:03--  https://developer.download.nvidia.com/compute/cuquantum/redist/cuquantum/linux-x86_64/cuquantum-linux-x86_64-22.05.0.41-archive.tar.xz\n",
            "Resolving developer.download.nvidia.com (developer.download.nvidia.com)... 152.195.19.142\n",
            "Connecting to developer.download.nvidia.com (developer.download.nvidia.com)|152.195.19.142|:443... connected.\n",
            "HTTP request sent, awaiting response... 200 OK\n",
            "Length: 14859712 (14M) [application/octet-stream]\n",
            "Saving to: ‘cuquantum-linux-x86_64-22.05.0.41-archive.tar.xz’\n",
            "\n",
            "cuquantum-linux-x86 100%[===================>]  14.17M  27.3MB/s    in 0.5s    \n",
            "\n",
            "2023-03-01 09:22:04 (27.3 MB/s) - ‘cuquantum-linux-x86_64-22.05.0.41-archive.tar.xz’ saved [14859712/14859712]\n",
            "\n"
          ]
        }
      ]
    },
    {
      "cell_type": "code",
      "source": [
        "!tar -xvf cuquantum-linux-x86_64-22.05.0.41-archive.tar.xz"
      ],
      "metadata": {
        "colab": {
          "base_uri": "https://localhost:8080/"
        },
        "id": "Wfmm71x_eo53",
        "outputId": "f71ceb6b-3f82-4bd2-d34e-d0ea642f23d1"
      },
      "execution_count": 6,
      "outputs": [
        {
          "output_type": "stream",
          "name": "stdout",
          "text": [
            "cuquantum-linux-x86_64-22.05.0.41-archive/\n",
            "cuquantum-linux-x86_64-22.05.0.41-archive/include/\n",
            "cuquantum-linux-x86_64-22.05.0.41-archive/include/cutensornet/\n",
            "cuquantum-linux-x86_64-22.05.0.41-archive/include/cutensornet/types.h\n",
            "cuquantum-linux-x86_64-22.05.0.41-archive/include/cutensornet.h\n",
            "cuquantum-linux-x86_64-22.05.0.41-archive/include/custatevec.h\n",
            "cuquantum-linux-x86_64-22.05.0.41-archive/pkg-config/\n",
            "cuquantum-linux-x86_64-22.05.0.41-archive/pkg-config/custatevec-11.4.pc\n",
            "cuquantum-linux-x86_64-22.05.0.41-archive/pkg-config/cutensornet-11.4.pc\n",
            "cuquantum-linux-x86_64-22.05.0.41-archive/LICENSE\n",
            "cuquantum-linux-x86_64-22.05.0.41-archive/docs/\n",
            "cuquantum-linux-x86_64-22.05.0.41-archive/docs/cuQuantum_license.pdf\n",
            "cuquantum-linux-x86_64-22.05.0.41-archive/lib/\n",
            "cuquantum-linux-x86_64-22.05.0.41-archive/lib/libcustatevec.so.1\n",
            "cuquantum-linux-x86_64-22.05.0.41-archive/lib/libcustatevec.so.1.0.0.41\n",
            "cuquantum-linux-x86_64-22.05.0.41-archive/lib/libcutensornet.so.1\n",
            "cuquantum-linux-x86_64-22.05.0.41-archive/lib/libcutensornet.so.1.0.1.41\n",
            "cuquantum-linux-x86_64-22.05.0.41-archive/lib/libcustatevec.so\n",
            "cuquantum-linux-x86_64-22.05.0.41-archive/lib/libcustatevec_static.a\n",
            "cuquantum-linux-x86_64-22.05.0.41-archive/lib/libcutensornet.so\n",
            "cuquantum-linux-x86_64-22.05.0.41-archive/lib/libcutensornet_static.a\n"
          ]
        }
      ]
    },
    {
      "cell_type": "code",
      "source": [
        "import os\n",
        "os.environ['CUQUANTUM_ROOT']='/content/cuquantum-linux-x86_64-22.05.0.41-archive'\n",
        "os.environ['CUQUANTUM_DIR']='/content/cuquantum-linux-x86_64-22.05.0.41-archive'\n",
        "os.environ['LD_LIBRARY_PATH']=f\"{os.environ['CUQUANTUM_ROOT']}/lib:{os.environ['LD_LIBRARY_PATH']}\"\n",
        "os.environ['CUQUANTUM_SDK']='/content/cuquantum-linux-x86_64-22.05.0.41-archive'"
      ],
      "metadata": {
        "id": "Ich0lWSueron"
      },
      "execution_count": 7,
      "outputs": []
    },
    {
      "cell_type": "code",
      "source": [
        "!sudo add-apt-repository ppa:ubuntu-toolchain-r/test\n",
        "!sudo apt-get update\n",
        "!sudo apt-get install gcc-10 g++-10"
      ],
      "metadata": {
        "colab": {
          "base_uri": "https://localhost:8080/"
        },
        "id": "Jkd1zk3Weuie",
        "outputId": "0d53e05c-11c2-442a-da64-006a957ea435"
      },
      "execution_count": 8,
      "outputs": [
        {
          "output_type": "stream",
          "name": "stdout",
          "text": [
            " Toolchain test builds; see https://wiki.ubuntu.com/ToolChain\n",
            "\n",
            " More info: https://launchpad.net/~ubuntu-toolchain-r/+archive/ubuntu/test\n",
            "Press [ENTER] to continue or Ctrl-c to cancel adding it.\n",
            "\n",
            "Get:1 https://cloud.r-project.org/bin/linux/ubuntu focal-cran40/ InRelease [3,622 B]\n",
            "Get:2 http://security.ubuntu.com/ubuntu focal-security InRelease [114 kB]\n",
            "Hit:3 http://archive.ubuntu.com/ubuntu focal InRelease\n",
            "Ign:4 https://developer.download.nvidia.com/compute/machine-learning/repos/ubuntu2004/x86_64  InRelease\n",
            "Get:5 https://developer.download.nvidia.com/compute/cuda/repos/ubuntu2004/x86_64  InRelease [1,581 B]\n",
            "Hit:6 https://developer.download.nvidia.com/compute/machine-learning/repos/ubuntu2004/x86_64  Release\n",
            "Get:7 http://ppa.launchpad.net/c2d4u.team/c2d4u4.0+/ubuntu focal InRelease [18.1 kB]\n",
            "Get:8 http://archive.ubuntu.com/ubuntu focal-updates InRelease [114 kB]\n",
            "Get:9 http://security.ubuntu.com/ubuntu focal-security/universe amd64 Packages [1,008 kB]\n",
            "Get:10 http://security.ubuntu.com/ubuntu focal-security/main amd64 Packages [2,496 kB]\n",
            "Hit:11 http://ppa.launchpad.net/cran/libgit2/ubuntu focal InRelease\n",
            "Get:12 http://archive.ubuntu.com/ubuntu focal-backports InRelease [108 kB]\n",
            "Get:13 https://developer.download.nvidia.com/compute/cuda/repos/ubuntu2004/x86_64  Packages [907 kB]\n",
            "Hit:14 http://ppa.launchpad.net/deadsnakes/ppa/ubuntu focal InRelease\n",
            "Get:16 http://ppa.launchpad.net/graphics-drivers/ppa/ubuntu focal InRelease [24.3 kB]\n",
            "Get:17 http://ppa.launchpad.net/ubuntu-toolchain-r/test/ubuntu focal InRelease [17.5 kB]\n",
            "Get:18 http://archive.ubuntu.com/ubuntu focal-updates/universe amd64 Packages [1,304 kB]\n",
            "Hit:19 http://ppa.launchpad.net/ubuntugis/ppa/ubuntu focal InRelease\n",
            "Get:20 http://ppa.launchpad.net/c2d4u.team/c2d4u4.0+/ubuntu focal/main Sources [2,394 kB]\n",
            "Get:21 http://archive.ubuntu.com/ubuntu focal-updates/main amd64 Packages [2,972 kB]\n",
            "Get:22 http://ppa.launchpad.net/c2d4u.team/c2d4u4.0+/ubuntu focal/main amd64 Packages [1,134 kB]\n",
            "Get:23 http://ppa.launchpad.net/graphics-drivers/ppa/ubuntu focal/main amd64 Packages [42.9 kB]\n",
            "Get:24 http://ppa.launchpad.net/ubuntu-toolchain-r/test/ubuntu focal/main amd64 Packages [19.1 kB]\n",
            "Fetched 12.7 MB in 3s (4,232 kB/s)\n",
            "Reading package lists... Done\n",
            "Hit:1 http://security.ubuntu.com/ubuntu focal-security InRelease\n",
            "Hit:2 https://cloud.r-project.org/bin/linux/ubuntu focal-cran40/ InRelease\n",
            "Hit:3 http://archive.ubuntu.com/ubuntu focal InRelease\n",
            "Hit:4 http://ppa.launchpad.net/c2d4u.team/c2d4u4.0+/ubuntu focal InRelease\n",
            "Ign:5 https://developer.download.nvidia.com/compute/machine-learning/repos/ubuntu2004/x86_64  InRelease\n",
            "Hit:6 https://developer.download.nvidia.com/compute/cuda/repos/ubuntu2004/x86_64  InRelease\n",
            "Hit:7 https://developer.download.nvidia.com/compute/machine-learning/repos/ubuntu2004/x86_64  Release\n",
            "Hit:8 http://archive.ubuntu.com/ubuntu focal-updates InRelease\n",
            "Hit:9 http://archive.ubuntu.com/ubuntu focal-backports InRelease\n",
            "Hit:10 http://ppa.launchpad.net/cran/libgit2/ubuntu focal InRelease\n",
            "Hit:11 http://ppa.launchpad.net/deadsnakes/ppa/ubuntu focal InRelease\n",
            "Hit:13 http://ppa.launchpad.net/graphics-drivers/ppa/ubuntu focal InRelease\n",
            "Hit:14 http://ppa.launchpad.net/ubuntu-toolchain-r/test/ubuntu focal InRelease\n",
            "Hit:15 http://ppa.launchpad.net/ubuntugis/ppa/ubuntu focal InRelease\n",
            "Reading package lists... Done\n",
            "Reading package lists... Done\n",
            "Building dependency tree       \n",
            "Reading state information... Done\n",
            "The following additional packages will be installed:\n",
            "  cpp-10 gcc-11-base libasan6 libgcc-10-dev libstdc++-10-dev\n",
            "Suggested packages:\n",
            "  gcc-10-locales g++-10-multilib gcc-10-doc gcc-10-multilib libstdc++-10-doc\n",
            "The following NEW packages will be installed:\n",
            "  cpp-10 g++-10 gcc-10 gcc-11-base libasan6 libgcc-10-dev libstdc++-10-dev\n",
            "0 upgraded, 7 newly installed, 0 to remove and 66 not upgraded.\n",
            "Need to get 42.2 MB of archives.\n",
            "After this operation, 152 MB of additional disk space will be used.\n",
            "Get:1 http://archive.ubuntu.com/ubuntu focal-updates/universe amd64 cpp-10 amd64 10.3.0-1ubuntu1~20.04 [8,610 kB]\n",
            "Get:2 http://ppa.launchpad.net/ubuntu-toolchain-r/test/ubuntu focal/main amd64 gcc-11-base amd64 11.1.0-1ubuntu1~20.04 [19.0 kB]\n",
            "Get:3 http://ppa.launchpad.net/ubuntu-toolchain-r/test/ubuntu focal/main amd64 libasan6 amd64 11.1.0-1ubuntu1~20.04 [2,140 kB]\n",
            "Get:4 http://archive.ubuntu.com/ubuntu focal-updates/main amd64 libgcc-10-dev amd64 10.3.0-1ubuntu1~20.04 [2,342 kB]\n",
            "Get:5 http://archive.ubuntu.com/ubuntu focal-updates/universe amd64 gcc-10 amd64 10.3.0-1ubuntu1~20.04 [17.5 MB]\n",
            "Get:6 http://archive.ubuntu.com/ubuntu focal-updates/universe amd64 libstdc++-10-dev amd64 10.3.0-1ubuntu1~20.04 [1,759 kB]\n",
            "Get:7 http://archive.ubuntu.com/ubuntu focal-updates/universe amd64 g++-10 amd64 10.3.0-1ubuntu1~20.04 [9,803 kB]\n",
            "Fetched 42.2 MB in 2s (22.6 MB/s)\n",
            "debconf: unable to initialize frontend: Dialog\n",
            "debconf: (No usable dialog-like program is installed, so the dialog based frontend cannot be used. at /usr/share/perl5/Debconf/FrontEnd/Dialog.pm line 76, <> line 7.)\n",
            "debconf: falling back to frontend: Readline\n",
            "debconf: unable to initialize frontend: Readline\n",
            "debconf: (This frontend requires a controlling tty.)\n",
            "debconf: falling back to frontend: Teletype\n",
            "dpkg-preconfigure: unable to re-open stdin: \n",
            "Selecting previously unselected package gcc-11-base:amd64.\n",
            "(Reading database ... 128208 files and directories currently installed.)\n",
            "Preparing to unpack .../0-gcc-11-base_11.1.0-1ubuntu1~20.04_amd64.deb ...\n",
            "Unpacking gcc-11-base:amd64 (11.1.0-1ubuntu1~20.04) ...\n",
            "Selecting previously unselected package cpp-10.\n",
            "Preparing to unpack .../1-cpp-10_10.3.0-1ubuntu1~20.04_amd64.deb ...\n",
            "Unpacking cpp-10 (10.3.0-1ubuntu1~20.04) ...\n",
            "Selecting previously unselected package libasan6:amd64.\n",
            "Preparing to unpack .../2-libasan6_11.1.0-1ubuntu1~20.04_amd64.deb ...\n",
            "Unpacking libasan6:amd64 (11.1.0-1ubuntu1~20.04) ...\n",
            "Selecting previously unselected package libgcc-10-dev:amd64.\n",
            "Preparing to unpack .../3-libgcc-10-dev_10.3.0-1ubuntu1~20.04_amd64.deb ...\n",
            "Unpacking libgcc-10-dev:amd64 (10.3.0-1ubuntu1~20.04) ...\n",
            "Selecting previously unselected package gcc-10.\n",
            "Preparing to unpack .../4-gcc-10_10.3.0-1ubuntu1~20.04_amd64.deb ...\n",
            "Unpacking gcc-10 (10.3.0-1ubuntu1~20.04) ...\n",
            "Selecting previously unselected package libstdc++-10-dev:amd64.\n",
            "Preparing to unpack .../5-libstdc++-10-dev_10.3.0-1ubuntu1~20.04_amd64.deb ...\n",
            "Unpacking libstdc++-10-dev:amd64 (10.3.0-1ubuntu1~20.04) ...\n",
            "Selecting previously unselected package g++-10.\n",
            "Preparing to unpack .../6-g++-10_10.3.0-1ubuntu1~20.04_amd64.deb ...\n",
            "Unpacking g++-10 (10.3.0-1ubuntu1~20.04) ...\n",
            "Setting up gcc-11-base:amd64 (11.1.0-1ubuntu1~20.04) ...\n",
            "Setting up libasan6:amd64 (11.1.0-1ubuntu1~20.04) ...\n",
            "Setting up cpp-10 (10.3.0-1ubuntu1~20.04) ...\n",
            "Setting up libgcc-10-dev:amd64 (10.3.0-1ubuntu1~20.04) ...\n",
            "Setting up gcc-10 (10.3.0-1ubuntu1~20.04) ...\n",
            "Setting up libstdc++-10-dev:amd64 (10.3.0-1ubuntu1~20.04) ...\n",
            "Setting up g++-10 (10.3.0-1ubuntu1~20.04) ...\n",
            "Processing triggers for man-db (2.9.1-1) ...\n",
            "Processing triggers for libc-bin (2.31-0ubuntu9.9) ...\n"
          ]
        }
      ]
    },
    {
      "cell_type": "code",
      "source": [
        "!sudo update-alternatives --remove-all gcc\n",
        "!sudo update-alternatives --remove-all g++"
      ],
      "metadata": {
        "colab": {
          "base_uri": "https://localhost:8080/"
        },
        "id": "yh0bwXO4ex5P",
        "outputId": "8c5a6ff3-2bf2-4fab-d7dc-7341e93416c3"
      },
      "execution_count": 9,
      "outputs": [
        {
          "output_type": "stream",
          "name": "stdout",
          "text": [
            "update-alternatives: error: no alternatives for gcc\n",
            "update-alternatives: error: no alternatives for g++\n"
          ]
        }
      ]
    },
    {
      "cell_type": "code",
      "source": [
        "!sudo update-alternatives --install /usr/bin/gcc gcc /usr/bin/gcc-10 30\n",
        "!sudo update-alternatives --install /usr/bin/g++ g++ /usr/bin/g++-10 30"
      ],
      "metadata": {
        "colab": {
          "base_uri": "https://localhost:8080/"
        },
        "id": "10cegAyee60G",
        "outputId": "257a7438-ebf0-427e-fad1-561dadd8e889"
      },
      "execution_count": 10,
      "outputs": [
        {
          "output_type": "stream",
          "name": "stdout",
          "text": [
            "update-alternatives: using /usr/bin/gcc-10 to provide /usr/bin/gcc (gcc) in auto mode\n",
            "update-alternatives: using /usr/bin/g++-10 to provide /usr/bin/g++ (g++) in auto mode\n"
          ]
        }
      ]
    },
    {
      "cell_type": "code",
      "source": [
        "!sudo update-alternatives --config gcc\n",
        "!sudo update-alternatives --config g++"
      ],
      "metadata": {
        "colab": {
          "base_uri": "https://localhost:8080/"
        },
        "id": "l73uh30He9hd",
        "outputId": "f05192c2-a846-4678-c165-d37dfb8c9dc6"
      },
      "execution_count": 11,
      "outputs": [
        {
          "output_type": "stream",
          "name": "stdout",
          "text": [
            "There is only one alternative in link group gcc (providing /usr/bin/gcc): /usr/bin/gcc-10\n",
            "Nothing to configure.\n",
            "There is only one alternative in link group g++ (providing /usr/bin/g++): /usr/bin/g++-10\n",
            "Nothing to configure.\n"
          ]
        }
      ]
    },
    {
      "cell_type": "code",
      "source": [
        "%env CC=/usr/bin/gcc\n",
        "%env CXX=/usr/bin/g++\n",
        "     "
      ],
      "metadata": {
        "colab": {
          "base_uri": "https://localhost:8080/"
        },
        "id": "-WmRnB2Ie_h1",
        "outputId": "76e4eaa6-730c-4177-d97b-4ad0acb85619"
      },
      "execution_count": 12,
      "outputs": [
        {
          "output_type": "stream",
          "name": "stdout",
          "text": [
            "env: CC=/usr/bin/gcc\n",
            "env: CXX=/usr/bin/g++\n"
          ]
        }
      ]
    },
    {
      "cell_type": "code",
      "source": [
        "!git clone https://github.com/PennyLaneAI/pennylane-lightning-gpu.git"
      ],
      "metadata": {
        "colab": {
          "base_uri": "https://localhost:8080/"
        },
        "id": "ZKZnEtHpfBqO",
        "outputId": "ac0023bd-6f4d-4663-8f2e-a94f6d1ba331"
      },
      "execution_count": 13,
      "outputs": [
        {
          "output_type": "stream",
          "name": "stdout",
          "text": [
            "Cloning into 'pennylane-lightning-gpu'...\n",
            "remote: Enumerating objects: 4058, done.\u001b[K\n",
            "remote: Counting objects: 100% (4058/4058), done.\u001b[K\n",
            "remote: Compressing objects: 100% (1029/1029), done.\u001b[K\n",
            "remote: Total 4058 (delta 2979), reused 3943 (delta 2935), pack-reused 0\u001b[K\n",
            "Receiving objects: 100% (4058/4058), 946.63 KiB | 27.84 MiB/s, done.\n",
            "Resolving deltas: 100% (2979/2979), done.\n"
          ]
        }
      ]
    },
    {
      "cell_type": "code",
      "source": [
        "%cd pennylane-lightning-gpu"
      ],
      "metadata": {
        "colab": {
          "base_uri": "https://localhost:8080/"
        },
        "id": "y6E1VLHpfEBO",
        "outputId": "053da149-1905-40ed-f58f-192fab6af806"
      },
      "execution_count": 14,
      "outputs": [
        {
          "output_type": "stream",
          "name": "stdout",
          "text": [
            "/content/pennylane-lightning-gpu\n"
          ]
        }
      ]
    },
    {
      "cell_type": "code",
      "source": [
        "!python -m pip install wheel cuquantum"
      ],
      "metadata": {
        "colab": {
          "base_uri": "https://localhost:8080/"
        },
        "id": "dEXOaQbsfGJu",
        "outputId": "2a704563-d8a3-4b7f-ead3-963548075ada"
      },
      "execution_count": 15,
      "outputs": [
        {
          "output_type": "stream",
          "name": "stdout",
          "text": [
            "Looking in indexes: https://pypi.org/simple, https://us-python.pkg.dev/colab-wheels/public/simple/\n",
            "Requirement already satisfied: wheel in /usr/local/lib/python3.8/dist-packages (0.38.4)\n",
            "Collecting cuquantum\n",
            "  Downloading cuquantum-22.11.0-py3-none-manylinux2014_x86_64.whl (6.9 kB)\n",
            "Collecting cuquantum-cu11==22.11.0\n",
            "  Downloading cuquantum_cu11-22.11.0-py3-none-manylinux2014_x86_64.whl (7.0 kB)\n",
            "Collecting custatevec-cu11==1.2.0\n",
            "  Downloading custatevec_cu11-1.2.0-py3-none-manylinux2014_x86_64.whl (14.2 MB)\n",
            "\u001b[2K     \u001b[90m━━━━━━━━━━━━━━━━━━━━━━━━━━━━━━━━━━━━━━━━\u001b[0m \u001b[32m14.2/14.2 MB\u001b[0m \u001b[31m20.3 MB/s\u001b[0m eta \u001b[36m0:00:00\u001b[0m\n",
            "\u001b[?25hCollecting cutensornet-cu11==2.0.0\n",
            "  Downloading cutensornet_cu11-2.0.0-py3-none-manylinux2014_x86_64.whl (1.7 MB)\n",
            "\u001b[2K     \u001b[90m━━━━━━━━━━━━━━━━━━━━━━━━━━━━━━━━━━━━━━━━\u001b[0m \u001b[32m1.7/1.7 MB\u001b[0m \u001b[31m70.1 MB/s\u001b[0m eta \u001b[36m0:00:00\u001b[0m\n",
            "\u001b[?25hCollecting cutensor-cu11<2,>=1.6.1\n",
            "  Downloading cutensor_cu11-1.6.2-py3-none-manylinux2014_x86_64.whl (139.8 MB)\n",
            "\u001b[2K     \u001b[90m━━━━━━━━━━━━━━━━━━━━━━━━━━━━━━━━━━━━━━━\u001b[0m \u001b[32m139.8/139.8 MB\u001b[0m \u001b[31m7.5 MB/s\u001b[0m eta \u001b[36m0:00:00\u001b[0m\n",
            "\u001b[?25hInstalling collected packages: cutensor-cu11, custatevec-cu11, cutensornet-cu11, cuquantum-cu11, cuquantum\n",
            "Successfully installed cuquantum-22.11.0 cuquantum-cu11-22.11.0 custatevec-cu11-1.2.0 cutensor-cu11-1.6.2 cutensornet-cu11-2.0.0\n"
          ]
        }
      ]
    },
    {
      "cell_type": "code",
      "source": [
        "!python setup.py build_ext"
      ],
      "metadata": {
        "colab": {
          "base_uri": "https://localhost:8080/"
        },
        "id": "M_ocAbH2fI4-",
        "outputId": "33921b6d-8e3b-4674-b83b-82603ebd24e9"
      },
      "execution_count": 16,
      "outputs": [
        {
          "output_type": "stream",
          "name": "stdout",
          "text": [
            "/usr/local/lib/python3.8/dist-packages/setuptools/dist.py:484: UserWarning: Normalizing '0.29.0-dev2' to '0.29.0.dev2'\n",
            "  warnings.warn(tmpl.format(**locals()))\n",
            "running build_ext\n",
            "\u001b[0m░█░░░▀█▀░█▀▀░█░█░▀█▀░█▀█░▀█▀░█▀█░█▀▀░░░░█▀▀░█▀█░█░█\n",
            "░█░░░░█░░█░█░█▀█░░█░░█░█░░█░░█░█░█░█░░░░█░█░█▀▀░█░█\n",
            "░▀▀▀░▀▀▀░▀▀▀░▀░▀░░▀░░▀░▀░▀▀▀░▀░▀░▀▀▀░▀░░▀▀▀░▀░░░▀▀▀\n",
            "\u001b[0m\n",
            "-- The CXX compiler identification is GNU 10.3.0\n",
            "-- The C compiler identification is GNU 10.3.0\n",
            "-- The CUDA compiler identification is NVIDIA 11.8.89\n",
            "-- Detecting CXX compiler ABI info\n",
            "-- Detecting CXX compiler ABI info - done\n",
            "-- Check for working CXX compiler: /usr/bin/g++ - skipped\n",
            "-- Detecting CXX compile features\n",
            "-- Detecting CXX compile features - done\n",
            "-- Detecting C compiler ABI info\n",
            "-- Detecting C compiler ABI info - done\n",
            "-- Check for working C compiler: /usr/bin/gcc - skipped\n",
            "-- Detecting C compile features\n",
            "-- Detecting C compile features - done\n",
            "-- Detecting CUDA compiler ABI info\n",
            "-- Detecting CUDA compiler ABI info - done\n",
            "-- Check for working CUDA compiler: /usr/local/cuda/bin/nvcc - skipped\n",
            "-- Detecting CUDA compile features\n",
            "-- Detecting CUDA compile features - done\n",
            "-- pennylane_lightning_gpu version 0.29.0-dev2\n",
            "-- pybind11 v2.10.1 \n",
            "-- Found PythonInterp: /usr/bin/python3 (found suitable version \"3.8.10\", minimum required is \"3.6\") \n",
            "-- Found PythonLibs: /usr/lib/x86_64-linux-gnu/libpython3.8.so\n",
            "-- Performing Test HAS_FLTO\n",
            "-- Performing Test HAS_FLTO - Success\n",
            "\u001b[0m░█░░░▀█▀░█▀▀░█░█░▀█▀░█▀█░▀█▀░█▀█░█▀▀░░░░▄▀▄░█░█░█▀▄░▀█▀░▀█▀\n",
            "░█░░░░█░░█░█░█▀█░░█░░█░█░░█░░█░█░█░█░░░░█\\█░█░█░█▀▄░░█░░░█░\n",
            "░▀▀▀░▀▀▀░▀▀▀░▀░▀░░▀░░▀░▀░▀▀▀░▀░▀░▀▀▀░▀░░░▀\\░▀▀▀░▀▀░░▀▀▀░░▀░\n",
            "\u001b[0m\n",
            "-- pennylane_lightning version 0.29.0\n",
            "-- ENABLE_WARNINGS is ON.\n",
            "-- ENABLE_OPENMP is OFF.\n",
            "-- ENABLE_BLAS is OFF.\n",
            "-- ENABLE_KOKKOS is OFF.\n",
            "-- ENABLE AVX for X64 on UNIX compatible system.\n",
            "-- Found Python: /usr/local/bin/python (found version \"3.8.10\") found components: Interpreter Development Development.Module Development.Embed \n",
            "-- Compiling for x86. Enable AVX2/AVX512 kernels (runtime enabled).\n",
            "-- Looking for pthread.h\n",
            "-- Looking for pthread.h - found\n",
            "-- Performing Test CMAKE_HAVE_LIBC_PTHREAD\n",
            "-- Performing Test CMAKE_HAVE_LIBC_PTHREAD - Failed\n",
            "-- Looking for pthread_create in pthreads\n",
            "-- Looking for pthread_create in pthreads - not found\n",
            "-- Looking for pthread_create in pthread\n",
            "-- Looking for pthread_create in pthread - found\n",
            "-- Found Threads: TRUE  \n",
            "-- Found CUDA: /usr/local/cuda (found version \"11.8\") \n",
            "-- Found CUDAToolkit: /usr/local/cuda/include (found version \"11.8.89\") \n",
            "-- Found OpenMP_C: -fopenmp (found version \"4.5\") \n",
            "-- Found OpenMP_CXX: -fopenmp (found version \"4.5\") \n",
            "-- Found OpenMP: TRUE (found version \"4.5\")  \n",
            "-- Configuring done\n",
            "-- Generating done\n",
            "-- Build files have been written to: /content/pennylane-lightning-gpu/build/temp.linux-x86_64-3.8\n",
            "[32/32] Linking CXX shared module ../lib.linux-x86_64-3.8/pennylane_lightning_gpu/lightning_gpu_qubit_ops.cpython-38-x86_64-linux-gnu.so\u001b[K\n"
          ]
        }
      ]
    },
    {
      "cell_type": "code",
      "source": [
        "!python setup.py bdist_wheel"
      ],
      "metadata": {
        "colab": {
          "base_uri": "https://localhost:8080/"
        },
        "id": "tSaNRj4IfM9G",
        "outputId": "86e7b453-1f39-42c8-f8c5-36cd85f5d6fd"
      },
      "execution_count": 17,
      "outputs": [
        {
          "output_type": "stream",
          "name": "stdout",
          "text": [
            "/usr/local/lib/python3.8/dist-packages/setuptools/dist.py:484: UserWarning: Normalizing '0.29.0-dev2' to '0.29.0.dev2'\n",
            "  warnings.warn(tmpl.format(**locals()))\n",
            "running bdist_wheel\n",
            "running build\n",
            "running build_py\n",
            "Generating grammar tables from /usr/lib/python3.8/lib2to3/Grammar.txt\n",
            "Generating grammar tables from /usr/lib/python3.8/lib2to3/PatternGrammar.txt\n",
            "copying pennylane_lightning_gpu/_version.py -> build/lib.linux-x86_64-3.8/pennylane_lightning_gpu\n",
            "copying pennylane_lightning_gpu/_serialize.py -> build/lib.linux-x86_64-3.8/pennylane_lightning_gpu\n",
            "copying pennylane_lightning_gpu/lightning_gpu.py -> build/lib.linux-x86_64-3.8/pennylane_lightning_gpu\n",
            "copying pennylane_lightning_gpu/__init__.py -> build/lib.linux-x86_64-3.8/pennylane_lightning_gpu\n",
            "creating build/lib.linux-x86_64-3.8/pennylane_lightning_gpu/src\n",
            "copying pennylane_lightning_gpu/src/CMakeLists.txt -> build/lib.linux-x86_64-3.8/pennylane_lightning_gpu/src\n",
            "running build_ext\n",
            "\u001b[0m░█░░░▀█▀░█▀▀░█░█░▀█▀░█▀█░▀█▀░█▀█░█▀▀░░░░█▀▀░█▀█░█░█\n",
            "░█░░░░█░░█░█░█▀█░░█░░█░█░░█░░█░█░█░█░░░░█░█░█▀▀░█░█\n",
            "░▀▀▀░▀▀▀░▀▀▀░▀░▀░░▀░░▀░▀░▀▀▀░▀░▀░▀▀▀░▀░░▀▀▀░▀░░░▀▀▀\n",
            "\u001b[0m\n",
            "-- pennylane_lightning_gpu version 0.29.0-dev2\n",
            "-- pybind11 v2.10.1 \n",
            "\u001b[0m░█░░░▀█▀░█▀▀░█░█░▀█▀░█▀█░▀█▀░█▀█░█▀▀░░░░▄▀▄░█░█░█▀▄░▀█▀░▀█▀\n",
            "░█░░░░█░░█░█░█▀█░░█░░█░█░░█░░█░█░█░█░░░░█\\█░█░█░█▀▄░░█░░░█░\n",
            "░▀▀▀░▀▀▀░▀▀▀░▀░▀░░▀░░▀░▀░▀▀▀░▀░▀░▀▀▀░▀░░░▀\\░▀▀▀░▀▀░░▀▀▀░░▀░\n",
            "\u001b[0m\n",
            "-- pennylane_lightning version 0.29.0\n",
            "-- ENABLE_WARNINGS is ON.\n",
            "-- ENABLE_OPENMP is OFF.\n",
            "-- ENABLE_BLAS is OFF.\n",
            "-- ENABLE_KOKKOS is OFF.\n",
            "-- ENABLE AVX for X64 on UNIX compatible system.\n",
            "-- Compiling for x86. Enable AVX2/AVX512 kernels (runtime enabled).\n",
            "-- Configuring done\n",
            "-- Generating done\n",
            "-- Build files have been written to: /content/pennylane-lightning-gpu/build/temp.linux-x86_64-3.8\n",
            "ninja: no work to do.\n",
            "installing to build/bdist.linux-x86_64/wheel\n",
            "running install\n",
            "running install_lib\n",
            "creating build/bdist.linux-x86_64\n",
            "creating build/bdist.linux-x86_64/wheel\n",
            "creating build/bdist.linux-x86_64/wheel/pennylane_lightning_gpu\n",
            "copying build/lib.linux-x86_64-3.8/pennylane_lightning_gpu/_version.py -> build/bdist.linux-x86_64/wheel/pennylane_lightning_gpu\n",
            "creating build/bdist.linux-x86_64/wheel/pennylane_lightning_gpu/src\n",
            "copying build/lib.linux-x86_64-3.8/pennylane_lightning_gpu/src/CMakeLists.txt -> build/bdist.linux-x86_64/wheel/pennylane_lightning_gpu/src\n",
            "copying build/lib.linux-x86_64-3.8/pennylane_lightning_gpu/_serialize.py -> build/bdist.linux-x86_64/wheel/pennylane_lightning_gpu\n",
            "copying build/lib.linux-x86_64-3.8/pennylane_lightning_gpu/lightning_gpu_qubit_ops.cpython-38-x86_64-linux-gnu.so -> build/bdist.linux-x86_64/wheel/pennylane_lightning_gpu\n",
            "copying build/lib.linux-x86_64-3.8/pennylane_lightning_gpu/lightning_gpu.py -> build/bdist.linux-x86_64/wheel/pennylane_lightning_gpu\n",
            "copying build/lib.linux-x86_64-3.8/pennylane_lightning_gpu/lightning_qubit_ops.cpython-38-x86_64-linux-gnu.so -> build/bdist.linux-x86_64/wheel/pennylane_lightning_gpu\n",
            "copying build/lib.linux-x86_64-3.8/pennylane_lightning_gpu/__init__.py -> build/bdist.linux-x86_64/wheel/pennylane_lightning_gpu\n",
            "running install_egg_info\n",
            "running egg_info\n",
            "creating PennyLane_Lightning_GPU.egg-info\n",
            "writing PennyLane_Lightning_GPU.egg-info/PKG-INFO\n",
            "writing dependency_links to PennyLane_Lightning_GPU.egg-info/dependency_links.txt\n",
            "writing entry points to PennyLane_Lightning_GPU.egg-info/entry_points.txt\n",
            "writing requirements to PennyLane_Lightning_GPU.egg-info/requires.txt\n",
            "writing top-level names to PennyLane_Lightning_GPU.egg-info/top_level.txt\n",
            "writing manifest file 'PennyLane_Lightning_GPU.egg-info/SOURCES.txt'\n",
            "reading manifest file 'PennyLane_Lightning_GPU.egg-info/SOURCES.txt'\n",
            "reading manifest template 'MANIFEST.in'\n",
            "adding license file 'LICENSE'\n",
            "writing manifest file 'PennyLane_Lightning_GPU.egg-info/SOURCES.txt'\n",
            "Copying PennyLane_Lightning_GPU.egg-info to build/bdist.linux-x86_64/wheel/PennyLane_Lightning_GPU-0.29.0.dev2-py3.8.egg-info\n",
            "running install_scripts\n",
            "creating build/bdist.linux-x86_64/wheel/PennyLane_Lightning_GPU-0.29.0.dev2.dist-info/WHEEL\n",
            "creating 'dist/PennyLane_Lightning_GPU-0.29.0.dev2-cp38-cp38-linux_x86_64.whl' and adding 'build/bdist.linux-x86_64/wheel' to it\n",
            "adding 'pennylane_lightning_gpu/__init__.py'\n",
            "adding 'pennylane_lightning_gpu/_serialize.py'\n",
            "adding 'pennylane_lightning_gpu/_version.py'\n",
            "adding 'pennylane_lightning_gpu/lightning_gpu.py'\n",
            "adding 'pennylane_lightning_gpu/lightning_gpu_qubit_ops.cpython-38-x86_64-linux-gnu.so'\n",
            "adding 'pennylane_lightning_gpu/lightning_qubit_ops.cpython-38-x86_64-linux-gnu.so'\n",
            "adding 'pennylane_lightning_gpu/src/CMakeLists.txt'\n",
            "adding 'PennyLane_Lightning_GPU-0.29.0.dev2.dist-info/LICENSE'\n",
            "adding 'PennyLane_Lightning_GPU-0.29.0.dev2.dist-info/METADATA'\n",
            "adding 'PennyLane_Lightning_GPU-0.29.0.dev2.dist-info/WHEEL'\n",
            "adding 'PennyLane_Lightning_GPU-0.29.0.dev2.dist-info/entry_points.txt'\n",
            "adding 'PennyLane_Lightning_GPU-0.29.0.dev2.dist-info/top_level.txt'\n",
            "adding 'PennyLane_Lightning_GPU-0.29.0.dev2.dist-info/RECORD'\n",
            "removing build/bdist.linux-x86_64/wheel\n"
          ]
        }
      ]
    },
    {
      "cell_type": "code",
      "source": [
        "%cd .."
      ],
      "metadata": {
        "colab": {
          "base_uri": "https://localhost:8080/"
        },
        "id": "Sbzx7FOygFBu",
        "outputId": "723344f6-dd8a-4e6c-bcc9-0f25e4adf171"
      },
      "execution_count": 18,
      "outputs": [
        {
          "output_type": "stream",
          "name": "stdout",
          "text": [
            "/content\n"
          ]
        }
      ]
    },
    {
      "cell_type": "code",
      "source": [
        "import sympy as sp\n",
        "import pandas as pd\n",
        "import tensorflow as tf\n",
        "import pennylane as qml\n",
        "from pennylane import numpy as np\n",
        "from pennylane.transforms.batch_input import batch_input\n",
        "from abc import ABC\n",
        "# import cirq\n",
        "# from cirq.contrib.svg import SVGCircuit\n",
        "\n",
        "from h5py import File as HDF5File\n",
        "%matplotlib inline\n",
        "import matplotlib.pyplot as plt\n",
        "\n",
        "import keras.backend as K"
      ],
      "metadata": {
        "id": "xgxztlXAgI2G"
      },
      "execution_count": 19,
      "outputs": []
    },
    {
      "cell_type": "code",
      "source": [
        "!wget https://zenodo.org/record/269622/files/jet-images_Mass60-100_pT250-300_R1.25_Pix25.hdf5"
      ],
      "metadata": {
        "colab": {
          "base_uri": "https://localhost:8080/"
        },
        "id": "6UUxELP7gP6W",
        "outputId": "e2596521-630d-45f3-cdad-1f5560f605a1"
      },
      "execution_count": 20,
      "outputs": [
        {
          "output_type": "stream",
          "name": "stdout",
          "text": [
            "--2023-03-01 09:30:13--  https://zenodo.org/record/269622/files/jet-images_Mass60-100_pT250-300_R1.25_Pix25.hdf5\n",
            "Resolving zenodo.org (zenodo.org)... 188.185.124.72\n",
            "Connecting to zenodo.org (zenodo.org)|188.185.124.72|:443... connected.\n",
            "HTTP request sent, awaiting response... 200 OK\n",
            "Length: 2220068544 (2.1G) [application/octet-stream]\n",
            "Saving to: ‘jet-images_Mass60-100_pT250-300_R1.25_Pix25.hdf5’\n",
            "\n",
            "jet-images_Mass60-1 100%[===================>]   2.07G  2.74MB/s    in 14m 59s \n",
            "\n",
            "2023-03-01 09:45:13 (2.36 MB/s) - ‘jet-images_Mass60-100_pT250-300_R1.25_Pix25.hdf5’ saved [2220068544/2220068544]\n",
            "\n"
          ]
        }
      ]
    },
    {
      "cell_type": "code",
      "source": [
        "jet_mass_datafile = '/content/jet-images_Mass60-100_pT250-300_R1.25_Pix25.hdf5'\n",
        "jet_mass_data = HDF5File(jet_mass_datafile, 'r')"
      ],
      "metadata": {
        "id": "rAfk_6asggdV"
      },
      "execution_count": 21,
      "outputs": []
    },
    {
      "cell_type": "code",
      "source": [
        "print(jet_mass_data.keys())"
      ],
      "metadata": {
        "colab": {
          "base_uri": "https://localhost:8080/"
        },
        "id": "0-x9bAUqisd_",
        "outputId": "ce2265cb-bf72-4dc1-e065-a403a246cba1"
      },
      "execution_count": 22,
      "outputs": [
        {
          "output_type": "stream",
          "name": "stdout",
          "text": [
            "<KeysViewHDF5 ['image', 'jet_delta_R', 'jet_eta', 'jet_mass', 'jet_phi', 'jet_pt', 'signal', 'tau_1', 'tau_2', 'tau_21', 'tau_3', 'tau_32']>\n"
          ]
        }
      ]
    },
    {
      "cell_type": "code",
      "source": [
        "X_jet = jet_mass_data['image']\n",
        "print(X_jet.shape)\n",
        "plt.imshow(X_jet[5,:,:])"
      ],
      "metadata": {
        "colab": {
          "base_uri": "https://localhost:8080/",
          "height": 302
        },
        "id": "Zs0LlRrqitbf",
        "outputId": "f4441dc0-da46-47a3-cc40-cd42525d2b81"
      },
      "execution_count": 23,
      "outputs": [
        {
          "output_type": "stream",
          "name": "stdout",
          "text": [
            "(872666, 25, 25)\n"
          ]
        },
        {
          "output_type": "execute_result",
          "data": {
            "text/plain": [
              "<matplotlib.image.AxesImage at 0x7fa73a081670>"
            ]
          },
          "metadata": {},
          "execution_count": 23
        },
        {
          "output_type": "display_data",
          "data": {
            "text/plain": [
              "<Figure size 432x288 with 1 Axes>"
            ],
            "image/png": "[encoded data removed]"
          },
          "metadata": {
            "needs_background": "light"
          }
        }
      ]
    },
    {
      "cell_type": "code",
      "source": [
        "max_val_pix = np.argmax(np.mean(X_jet[:, :, :], axis=0))\n",
        "print(\"Maximum pixel value for Jet mass images:\",max_val_pix)\n",
        "center = [int(max_val_pix/25), max_val_pix%25]\n",
        "\n",
        "img_size = 16\n",
        "X_jet = X_jet[:10, (center[0]-int(img_size/2)):(center[0]+int(img_size/2)), (center[1]-int(img_size/2)):(center[1]+int(img_size/2))]\n",
        "\n",
        "print(X_jet.shape)\n",
        "     "
      ],
      "metadata": {
        "colab": {
          "base_uri": "https://localhost:8080/"
        },
        "id": "oAJKHWoqiwQe",
        "outputId": "6f4d9404-0330-4ce5-f85c-d0854079a7af"
      },
      "execution_count": 24,
      "outputs": [
        {
          "output_type": "stream",
          "name": "stdout",
          "text": [
            "Maximum pixel value for Jet mass images: 312\n",
            "(10, 16, 16)\n"
          ]
        }
      ]
    },
    {
      "cell_type": "code",
      "source": [
        "def plot_jet_image(content,\n",
        "#                     output_name,\n",
        "                    vmin=1e-6,\n",
        "                    vmax=300,\n",
        "                    title=''):\n",
        "    '''\n",
        "    Function to help you visualize a jet image on a log scale\n",
        "    Args:\n",
        "    -----\n",
        "       content : numpy array of dimensions 25x25, first arg to imshow, content of the image\n",
        "                 e.g.: generated_images.mean(axis=0) --> the average generated image\n",
        "                       real_images.mean(axis=0) --> the average Pythia image\n",
        "                       generated_images[aux_out == 1].mean(axis=0) --> the average generated image labeled as real by the discriminator \n",
        "                       etc...\n",
        "       output_name : string, name of the output file where the plot will be saved. Note: it will be located in ../plots/\n",
        "       vmin : (default = 1e-6) float, lower bound of the pixel intensity scale before saturation\n",
        "       vmax : (default = 300) float, upper bound of the pixel intensity scale before saturation\n",
        "       title : (default = '') string, title of the plot, to be displayed on top of the image\n",
        "    Outputs:\n",
        "    --------\n",
        "       no function returns\n",
        "       saves file in ../plots/output_name\n",
        "    '''\n",
        "    fig, ax = plt.subplots(figsize=(7, 6))\n",
        "    extent=[-1.25, 1.25, -1.25, 1.25]\n",
        "    im = ax.imshow(content, interpolation='nearest', norm=LogNorm(vmin=vmin, vmax=vmax), extent=extent)\n",
        "    cbar = plt.colorbar(im, fraction=0.05, pad=0.05)\n",
        "    cbar.set_label(r'Pixel Pt(GeV)', y=0.85)\n",
        "    plt.xlabel(r'[Transformed] Pseudorapidity')\n",
        "    plt.ylabel(r'[Transformed] Azimuthal Angle')\n",
        "    plt.title(title)"
      ],
      "metadata": {
        "id": "lyWYBGzgiyyY"
      },
      "execution_count": 25,
      "outputs": []
    },
    {
      "cell_type": "code",
      "source": [
        "plt.imshow(X_jet[5,:,:])"
      ],
      "metadata": {
        "colab": {
          "base_uri": "https://localhost:8080/",
          "height": 283
        },
        "id": "njosXXqLjDZO",
        "outputId": "860b1eb3-268f-4390-92b8-d679ac2182e0"
      },
      "execution_count": 26,
      "outputs": [
        {
          "output_type": "execute_result",
          "data": {
            "text/plain": [
              "<matplotlib.image.AxesImage at 0x7fa737f30100>"
            ]
          },
          "metadata": {},
          "execution_count": 26
        },
        {
          "output_type": "display_data",
          "data": {
            "text/plain": [
              "<Figure size 432x288 with 1 Axes>"
            ],
            "image/png": "[encoded data removed]"
          },
          "metadata": {
            "needs_background": "light"
          }
        }
      ]
    },
    {
      "cell_type": "code",
      "source": [
        "def input_gates(wires,inputs):\n",
        "  for wire in wires:\n",
        "    qml.RY(inputs[wire],wires=wire)"
      ],
      "metadata": {
        "id": "qGWvHUpBjEY_"
      },
      "execution_count": 27,
      "outputs": []
    },
    {
      "cell_type": "code",
      "source": [
        "def one_qubit_unitary(wire,symbols):\n",
        "  return [qml.RX(symbols[0],wires=wire),\n",
        "  qml.RY(symbols[1],wires=wire),\n",
        "  qml.RZ(symbols[2],wires=wire)]"
      ],
      "metadata": {
        "id": "q9I0EMUdjGze"
      },
      "execution_count": 28,
      "outputs": []
    },
    {
      "cell_type": "code",
      "source": [
        "def two_qubit_unitary(wires):\n",
        "  cx_ops = [qml.CNOT(wires=wire_link) for wire_link in zip(wires,wires[1:])]\n",
        "  cx_ops += ([qml.CNOT(wires=[wires[-1],wires[0]]) if len(wires) != 2 else []])\n",
        "  return cx_ops"
      ],
      "metadata": {
        "id": "r16Fx5hVjJFO"
      },
      "execution_count": 29,
      "outputs": []
    },
    {
      "cell_type": "code",
      "source": [
        "def pqc_circuit_for_conv(wires,params,layers=1):\n",
        "  num_wires = len(wires)\n",
        "  # input_symbols = sp.symbols('x_:'+str(num_wires))\n",
        "  # input_symbols = np.random.randn(num_wires)\n",
        "  # param_symbols = sp.symbols('theta_:'+str(3*num_wires*layers))\n",
        "  # param_symbols = np.random.randn(3*num_wires*layers)\n",
        "  params = tf.reshape(params,(layers,num_wires,3))\n",
        "  for layer in range(layers):\n",
        "    for wire in wires:\n",
        "      one_qubit_unitary(wire,params[layer,wire,:])\n",
        "    two_qubit_unitary(wires)"
      ],
      "metadata": {
        "id": "wi7VSw97jLLe"
      },
      "execution_count": 30,
      "outputs": []
    },
    {
      "cell_type": "code",
      "source": [
        "wires_=4\n",
        "dev = qml.device('default.qubit',wires=wires_)\n",
        "# @batch_input(argnum=0)\n",
        "@qml.qnode(dev)\n",
        "def pqc_circuit_for_conv_demo(inputs,wires,layers=1):\n",
        "  qml.AngleEmbedding(inputs,wires,rotation='Y')\n",
        "  num_wires = len(wires)\n",
        "  # input_symbols = sp.symbols('x_:'+str(num_wires))\n",
        "  input_symbols = np.random.randn(num_wires)\n",
        "  # param_symbols = sp.symbols('theta_:'+str(3*num_wires*layers))\n",
        "  param_symbols = np.random.randn(3*num_wires*layers)\n",
        "  param_symbols = np.reshape(param_symbols,(layers,num_wires,3))\n",
        "  for layer in range(layers):\n",
        "    for wire in wires:\n",
        "      one_qubit_unitary(wire,param_symbols[layer,wire,:])\n",
        "    two_qubit_unitary(wires)\n",
        "  return qml.expval(qml.PauliZ(wires=wires[-1]))"
      ],
      "metadata": {
        "id": "n0daC8z8jNO-"
      },
      "execution_count": 31,
      "outputs": []
    },
    {
      "cell_type": "code",
      "source": [
        "from tensorflow.python.ops.numpy_ops import np_config\n",
        "np_config.enable_numpy_behavior()\n",
        "\n",
        "qml.drawer.use_style('black_white')\n",
        "qml.draw_mpl(pqc_circuit_for_conv_demo)(inputs=tf.random.uniform(shape=(1,4)),wires=[i for i in range(wires_)],layers=2)\n",
        "print(pqc_circuit_for_conv_demo(inputs=tf.random.uniform(shape=(1,4)),wires=[i for i in range(wires_)],layers=2))\n",
        "print(tf.random.uniform(shape=(1,4)))"
      ],
      "metadata": {
        "colab": {
          "base_uri": "https://localhost:8080/",
          "height": 521
        },
        "id": "Q86LCQ6mjPkZ",
        "outputId": "91df71af-e9a1-41e5-8663-c15674518efb"
      },
      "execution_count": 32,
      "outputs": [
        {
          "output_type": "stream",
          "name": "stderr",
          "text": [
            "/usr/local/lib/python3.8/dist-packages/pennylane/math/utils.py:223: UserWarning: Contains tensors of types {'autograd', 'tensorflow'}; dispatch will prioritize TensorFlow, PyTorch, and  Jax over Autograd. Consider replacing Autograd with vanilla NumPy.\n",
            "  warnings.warn(\n",
            "/usr/local/lib/python3.8/dist-packages/pennylane/math/utils.py:223: UserWarning: Contains tensors of types {'autograd', 'tensorflow'}; dispatch will prioritize TensorFlow, PyTorch, and  Jax over Autograd. Consider replacing Autograd with vanilla NumPy.\n",
            "  warnings.warn(\n"
          ]
        },
        {
          "output_type": "stream",
          "name": "stdout",
          "text": [
            "tf.Tensor(-0.2294348276364524, shape=(), dtype=float64)\n",
            "tf.Tensor([[0.2986287  0.38277626 0.97082245 0.6091728 ]], shape=(1, 4), dtype=float32)\n"
          ]
        },
        {
          "output_type": "display_data",
          "data": {
            "text/plain": [
              "<Figure size 1296x360 with 1 Axes>"
            ],
            "image/png": "[encoded data removed]"
          },
          "metadata": {}
        }
      ]
    },
    {
      "cell_type": "code",
      "source": [
        "parameters = pqc_circuit_for_conv_demo.qtape.get_parameters(trainable_only=False)\n",
        "print(parameters)\n",
        "non_trainable, trainable = [], []\n",
        "for idx, param in enumerate(parameters):\n",
        "  if idx in [0]:\n",
        "    non_trainable.append(param)\n",
        "  else:\n",
        "    trainable.append(param)\n",
        "print(non_trainable[0].numpy())\n",
        "for i in zip(*non_trainable):\n",
        "  print(i)"
      ],
      "metadata": {
        "colab": {
          "base_uri": "https://localhost:8080/"
        },
        "id": "PQAA5MZ8jSff",
        "outputId": "3ba13234-ccd9-4e6a-8dff-1303cb355186"
      },
      "execution_count": 33,
      "outputs": [
        {
          "output_type": "stream",
          "name": "stdout",
          "text": [
            "[<tf.Tensor: shape=(1, 4), dtype=float32, numpy=array([[0.94948876, 0.09110439, 0.81285584, 0.0704093 ]], dtype=float32)>, tensor(0.95330975, requires_grad=True), tensor(-0.21219312, requires_grad=True), tensor(-0.52911886, requires_grad=True), tensor(-0.86029143, requires_grad=True), tensor(0.04885845, requires_grad=True), tensor(1.57052759, requires_grad=True), tensor(0.22403735, requires_grad=True), tensor(-0.12698635, requires_grad=True), tensor(-1.16246531, requires_grad=True), tensor(0.04095314, requires_grad=True), tensor(-0.42129802, requires_grad=True), tensor(-0.99578289, requires_grad=True), tensor(-0.10923104, requires_grad=True), tensor(-0.36620607, requires_grad=True), tensor(-0.24131671, requires_grad=True), tensor(-0.96520334, requires_grad=True), tensor(0.43977045, requires_grad=True), tensor(-0.17443799, requires_grad=True), tensor(1.35393651, requires_grad=True), tensor(0.03374428, requires_grad=True), tensor(2.61719078, requires_grad=True), tensor(0.45250944, requires_grad=True), tensor(0.31818493, requires_grad=True), tensor(-0.15329982, requires_grad=True)]\n",
            "[[0.94948876 0.09110439 0.81285584 0.0704093 ]]\n",
            "(<tf.Tensor: shape=(4,), dtype=float32, numpy=array([0.94948876, 0.09110439, 0.81285584, 0.0704093 ], dtype=float32)>,)\n"
          ]
        }
      ]
    },
    {
      "cell_type": "code",
      "source": [
        "# from pennylane.transforms import batch_input\n",
        "# class QConvPQC(qml.qnn.KerasLayer):\n",
        "#   def __init__(self,n_qubits,layers,name='Quantum_convolutional_layer') -> None:\n",
        "#       super(QConvPQC,self).__init__(name=name)\n",
        "#       self.main_name=name\n",
        "#       self.layers=layers\n",
        "#       self.qubits=[qubit for qubit in range(n_qubits)]\n",
        "#       self.n_qubits=n_qubits\n",
        "#       self.num_params=layers*n_qubits*3\n",
        "#       self.dev = qml.device('lightning.gpu',wires=self.n_qubits)\n",
        "      \n",
        "#   def get_config(self):\n",
        "#     config = super().get_config().copy()\n",
        "#     config.update({\n",
        "#         'number_of_qubits':self.n_qubits,\n",
        "#         'number_of_layers':self.layers,\n",
        "#         'number_of_parameters':self.num_params\n",
        "#     })\n",
        "#     return config\n",
        "\n",
        "#   def build(self,input_shape):\n",
        "    # param_vals = tf.random_uniform_initializer(minval=-np.pi,maxval=np.pi)\n",
        "    # self.params = tf.Variable(initial_value=param_vals(shape=(1,self.num_params),dtype='float32'),\n",
        "    #                           trainable = True,\n",
        "    #                           name = self.main_name + '-parameters') \n",
        "    \n",
        "#   def call(self,inputs):\n",
        "#     batch_size = tf.shape(inputs)[0]\n",
        "#     flattened_inputs = tf.keras.layers.Flatten()(inputs)\n",
        "#     # @batch_input(argnum=0)\n",
        "#     @qml.qnode(self.dev,interface=\"tf\")\n",
        "#     def convolutional_circuit(inputs,params,wires,layers):\n",
        "#       # input_gates(inputs=inputs,wires=wires)\n",
        "#       qml.AngleEmbedding(inputs, wires =wires, rotation=\"Y\")\n",
        "#       pqc_circuit_for_conv(params=params,wires=wires,layers=layers)\n",
        "#       return qml.expval(qml.PauliZ(wires=wires[-1]))\n",
        "#     return qml.qnn.KerasLayer(convolutional_circuit,weight_shapes={'params':(1,self.num_params),'wires':self.n_qubits,'layers':self.layers},o"
      ],
      "metadata": {
        "id": "P7XlYQt0jVVv"
      },
      "execution_count": 34,
      "outputs": []
    },
    {
      "cell_type": "code",
      "source": [
        "def QConv_layer(inputs,layers,filter_size,stride,conv_id='',name='QConv_layer_'):\n",
        "  iter = int(1 + (inputs.shape[1]-filter_size)/stride)\n",
        "  n_qubits = filter_size*filter_size\n",
        "  wires=[qubit for qubit in range(n_qubits)]\n",
        "  dev = qml.device('lightning.gpu',wires=n_qubits)\n",
        "  @qml.qnode(dev,interface=\"tf\")\n",
        "  def convolutional_circuit(inputs,params):\n",
        "    # input_gates(inputs=inputs,wires=wires)\n",
        "    qml.AngleEmbedding(inputs, wires =wires, rotation=\"Y\")\n",
        "    pqc_circuit_for_conv(params=params,wires=wires,layers=layers)\n",
        "    return qml.expval(qml.PauliZ(wires=wires[-1]))\n",
        "  # pqc = QConvPQC(n_qubits=n_qubits,layers=layers,name=name+conv_id) # \n",
        "  pqc = qml.qnn.KerasLayer(convolutional_circuit, weight_shapes={'params':layers*n_qubits*3},output_dim=1,name=name+conv_id)\n",
        "  conv = []\n",
        "  pqc.build(tf.shape(inputs))\n",
        "\n",
        "  for i in range(iter):\n",
        "    for j in range(iter):\n",
        "      # pqc.build(tf.shape(inputs[:,stride*i:filter_size+i*stride,stride*i:filter_size+i*stride]))\n",
        "      temp = pqc(tf.keras.layers.Flatten()(inputs[:,stride*i:filter_size+i*stride,stride*i:filter_size+i*stride]))\n",
        "      conv += [temp]\n",
        "  output_concat = tf.keras.layers.Concatenate(axis=1)(conv)\n",
        "  output_reshape = tf.keras.layers.Reshape((iter,iter,1))(output_concat)\n",
        "  return output_reshape"
      ],
      "metadata": {
        "id": "zocmsznsjcfP"
      },
      "execution_count": 35,
      "outputs": []
    },
    {
      "cell_type": "code",
      "source": [
        "images = tf.random.normal(shape=(10,5,5,1))\n",
        "# plt.imshow(images[0,:,:,0])\n",
        "# print(images)\n",
        "image_patches = tf.compat.v1.extract_image_patches(images,sizes=[1,2,2,1],strides=[1,1,1,1],rates=[1,1,1,1],padding='SAME')\n",
        "print(image_patches.shape)\n",
        "# print(image_patches)\n",
        "print(image_patches[:,0,0,:])"
      ],
      "metadata": {
        "colab": {
          "base_uri": "https://localhost:8080/"
        },
        "id": "DYmpuYF-jetX",
        "outputId": "f5c5ac78-22e4-427e-f1a5-3ef331f2172e"
      },
      "execution_count": 36,
      "outputs": [
        {
          "output_type": "stream",
          "name": "stdout",
          "text": [
            "(10, 5, 5, 4)\n",
            "tf.Tensor(\n",
            "[[ 1.7143236   1.2645892  -0.62609404  1.8947939 ]\n",
            " [-0.9841718  -0.9286807   0.12574475 -2.0192451 ]\n",
            " [ 0.41424677 -0.6356249   1.7402062   1.6517671 ]\n",
            " [-0.17860225  0.84923214 -0.4714313  -1.7089957 ]\n",
            " [-0.29249394 -0.8152246   0.3441792  -0.3724632 ]\n",
            " [ 1.4204444   0.28556404 -0.23594832  1.2064961 ]\n",
            " [ 0.98905575  1.8245661   0.35591906 -0.07459074]\n",
            " [ 0.16321693  0.86337805 -0.8559823  -1.3417927 ]\n",
            " [ 0.09719165 -0.95113605 -0.18147126  0.5119952 ]\n",
            " [ 1.5016663   0.6362197   0.6066841   0.60295296]], shape=(10, 4), dtype=float32)\n"
          ]
        }
      ]
    },
    {
      "cell_type": "code",
      "source": [
        "r = tf.TensorShape([None,16,16]).concatenate(1)\n",
        "print(r)"
      ],
      "metadata": {
        "colab": {
          "base_uri": "https://localhost:8080/"
        },
        "id": "GaI6e33hjfd_",
        "outputId": "1a973895-4c8a-4d49-d1c1-4718a132fa51"
      },
      "execution_count": 37,
      "outputs": [
        {
          "output_type": "stream",
          "name": "stdout",
          "text": [
            "(None, 16, 16, 1)\n"
          ]
        }
      ]
    },
    {
      "cell_type": "code",
      "source": [
        "layers = 2\n",
        "filter_size = [4,3,2]\n",
        "stride = [2,2,1]\n",
        "\n",
        "def create_discriminator_j():\n",
        "  data_inputs = tf.keras.Input(shape=(16, 16, 1,),dtype=tf.dtypes.float32,name='Input_layer')\n",
        "  conv_1 = QConv_layer(inputs=data_inputs,layers=layers,filter_size=filter_size[0],stride=stride[0],conv_id='1') #\n",
        "  conv_2 = QConv_layer(inputs=conv_1,layers=layers,filter_size=filter_size[1],stride=stride[1],conv_id='2')  #\n",
        "  conv_3 = QConv_layer(inputs=conv_2,layers=layers,filter_size=filter_size[2],stride=stride[2],conv_id='3')  #\n",
        "  conv_output = tf.keras.layers.Flatten()(conv_3)\n",
        "  normalized_conv_output = tf.keras.layers.BatchNormalization(trainable=True)(conv_output)\n",
        "  final_output = tf.keras.layers.Dense(1)(normalized_conv_output)\n",
        "  model = tf.keras.Model(inputs=[data_inputs],outputs=[final_output])\n",
        "  return model"
      ],
      "metadata": {
        "id": "Co_A_PLCjhU-"
      },
      "execution_count": 38,
      "outputs": []
    },
    {
      "cell_type": "code",
      "source": [
        "data_inputs = tf.keras.Input(shape=(16,16,),dtype=tf.dtypes.float32,name='Input_layer')\n",
        "flattened_data_inputs = tf.keras.layers.Flatten()(data_inputs)\n",
        "print(flattened_data_inputs)\n",
        "print(tf.shape(data_inputs)[1])"
      ],
      "metadata": {
        "colab": {
          "base_uri": "https://localhost:8080/"
        },
        "id": "qhlP92Lwjjzn",
        "outputId": "a326afa9-5f05-48ff-9606-a9413628b2e6"
      },
      "execution_count": 39,
      "outputs": [
        {
          "output_type": "stream",
          "name": "stdout",
          "text": [
            "KerasTensor(type_spec=TensorSpec(shape=(None, 256), dtype=tf.float32, name=None), name='flatten/Reshape:0', description=\"created by layer 'flatten'\")\n",
            "KerasTensor(type_spec=TensorSpec(shape=(), dtype=tf.int32, name=None), inferred_value=[16], name='tf.__operators__.getitem/strided_slice:0', description=\"created by layer 'tf.__operators__.getitem'\")\n"
          ]
        }
      ]
    },
    {
      "cell_type": "code",
      "source": [
        "# discriminator_model = create_discriminator_j()\n",
        "# discriminator_model.summary()\n",
        "# discriminator_model.trainable_variables"
      ],
      "metadata": {
        "id": "70i8Xw4xjsfQ"
      },
      "execution_count": 137,
      "outputs": []
    },
    {
      "cell_type": "code",
      "source": [
        "# def preprocess_inputs(inputs,filter_size,strides,rates,padding):\n",
        "#   sizes = list((1,1)+filter_size)\n",
        "#   strides = list((1,1)+strides)\n",
        "#   rates = list((1,1)+rates)\n",
        "#   depth=1\n",
        "#   # inputs_with_depth = tf.expand_dims(inputs,axis=3)\n",
        "#   # input_patches = tf.compat.v1.extract_image_patches(inputs,sizes=sizes,strides=strides,rates=rates,padding=padding)\n",
        "#   input_patches = tf.image.extract_patches(inputs,sizes=sizes,strides=strides,rates=rates,padding=padding)\n",
        "#   circuit_input_shape = tf.shape(input_patches[:,0,0,:])\n",
        "#   return input_patches,circuit_input_shape\n",
        "     "
      ],
      "metadata": {
        "id": "6YyKdZJTjzEu"
      },
      "execution_count": 41,
      "outputs": []
    },
    {
      "cell_type": "code",
      "source": [
        "# def QConv_layer(inputs,layers,filter_size,strides,rates,padding,conv_id='',name='QConv_layer_'):\n",
        "#   iter = int(inputs.shape[1])\n",
        "#   n_qubits = filter_size[0]*filter_size[0]\n",
        "#   wires=[qubit for qubit in range(n_qubits)]\n",
        "#   dev = qml.device('lightning.gpu',wires=n_qubits)\n",
        "#   @qml.qnode(dev,interface=\"tf\")\n",
        "#   def convolutional_circuit(inputs,params):\n",
        "#     # input_gates(inputs=inputs,wires=wires)\n",
        "#     qml.AngleEmbedding(inputs, wires =wires, rotation=\"Y\")\n",
        "#     pqc_circuit_for_conv(params=params,wires=wires,layers=layers)\n",
        "#     return qml.expval(qml.PauliZ(wires=wires[-1]))\n",
        "#   pqc = qml.qnn.KerasLayer(convolutional_circuit, weight_shapes={'params':layers*n_qubits*3},output_dim=1,name=name+conv_id)\n",
        "#   conv = []\n",
        "  \n",
        "#   circuit_inputs,input_shape = preprocess_inputs(inputs=inputs,filter_size=filter_size,rates=rates,strides=strides,padding=padding)\n",
        "#   pqc.build(input_shape)\n",
        "#   for row in range(iter):\n",
        "#     for col in range(iter):\n",
        "#       temp = pqc(circuit_inputs[:,row,col,:])\n",
        "#       conv += [temp]\n",
        "#   output_concat = tf.keras.layers.Concatenate(axis=1)(conv)\n",
        "#   # output_reshape = tf.keras.layers.Reshape((iter,iter,1))(output_concat)\n",
        "#   output_reshape = tf.reshape(output_concat,shape=(-1,iter,iter,1))\n",
        "#   return output_reshape "
      ],
      "metadata": {
        "id": "Mm3jokKUj0FG"
      },
      "execution_count": 42,
      "outputs": []
    },
    {
      "cell_type": "code",
      "source": [
        "# def create_generator_j():\n",
        "#   data_inputs = tf.keras.Input(shape=(8, 8, 1,),dtype=tf.dtypes.float32,name='Input_layer')\n",
        "#   conv_1 = QConv_layer(inputs=data_inputs,layers=2,filter_size=(3,3),strides=(1,1),rates=(1,1),padding = 'SAME' ,conv_id='1')\n",
        "#   conv_2 = QConv_layer(inputs=conv_1,layers=2,filter_size=(4,4),strides=(1,1),rates=(1,1),padding = 'SAME' ,conv_id='2')\n",
        "#   model = tf.keras.Model(inputs=[data_inputs],outputs=[conv_2])\n",
        "#   return model"
      ],
      "metadata": {
        "id": "t4notJk-j2dY"
      },
      "execution_count": 43,
      "outputs": []
    },
    {
      "cell_type": "code",
      "source": [
        "# def create_discriminator_j():\n",
        "#   data_inputs = tf.keras.Input(shape=(8, 8, 1,),dtype=tf.dtypes.float32,name='Input_layer')\n",
        "#   conv_1 = QConv_layer(inputs=data_inputs,layers=2,filter_size=(4,4),strides=(2,2),rates=(1,1),padding = 'SAME' ,conv_id='1')\n",
        "#   conv_2 = QConv_layer(inputs=conv_1,layers=2,filter_size=(3,3),strides=(2,2),rates=(1,1),padding = 'SAME' ,conv_id='2')\n",
        "#   conv_3 = QConv_layer(inputs=conv_2,layers=2,filter_size=(2,2),strides=(1,1),rates=(1,1),padding = 'SAME' ,conv_id='3')\n",
        "#   model = tf.keras.Model(inputs=[data_inputs],outputs=[conv_3])\n",
        "#   return model"
      ],
      "metadata": {
        "id": "gokOgBQej4Zm"
      },
      "execution_count": 44,
      "outputs": []
    },
    {
      "cell_type": "code",
      "source": [
        "# def create_classical_generator():\n",
        "#     model = tf.keras.Sequential()\n",
        "#     # foundation for 2x2 image\n",
        "#     n_nodes = 64 * 2 * 2\n",
        "#     model.add(tf.keras.layers.Dense(n_nodes, use_bias=False, input_shape=(100,)))\n",
        "#     model.add(tf.keras.layers.BatchNormalization())\n",
        "#     model.add(tf.keras.layers.LeakyReLU())\n",
        "#     model.add(tf.keras.layers.Reshape((2, 2, 64)))\n",
        "\n",
        "#     model.add(tf.keras.layers.Conv2DTranspose(32, (2,2), strides=(1,1), padding=\"same\", use_bias=False))\n",
        "#     model.add(tf.keras.layers.BatchNormalization())\n",
        "#     model.add(tf.keras.layers.LeakyReLU())\n",
        "\n",
        "#     # model.add(tf.keras.layers.Conv2DTranspose(16, (2,2), strides=(1,1), padding=\"same\", use_bias=False))\n",
        "#     # model.add(tf.keras.layers.BatchNormalization())\n",
        "#     # model.add(tf.keras.layers.LeakyReLU())\n",
        "    \n",
        "#     # upsample to 4x4\n",
        "#     model.add(tf.keras.layers.Conv2DTranspose(16, (2,2), strides=(2,2), padding=\"same\", use_bias=False))\n",
        "#     model.add(tf.keras.layers.BatchNormalization())\n",
        "#     model.add(tf.keras.layers.LeakyReLU())    \n",
        "#     # upsample to 8x8\n",
        "#     model.add(tf.keras.layers.Conv2DTranspose(1, (3,3), strides=(2,2), padding=\"same\", use_bias=False, activation='tanh'))\n",
        "#     return model"
      ],
      "metadata": {
        "id": "o_mCbSIDj6hP"
      },
      "execution_count": 45,
      "outputs": []
    },
    {
      "cell_type": "code",
      "source": [
        "# def get_output_shape(input_shape,filter_shape,stride,padding='same'):\n",
        "#   if (input_shape[0] % stride[0] == 0):\n",
        "#     pad_along_height = max(filter_shape[0] - stride[0], 0)\n",
        "#   else:\n",
        "#     pad_along_height = max(filter_shape[0] - (input_shape[0] % stride[0]), 0)\n",
        "#   if (input_shape[1] % stride[1] == 0):\n",
        "#     pad_along_width = max(filter_shape[1] - stride[1], 0)\n",
        "#   else:\n",
        "#     pad_along_width = max(filter_shape[1] - (input_shape[1] % stride[1]), 0)\n",
        "#   pad_top = pad_along_height // 2\n",
        "#   pad_bottom = pad_along_height - pad_top\n",
        "#   pad_left = pad_along_width // 2\n",
        "#   pad_right = pad_along_width - pad_left\n",
        "#   paddings = tf.constant([[pad_top,pad_bottom],[pad_left,pad_right]])\n",
        "#   rows = input_shape[0]+paddings[0][0]+paddings[0][1]\n",
        "#   cols = input_shape[1]+paddings[1][0]+paddings[1][1]\n",
        "#   padded_shape = tf.TensorShape([rows,cols])\n",
        "#   new_rows = np.ceil(float(padded_shape[0] - filter_shape[0] + 1) / float(stride[0]))\n",
        "#   new_cols = np.ceil(float(padded_shape[1] - filter_shape[1] + 1) / float(stride[1]))\n",
        "#   return tf.TensorShape([int(new_rows), int(new_cols)])"
      ],
      "metadata": {
        "id": "prJ3a4l6j9KG"
      },
      "execution_count": 65,
      "outputs": []
    },
    {
      "cell_type": "code",
      "source": [
        "(1,1)+(1,1)+(1,)"
      ],
      "metadata": {
        "colab": {
          "base_uri": "https://localhost:8080/"
        },
        "id": "7lYIKaT4j_pX",
        "outputId": "ba6e272a-c3c7-436a-a1fc-f9c756fe76c8"
      },
      "execution_count": 47,
      "outputs": [
        {
          "output_type": "execute_result",
          "data": {
            "text/plain": [
              "(1, 1, 1, 1, 1)"
            ]
          },
          "metadata": {},
          "execution_count": 47
        }
      ]
    },
    {
      "cell_type": "code",
      "source": [
        "# class GeneratorConv2D(tf.keras.layers.Layer):\n",
        "#   def __init__(self,layers,filters,filter_shape,stride,seed,parameter_sharing=True,padding='same',conv_id='',name='Quantum_Convolutional_Layer_with_padding'):\n",
        "#     super(GeneratorConv2D,self).__init__()\n",
        "#     self.layers=layers\n",
        "#     self.filters = filters\n",
        "#     self.parameter_sharing = parameter_sharing\n",
        "#     self.filter_shape = filter_shape\n",
        "#     self.n_qubits = filter_shape[0]*filter_shape[0]\n",
        "#     self.stride = stride\n",
        "#     self.padding = padding\n",
        "#     self.main_name = name\n",
        "#     self.num_params_per_circuit = self.layers*self.n_qubits*3\n",
        "#     self.input_preprocess_ = self.input_preprocess()\n",
        "\n",
        "#     self.dev = qml.device('lightning.gpu',wires=self.n_qubits)\n",
        "#     self.wires=[qubit for qubit in range(self.n_qubits)]\n",
        "#     @qml.qnode(self.dev,interface=\"tf\")\n",
        "#     def convolutional_circuit(inputs,params):\n",
        "#       # input_gates(inputs=inputs,wires=wires)\n",
        "#       qml.AngleEmbedding(inputs, wires = self.wires, rotation=\"Y\")\n",
        "#       pqc_circuit_for_conv(params=params,wires=self.wires,layers=self.layers)\n",
        "#       return qml.expval(qml.PauliZ(wires=self.wires[-1]))\n",
        "#     self.qnode = qml.qnn.KerasLayer(convolutional_circuit,weight_shapes={'params' :(self.num_params_per_circuit,1)},output_dim=1)\n",
        "\n",
        "#   def build(self,input_shape):\n",
        "#     super().build(input_shape)\n",
        "#     # param_vals = tf.random_uniform_initializer(minval=-np.pi,maxval=np.pi)\n",
        "#     # self.params = tf.Variable(initial_value=param_vals(shape=(1,self.num_params_per_circuit),dtype='float32'),\n",
        "#     #                           trainable = True,\n",
        "#     #                           name = self.main_name + '-parameters')\n",
        "#     if len(input_shape) == 3:\n",
        "#       self.input_rows = input_shape[1]\n",
        "#       self.input_cols = input_shape[2]\n",
        "#       self.input_channels = 1\n",
        "#     else:\n",
        "#       self.input_rows = input_shape[1]\n",
        "#       self.input_cols = input_shape[2]\n",
        "#       self.input_channels = input_shape[3]\n",
        "#     output_shape = get_output_shape(input_shape[1:3], self.filter_shape, self.stride, self.padding)\n",
        "#     self.output_rows = output_shape[0]\n",
        "#     self.output_cols = output_shape[1]\n",
        "#     self.inputs_preprocess_ = self.inputs_preprocess()\n",
        "  \n",
        "#   def compute_output_shape(self,input_shape):\n",
        "#     return input_shape\n",
        "\n",
        "#   def inputs_preprocess(self):\n",
        "#     kernel_size = (1, 1) + self.filter_shape + (1,)\n",
        "#     strides = (1, 1) + self.stride + (1,)\n",
        "#     padding = self.padding.upper()\n",
        "#     batchsize = lambda x: tf.gather(tf.shape(x), 0)\n",
        "#     # planes = number of channels\n",
        "#     planes = self.input_channels\n",
        "#     rows = self.input_rows\n",
        "#     cols = self.input_cols\n",
        "#     depth = 1\n",
        "#     reshaped_input_ = lambda x: tf.reshape(x, shape=(batchsize(x), rows, cols, planes))\n",
        "#     # change input order to (batchsize, depth, rows, cols)\n",
        "#     transposed_input = lambda x: tf.transpose(reshaped_input_(x), [0, 3, 1, 2])\n",
        "#     reshaped_input = lambda x: tf.reshape(transposed_input(x), \n",
        "#                                               shape=(batchsize(x), planes, rows, cols, depth))\n",
        "#     input_patches = lambda x: tf.extract_volume_patches(reshaped_input(x),\n",
        "#                                             ksizes=kernel_size, strides=strides, padding=padding)\n",
        "#     return input_patches \n",
        "\n",
        "#   def evaluate_qnode(self,inputs):\n",
        "#     # @batch_input(argnum=0)\n",
        "#     @qml.qnode(self.dev,interface=\"tf\")\n",
        "#     def convolutional_circuit(inputs,params):\n",
        "#       # input_gates(inputs=inputs,wires=wires)\n",
        "#       qml.AngleEmbedding(inputs, wires = self.wires, rotation=\"Y\")\n",
        "#       pqc_circuit_for_conv(params=params,wires=self.wires,layers=self.layers)\n",
        "#       return qml.expval(qml.PauliZ(wires=self.wires[-1]))\n",
        "\n",
        "#     evaluated_inputs = []\n",
        "#     output_arr = []\n",
        "#     samples = tf.shape(inputs)[0]\n",
        "#     TensorArr = tf.TensorArray(tf.float32, 1, dynamic_size=True, infer_shape=False)\n",
        "#     input_arr = TensorArr.unstack(inputs)\n",
        "#     for i in range(samples):\n",
        "#       input=input_arr.read(i)\n",
        "#       output=convolutional_circuit(input,self.params)\n",
        "#       output_arr.append(output)\n",
        "#       # evaluated_inputs.append(self.evaluate_qnode(input))\n",
        "#     # return tf.stack(evaluated_inputs)\n",
        "    \n",
        "#     # return self.convolutional_circuit(inputs,self.params)\n",
        "#     return output_arr\n",
        "\n",
        "#   def call(self,inputs):\n",
        "#     batchsize = tf.gather(tf.shape(inputs), 0)\n",
        "#     input_shape = tf.shape(inputs)\n",
        "#     input_patches = self.inputs_preprocess_(inputs)\n",
        "#     inputs = tf.reshape(input_patches, [batchsize, depth, \n",
        "#                                       self.output_rows, \n",
        "#                                       self.output_cols,\n",
        "#                                       self.n_qubits])\n",
        "#     # change to (depth, batchsize, rows, cols, symbols)\n",
        "#     inputs = tf.transpose(inputs, [1, 0, 2, 3, 4])\n",
        "#     tiled_up_inputs = tf.tile([inputs], [self.filters, 1, 1, 1, 1, 1])\n",
        "#     tiled_up_inputs = tf.reshape(tiled_up_inputs, (self.filters*batchsize*depth*rows*cols, tf.shape(tiled_up_inputs)[-1]))\n",
        "   \n",
        "#     weight_shape =  (self.filters*batch_size*depth*rows*cols,num_params)\n",
        "\n",
        "#     dev = qml.device('lightning.gpu',wires=self.n_qubits)\n",
        "#     wires=[qubit for qubit in range(self.n_qubits)]\n",
        "#     @qml.qnode(dev,interface=\"tf\")\n",
        "#     def convolutional_circuit(inputs,params):\n",
        "#       # input_gates(inputs=inputs,wires=wires)\n",
        "#       qml.AngleEmbedding(inputs, wires =wires, rotation=\"Y\")\n",
        "#       pqc_circuit_for_conv(params=params,wires=wires,layers=layers)\n",
        "#       return qml.expval(qml.PauliZ(wires=wires[-1]))\n",
        "\n",
        "#     result = qml.qnn.KerasLayer(convolutional_circuit,weight_shapes={'params': num_params},output_dim=1)(tiled_up_inputs)\n",
        "#     super(GeneratorConv2D,self).__init__(qnode=convolutional_circuit,weight_shapes={'params':self.num_params_per_circuit},output_dim=(self.filters*batchsize*depth*rows*cols,1),batch_idx=0)\n",
        "#     result = super().call(tiled_up_inputs)\n",
        "#     evaluated_inputs = []\n",
        "#     output_arr = []\n",
        "#     samples = tf.shape(tiled_up_inputs)[0]\n",
        "#     TensorArr = tf.TensorArray(tf.float32, 1, dynamic_size=True, infer_shape=False)\n",
        "#     input_arr = TensorArr.unstack(tiled_up_inputs)\n",
        "#     for i in range(samples):\n",
        "#       input=input_arr.read(i)\n",
        "#       # output=convolutional_circuit(input,self.params)\n",
        "#       output=self.qnode(input,self.params)\n",
        "#       output_arr.append(output)\n",
        "#     result = output_arr\n",
        "#     result = self.qnode(tiled_up_inputs,self.params)\n",
        "#     result = self.evaluate_qnode(tiled_up_inputs)\n",
        "\n",
        "\n",
        "#     result = self.qnode(tiled_up_inputs)\n",
        "\n",
        "#     reshaped_output = tf.reshape(result,(self.filters, self.input_channels, batchsize, self.output_rows, self.output_cols))\n",
        "#     summed_output = tf.reduce_mean(reshaped_output, axis=1)\n",
        "#     final_output = tf.transpose(summed_output, [1, 2, 3, 0])\n",
        "#     return tf.reshape(final_output, (batchsize, self.output_rows, self.output_cols, self.filters)) "
      ],
      "metadata": {
        "id": "tCtMsMeDkB5W"
      },
      "execution_count": 74,
      "outputs": []
    },
    {
      "cell_type": "code",
      "source": [
        " def inputs_preprocess(inputs,filters,filter_shape,stride,padding,input_shape_,n_qubits):\n",
        "    # if input_shape_ == 3:\n",
        "    input_rows = tf.shape(inputs)[1]#input_shape_[1]\n",
        "    input_cols = tf.shape(inputs)[2]#input_shape_[2]\n",
        "    input_channels = 1\n",
        "    # else:\n",
        "    #   input_rows = input_shape_[1]\n",
        "    #   input_cols = input_shape_[2]\n",
        "    #   input_channels = input_shape_[3]\n",
        "    output_shape = get_output_shape(input_shape_[1:3], filter_shape, stride, padding)\n",
        "    output_rows = output_shape[0]\n",
        "    output_cols = output_shape[1]\n",
        "    kernel_size = (1, 1) + filter_shape + (1,)\n",
        "    strides = (1, 1) + stride + (1,)\n",
        "    padding = padding.upper()\n",
        "    batchsize = lambda x: tf.gather(tf.shape(x), 0)\n",
        "    # planes = number of channels\n",
        "    # planes = input_channels\n",
        "    # rows = input_rows\n",
        "    # cols = input_cols\n",
        "    depth=1\n",
        "    reshaped_input_ = lambda x: tf.reshape(x, shape=(batchsize(x), input_rows, input_cols, input_channels))\n",
        "    # change input order to (batchsize, depth, rows, cols)\n",
        "    transposed_input = lambda x: tf.transpose(reshaped_input_(x), [0, 3, 1, 2])\n",
        "    reshaped_input = lambda x: tf.reshape(transposed_input(x), \n",
        "                                              shape=(batchsize(x), input_channels, input_rows, input_cols, depth))\n",
        "    input_patches = lambda x: tf.extract_volume_patches(reshaped_input(x),\n",
        "                                            ksizes=kernel_size, strides=strides, padding=padding)\n",
        "    inputs_ = tf.reshape(input_patches, [batchsize, depth, \n",
        "                                      output_rows, \n",
        "                                      output_cols,\n",
        "                                      n_qubits])\n",
        "    # change to (depth, batchsize, rows, cols, symbols)\n",
        "    inputs_ = tf.transpose(inputs_, [1, 0, 2, 3, 4])\n",
        "    tiled_up_inputs = tf.tile([inputs_], [filters, 1, 1, 1, 1, 1])\n",
        "    tiled_up_inputs = tf.reshape(tiled_up_inputs, (filters*batchsize*depth*input_rows*input_cols, tf.shape(tiled_up_inputs)[-1]))\n",
        "    \n",
        "    return tiled_up_inputs,input_channels,output_cols,output_rows\n",
        "     "
      ],
      "metadata": {
        "id": "n9lzqH-BkFvA"
      },
      "execution_count": 67,
      "outputs": []
    },
    {
      "cell_type": "code",
      "source": [
        "def GeneratorConv_2D(inputs,layers,filters,stride,filter_shape,parameter_sharing='True',padding='same',conv_id='',name='QConv_layer_'):\n",
        "  input_shape_ = tf.shape(inputs)\n",
        "  n_qubits = filters*filters\n",
        "  model_inputs,input_channels,output_cols,output_rows = inputs_preprocess(inputs,filters,filter_shape,stride,padding,input_shape_,n_qubits)\n",
        "  batchsize = tf.shape(inputs)[0]\n",
        "  iter = int(1 + (inputs.shape[1]-filter_size)/stride)\n",
        "  wires=[qubit for qubit in range(n_qubits)]\n",
        "  dev = qml.device('lightning.gpu',wires=n_qubits)\n",
        "  @qml.qnode(dev,interface=\"tf\")\n",
        "  def convolutional_circuit(inputs,params):\n",
        "    # input_gates(inputs=inputs,wires=wires)\n",
        "    qml.AngleEmbedding(inputs, wires =wires, rotation=\"Y\")\n",
        "    pqc_circuit_for_conv(params=params,wires=wires,layers=layers)\n",
        "    return qml.expval(qml.PauliZ(wires=wires[-1]))\n",
        "  # pqc = QConvPQC(n_qubits=n_qubits,layers=layers,name=name+conv_id) # \n",
        "  pqc = qml.qnn.KerasLayer(convolutional_circuit, weight_shapes={'params':layers*n_qubits*3},output_dim=1,name=name+conv_id)\n",
        "  pqc.build(tf.shape(model_inputs))\n",
        "  result = pqc(model_inputs)\n",
        "  reshaped_output = tf.reshape(result,(filters, input_channels, batchsize, output_rows, output_cols))\n",
        "  summed_output = tf.reduce_mean(reshaped_output, axis=1)\n",
        "  final_output = tf.transpose(summed_output, [1, 2, 3, 0])\n",
        "  return tf.reshape(final_output, (batchsize, output_rows, output_cols, filters)) "
      ],
      "metadata": {
        "id": "1LW0hPggkI2m"
      },
      "execution_count": 68,
      "outputs": []
    },
    {
      "cell_type": "code",
      "source": [
        "def create_generator_j():\n",
        "  model = tf.keras.Sequential(name = 'Generator')\n",
        "  model.add(tf.keras.layers.Input(shape=(256), dtype=tf.float32))\n",
        "  model.add(tf.keras.layers.Reshape((16, 16, 1)))\n",
        "  model.add(GeneratorConv2D(layers=1, filter_shape=(3, 3),conv_id ='1',\n",
        "                      filters=2, stride=(1, 1), padding=\"same\", parameter_sharing=True,seed=2021\n",
        "                      ))\n",
        "  model.add(GeneratorConv2D(layers=2, filter_shape=(2, 2),conv_id = '2',\n",
        "                      filters=1, stride=(1, 1), padding=\"same\", parameter_sharing=True,seed=2022,\n",
        "                      ))\n",
        "  return model"
      ],
      "metadata": {
        "id": "YxzgmeeUkM2X"
      },
      "execution_count": 69,
      "outputs": []
    },
    {
      "cell_type": "code",
      "source": [
        "def create_generator_j():\n",
        "  inputs = tf.keras.Input(shape=(16,16,),dtype=tf.dtypes.float32,name='Input_layer')\n",
        "  layer1=GeneratorConv2D(layers=1, filter_shape=(3, 3),conv_id ='1',seed=2021,\n",
        "                      filters=2, stride=(1, 1), padding=\"same\", parameter_sharing=True,\n",
        "                      )\n",
        "  inputs_1 = layer1.call(inputs)\n",
        "  layers = GeneratorConv2D(layers=1, filter_shape=(3, 3),conv_id ='1',seed=2022,\n",
        "                      filters=2, stride=(1, 1), padding=\"same\", parameter_sharing=True,\n",
        "                      )\n",
        "  output = layer2.call(inputs_1)\n",
        "  return tf.keras.Model(inputs=[inputs],outputs=[output])\n",
        "     "
      ],
      "metadata": {
        "id": "qTVhWgnGkP0W"
      },
      "execution_count": 70,
      "outputs": []
    },
    {
      "cell_type": "code",
      "source": [
        "def create_generator_j():\n",
        "  inputs = tf.keras.Input(shape=(16,16,),dtype=tf.dtypes.float32,name='Input_layer')\n",
        "  inputs_1 = GeneratorConv_2D(inputs,layers=1, filter_shape=(3, 3),conv_id ='1',\n",
        "                      filters=2, stride=(1, 1), padding=\"same\", parameter_sharing=True,\n",
        "                      )\n",
        "  output = GeneratorConv_2D(inputs_1,layers=1, filter_shape=(3, 3),conv_id ='1',\n",
        "                      filters=2, stride=(1, 1), padding=\"same\", parameter_sharing=True,\n",
        "                      )\n",
        "  return tf.keras.Model(inputs=[inputs],outputs=[output])"
      ],
      "metadata": {
        "id": "oc_Fmpz1kR7u"
      },
      "execution_count": 63,
      "outputs": []
    },
    {
      "cell_type": "code",
      "source": [
        "#generator_model = create_generator_j()\n",
        "generator_model = create_classical_generator()\n",
        "generator_model.summary()"
      ],
      "metadata": {
        "colab": {
          "base_uri": "https://localhost:8080/"
        },
        "id": "ffpQqJGfkUG4",
        "outputId": "c748c92e-09a2-44e9-e781-2a0639ca6554"
      },
      "execution_count": 72,
      "outputs": [
        {
          "output_type": "stream",
          "name": "stdout",
          "text": [
            "Model: \"sequential_1\"\n",
            "_________________________________________________________________\n",
            " Layer (type)                Output Shape              Param #   \n",
            "=================================================================\n",
            " dense_1 (Dense)             (None, 256)               25600     \n",
            "                                                                 \n",
            " batch_normalization_3 (Batc  (None, 256)              1024      \n",
            " hNormalization)                                                 \n",
            "                                                                 \n",
            " leaky_re_lu_3 (LeakyReLU)   (None, 256)               0         \n",
            "                                                                 \n",
            " reshape_1 (Reshape)         (None, 2, 2, 64)          0         \n",
            "                                                                 \n",
            " conv2d_transpose_3 (Conv2DT  (None, 2, 2, 32)         8192      \n",
            " ranspose)                                                       \n",
            "                                                                 \n",
            " batch_normalization_4 (Batc  (None, 2, 2, 32)         128       \n",
            " hNormalization)                                                 \n",
            "                                                                 \n",
            " leaky_re_lu_4 (LeakyReLU)   (None, 2, 2, 32)          0         \n",
            "                                                                 \n",
            " conv2d_transpose_4 (Conv2DT  (None, 4, 4, 16)         2048      \n",
            " ranspose)                                                       \n",
            "                                                                 \n",
            " batch_normalization_5 (Batc  (None, 4, 4, 16)         64        \n",
            " hNormalization)                                                 \n",
            "                                                                 \n",
            " leaky_re_lu_5 (LeakyReLU)   (None, 4, 4, 16)          0         \n",
            "                                                                 \n",
            " conv2d_transpose_5 (Conv2DT  (None, 8, 8, 1)          144       \n",
            " ranspose)                                                       \n",
            "                                                                 \n",
            "=================================================================\n",
            "Total params: 37,200\n",
            "Trainable params: 36,592\n",
            "Non-trainable params: 608\n",
            "_________________________________________________________________\n"
          ]
        }
      ]
    },
    {
      "cell_type": "code",
      "source": [
        "discriminator_model = create_discriminator_j()\n",
        "discriminator_model.summary()\n",
        "discriminator_model.trainable_variables"
      ],
      "metadata": {
        "colab": {
          "base_uri": "https://localhost:8080/",
          "height": 542
        },
        "id": "gNvhCxzjkWM-",
        "outputId": "765ab3da-0eec-4010-ded4-2b3b5881cb39"
      },
      "execution_count": 73,
      "outputs": [
        {
          "output_type": "error",
          "ename": "ValueError",
          "evalue": "ignored",
          "traceback": [
            "\u001b[0;31m---------------------------------------------------------------------------\u001b[0m",
            "\u001b[0;31mValueError\u001b[0m                                Traceback (most recent call last)",
            "\u001b[0;32m<ipython-input-73-7e86240971b4>\u001b[0m in \u001b[0;36m<module>\u001b[0;34m\u001b[0m\n\u001b[0;32m----> 1\u001b[0;31m \u001b[0mdiscriminator_model\u001b[0m \u001b[0;34m=\u001b[0m \u001b[0mcreate_discriminator_j\u001b[0m\u001b[0;34m(\u001b[0m\u001b[0;34m)\u001b[0m\u001b[0;34m\u001b[0m\u001b[0;34m\u001b[0m\u001b[0m\n\u001b[0m\u001b[1;32m      2\u001b[0m \u001b[0mdiscriminator_model\u001b[0m\u001b[0;34m.\u001b[0m\u001b[0msummary\u001b[0m\u001b[0;34m(\u001b[0m\u001b[0;34m)\u001b[0m\u001b[0;34m\u001b[0m\u001b[0;34m\u001b[0m\u001b[0m\n\u001b[1;32m      3\u001b[0m \u001b[0mdiscriminator_model\u001b[0m\u001b[0;34m.\u001b[0m\u001b[0mtrainable_variables\u001b[0m\u001b[0;34m\u001b[0m\u001b[0;34m\u001b[0m\u001b[0m\n",
            "\u001b[0;32m<ipython-input-44-d3340e87e10f>\u001b[0m in \u001b[0;36mcreate_discriminator_j\u001b[0;34m()\u001b[0m\n\u001b[1;32m      1\u001b[0m \u001b[0;32mdef\u001b[0m \u001b[0mcreate_discriminator_j\u001b[0m\u001b[0;34m(\u001b[0m\u001b[0;34m)\u001b[0m\u001b[0;34m:\u001b[0m\u001b[0;34m\u001b[0m\u001b[0;34m\u001b[0m\u001b[0m\n\u001b[1;32m      2\u001b[0m   \u001b[0mdata_inputs\u001b[0m \u001b[0;34m=\u001b[0m \u001b[0mtf\u001b[0m\u001b[0;34m.\u001b[0m\u001b[0mkeras\u001b[0m\u001b[0;34m.\u001b[0m\u001b[0mInput\u001b[0m\u001b[0;34m(\u001b[0m\u001b[0mshape\u001b[0m\u001b[0;34m=\u001b[0m\u001b[0;34m(\u001b[0m\u001b[0;36m8\u001b[0m\u001b[0;34m,\u001b[0m \u001b[0;36m8\u001b[0m\u001b[0;34m,\u001b[0m \u001b[0;36m1\u001b[0m\u001b[0;34m,\u001b[0m\u001b[0;34m)\u001b[0m\u001b[0;34m,\u001b[0m\u001b[0mdtype\u001b[0m\u001b[0;34m=\u001b[0m\u001b[0mtf\u001b[0m\u001b[0;34m.\u001b[0m\u001b[0mdtypes\u001b[0m\u001b[0;34m.\u001b[0m\u001b[0mfloat32\u001b[0m\u001b[0;34m,\u001b[0m\u001b[0mname\u001b[0m\u001b[0;34m=\u001b[0m\u001b[0;34m'Input_layer'\u001b[0m\u001b[0;34m)\u001b[0m\u001b[0;34m\u001b[0m\u001b[0;34m\u001b[0m\u001b[0m\n\u001b[0;32m----> 3\u001b[0;31m   \u001b[0mconv_1\u001b[0m \u001b[0;34m=\u001b[0m \u001b[0mQConv_layer\u001b[0m\u001b[0;34m(\u001b[0m\u001b[0minputs\u001b[0m\u001b[0;34m=\u001b[0m\u001b[0mdata_inputs\u001b[0m\u001b[0;34m,\u001b[0m\u001b[0mlayers\u001b[0m\u001b[0;34m=\u001b[0m\u001b[0;36m2\u001b[0m\u001b[0;34m,\u001b[0m\u001b[0mfilter_size\u001b[0m\u001b[0;34m=\u001b[0m\u001b[0;34m(\u001b[0m\u001b[0;36m4\u001b[0m\u001b[0;34m,\u001b[0m\u001b[0;36m4\u001b[0m\u001b[0;34m)\u001b[0m\u001b[0;34m,\u001b[0m\u001b[0mstrides\u001b[0m\u001b[0;34m=\u001b[0m\u001b[0;34m(\u001b[0m\u001b[0;36m2\u001b[0m\u001b[0;34m,\u001b[0m\u001b[0;36m2\u001b[0m\u001b[0;34m)\u001b[0m\u001b[0;34m,\u001b[0m\u001b[0mrates\u001b[0m\u001b[0;34m=\u001b[0m\u001b[0;34m(\u001b[0m\u001b[0;36m1\u001b[0m\u001b[0;34m,\u001b[0m\u001b[0;36m1\u001b[0m\u001b[0;34m)\u001b[0m\u001b[0;34m,\u001b[0m\u001b[0mpadding\u001b[0m \u001b[0;34m=\u001b[0m \u001b[0;34m'SAME'\u001b[0m \u001b[0;34m,\u001b[0m\u001b[0mconv_id\u001b[0m\u001b[0;34m=\u001b[0m\u001b[0;34m'1'\u001b[0m\u001b[0;34m)\u001b[0m\u001b[0;34m\u001b[0m\u001b[0;34m\u001b[0m\u001b[0m\n\u001b[0m\u001b[1;32m      4\u001b[0m   \u001b[0mconv_2\u001b[0m \u001b[0;34m=\u001b[0m \u001b[0mQConv_layer\u001b[0m\u001b[0;34m(\u001b[0m\u001b[0minputs\u001b[0m\u001b[0;34m=\u001b[0m\u001b[0mconv_1\u001b[0m\u001b[0;34m,\u001b[0m\u001b[0mlayers\u001b[0m\u001b[0;34m=\u001b[0m\u001b[0;36m2\u001b[0m\u001b[0;34m,\u001b[0m\u001b[0mfilter_size\u001b[0m\u001b[0;34m=\u001b[0m\u001b[0;34m(\u001b[0m\u001b[0;36m3\u001b[0m\u001b[0;34m,\u001b[0m\u001b[0;36m3\u001b[0m\u001b[0;34m)\u001b[0m\u001b[0;34m,\u001b[0m\u001b[0mstrides\u001b[0m\u001b[0;34m=\u001b[0m\u001b[0;34m(\u001b[0m\u001b[0;36m2\u001b[0m\u001b[0;34m,\u001b[0m\u001b[0;36m2\u001b[0m\u001b[0;34m)\u001b[0m\u001b[0;34m,\u001b[0m\u001b[0mrates\u001b[0m\u001b[0;34m=\u001b[0m\u001b[0;34m(\u001b[0m\u001b[0;36m1\u001b[0m\u001b[0;34m,\u001b[0m\u001b[0;36m1\u001b[0m\u001b[0;34m)\u001b[0m\u001b[0;34m,\u001b[0m\u001b[0mpadding\u001b[0m \u001b[0;34m=\u001b[0m \u001b[0;34m'SAME'\u001b[0m \u001b[0;34m,\u001b[0m\u001b[0mconv_id\u001b[0m\u001b[0;34m=\u001b[0m\u001b[0;34m'2'\u001b[0m\u001b[0;34m)\u001b[0m\u001b[0;34m\u001b[0m\u001b[0;34m\u001b[0m\u001b[0m\n\u001b[1;32m      5\u001b[0m   \u001b[0mconv_3\u001b[0m \u001b[0;34m=\u001b[0m \u001b[0mQConv_layer\u001b[0m\u001b[0;34m(\u001b[0m\u001b[0minputs\u001b[0m\u001b[0;34m=\u001b[0m\u001b[0mconv_2\u001b[0m\u001b[0;34m,\u001b[0m\u001b[0mlayers\u001b[0m\u001b[0;34m=\u001b[0m\u001b[0;36m2\u001b[0m\u001b[0;34m,\u001b[0m\u001b[0mfilter_size\u001b[0m\u001b[0;34m=\u001b[0m\u001b[0;34m(\u001b[0m\u001b[0;36m2\u001b[0m\u001b[0;34m,\u001b[0m\u001b[0;36m2\u001b[0m\u001b[0;34m)\u001b[0m\u001b[0;34m,\u001b[0m\u001b[0mstrides\u001b[0m\u001b[0;34m=\u001b[0m\u001b[0;34m(\u001b[0m\u001b[0;36m1\u001b[0m\u001b[0;34m,\u001b[0m\u001b[0;36m1\u001b[0m\u001b[0;34m)\u001b[0m\u001b[0;34m,\u001b[0m\u001b[0mrates\u001b[0m\u001b[0;34m=\u001b[0m\u001b[0;34m(\u001b[0m\u001b[0;36m1\u001b[0m\u001b[0;34m,\u001b[0m\u001b[0;36m1\u001b[0m\u001b[0;34m)\u001b[0m\u001b[0;34m,\u001b[0m\u001b[0mpadding\u001b[0m \u001b[0;34m=\u001b[0m \u001b[0;34m'SAME'\u001b[0m \u001b[0;34m,\u001b[0m\u001b[0mconv_id\u001b[0m\u001b[0;34m=\u001b[0m\u001b[0;34m'3'\u001b[0m\u001b[0;34m)\u001b[0m\u001b[0;34m\u001b[0m\u001b[0;34m\u001b[0m\u001b[0m\n",
            "\u001b[0;32m<ipython-input-42-2abd342ac32e>\u001b[0m in \u001b[0;36mQConv_layer\u001b[0;34m(inputs, layers, filter_size, strides, rates, padding, conv_id, name)\u001b[0m\n\u001b[1;32m     17\u001b[0m   \u001b[0;32mfor\u001b[0m \u001b[0mrow\u001b[0m \u001b[0;32min\u001b[0m \u001b[0mrange\u001b[0m\u001b[0;34m(\u001b[0m\u001b[0miter\u001b[0m\u001b[0;34m)\u001b[0m\u001b[0;34m:\u001b[0m\u001b[0;34m\u001b[0m\u001b[0;34m\u001b[0m\u001b[0m\n\u001b[1;32m     18\u001b[0m     \u001b[0;32mfor\u001b[0m \u001b[0mcol\u001b[0m \u001b[0;32min\u001b[0m \u001b[0mrange\u001b[0m\u001b[0;34m(\u001b[0m\u001b[0miter\u001b[0m\u001b[0;34m)\u001b[0m\u001b[0;34m:\u001b[0m\u001b[0;34m\u001b[0m\u001b[0;34m\u001b[0m\u001b[0m\n\u001b[0;32m---> 19\u001b[0;31m       \u001b[0mtemp\u001b[0m \u001b[0;34m=\u001b[0m \u001b[0mpqc\u001b[0m\u001b[0;34m(\u001b[0m\u001b[0mcircuit_inputs\u001b[0m\u001b[0;34m[\u001b[0m\u001b[0;34m:\u001b[0m\u001b[0;34m,\u001b[0m\u001b[0mrow\u001b[0m\u001b[0;34m,\u001b[0m\u001b[0mcol\u001b[0m\u001b[0;34m,\u001b[0m\u001b[0;34m:\u001b[0m\u001b[0;34m]\u001b[0m\u001b[0;34m)\u001b[0m\u001b[0;34m\u001b[0m\u001b[0;34m\u001b[0m\u001b[0m\n\u001b[0m\u001b[1;32m     20\u001b[0m       \u001b[0mconv\u001b[0m \u001b[0;34m+=\u001b[0m \u001b[0;34m[\u001b[0m\u001b[0mtemp\u001b[0m\u001b[0;34m]\u001b[0m\u001b[0;34m\u001b[0m\u001b[0;34m\u001b[0m\u001b[0m\n\u001b[1;32m     21\u001b[0m   \u001b[0moutput_concat\u001b[0m \u001b[0;34m=\u001b[0m \u001b[0mtf\u001b[0m\u001b[0;34m.\u001b[0m\u001b[0mkeras\u001b[0m\u001b[0;34m.\u001b[0m\u001b[0mlayers\u001b[0m\u001b[0;34m.\u001b[0m\u001b[0mConcatenate\u001b[0m\u001b[0;34m(\u001b[0m\u001b[0maxis\u001b[0m\u001b[0;34m=\u001b[0m\u001b[0;36m1\u001b[0m\u001b[0;34m)\u001b[0m\u001b[0;34m(\u001b[0m\u001b[0mconv\u001b[0m\u001b[0;34m)\u001b[0m\u001b[0;34m\u001b[0m\u001b[0;34m\u001b[0m\u001b[0m\n",
            "\u001b[0;32m/usr/local/lib/python3.8/dist-packages/tensorflow/python/util/traceback_utils.py\u001b[0m in \u001b[0;36merror_handler\u001b[0;34m(*args, **kwargs)\u001b[0m\n\u001b[1;32m    151\u001b[0m     \u001b[0;32mexcept\u001b[0m \u001b[0mException\u001b[0m \u001b[0;32mas\u001b[0m \u001b[0me\u001b[0m\u001b[0;34m:\u001b[0m\u001b[0;34m\u001b[0m\u001b[0;34m\u001b[0m\u001b[0m\n\u001b[1;32m    152\u001b[0m       \u001b[0mfiltered_tb\u001b[0m \u001b[0;34m=\u001b[0m \u001b[0m_process_traceback_frames\u001b[0m\u001b[0;34m(\u001b[0m\u001b[0me\u001b[0m\u001b[0;34m.\u001b[0m\u001b[0m__traceback__\u001b[0m\u001b[0;34m)\u001b[0m\u001b[0;34m\u001b[0m\u001b[0;34m\u001b[0m\u001b[0m\n\u001b[0;32m--> 153\u001b[0;31m       \u001b[0;32mraise\u001b[0m \u001b[0me\u001b[0m\u001b[0;34m.\u001b[0m\u001b[0mwith_traceback\u001b[0m\u001b[0;34m(\u001b[0m\u001b[0mfiltered_tb\u001b[0m\u001b[0;34m)\u001b[0m \u001b[0;32mfrom\u001b[0m \u001b[0;32mNone\u001b[0m\u001b[0;34m\u001b[0m\u001b[0;34m\u001b[0m\u001b[0m\n\u001b[0m\u001b[1;32m    154\u001b[0m     \u001b[0;32mfinally\u001b[0m\u001b[0;34m:\u001b[0m\u001b[0;34m\u001b[0m\u001b[0;34m\u001b[0m\u001b[0m\n\u001b[1;32m    155\u001b[0m       \u001b[0;32mdel\u001b[0m \u001b[0mfiltered_tb\u001b[0m\u001b[0;34m\u001b[0m\u001b[0;34m\u001b[0m\u001b[0m\n",
            "\u001b[0;32m/usr/local/lib/python3.8/dist-packages/keras/layers/core/tf_op_layer.py\u001b[0m in \u001b[0;36mhandle\u001b[0;34m(self, args, kwargs)\u001b[0m\n\u001b[1;32m    532\u001b[0m         \u001b[0misinstance\u001b[0m\u001b[0;34m(\u001b[0m\u001b[0mx\u001b[0m\u001b[0;34m,\u001b[0m \u001b[0mkeras_tensor\u001b[0m\u001b[0;34m.\u001b[0m\u001b[0mKerasTensor\u001b[0m\u001b[0;34m)\u001b[0m\u001b[0;34m\u001b[0m\u001b[0;34m\u001b[0m\u001b[0m\n\u001b[1;32m    533\u001b[0m         for x in tf.nest.flatten([args, kwargs])):\n\u001b[0;32m--> 534\u001b[0;31m       \u001b[0;32mreturn\u001b[0m \u001b[0mSlicingOpLambda\u001b[0m\u001b[0;34m(\u001b[0m\u001b[0mself\u001b[0m\u001b[0;34m.\u001b[0m\u001b[0mop\u001b[0m\u001b[0;34m)\u001b[0m\u001b[0;34m(\u001b[0m\u001b[0;34m*\u001b[0m\u001b[0margs\u001b[0m\u001b[0;34m,\u001b[0m \u001b[0;34m**\u001b[0m\u001b[0mkwargs\u001b[0m\u001b[0;34m)\u001b[0m\u001b[0;34m\u001b[0m\u001b[0;34m\u001b[0m\u001b[0m\n\u001b[0m\u001b[1;32m    535\u001b[0m     \u001b[0;32melse\u001b[0m\u001b[0;34m:\u001b[0m\u001b[0;34m\u001b[0m\u001b[0;34m\u001b[0m\u001b[0m\n\u001b[1;32m    536\u001b[0m       \u001b[0;32mreturn\u001b[0m \u001b[0mself\u001b[0m\u001b[0;34m.\u001b[0m\u001b[0mNOT_SUPPORTED\u001b[0m\u001b[0;34m\u001b[0m\u001b[0;34m\u001b[0m\u001b[0m\n",
            "\u001b[0;32m/usr/local/lib/python3.8/dist-packages/keras/utils/traceback_utils.py\u001b[0m in \u001b[0;36merror_handler\u001b[0;34m(*args, **kwargs)\u001b[0m\n\u001b[1;32m     65\u001b[0m     \u001b[0;32mexcept\u001b[0m \u001b[0mException\u001b[0m \u001b[0;32mas\u001b[0m \u001b[0me\u001b[0m\u001b[0;34m:\u001b[0m  \u001b[0;31m# pylint: disable=broad-except\u001b[0m\u001b[0;34m\u001b[0m\u001b[0;34m\u001b[0m\u001b[0m\n\u001b[1;32m     66\u001b[0m       \u001b[0mfiltered_tb\u001b[0m \u001b[0;34m=\u001b[0m \u001b[0m_process_traceback_frames\u001b[0m\u001b[0;34m(\u001b[0m\u001b[0me\u001b[0m\u001b[0;34m.\u001b[0m\u001b[0m__traceback__\u001b[0m\u001b[0;34m)\u001b[0m\u001b[0;34m\u001b[0m\u001b[0;34m\u001b[0m\u001b[0m\n\u001b[0;32m---> 67\u001b[0;31m       \u001b[0;32mraise\u001b[0m \u001b[0me\u001b[0m\u001b[0;34m.\u001b[0m\u001b[0mwith_traceback\u001b[0m\u001b[0;34m(\u001b[0m\u001b[0mfiltered_tb\u001b[0m\u001b[0;34m)\u001b[0m \u001b[0;32mfrom\u001b[0m \u001b[0;32mNone\u001b[0m\u001b[0;34m\u001b[0m\u001b[0;34m\u001b[0m\u001b[0m\n\u001b[0m\u001b[1;32m     68\u001b[0m     \u001b[0;32mfinally\u001b[0m\u001b[0;34m:\u001b[0m\u001b[0;34m\u001b[0m\u001b[0;34m\u001b[0m\u001b[0m\n\u001b[1;32m     69\u001b[0m       \u001b[0;32mdel\u001b[0m \u001b[0mfiltered_tb\u001b[0m\u001b[0;34m\u001b[0m\u001b[0;34m\u001b[0m\u001b[0m\n",
            "\u001b[0;31mValueError\u001b[0m: Exception encountered when calling layer \"tf.__operators__.getitem_154\" (type SlicingOpLambda).\n\nslice index 4 of dimension 2 out of bounds. for '{{node tf.__operators__.getitem_154/strided_slice}} = StridedSlice[Index=DT_INT32, T=DT_FLOAT, begin_mask=9, ellipsis_mask=0, end_mask=9, new_axis_mask=0, shrink_axis_mask=6](Placeholder, tf.__operators__.getitem_154/strided_slice/stack, tf.__operators__.getitem_154/strided_slice/stack_1, tf.__operators__.getitem_154/strided_slice/stack_2)' with input shapes: [?,8,4,4], [4], [4], [4] and with computed input tensors: input[1] = <0 0 4 0>, input[2] = <0 1 5 0>, input[3] = <1 1 1 1>.\n\nCall arguments received:\n  • tensor=tf.Tensor(shape=(None, 8, 4, 4), dtype=float32)\n  • slice_spec=({'start': 'None', 'stop': 'None', 'step': 'None'}, '0', '4', {'start': 'None', 'stop': 'None', 'step': 'None'})\n  • var=None"
          ]
        }
      ]
    },
    {
      "cell_type": "code",
      "source": [
        "# class QGAN():\n",
        "#   def __init__(self,discriminator,generator,disc_optimizer,gen_optimizer):\n",
        "#     self.generator_model = generator\n",
        "#     self.discriminator_model = discriminator\n",
        "#     self.d_opt = disc_optimizer\n",
        "#     self.g_opt = gen_optimizer\n",
        "#     # self.g_lr = gen_learning_rate\n",
        "#     # self.d_lr = disc_learning_rate\n",
        "#     self.loss = tf.keras.losses.BinaryCrossentropy(from_logits=True)\n",
        "#     self.gen_loss_ = []\n",
        "#     self.disc_loss_ = []\n",
        "#     self.epochs_ = []\n",
        "#     # self.d_opt = self.d_opt(self.d_lr)\n",
        "#     # self.g_opt = self.g_opt(self.g_lr)\n",
        "\n",
        "#   def prepare_dataset(self,data,batch_size,seed=None,drop_remainder=True,buffer_size=100):\n",
        "#     buffer_size =len(data[0])\n",
        "#     ds = tf.data.Dataset.from_tensor_slices(data)\n",
        "#     ds = ds.shuffle(buffer_size=buffer_size,seed=seed,reshuffle_each_iteration=True)\n",
        "#     ds = ds.batch(batch_size,drop_remainder)\n",
        "#     ds = ds.prefetch(tf.data.AUTOTUNE)\n",
        "#     return ds\n",
        "\n",
        "#   def train_preprocess(self,random_state):\n",
        "#     tf.random.set_seed(random_state)\n",
        "#     np.random.seed(random_state)\n",
        "  \n",
        "#   @tf.function\n",
        "#   def generator_loss(self,fake_output):\n",
        "#     return self.loss(tf.ones_like(fake_output),fake_output)\n",
        "\n",
        "#   @tf.function\n",
        "#   def discriminator_loss(self,real_output,fake_output):\n",
        "#     real_loss = self.loss(tf.ones_like(real_output),real_output)\n",
        "#     fake_loss = self.loss(tf.zeros_like(fake_output),fake_output)\n",
        "#     return real_loss + fake_loss\n",
        "  \n",
        "#   @tf.function\n",
        "#   def train_step_1v1(self,x_real,batch_size):\n",
        "#     \"\"\"Training step for one epoch with 1 generator step and 1 discriminator step\n",
        "#         \"\"\"\n",
        "#     fake_data_shape = (batch_size,) + self.generator_model.input_shape[1:]\n",
        "#     z = tf.random.normal(shape=fake_data_shape)\n",
        "#     with tf.GradientTape() as gen_tape, tf.GradientTape() as disc_tape:\n",
        "#       x_fake_ = self.generator_model(z, training=True)\n",
        "#       # x_fake = tf.reshape(x_fake_, tf.shape(x_real))\n",
        "#       real_output = self.discriminator_model(x_real, training=True)\n",
        "#       fake_output = self.discriminator_model(x_fake_, training=True)\n",
        "#       gen_loss = self.generator_loss(fake_output)\n",
        "#       disc_loss = self.discriminator_loss(real_output, fake_output)\n",
        "#     grad_gen = gen_tape.gradient(gen_loss, self.generator_model.trainable_variables)\n",
        "#     grad_disc = disc_tape.gradient(disc_loss, self.discriminator_model.trainable_variables)\n",
        "#     self.g_opt.apply_gradients(zip(grad_gen, self.generator_model.trainable_variables))\n",
        "#     self.d_opt.apply_gradients(zip(grad_disc, self.discriminator_model.trainable_variables))  \n",
        "#     return gen_loss, disc_loss\n",
        "\n",
        "#   @tf.function\n",
        "#   def train_step_nv1(self,x_real,n_disc,batch_size):\n",
        "#     for i in range(n_disc):\n",
        "#       x_real_batch = tf.gather(x_real,i)\n",
        "#       d_loss = self.discriminator_step(x_real_batch,batch_size)\n",
        "#     g_loss = self.generator_step(batch_size)\n",
        "#     return g_loss, d_loss\n",
        "\n",
        "#   @tf.function\n",
        "#   def train_step_1vn(self,x_real,n_gen,batch_size):\n",
        "#     for i in range(n_gen):\n",
        "#       g_loss = self.generator_step(batch_size)\n",
        "#     d_loss = self.discriminator_step(x_real,batch_size)\n",
        "#     return g_loss, d_loss \n",
        "\n",
        "#   @tf.function\n",
        "#   def discriminator_step(self,x_real,batch_size):\n",
        "#     fake_data_shape = (batch_size,) + self.generator_model.input_shape[1:]\n",
        "#     # x_real = tf.reshape(x_real,fake_data_shape)\n",
        "#     z = tf.random.normal(shape=fake_data_shape)\n",
        "#     with tf.GradientTape() as gradient_tape:\n",
        "#       real_output = self.discriminator_model(x_real,training = True)\n",
        "#       fake_input = self.generator_model(z, training = True) \n",
        "#       # fake_input = tf.reshape(fake_input, tf.shape(x_real))\n",
        "#       fake_output = self.discriminator_model(fake_input,training = True)\n",
        "#       cost = self.discriminator_loss(real_output,fake_output)\n",
        "#     grad = gradient_tape.gradient(cost,self.discriminator_model.trainable_variables)\n",
        "#     self.d_opt.apply_gradients(zip(grad,self.discriminator_model.trainable_variables))\n",
        "#     return cost\n",
        "\n",
        "#   @tf.function\n",
        "#   def generator_step(self,batch_size):\n",
        "#     fake_data_shape = (batch_size,) + self.generator_model.input_shape[1:]\n",
        "#     z = tf.random.normal(shape=fake_data_shape)\n",
        "#     with tf.GradientTape() as gradient_tape:\n",
        "#       fake_input = self.generator_model(z,training=True)\n",
        "#       fake_output = self.discriminator_model(fake_input,training= True) #\n",
        "#       loss = self.generator_loss(fake_output)\n",
        "#     grad = gradient_tape.gradient(loss,self.generator_model.trainable_variables)\n",
        "#     self.g_opt.apply_gradients(zip(grad,self.generator_model.trainable_variables))\n",
        "#     return loss\n",
        "  \n",
        "#   def train_qgans(self,x,epochs,batch_size,seed=1024,n_disc=1,n_gen=1):\n",
        "#     input_shape = x.shape[1:]\n",
        "#     self.train_preprocess(seed)\n",
        "#     data = self.prepare_dataset(data=x,batch_size=batch_size*n_disc,seed=seed)\n",
        "#     g_metric = tf.keras.metrics.Mean()\n",
        "#     d_metric = tf.keras.metrics.Mean()\n",
        "#     for epoch in range(epochs):\n",
        "#       for step,training_batch_data_ in enumerate(data):\n",
        "#         # training_batch_data = tf.reshape(training_batch_data_,input_batch_shape)\n",
        "#         if( n_disc == 1 and n_gen == 1):\n",
        "#           input_batch_shape = (batch_size,) + input_shape\n",
        "#           training_batch_data = tf.reshape(training_batch_data_,input_batch_shape)\n",
        "#           gen_loss,disc_loss = self.train_step_1v1(x_real=training_batch_data, batch_size=batch_size)\n",
        "#         if n_disc > 1 and n_gen == 1:\n",
        "#           input_batch_shape = (n_disc, batch_size) + input_shape\n",
        "#           training_batch_data = tf.reshape(training_batch_data_,input_batch_shape)        \n",
        "#           gen_loss,disc_loss = self.train_step_nv1(x_real=training_batch_data, batch_size=batch_size,n_disc=n_disc)\n",
        "#         if n_gen > 1 and n_disc == 1:\n",
        "#           input_batch_shape = (batch_size,) + input_shape\n",
        "#           training_batch_data = tf.reshape(training_batch_data_,input_batch_shape)\n",
        "#           gen_loss,disc_loss = self.train_step_1vn(x_real=training_batch_data, batch_size=batch_size,n_gen=n_gen)\n",
        "#         g_metric(gen_loss)\n",
        "#         d_metric(disc_loss)\n",
        "#       self.gen_loss_.append(g_metric.result().numpy())\n",
        "#       self.disc_loss_.append(d_metric.result().numpy())\n",
        "#       self.epochs_.append(epoch)\n",
        "#       print(\"Epoch:{} ;   generator_loss:{} ;   discriminator_loss:{}\".format(epoch,g_metric.result().numpy(),d_metric.result().numpy()))\n",
        "  \n",
        "#       g_metric.reset_state()\n",
        "#       d_metric.reset_state()\n",
        "#     return self.gen_loss_,self.disc_loss_,self.epochs_\n",
        "\n",
        "#   def generate_samples(self,batch_size, shape=None):\n",
        "#     \"\"\"Generates sample using random inputs\n",
        "        \n",
        "#             Arguments:\n",
        "#                 batch_size: int\n",
        "#                     Number of samples to generate.\n",
        "#                 shape: (Optional) tuple of int\n",
        "#                     Reshape the output to the given shape.\n",
        "#         \"\"\"\n",
        "#     z_batch_shape = (batch_size,) + self.generator_model.input_shape[1:]\n",
        "#     z = tf.random.normal(z_batch_shape)\n",
        "#     print(z.shape[0])\n",
        "#     samples = self.generator_model(z,training = False)\n",
        "#     # samples = generator_model\n",
        "#     # if shape is not None:\n",
        "#     #   shape = (batch_size,) + shape\n",
        "#     #   samples = tf.reshape(samples, shape)\n",
        "#     return samples\n",
        "\n",
        "#   def predict(self, x):\n",
        "#     return self.discriminator_model(x, training=False)"
      ],
      "metadata": {
        "id": "lbl4tcXwkez-"
      },
      "execution_count": 56,
      "outputs": []
    },
    {
      "cell_type": "code",
      "source": [
        "# fake_data_shape = (10000,) + generator_model.input_shape[1:]\n",
        "# print(fake_data_shape)\n",
        "# print(generator_model.output_shape)\n",
        "# print(discriminator_model.input_shape)"
      ],
      "metadata": {
        "colab": {
          "base_uri": "https://localhost:8080/",
          "height": 244
        },
        "id": "UzdBtF9QkkQO",
        "outputId": "84cd7056-d04c-46d4-afb5-20186d081a47"
      },
      "execution_count": 59,
      "outputs": [
        {
          "output_type": "stream",
          "name": "stdout",
          "text": [
            "(10000, 100)\n",
            "(None, 8, 8, 1)\n"
          ]
        },
        {
          "output_type": "error",
          "ename": "NameError",
          "evalue": "ignored",
          "traceback": [
            "\u001b[0;31m---------------------------------------------------------------------------\u001b[0m",
            "\u001b[0;31mNameError\u001b[0m                                 Traceback (most recent call last)",
            "\u001b[0;32m<ipython-input-59-a03bdbde9317>\u001b[0m in \u001b[0;36m<module>\u001b[0;34m\u001b[0m\n\u001b[1;32m      2\u001b[0m \u001b[0mprint\u001b[0m\u001b[0;34m(\u001b[0m\u001b[0mfake_data_shape\u001b[0m\u001b[0;34m)\u001b[0m\u001b[0;34m\u001b[0m\u001b[0;34m\u001b[0m\u001b[0m\n\u001b[1;32m      3\u001b[0m \u001b[0mprint\u001b[0m\u001b[0;34m(\u001b[0m\u001b[0mgenerator_model\u001b[0m\u001b[0;34m.\u001b[0m\u001b[0moutput_shape\u001b[0m\u001b[0;34m)\u001b[0m\u001b[0;34m\u001b[0m\u001b[0;34m\u001b[0m\u001b[0m\n\u001b[0;32m----> 4\u001b[0;31m \u001b[0mprint\u001b[0m\u001b[0;34m(\u001b[0m\u001b[0mdiscriminator_model\u001b[0m\u001b[0;34m.\u001b[0m\u001b[0minput_shape\u001b[0m\u001b[0;34m)\u001b[0m\u001b[0;34m\u001b[0m\u001b[0;34m\u001b[0m\u001b[0m\n\u001b[0m",
            "\u001b[0;31mNameError\u001b[0m: name 'discriminator_model' is not defined"
          ]
        }
      ]
    },
    {
      "cell_type": "code",
      "source": [
        "d_optimizer = tf.keras.optimizers.RMSprop(learning_rate=0.001)\n",
        "g_optimizer = tf.keras.optimizers.RMSprop(learning_rate=0.005)\n",
        "model = QGAN(generator=generator_model,discriminator=discriminator_model,disc_optimizer=d_optimizer,gen_optimizer=g_optimizer)"
      ],
      "metadata": {
        "id": "Fm_e0YVykmcA"
      },
      "execution_count": null,
      "outputs": []
    },
    {
      "cell_type": "code",
      "source": [
        "X_jet_final = np.reshape(X_jet, (X_jet.shape[0], 16, 16, 1))\n",
        "gen_loss_,disc_loss_,epochs_ = model.train_qgans(X_jet,epochs=10,batch_size=2,seed=2021,n_gen=10)"
      ],
      "metadata": {
        "id": "1dB72AP9koz2"
      },
      "execution_count": null,
      "outputs": []
    },
    {
      "cell_type": "code",
      "source": [
        "import matplotlib.pyplot as plt\n",
        "import matplotlib.gridspec as gridspec\n",
        "\n",
        "def plot_loss(gen_loss,disc_loss,epochs):\n",
        "  fig = plt.figure(figsize=(16,9))\n",
        "  gs = gridspec.GridSpec(ncols=8, nrows=8, figure=fig)\n",
        "  epoch = epochs[-1]\n",
        "  # plot loss curve\n",
        "  ax_loss = plt.subplot(gs[:,:4])\n",
        "  ax_loss.set_xlim(0, 1.1*epoch)\n",
        "  ax_loss.plot(epochs, gen_loss, label=\"Generator\")\n",
        "  ax_loss.plot(epochs, disc_loss, label=\"Discriminator\")\n",
        "  ax_loss.set_xlabel('Epoch', fontsize=20)\n",
        "  ax_loss.set_ylabel('Loss', fontsize=20)\n",
        "  ax_loss.grid(True)\n",
        "  ax_loss.legend(fontsize=15)"
      ],
      "metadata": {
        "id": "2IaeG2hAkvce"
      },
      "execution_count": null,
      "outputs": []
    },
    {
      "cell_type": "code",
      "source": [
        "plot_loss(gen_loss_,disc_loss_,epochs_)"
      ],
      "metadata": {
        "id": "07o-TX8PkwWW"
      },
      "execution_count": null,
      "outputs": []
    },
    {
      "cell_type": "code",
      "source": [
        "n_images = 8\n",
        "samples = np.reshape(np.array(model.generate_samples(batch_size=n_images,shape=(5,))),(n_images,16,16))\n",
        "fig = plt.figure(figsize=(26,18))\n",
        "gs = gridspec.GridSpec(ncols=8, nrows=8, figure=fig)\n",
        "for i in range(samples.shape[0]):\n",
        "  ax = plt.subplot(gs[i//4, 4 + i%4])\n",
        "  plt.imshow(samples[i])\n",
        "     "
      ],
      "metadata": {
        "id": "tGIUUtobkzFe"
      },
      "execution_count": null,
      "outputs": []
    },
    {
      "cell_type": "code",
      "source": [
        "from IPython.display import clear_output\n",
        "!pip install tensorflow==2.7.0\n",
        "clear_output()"
      ],
      "metadata": {
        "id": "rbDr1oCno05u"
      },
      "execution_count": 76,
      "outputs": []
    },
    {
      "cell_type": "code",
      "source": [
        "from IPython.display import clear_output\n",
        "!pip install tensorflow-quantum==0.6.0 --use-deprecated=legacy-resolver\n",
        "clear_output()"
      ],
      "metadata": {
        "id": "V2csP_EWo5ZT"
      },
      "execution_count": 77,
      "outputs": []
    },
    {
      "cell_type": "code",
      "source": [
        "electron_datafile = '/content/jet-images_Mass60-100_pT250-300_R1.25_Pix25.hdf5'\n",
        "photon_datafile = '/content/jet-images_Mass60-100_pT250-300_R1.25_Pix25.hdf5'"
      ],
      "metadata": {
        "id": "TfA3YijXrZSl"
      },
      "execution_count": 92,
      "outputs": []
    },
    {
      "cell_type": "code",
      "source": [
        "electron_data = HDF5File(electron_datafile, 'r')\n",
        "photon_data = HDF5File(photon_datafile, 'r')"
      ],
      "metadata": {
        "id": "w6cB8famreoF"
      },
      "execution_count": 93,
      "outputs": []
    },
    {
      "cell_type": "code",
      "source": [
        "print(electron_data.keys())"
      ],
      "metadata": {
        "colab": {
          "base_uri": "https://localhost:8080/"
        },
        "id": "Ec3As2QRrib9",
        "outputId": "2cb9e51a-2c16-440e-de98-592b974eb834"
      },
      "execution_count": 94,
      "outputs": [
        {
          "output_type": "stream",
          "name": "stdout",
          "text": [
            "<KeysViewHDF5 ['image', 'jet_delta_R', 'jet_eta', 'jet_mass', 'jet_phi', 'jet_pt', 'signal', 'tau_1', 'tau_2', 'tau_21', 'tau_3', 'tau_32']>\n"
          ]
        }
      ]
    },
    {
      "cell_type": "code",
      "source": [
        "jet_mass_datafile = '/content/jet-images_Mass60-100_pT250-300_R1.25_Pix25.hdf5'\n",
        "jet_mass_data = HDF5File(jet_mass_datafile, 'r')"
      ],
      "metadata": {
        "id": "zRGZzuL6o-Z7"
      },
      "execution_count": 78,
      "outputs": []
    },
    {
      "cell_type": "code",
      "source": [
        "print(jet_mass_data.keys())"
      ],
      "metadata": {
        "colab": {
          "base_uri": "https://localhost:8080/"
        },
        "id": "ClzgUy0upUur",
        "outputId": "6a6be8cd-fbae-4eee-d9f2-625d288d5818"
      },
      "execution_count": 79,
      "outputs": [
        {
          "output_type": "stream",
          "name": "stdout",
          "text": [
            "<KeysViewHDF5 ['image', 'jet_delta_R', 'jet_eta', 'jet_mass', 'jet_phi', 'jet_pt', 'signal', 'tau_1', 'tau_2', 'tau_21', 'tau_3', 'tau_32']>\n"
          ]
        }
      ]
    },
    {
      "cell_type": "code",
      "source": [
        "X_jet = jet_mass_data['image']\n",
        "print(X_jet.shape)\n",
        "plt.imshow(X_jet[5,:,:])"
      ],
      "metadata": {
        "colab": {
          "base_uri": "https://localhost:8080/",
          "height": 302
        },
        "id": "CsL4QexapWt7",
        "outputId": "bad4720f-fe6a-4e95-b859-089d405c245b"
      },
      "execution_count": 80,
      "outputs": [
        {
          "output_type": "stream",
          "name": "stdout",
          "text": [
            "(872666, 25, 25)\n"
          ]
        },
        {
          "output_type": "execute_result",
          "data": {
            "text/plain": [
              "<matplotlib.image.AxesImage at 0x7fa69946c250>"
            ]
          },
          "metadata": {},
          "execution_count": 80
        },
        {
          "output_type": "display_data",
          "data": {
            "text/plain": [
              "<Figure size 432x288 with 1 Axes>"
            ],
            "image/png": "[encoded data removed]"
          },
          "metadata": {}
        }
      ]
    },
    {
      "cell_type": "code",
      "source": [
        "# max_val_pix = np.argmax(np.mean(X_jet[:, :, :], axis=0))\n",
        "# print(\"Maximum pixel value for Jet mass images:\",max_val_pix)\n",
        "# center = [int(max_val_pix/25), max_val_pix%25]\n",
        "\n",
        "# img_size = 8\n",
        "# X_jet = X_jet[:100, (center[0]-int(img_size/2)):(center[0]+int(img_size/2)), (center[1]-int(img_size/2)):(center[1]+int(img_size/2))]\n",
        "\n",
        "# print(X_jet.shape)"
      ],
      "metadata": {
        "id": "KhFU70MApZBL"
      },
      "execution_count": 136,
      "outputs": []
    },
    {
      "cell_type": "code",
      "source": [
        "# def plot_jet_image(content,\n",
        "# #                     output_name,\n",
        "#                     vmin=1e-6,\n",
        "#                     vmax=300,\n",
        "#                     title=''):\n",
        "#     '''\n",
        "#     Function to help you visualize a jet image on a log scale\n",
        "#     Args:\n",
        "#     -----\n",
        "#        content : numpy array of dimensions 25x25, first arg to imshow, content of the image\n",
        "#                  e.g.: generated_images.mean(axis=0) --> the average generated image\n",
        "#                        real_images.mean(axis=0) --> the average Pythia image\n",
        "#                        generated_images[aux_out == 1].mean(axis=0) --> the average generated image labeled as real by the discriminator \n",
        "#                        etc...\n",
        "#        output_name : string, name of the output file where the plot will be saved. Note: it will be located in ../plots/\n",
        "#        vmin : (default = 1e-6) float, lower bound of the pixel intensity scale before saturation\n",
        "#        vmax : (default = 300) float, upper bound of the pixel intensity scale before saturation\n",
        "#        title : (default = '') string, title of the plot, to be displayed on top of the image\n",
        "#     Outputs:\n",
        "#     --------\n",
        "#        no function returns\n",
        "#        saves file in ../plots/output_name\n",
        "#     '''\n",
        "#     fig, ax = plt.subplots(figsize=(7, 6))\n",
        "#     extent=[-1.25, 1.25, -1.25, 1.25]\n",
        "#     im = ax.imshow(content, interpolation='nearest', norm=LogNorm(vmin=vmin, vmax=vmax), extent=extent)\n",
        "#     cbar = plt.colorbar(im, fraction=0.05, pad=0.05)\n",
        "#     cbar.set_label(r'Pixel Pt (GeV)', y=0.85)\n",
        "#     plt.xlabel(r'[Transformed] Pseudorapidity')\n",
        "#     plt.ylabel(r'[Transformed] Azimuthal Angle')\n",
        "#     plt.title(title)"
      ],
      "metadata": {
        "id": "wo5ERljFpcLL"
      },
      "execution_count": 96,
      "outputs": []
    },
    {
      "cell_type": "code",
      "source": [
        "# X_e, y_e = electron_data['jet_delta_R'], electron_data['jet_phi']\n",
        "# X_e_0 = X_e[0]\n",
        "# X_e_1 = X_e[1]\n",
        "# print(X_e_0.shape)\n",
        "# print(y_e.shape)"
      ],
      "metadata": {
        "colab": {
          "base_uri": "https://localhost:8080/"
        },
        "id": "mMmolqRqph-j",
        "outputId": "ea34f52a-ff1f-4a6a-a12f-208b54f34bfc"
      },
      "execution_count": 100,
      "outputs": [
        {
          "output_type": "stream",
          "name": "stdout",
          "text": [
            "()\n",
            "(872666,)\n"
          ]
        }
      ]
    },
    {
      "cell_type": "code",
      "source": [
        "# import cirq"
      ],
      "metadata": {
        "id": "WrAJG6qwswa4"
      },
      "execution_count": 135,
      "outputs": []
    },
    {
      "cell_type": "code",
      "source": [
        "# plot_jet_image(X_e_0[1],title = 'Electron_image')"
      ],
      "metadata": {
        "id": "9fCM9VpjrE4t"
      },
      "execution_count": 134,
      "outputs": []
    },
    {
      "cell_type": "code",
      "source": [
        "# def one_qubit_unitary(qubit, symbols):\n",
        "#   return cirq.Circuit(\n",
        "#     [cirq.rx(symbols[0])(qubit),\n",
        "#       cirq.ry(symbols[1])(qubit),\n",
        "#       cirq.rz(symbols[2])(qubit)]\n",
        "#   )\n",
        "     "
      ],
      "metadata": {
        "id": "HKu76cuMprSs"
      },
      "execution_count": 133,
      "outputs": []
    },
    {
      "cell_type": "code",
      "source": [
        "# def two_qubit_unitary(qubits):\n",
        "#   cx_ops = [cirq.CX(q0, q1) for q0, q1 in zip(qubits, qubits[1:])]\n",
        "#   cx_ops += ([cirq.CX(qubits[-1], qubits[0])] if len(qubits) != 2 else [])\n",
        "#   return cx_ops\n",
        "     "
      ],
      "metadata": {
        "id": "pCdd9uqRqqIj"
      },
      "execution_count": 132,
      "outputs": []
    },
    {
      "cell_type": "code",
      "source": [
        "# def pqc_circuit_for_conv(qubits,layers):\n",
        "#   circuit = cirq.Circuit()\n",
        "#   num_qubits = len(qubits)\n",
        "#   input_symbols = sp.symbols('x_:'+str(num_qubits))\n",
        "#   param_symbols = sp.symbols('theta_:'+str(3*num_qubits*layers))\n",
        "#   param_symbols = np.reshape(param_symbols,(layers,num_qubits,3))\n",
        "#   for i in range(num_qubits):\n",
        "#     circuit += cirq.ry(input_symbols[i])(qubits[i])\n",
        "  \n",
        "#   for layer in range(layers):\n",
        "#     for i,q in enumerate(qubits):\n",
        "#       circuit += one_qubit_unitary(q,param_symbols[layer,i,:])\n",
        "#     circuit += two_qubit_unitary(qubits)\n",
        "  \n",
        "#   return circuit,input_symbols,list(param_symbols.flat)"
      ],
      "metadata": {
        "id": "PvI2e093qscc"
      },
      "execution_count": 131,
      "outputs": []
    },
    {
      "cell_type": "code",
      "source": [
        "# plot_jet_image(X_jet[0],title = 'Jet_image')"
      ],
      "metadata": {
        "id": "HIgoGZlPq66l"
      },
      "execution_count": 116,
      "outputs": []
    },
    {
      "cell_type": "code",
      "source": [
        "# demo_circuit,i_symbols,p_symbols = pqc_circuit_for_conv(cirq.GridQubit.rect(1,4),layers=2)\n",
        "# SVGCircuit(demo_circuit)"
      ],
      "metadata": {
        "id": "14zjdEN_quri"
      },
      "execution_count": 117,
      "outputs": []
    },
    {
      "cell_type": "code",
      "source": [
        "import numpy as np \n",
        "import sympy as sp\n",
        "from h5py import File as HDF5File\n",
        "%matplotlib inline\n",
        "import matplotlib.pyplot as plt\n",
        "from QGANSHEP import preprocess_utils, visualizations"
      ],
      "metadata": {
        "id": "h-0Wc7blqwqT"
      },
      "execution_count": 123,
      "outputs": []
    },
    {
      "cell_type": "code",
      "source": [
        "cd .."
      ],
      "metadata": {
        "colab": {
          "base_uri": "https://localhost:8080/"
        },
        "id": "vXL6CaCSwL0h",
        "outputId": "30994e61-d1c2-456a-8fd4-3d7267c56450"
      },
      "execution_count": 119,
      "outputs": [
        {
          "output_type": "stream",
          "name": "stdout",
          "text": [
            "/\n"
          ]
        }
      ]
    },
    {
      "cell_type": "code",
      "source": [
        "cd content"
      ],
      "metadata": {
        "colab": {
          "base_uri": "https://localhost:8080/"
        },
        "id": "NhH8ievpwQTC",
        "outputId": "601633e5-0e94-4f8f-b35e-b65b4a8b5e7d"
      },
      "execution_count": 120,
      "outputs": [
        {
          "output_type": "stream",
          "name": "stdout",
          "text": [
            "/content\n"
          ]
        }
      ]
    },
    {
      "cell_type": "code",
      "source": [
        "!git clone https://github.com/Amey-2002/GSoC_2022_QMLHEP"
      ],
      "metadata": {
        "colab": {
          "base_uri": "https://localhost:8080/"
        },
        "id": "PIL5s8IYwSHy",
        "outputId": "65d2d5c5-cbd4-4594-b8a6-f92eb1232d78"
      },
      "execution_count": 121,
      "outputs": [
        {
          "output_type": "stream",
          "name": "stdout",
          "text": [
            "Cloning into 'GSoC_2022_QMLHEP'...\n",
            "remote: Enumerating objects: 280, done.\u001b[K\n",
            "remote: Counting objects: 100% (68/68), done.\u001b[K\n",
            "remote: Compressing objects: 100% (55/55), done.\u001b[K\n",
            "remote: Total 280 (delta 25), reused 39 (delta 12), pack-reused 212\u001b[K\n",
            "Receiving objects: 100% (280/280), 3.11 MiB | 20.84 MiB/s, done.\n",
            "Resolving deltas: 100% (133/133), done.\n"
          ]
        }
      ]
    },
    {
      "cell_type": "code",
      "source": [
        "%cd GSoC_2022_QMLHEP"
      ],
      "metadata": {
        "colab": {
          "base_uri": "https://localhost:8080/"
        },
        "id": "iERWlquEwTgJ",
        "outputId": "8449b257-b394-4884-f391-43cffc8be9a8"
      },
      "execution_count": 122,
      "outputs": [
        {
          "output_type": "stream",
          "name": "stdout",
          "text": [
            "/content/GSoC_2022_QMLHEP\n"
          ]
        }
      ]
    },
    {
      "cell_type": "code",
      "source": [
        "jet_mass_datafile = '/content/jet-images_Mass60-100_pT250-300_R1.25_Pix25.hdf5'\n",
        "jet_mass_data = HDF5File(jet_mass_datafile, 'r')"
      ],
      "metadata": {
        "id": "oDTBB1iowZHJ"
      },
      "execution_count": 124,
      "outputs": []
    },
    {
      "cell_type": "code",
      "source": [
        "print(jet_mass_data.keys())"
      ],
      "metadata": {
        "colab": {
          "base_uri": "https://localhost:8080/"
        },
        "id": "SQk1OZXfwhzZ",
        "outputId": "85749ebd-1dd6-4ae6-f91a-74b265f858eb"
      },
      "execution_count": 125,
      "outputs": [
        {
          "output_type": "stream",
          "name": "stdout",
          "text": [
            "<KeysViewHDF5 ['image', 'jet_delta_R', 'jet_eta', 'jet_mass', 'jet_phi', 'jet_pt', 'signal', 'tau_1', 'tau_2', 'tau_21', 'tau_3', 'tau_32']>\n"
          ]
        }
      ]
    },
    {
      "cell_type": "code",
      "source": [
        "X_jet = jet_mass_data['image']\n",
        "print(X_jet.shape)\n",
        "plt.imshow(X_jet[5,:,:])"
      ],
      "metadata": {
        "colab": {
          "base_uri": "https://localhost:8080/",
          "height": 302
        },
        "id": "W5CiaaVrwlQB",
        "outputId": "d15df2e8-2b46-43d9-a3ea-68e1bd23979d"
      },
      "execution_count": 126,
      "outputs": [
        {
          "output_type": "stream",
          "name": "stdout",
          "text": [
            "(872666, 25, 25)\n"
          ]
        },
        {
          "output_type": "execute_result",
          "data": {
            "text/plain": [
              "<matplotlib.image.AxesImage at 0x7fa67843e610>"
            ]
          },
          "metadata": {},
          "execution_count": 126
        },
        {
          "output_type": "display_data",
          "data": {
            "text/plain": [
              "<Figure size 432x288 with 1 Axes>"
            ],
            "image/png": "[encoded data removed]"
          },
          "metadata": {
            "needs_background": "light"
          }
        }
      ]
    },
    {
      "cell_type": "code",
      "source": [
        "visualizations.plot_log_scale_image(X_jet[5,:,:])"
      ],
      "metadata": {
        "colab": {
          "base_uri": "https://localhost:8080/",
          "height": 392
        },
        "id": "f26x6WmIwnsq",
        "outputId": "a3c44de7-3bc0-4f04-f0cb-6553a036cb94"
      },
      "execution_count": 127,
      "outputs": [
        {
          "output_type": "display_data",
          "data": {
            "text/plain": [
              "<Figure size 504x432 with 2 Axes>"
            ],
            "image/png": "[encoded data removed]"
          },
          "metadata": {
            "needs_background": "light"
          }
        }
      ]
    },
    {
      "cell_type": "code",
      "source": [
        "X_jet = preprocess_utils.crop_images(X_jet[:100,:,:],(8,8))"
      ],
      "metadata": {
        "id": "XiWFJgL6wqbB"
      },
      "execution_count": 128,
      "outputs": []
    },
    {
      "cell_type": "code",
      "source": [
        "plt.imshow(X_jet[5,:,:])"
      ],
      "metadata": {
        "colab": {
          "base_uri": "https://localhost:8080/",
          "height": 283
        },
        "id": "BM8jNLIRwucZ",
        "outputId": "8b23d80c-0462-445f-f743-9aef2365363d"
      },
      "execution_count": 129,
      "outputs": [
        {
          "output_type": "execute_result",
          "data": {
            "text/plain": [
              "<matplotlib.image.AxesImage at 0x7fa67818eac0>"
            ]
          },
          "metadata": {},
          "execution_count": 129
        },
        {
          "output_type": "display_data",
          "data": {
            "text/plain": [
              "<Figure size 432x288 with 1 Axes>"
            ],
            "image/png": "[encoded data removed]"
          },
          "metadata": {
            "needs_background": "light"
          }
        }
      ]
    },
    {
      "cell_type": "code",
      "source": [
        "visualizations.plot_log_scale_image(X_jet[5,:,:]) #rectify by reuploading visualizations.py on drive"
      ],
      "metadata": {
        "colab": {
          "base_uri": "https://localhost:8080/",
          "height": 392
        },
        "id": "aA_zHLWpwwIR",
        "outputId": "8773aa91-0d5c-4705-c332-81488d6d110f"
      },
      "execution_count": 130,
      "outputs": [
        {
          "output_type": "display_data",
          "data": {
            "text/plain": [
              "<Figure size 504x432 with 2 Axes>"
            ],
            "image/png": "[encoded data removed]"
          },
          "metadata": {
            "needs_background": "light"
          }
        }
      ]
    },
    {
      "cell_type": "code",
      "source": [],
      "metadata": {
        "id": "plnAyS54wzZR"
      },
      "execution_count": null,
      "outputs": []
    }
  ]
}