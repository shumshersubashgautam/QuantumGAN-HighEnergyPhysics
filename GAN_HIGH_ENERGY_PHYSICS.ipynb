{
  "nbformat": 4,
  "nbformat_minor": 0,
  "metadata": {
    "colab": {
      "provenance": [],
      "authorship_tag": "ABX9TyM0Z2NX0KFfpmsenBaGhubd",
      "include_colab_link": true
    },
    "kernelspec": {
      "name": "python3",
      "display_name": "Python 3"
    },
    "language_info": {
      "name": "python"
    },
    "accelerator": "GPU",
    "gpuClass": "standard"
  },
  "cells": [
    {
      "cell_type": "markdown",
      "metadata": {
        "id": "view-in-github",
        "colab_type": "text"
      },
      "source": [
        "<a href=\"https://colab.research.google.com/github/shumshersubashgautam/QuantumGAN-HighEnergyPhysics/blob/main/GAN_HIGH_ENERGY_PHYSICS.ipynb\" target=\"_parent\"><img src=\"https://colab.research.google.com/assets/colab-badge.svg\" alt=\"Open In Colab\"/></a>"
      ]
    },
    {
      "cell_type": "code",
      "execution_count": 11,
      "metadata": {
        "colab": {
          "base_uri": "https://localhost:8080/"
        },
        "id": "jLzgtHz1evS4",
        "outputId": "3464c644-5ee0-43e4-a0e1-d7ee1a3805df"
      },
      "outputs": [
        {
          "output_type": "stream",
          "name": "stdout",
          "text": [
            "Looking in indexes: https://pypi.org/simple, https://us-python.pkg.dev/colab-wheels/public/simple/\n",
            "Collecting tensorflow==2.3.1\n",
            "  Downloading tensorflow-2.3.1-cp38-cp38-manylinux2010_x86_64.whl (320.5 MB)\n",
            "\u001b[2K     \u001b[91m━━━━━━━━━━━━━━━━━━━━━━\u001b[0m\u001b[90m╺\u001b[0m\u001b[90m━━━━━━━━━━━━━━\u001b[0m \u001b[32m190.8/320.5 MB\u001b[0m \u001b[31m124.8 MB/s\u001b[0m eta \u001b[36m0:00:02\u001b[0m\n",
            "\u001b[?25h\u001b[31mERROR: Exception:\n",
            "Traceback (most recent call last):\n",
            "  File \"/usr/local/lib/python3.8/dist-packages/pip/_vendor/urllib3/response.py\", line 438, in _error_catcher\n",
            "    yield\n",
            "  File \"/usr/local/lib/python3.8/dist-packages/pip/_vendor/urllib3/response.py\", line 519, in read\n",
            "    data = self._fp.read(amt) if not fp_closed else b\"\"\n",
            "  File \"/usr/local/lib/python3.8/dist-packages/pip/_vendor/cachecontrol/filewrapper.py\", line 90, in read\n",
            "    data = self.__fp.read(amt)\n",
            "  File \"/usr/lib/python3.8/http/client.py\", line 459, in read\n",
            "    n = self.readinto(b)\n",
            "  File \"/usr/lib/python3.8/http/client.py\", line 503, in readinto\n",
            "    n = self.fp.readinto(b)\n",
            "  File \"/usr/lib/python3.8/socket.py\", line 669, in readinto\n",
            "    return self._sock.recv_into(b)\n",
            "  File \"/usr/lib/python3.8/ssl.py\", line 1241, in recv_into\n",
            "    return self.read(nbytes, buffer)\n",
            "  File \"/usr/lib/python3.8/ssl.py\", line 1099, in read\n",
            "    return self._sslobj.read(len, buffer)\n",
            "socket.timeout: The read operation timed out\n",
            "\n",
            "During handling of the above exception, another exception occurred:\n",
            "\n",
            "Traceback (most recent call last):\n",
            "  File \"/usr/local/lib/python3.8/dist-packages/pip/_internal/cli/base_command.py\", line 167, in exc_logging_wrapper\n",
            "    status = run_func(*args)\n",
            "  File \"/usr/local/lib/python3.8/dist-packages/pip/_internal/cli/req_command.py\", line 199, in wrapper\n",
            "    return func(self, options, args)\n",
            "  File \"/usr/local/lib/python3.8/dist-packages/pip/_internal/commands/install.py\", line 339, in run\n",
            "    requirement_set = resolver.resolve(\n",
            "  File \"/usr/local/lib/python3.8/dist-packages/pip/_internal/resolution/resolvelib/resolver.py\", line 94, in resolve\n",
            "    result = self._result = resolver.resolve(\n",
            "  File \"/usr/local/lib/python3.8/dist-packages/pip/_vendor/resolvelib/resolvers.py\", line 481, in resolve\n",
            "    state = resolution.resolve(requirements, max_rounds=max_rounds)\n",
            "  File \"/usr/local/lib/python3.8/dist-packages/pip/_vendor/resolvelib/resolvers.py\", line 348, in resolve\n",
            "    self._add_to_criteria(self.state.criteria, r, parent=None)\n",
            "  File \"/usr/local/lib/python3.8/dist-packages/pip/_vendor/resolvelib/resolvers.py\", line 172, in _add_to_criteria\n",
            "    if not criterion.candidates:\n",
            "  File \"/usr/local/lib/python3.8/dist-packages/pip/_vendor/resolvelib/structs.py\", line 151, in __bool__\n",
            "    return bool(self._sequence)\n",
            "  File \"/usr/local/lib/python3.8/dist-packages/pip/_internal/resolution/resolvelib/found_candidates.py\", line 155, in __bool__\n",
            "    return any(self)\n",
            "  File \"/usr/local/lib/python3.8/dist-packages/pip/_internal/resolution/resolvelib/found_candidates.py\", line 143, in <genexpr>\n",
            "    return (c for c in iterator if id(c) not in self._incompatible_ids)\n",
            "  File \"/usr/local/lib/python3.8/dist-packages/pip/_internal/resolution/resolvelib/found_candidates.py\", line 47, in _iter_built\n",
            "    candidate = func()\n",
            "  File \"/usr/local/lib/python3.8/dist-packages/pip/_internal/resolution/resolvelib/factory.py\", line 215, in _make_candidate_from_link\n",
            "    self._link_candidate_cache[link] = LinkCandidate(\n",
            "  File \"/usr/local/lib/python3.8/dist-packages/pip/_internal/resolution/resolvelib/candidates.py\", line 288, in __init__\n",
            "    super().__init__(\n",
            "  File \"/usr/local/lib/python3.8/dist-packages/pip/_internal/resolution/resolvelib/candidates.py\", line 158, in __init__\n",
            "    self.dist = self._prepare()\n",
            "  File \"/usr/local/lib/python3.8/dist-packages/pip/_internal/resolution/resolvelib/candidates.py\", line 227, in _prepare\n",
            "    dist = self._prepare_distribution()\n",
            "  File \"/usr/local/lib/python3.8/dist-packages/pip/_internal/resolution/resolvelib/candidates.py\", line 299, in _prepare_distribution\n",
            "    return preparer.prepare_linked_requirement(self._ireq, parallel_builds=True)\n",
            "  File \"/usr/local/lib/python3.8/dist-packages/pip/_internal/operations/prepare.py\", line 487, in prepare_linked_requirement\n",
            "    return self._prepare_linked_requirement(req, parallel_builds)\n",
            "  File \"/usr/local/lib/python3.8/dist-packages/pip/_internal/operations/prepare.py\", line 532, in _prepare_linked_requirement\n",
            "    local_file = unpack_url(\n",
            "  File \"/usr/local/lib/python3.8/dist-packages/pip/_internal/operations/prepare.py\", line 214, in unpack_url\n",
            "    file = get_http_url(\n",
            "  File \"/usr/local/lib/python3.8/dist-packages/pip/_internal/operations/prepare.py\", line 94, in get_http_url\n",
            "    from_path, content_type = download(link, temp_dir.path)\n",
            "  File \"/usr/local/lib/python3.8/dist-packages/pip/_internal/network/download.py\", line 146, in __call__\n",
            "    for chunk in chunks:\n",
            "  File \"/usr/local/lib/python3.8/dist-packages/pip/_internal/cli/progress_bars.py\", line 304, in _rich_progress_bar\n",
            "    for chunk in iterable:\n",
            "  File \"/usr/local/lib/python3.8/dist-packages/pip/_internal/network/utils.py\", line 63, in response_chunks\n",
            "    for chunk in response.raw.stream(\n",
            "  File \"/usr/local/lib/python3.8/dist-packages/pip/_vendor/urllib3/response.py\", line 576, in stream\n",
            "    data = self.read(amt=amt, decode_content=decode_content)\n",
            "  File \"/usr/local/lib/python3.8/dist-packages/pip/_vendor/urllib3/response.py\", line 541, in read\n",
            "    raise IncompleteRead(self._fp_bytes_read, self.length_remaining)\n",
            "  File \"/usr/lib/python3.8/contextlib.py\", line 131, in __exit__\n",
            "    self.gen.throw(type, value, traceback)\n",
            "  File \"/usr/local/lib/python3.8/dist-packages/pip/_vendor/urllib3/response.py\", line 443, in _error_catcher\n",
            "    raise ReadTimeoutError(self._pool, None, \"Read timed out.\")\n",
            "pip._vendor.urllib3.exceptions.ReadTimeoutError: HTTPSConnectionPool(host='files.pythonhosted.org', port=443): Read timed out.\u001b[0m\u001b[31m\n",
            "\u001b[0mLooking in indexes: https://pypi.org/simple, https://us-python.pkg.dev/colab-wheels/public/simple/\n",
            "Collecting tensorflow_quantum==0.4.0\n",
            "  Using cached tensorflow_quantum-0.4.0-cp38-cp38-manylinux2010_x86_64.whl (5.9 MB)\n",
            "Collecting sympy==1.5\n",
            "  Downloading sympy-1.5-py2.py3-none-any.whl (5.6 MB)\n",
            "\u001b[2K     \u001b[90m━━━━━━━━━━━━━━━━━━━━━━━━━━━━━━━━━━━━━━━━\u001b[0m \u001b[32m5.6/5.6 MB\u001b[0m \u001b[31m36.8 MB/s\u001b[0m eta \u001b[36m0:00:00\u001b[0m\n",
            "\u001b[?25hCollecting cirq==0.9.1\n",
            "  Using cached cirq-0.9.1-py3-none-any.whl (1.6 MB)\n",
            "Requirement already satisfied: numpy~=1.16 in /usr/local/lib/python3.8/dist-packages (from cirq==0.9.1->tensorflow_quantum==0.4.0) (1.22.4)\n",
            "Requirement already satisfied: typing-extensions in /usr/local/lib/python3.8/dist-packages (from cirq==0.9.1->tensorflow_quantum==0.4.0) (4.5.0)\n",
            "Requirement already satisfied: sortedcontainers~=2.0 in /usr/local/lib/python3.8/dist-packages (from cirq==0.9.1->tensorflow_quantum==0.4.0) (2.4.0)\n",
            "Requirement already satisfied: pandas in /usr/local/lib/python3.8/dist-packages (from cirq==0.9.1->tensorflow_quantum==0.4.0) (1.3.5)\n",
            "Collecting freezegun~=0.3.15\n",
            "  Downloading freezegun-0.3.15-py2.py3-none-any.whl (14 kB)\n",
            "Collecting google-api-core[grpc]<2.0.0dev,>=1.14.0\n",
            "  Downloading google_api_core-1.34.0-py3-none-any.whl (120 kB)\n",
            "\u001b[2K     \u001b[90m━━━━━━━━━━━━━━━━━━━━━━━━━━━━━━━━━━━━━━\u001b[0m \u001b[32m120.2/120.2 KB\u001b[0m \u001b[31m14.7 MB/s\u001b[0m eta \u001b[36m0:00:00\u001b[0m\n",
            "\u001b[?25hCollecting networkx~=2.4\n",
            "  Downloading networkx-2.8.8-py3-none-any.whl (2.0 MB)\n",
            "\u001b[2K     \u001b[90m━━━━━━━━━━━━━━━━━━━━━━━━━━━━━━━━━━━━━━━━\u001b[0m \u001b[32m2.0/2.0 MB\u001b[0m \u001b[31m39.5 MB/s\u001b[0m eta \u001b[36m0:00:00\u001b[0m\n",
            "\u001b[?25hRequirement already satisfied: scipy in /usr/local/lib/python3.8/dist-packages (from cirq==0.9.1->tensorflow_quantum==0.4.0) (1.10.1)\n",
            "Requirement already satisfied: matplotlib~=3.0 in /usr/local/lib/python3.8/dist-packages (from cirq==0.9.1->tensorflow_quantum==0.4.0) (3.5.3)\n",
            "Collecting protobuf~=3.12.0\n",
            "  Downloading protobuf-3.12.4-cp38-cp38-manylinux1_x86_64.whl (1.3 MB)\n",
            "\u001b[2K     \u001b[90m━━━━━━━━━━━━━━━━━━━━━━━━━━━━━━━━━━━━━━━━\u001b[0m \u001b[32m1.3/1.3 MB\u001b[0m \u001b[31m49.1 MB/s\u001b[0m eta \u001b[36m0:00:00\u001b[0m\n",
            "\u001b[?25hRequirement already satisfied: requests~=2.18 in /usr/local/lib/python3.8/dist-packages (from cirq==0.9.1->tensorflow_quantum==0.4.0) (2.25.1)\n",
            "Requirement already satisfied: mpmath>=0.19 in /usr/local/lib/python3.8/dist-packages (from sympy==1.5->tensorflow_quantum==0.4.0) (1.2.1)\n",
            "Requirement already satisfied: six in /usr/local/lib/python3.8/dist-packages (from freezegun~=0.3.15->cirq==0.9.1->tensorflow_quantum==0.4.0) (1.15.0)\n",
            "Requirement already satisfied: python-dateutil!=2.0,>=1.0 in /usr/local/lib/python3.8/dist-packages (from freezegun~=0.3.15->cirq==0.9.1->tensorflow_quantum==0.4.0) (2.8.2)\n",
            "Requirement already satisfied: googleapis-common-protos<2.0dev,>=1.56.2 in /usr/local/lib/python3.8/dist-packages (from google-api-core[grpc]<2.0.0dev,>=1.14.0->cirq==0.9.1->tensorflow_quantum==0.4.0) (1.58.0)\n",
            "Collecting google-api-core[grpc]<2.0.0dev,>=1.14.0\n",
            "  Downloading google_api_core-1.33.2-py3-none-any.whl (115 kB)\n",
            "\u001b[2K     \u001b[90m━━━━━━━━━━━━━━━━━━━━━━━━━━━━━━━━━━━━━━\u001b[0m \u001b[32m115.5/115.5 KB\u001b[0m \u001b[31m15.1 MB/s\u001b[0m eta \u001b[36m0:00:00\u001b[0m\n",
            "\u001b[?25h  Downloading google_api_core-1.33.1-py3-none-any.whl (115 kB)\n",
            "\u001b[2K     \u001b[90m━━━━━━━━━━━━━━━━━━━━━━━━━━━━━━━━━━━━━━\u001b[0m \u001b[32m115.5/115.5 KB\u001b[0m \u001b[31m15.5 MB/s\u001b[0m eta \u001b[36m0:00:00\u001b[0m\n",
            "\u001b[?25hRequirement already satisfied: google-auth<3.0dev,>=1.25.0 in /usr/local/lib/python3.8/dist-packages (from google-api-core[grpc]<2.0.0dev,>=1.14.0->cirq==0.9.1->tensorflow_quantum==0.4.0) (2.16.2)\n",
            "  Downloading google_api_core-1.33.0-py3-none-any.whl (115 kB)\n",
            "\u001b[2K     \u001b[90m━━━━━━━━━━━━━━━━━━━━━━━━━━━━━━━━━━━━━━\u001b[0m \u001b[32m115.2/115.2 KB\u001b[0m \u001b[31m13.4 MB/s\u001b[0m eta \u001b[36m0:00:00\u001b[0m\n",
            "\u001b[?25h  Downloading google_api_core-1.32.0-py2.py3-none-any.whl (93 kB)\n",
            "\u001b[2K     \u001b[90m━━━━━━━━━━━━━━━━━━━━━━━━━━━━━━━━━━━━━━━━\u001b[0m \u001b[32m93.6/93.6 KB\u001b[0m \u001b[31m9.7 MB/s\u001b[0m eta \u001b[36m0:00:00\u001b[0m\n",
            "\u001b[?25hRequirement already satisfied: setuptools>=40.3.0 in /usr/local/lib/python3.8/dist-packages (from google-api-core[grpc]<2.0.0dev,>=1.14.0->cirq==0.9.1->tensorflow_quantum==0.4.0) (57.4.0)\n",
            "Collecting google-auth<2.0dev,>=1.25.0\n",
            "  Downloading google_auth-1.35.0-py2.py3-none-any.whl (152 kB)\n",
            "\u001b[2K     \u001b[90m━━━━━━━━━━━━━━━━━━━━━━━━━━━━━━━━━━━━━━\u001b[0m \u001b[32m152.9/152.9 KB\u001b[0m \u001b[31m15.3 MB/s\u001b[0m eta \u001b[36m0:00:00\u001b[0m\n",
            "\u001b[?25hRequirement already satisfied: pytz in /usr/local/lib/python3.8/dist-packages (from google-api-core[grpc]<2.0.0dev,>=1.14.0->cirq==0.9.1->tensorflow_quantum==0.4.0) (2022.7.1)\n",
            "Requirement already satisfied: packaging>=14.3 in /usr/local/lib/python3.8/dist-packages (from google-api-core[grpc]<2.0.0dev,>=1.14.0->cirq==0.9.1->tensorflow_quantum==0.4.0) (23.0)\n",
            "Requirement already satisfied: grpcio<2.0dev,>=1.29.0 in /usr/local/lib/python3.8/dist-packages (from google-api-core[grpc]<2.0.0dev,>=1.14.0->cirq==0.9.1->tensorflow_quantum==0.4.0) (1.51.3)\n",
            "Requirement already satisfied: cycler>=0.10 in /usr/local/lib/python3.8/dist-packages (from matplotlib~=3.0->cirq==0.9.1->tensorflow_quantum==0.4.0) (0.11.0)\n",
            "Requirement already satisfied: fonttools>=4.22.0 in /usr/local/lib/python3.8/dist-packages (from matplotlib~=3.0->cirq==0.9.1->tensorflow_quantum==0.4.0) (4.38.0)\n",
            "Requirement already satisfied: pillow>=6.2.0 in /usr/local/lib/python3.8/dist-packages (from matplotlib~=3.0->cirq==0.9.1->tensorflow_quantum==0.4.0) (8.4.0)\n",
            "Requirement already satisfied: kiwisolver>=1.0.1 in /usr/local/lib/python3.8/dist-packages (from matplotlib~=3.0->cirq==0.9.1->tensorflow_quantum==0.4.0) (1.4.4)\n",
            "Requirement already satisfied: pyparsing>=2.2.1 in /usr/local/lib/python3.8/dist-packages (from matplotlib~=3.0->cirq==0.9.1->tensorflow_quantum==0.4.0) (3.0.9)\n",
            "Requirement already satisfied: certifi>=2017.4.17 in /usr/local/lib/python3.8/dist-packages (from requests~=2.18->cirq==0.9.1->tensorflow_quantum==0.4.0) (2022.12.7)\n",
            "Requirement already satisfied: chardet<5,>=3.0.2 in /usr/local/lib/python3.8/dist-packages (from requests~=2.18->cirq==0.9.1->tensorflow_quantum==0.4.0) (4.0.0)\n",
            "Requirement already satisfied: urllib3<1.27,>=1.21.1 in /usr/local/lib/python3.8/dist-packages (from requests~=2.18->cirq==0.9.1->tensorflow_quantum==0.4.0) (1.26.14)\n",
            "Requirement already satisfied: idna<3,>=2.5 in /usr/local/lib/python3.8/dist-packages (from requests~=2.18->cirq==0.9.1->tensorflow_quantum==0.4.0) (2.10)\n",
            "Requirement already satisfied: rsa<5,>=3.1.4 in /usr/local/lib/python3.8/dist-packages (from google-auth<2.0dev,>=1.25.0->google-api-core[grpc]<2.0.0dev,>=1.14.0->cirq==0.9.1->tensorflow_quantum==0.4.0) (4.9)\n",
            "Collecting cachetools<5.0,>=2.0.0\n",
            "  Downloading cachetools-4.2.4-py3-none-any.whl (10 kB)\n",
            "Requirement already satisfied: pyasn1-modules>=0.2.1 in /usr/local/lib/python3.8/dist-packages (from google-auth<2.0dev,>=1.25.0->google-api-core[grpc]<2.0.0dev,>=1.14.0->cirq==0.9.1->tensorflow_quantum==0.4.0) (0.2.8)\n",
            "Collecting googleapis-common-protos<2.0dev,>=1.6.0\n",
            "  Downloading googleapis_common_protos-1.57.1-py2.py3-none-any.whl (218 kB)\n",
            "\u001b[2K     \u001b[90m━━━━━━━━━━━━━━━━━━━━━━━━━━━━━━━━━━━━━━\u001b[0m \u001b[32m218.0/218.0 KB\u001b[0m \u001b[31m22.7 MB/s\u001b[0m eta \u001b[36m0:00:00\u001b[0m\n",
            "\u001b[?25h  Downloading googleapis_common_protos-1.57.0-py2.py3-none-any.whl (217 kB)\n",
            "\u001b[2K     \u001b[90m━━━━━━━━━━━━━━━━━━━━━━━━━━━━━━━━━━━━━━\u001b[0m \u001b[32m218.0/218.0 KB\u001b[0m \u001b[31m24.3 MB/s\u001b[0m eta \u001b[36m0:00:00\u001b[0m\n",
            "\u001b[?25h  Downloading googleapis_common_protos-1.56.4-py2.py3-none-any.whl (211 kB)\n",
            "\u001b[2K     \u001b[90m━━━━━━━━━━━━━━━━━━━━━━━━━━━━━━━━━━━━━━\u001b[0m \u001b[32m211.7/211.7 KB\u001b[0m \u001b[31m27.4 MB/s\u001b[0m eta \u001b[36m0:00:00\u001b[0m\n",
            "\u001b[?25h  Downloading googleapis_common_protos-1.56.3-py2.py3-none-any.whl (211 kB)\n",
            "\u001b[2K     \u001b[90m━━━━━━━━━━━━━━━━━━━━━━━━━━━━━━━━━━━━━━\u001b[0m \u001b[32m211.8/211.8 KB\u001b[0m \u001b[31m27.1 MB/s\u001b[0m eta \u001b[36m0:00:00\u001b[0m\n",
            "\u001b[?25h  Downloading googleapis_common_protos-1.56.2-py2.py3-none-any.whl (211 kB)\n",
            "\u001b[2K     \u001b[90m━━━━━━━━━━━━━━━━━━━━━━━━━━━━━━━━━━━━━━\u001b[0m \u001b[32m211.8/211.8 KB\u001b[0m \u001b[31m21.3 MB/s\u001b[0m eta \u001b[36m0:00:00\u001b[0m\n",
            "\u001b[?25h  Downloading googleapis_common_protos-1.56.1-py2.py3-none-any.whl (211 kB)\n",
            "\u001b[2K     \u001b[90m━━━━━━━━━━━━━━━━━━━━━━━━━━━━━━━━━━━━━━\u001b[0m \u001b[32m211.7/211.7 KB\u001b[0m \u001b[31m24.4 MB/s\u001b[0m eta \u001b[36m0:00:00\u001b[0m\n",
            "\u001b[?25h  Downloading googleapis_common_protos-1.56.0-py2.py3-none-any.whl (241 kB)\n",
            "\u001b[2K     \u001b[90m━━━━━━━━━━━━━━━━━━━━━━━━━━━━━━━━━━━━━━\u001b[0m \u001b[32m241.5/241.5 KB\u001b[0m \u001b[31m29.1 MB/s\u001b[0m eta \u001b[36m0:00:00\u001b[0m\n",
            "\u001b[?25hRequirement already satisfied: pyasn1<0.5.0,>=0.4.6 in /usr/local/lib/python3.8/dist-packages (from pyasn1-modules>=0.2.1->google-auth<2.0dev,>=1.25.0->google-api-core[grpc]<2.0.0dev,>=1.14.0->cirq==0.9.1->tensorflow_quantum==0.4.0) (0.4.8)\n",
            "Installing collected packages: sympy, protobuf, networkx, cachetools, googleapis-common-protos, google-auth, freezegun, google-api-core, cirq, tensorflow_quantum\n",
            "  Attempting uninstall: sympy\n",
            "    Found existing installation: sympy 1.7.1\n",
            "    Uninstalling sympy-1.7.1:\n",
            "      Successfully uninstalled sympy-1.7.1\n",
            "  Attempting uninstall: protobuf\n",
            "    Found existing installation: protobuf 3.19.6\n",
            "    Uninstalling protobuf-3.19.6:\n",
            "      Successfully uninstalled protobuf-3.19.6\n",
            "  Attempting uninstall: networkx\n",
            "    Found existing installation: networkx 3.0\n",
            "    Uninstalling networkx-3.0:\n",
            "      Successfully uninstalled networkx-3.0\n",
            "  Attempting uninstall: cachetools\n",
            "    Found existing installation: cachetools 5.3.0\n",
            "    Uninstalling cachetools-5.3.0:\n",
            "      Successfully uninstalled cachetools-5.3.0\n",
            "  Attempting uninstall: googleapis-common-protos\n",
            "    Found existing installation: googleapis-common-protos 1.58.0\n",
            "    Uninstalling googleapis-common-protos-1.58.0:\n",
            "      Successfully uninstalled googleapis-common-protos-1.58.0\n",
            "  Attempting uninstall: google-auth\n",
            "    Found existing installation: google-auth 2.16.2\n",
            "    Uninstalling google-auth-2.16.2:\n",
            "      Successfully uninstalled google-auth-2.16.2\n",
            "  Attempting uninstall: google-api-core\n",
            "    Found existing installation: google-api-core 2.11.0\n",
            "    Uninstalling google-api-core-2.11.0:\n",
            "      Successfully uninstalled google-api-core-2.11.0\n",
            "\u001b[31mERROR: pip's dependency resolver does not currently take into account all the packages that are installed. This behaviour is the source of the following dependency conflicts.\n",
            "tensorflow-metadata 1.12.0 requires protobuf<4,>=3.13, but you have protobuf 3.12.4 which is incompatible.\n",
            "proto-plus 1.22.2 requires protobuf<5.0.0dev,>=3.19.0, but you have protobuf 3.12.4 which is incompatible.\n",
            "google-cloud-translate 3.8.4 requires protobuf!=3.20.0,!=3.20.1,!=4.21.0,!=4.21.1,!=4.21.2,!=4.21.3,!=4.21.4,!=4.21.5,<5.0.0dev,>=3.19.5, but you have protobuf 3.12.4 which is incompatible.\n",
            "google-cloud-language 2.6.1 requires protobuf!=3.20.0,!=3.20.1,!=4.21.0,!=4.21.1,!=4.21.2,!=4.21.3,!=4.21.4,!=4.21.5,<5.0.0dev,>=3.19.5, but you have protobuf 3.12.4 which is incompatible.\n",
            "google-cloud-firestore 2.7.3 requires google-api-core[grpc]!=2.0.*,!=2.1.*,!=2.10.*,!=2.2.*,!=2.3.*,!=2.4.*,!=2.5.*,!=2.6.*,!=2.7.*,!=2.8.*,!=2.9.*,<3.0.0dev,>=1.34.0, but you have google-api-core 1.32.0 which is incompatible.\n",
            "google-cloud-firestore 2.7.3 requires protobuf!=3.20.0,!=3.20.1,!=4.21.0,!=4.21.1,!=4.21.2,!=4.21.3,!=4.21.4,!=4.21.5,<5.0.0dev,>=3.19.5, but you have protobuf 3.12.4 which is incompatible.\n",
            "google-cloud-datastore 2.11.1 requires google-api-core[grpc]!=2.0.*,!=2.1.*,!=2.10.*,!=2.2.*,!=2.3.*,!=2.4.*,!=2.5.*,!=2.6.*,!=2.7.*,!=2.8.*,!=2.9.*,<3.0.0dev,>=1.34.0, but you have google-api-core 1.32.0 which is incompatible.\n",
            "google-cloud-datastore 2.11.1 requires protobuf!=3.20.0,!=3.20.1,!=4.21.0,!=4.21.1,!=4.21.2,!=4.21.3,!=4.21.4,!=4.21.5,<5.0.0dev,>=3.19.5, but you have protobuf 3.12.4 which is incompatible.\n",
            "google-cloud-bigquery 3.4.2 requires protobuf!=3.20.0,!=3.20.1,!=4.21.0,!=4.21.1,!=4.21.2,!=4.21.3,!=4.21.4,!=4.21.5,<5.0.0dev,>=3.19.5, but you have protobuf 3.12.4 which is incompatible.\n",
            "google-cloud-bigquery-storage 2.19.0 requires google-api-core[grpc]!=2.0.*,!=2.1.*,!=2.10.*,!=2.2.*,!=2.3.*,!=2.4.*,!=2.5.*,!=2.6.*,!=2.7.*,!=2.8.*,!=2.9.*,<3.0.0dev,>=1.34.0, but you have google-api-core 1.32.0 which is incompatible.\n",
            "google-cloud-bigquery-storage 2.19.0 requires protobuf!=3.20.0,!=3.20.1,!=4.21.0,!=4.21.1,!=4.21.2,!=4.21.3,!=4.21.4,!=4.21.5,<5.0.0dev,>=3.19.5, but you have protobuf 3.12.4 which is incompatible.\u001b[0m\u001b[31m\n",
            "\u001b[0mSuccessfully installed cachetools-4.2.4 cirq-0.9.1 freezegun-0.3.15 google-api-core-1.32.0 google-auth-1.35.0 googleapis-common-protos-1.56.0 networkx-2.8.8 protobuf-3.12.4 sympy-1.5 tensorflow_quantum-0.4.0\n",
            "Looking in indexes: https://pypi.org/simple, https://us-python.pkg.dev/colab-wheels/public/simple/\n",
            "Collecting quple==0.7.8\n",
            "  Using cached quple-0.7.8-py3-none-any.whl (82 kB)\n",
            "Requirement already satisfied: cirq in /usr/local/lib/python3.8/dist-packages (from quple==0.7.8) (0.9.1)\n",
            "Requirement already satisfied: numpy in /usr/local/lib/python3.8/dist-packages (from quple==0.7.8) (1.22.4)\n",
            "Requirement already satisfied: tensorflow-quantum==0.4.0 in /usr/local/lib/python3.8/dist-packages (from quple==0.7.8) (0.4.0)\n",
            "Collecting tensorflow==2.3.1\n",
            "  Downloading tensorflow-2.3.1-cp38-cp38-manylinux2010_x86_64.whl (320.5 MB)\n",
            "\u001b[2K     \u001b[91m━━━━━━━━━━━━━━━━━━━━━━━━━━━\u001b[0m\u001b[91m╸\u001b[0m\u001b[90m━━━━━━━━━\u001b[0m \u001b[32m239.1/320.5 MB\u001b[0m \u001b[31m146.8 MB/s\u001b[0m eta \u001b[36m0:00:01\u001b[0m\n",
            "\u001b[?25h\u001b[31mERROR: Exception:\n",
            "Traceback (most recent call last):\n",
            "  File \"/usr/local/lib/python3.8/dist-packages/pip/_vendor/urllib3/response.py\", line 438, in _error_catcher\n",
            "    yield\n",
            "  File \"/usr/local/lib/python3.8/dist-packages/pip/_vendor/urllib3/response.py\", line 519, in read\n",
            "    data = self._fp.read(amt) if not fp_closed else b\"\"\n",
            "  File \"/usr/local/lib/python3.8/dist-packages/pip/_vendor/cachecontrol/filewrapper.py\", line 90, in read\n",
            "    data = self.__fp.read(amt)\n",
            "  File \"/usr/lib/python3.8/http/client.py\", line 459, in read\n",
            "    n = self.readinto(b)\n",
            "  File \"/usr/lib/python3.8/http/client.py\", line 503, in readinto\n",
            "    n = self.fp.readinto(b)\n",
            "  File \"/usr/lib/python3.8/socket.py\", line 669, in readinto\n",
            "    return self._sock.recv_into(b)\n",
            "  File \"/usr/lib/python3.8/ssl.py\", line 1241, in recv_into\n",
            "    return self.read(nbytes, buffer)\n",
            "  File \"/usr/lib/python3.8/ssl.py\", line 1099, in read\n",
            "    return self._sslobj.read(len, buffer)\n",
            "socket.timeout: The read operation timed out\n",
            "\n",
            "During handling of the above exception, another exception occurred:\n",
            "\n",
            "Traceback (most recent call last):\n",
            "  File \"/usr/local/lib/python3.8/dist-packages/pip/_internal/cli/base_command.py\", line 167, in exc_logging_wrapper\n",
            "    status = run_func(*args)\n",
            "  File \"/usr/local/lib/python3.8/dist-packages/pip/_internal/cli/req_command.py\", line 199, in wrapper\n",
            "    return func(self, options, args)\n",
            "  File \"/usr/local/lib/python3.8/dist-packages/pip/_internal/commands/install.py\", line 339, in run\n",
            "    requirement_set = resolver.resolve(\n",
            "  File \"/usr/local/lib/python3.8/dist-packages/pip/_internal/resolution/resolvelib/resolver.py\", line 94, in resolve\n",
            "    result = self._result = resolver.resolve(\n",
            "  File \"/usr/local/lib/python3.8/dist-packages/pip/_vendor/resolvelib/resolvers.py\", line 481, in resolve\n",
            "    state = resolution.resolve(requirements, max_rounds=max_rounds)\n",
            "  File \"/usr/local/lib/python3.8/dist-packages/pip/_vendor/resolvelib/resolvers.py\", line 373, in resolve\n",
            "    failure_causes = self._attempt_to_pin_criterion(name)\n",
            "  File \"/usr/local/lib/python3.8/dist-packages/pip/_vendor/resolvelib/resolvers.py\", line 213, in _attempt_to_pin_criterion\n",
            "    criteria = self._get_updated_criteria(candidate)\n",
            "  File \"/usr/local/lib/python3.8/dist-packages/pip/_vendor/resolvelib/resolvers.py\", line 204, in _get_updated_criteria\n",
            "    self._add_to_criteria(criteria, requirement, parent=candidate)\n",
            "  File \"/usr/local/lib/python3.8/dist-packages/pip/_vendor/resolvelib/resolvers.py\", line 172, in _add_to_criteria\n",
            "    if not criterion.candidates:\n",
            "  File \"/usr/local/lib/python3.8/dist-packages/pip/_vendor/resolvelib/structs.py\", line 151, in __bool__\n",
            "    return bool(self._sequence)\n",
            "  File \"/usr/local/lib/python3.8/dist-packages/pip/_internal/resolution/resolvelib/found_candidates.py\", line 155, in __bool__\n",
            "    return any(self)\n",
            "  File \"/usr/local/lib/python3.8/dist-packages/pip/_internal/resolution/resolvelib/found_candidates.py\", line 143, in <genexpr>\n",
            "    return (c for c in iterator if id(c) not in self._incompatible_ids)\n",
            "  File \"/usr/local/lib/python3.8/dist-packages/pip/_internal/resolution/resolvelib/found_candidates.py\", line 47, in _iter_built\n",
            "    candidate = func()\n",
            "  File \"/usr/local/lib/python3.8/dist-packages/pip/_internal/resolution/resolvelib/factory.py\", line 215, in _make_candidate_from_link\n",
            "    self._link_candidate_cache[link] = LinkCandidate(\n",
            "  File \"/usr/local/lib/python3.8/dist-packages/pip/_internal/resolution/resolvelib/candidates.py\", line 288, in __init__\n",
            "    super().__init__(\n",
            "  File \"/usr/local/lib/python3.8/dist-packages/pip/_internal/resolution/resolvelib/candidates.py\", line 158, in __init__\n",
            "    self.dist = self._prepare()\n",
            "  File \"/usr/local/lib/python3.8/dist-packages/pip/_internal/resolution/resolvelib/candidates.py\", line 227, in _prepare\n",
            "    dist = self._prepare_distribution()\n",
            "  File \"/usr/local/lib/python3.8/dist-packages/pip/_internal/resolution/resolvelib/candidates.py\", line 299, in _prepare_distribution\n",
            "    return preparer.prepare_linked_requirement(self._ireq, parallel_builds=True)\n",
            "  File \"/usr/local/lib/python3.8/dist-packages/pip/_internal/operations/prepare.py\", line 487, in prepare_linked_requirement\n",
            "    return self._prepare_linked_requirement(req, parallel_builds)\n",
            "  File \"/usr/local/lib/python3.8/dist-packages/pip/_internal/operations/prepare.py\", line 532, in _prepare_linked_requirement\n",
            "    local_file = unpack_url(\n",
            "  File \"/usr/local/lib/python3.8/dist-packages/pip/_internal/operations/prepare.py\", line 214, in unpack_url\n",
            "    file = get_http_url(\n",
            "  File \"/usr/local/lib/python3.8/dist-packages/pip/_internal/operations/prepare.py\", line 94, in get_http_url\n",
            "    from_path, content_type = download(link, temp_dir.path)\n",
            "  File \"/usr/local/lib/python3.8/dist-packages/pip/_internal/network/download.py\", line 146, in __call__\n",
            "    for chunk in chunks:\n",
            "  File \"/usr/local/lib/python3.8/dist-packages/pip/_internal/cli/progress_bars.py\", line 304, in _rich_progress_bar\n",
            "    for chunk in iterable:\n",
            "  File \"/usr/local/lib/python3.8/dist-packages/pip/_internal/network/utils.py\", line 63, in response_chunks\n",
            "    for chunk in response.raw.stream(\n",
            "  File \"/usr/local/lib/python3.8/dist-packages/pip/_vendor/urllib3/response.py\", line 576, in stream\n",
            "    data = self.read(amt=amt, decode_content=decode_content)\n",
            "  File \"/usr/local/lib/python3.8/dist-packages/pip/_vendor/urllib3/response.py\", line 541, in read\n",
            "    raise IncompleteRead(self._fp_bytes_read, self.length_remaining)\n",
            "  File \"/usr/lib/python3.8/contextlib.py\", line 131, in __exit__\n",
            "    self.gen.throw(type, value, traceback)\n",
            "  File \"/usr/local/lib/python3.8/dist-packages/pip/_vendor/urllib3/response.py\", line 443, in _error_catcher\n",
            "    raise ReadTimeoutError(self._pool, None, \"Read timed out.\")\n",
            "pip._vendor.urllib3.exceptions.ReadTimeoutError: HTTPSConnectionPool(host='files.pythonhosted.org', port=443): Read timed out.\u001b[0m\u001b[31m\n",
            "\u001b[0m"
          ]
        }
      ],
      "source": [
        "if 'google.colab' in str(get_ipython()):\n",
        "  # install packages needed for this task\n",
        "  !pip install tensorflow==2.3.1\n",
        "  !pip install tensorflow_quantum==0.4.0\n",
        "  !pip install quple==0.7.8"
      ]
    },
    {
      "cell_type": "code",
      "source": [
        "!pip install quple"
      ],
      "metadata": {
        "colab": {
          "base_uri": "https://localhost:8080/"
        },
        "id": "eiZZYuhujvPB",
        "outputId": "c040f235-0553-436e-bc7a-b86a9a5cce54"
      },
      "execution_count": 23,
      "outputs": [
        {
          "output_type": "stream",
          "name": "stdout",
          "text": [
            "Looking in indexes: https://pypi.org/simple, https://us-python.pkg.dev/colab-wheels/public/simple/\n",
            "Requirement already satisfied: quple in /usr/local/lib/python3.8/dist-packages (0.7.0)\n",
            "Requirement already satisfied: tensorflow in /usr/local/lib/python3.8/dist-packages (from quple) (2.11.0)\n",
            "Requirement already satisfied: tensorflow-quantum in /usr/local/lib/python3.8/dist-packages (from quple) (0.4.0)\n",
            "Requirement already satisfied: cirq in /usr/local/lib/python3.8/dist-packages (from quple) (0.9.1)\n",
            "Requirement already satisfied: numpy in /usr/local/lib/python3.8/dist-packages (from quple) (1.22.4)\n",
            "Requirement already satisfied: matplotlib~=3.0 in /usr/local/lib/python3.8/dist-packages (from cirq->quple) (3.5.3)\n",
            "Requirement already satisfied: pandas in /usr/local/lib/python3.8/dist-packages (from cirq->quple) (1.3.5)\n",
            "Requirement already satisfied: requests~=2.18 in /usr/local/lib/python3.8/dist-packages (from cirq->quple) (2.25.1)\n",
            "Requirement already satisfied: scipy in /usr/local/lib/python3.8/dist-packages (from cirq->quple) (1.10.1)\n",
            "Requirement already satisfied: sympy in /usr/local/lib/python3.8/dist-packages (from cirq->quple) (1.5)\n",
            "Requirement already satisfied: sortedcontainers~=2.0 in /usr/local/lib/python3.8/dist-packages (from cirq->quple) (2.4.0)\n",
            "Requirement already satisfied: protobuf~=3.12.0 in /usr/local/lib/python3.8/dist-packages (from cirq->quple) (3.12.4)\n",
            "Requirement already satisfied: freezegun~=0.3.15 in /usr/local/lib/python3.8/dist-packages (from cirq->quple) (0.3.15)\n",
            "Requirement already satisfied: google-api-core[grpc]<2.0.0dev,>=1.14.0 in /usr/local/lib/python3.8/dist-packages (from cirq->quple) (1.32.0)\n",
            "Requirement already satisfied: networkx~=2.4 in /usr/local/lib/python3.8/dist-packages (from cirq->quple) (2.8.8)\n",
            "Requirement already satisfied: typing-extensions in /usr/local/lib/python3.8/dist-packages (from cirq->quple) (4.5.0)\n",
            "Requirement already satisfied: tensorflow-estimator<2.12,>=2.11.0 in /usr/local/lib/python3.8/dist-packages (from tensorflow->quple) (2.11.0)\n",
            "Requirement already satisfied: termcolor>=1.1.0 in /usr/local/lib/python3.8/dist-packages (from tensorflow->quple) (2.2.0)\n",
            "Requirement already satisfied: libclang>=13.0.0 in /usr/local/lib/python3.8/dist-packages (from tensorflow->quple) (15.0.6.1)\n",
            "Requirement already satisfied: h5py>=2.9.0 in /usr/local/lib/python3.8/dist-packages (from tensorflow->quple) (3.1.0)\n",
            "Requirement already satisfied: six>=1.12.0 in /usr/local/lib/python3.8/dist-packages (from tensorflow->quple) (1.15.0)\n",
            "Requirement already satisfied: absl-py>=1.0.0 in /usr/local/lib/python3.8/dist-packages (from tensorflow->quple) (1.4.0)\n",
            "Requirement already satisfied: tensorboard<2.12,>=2.11 in /usr/local/lib/python3.8/dist-packages (from tensorflow->quple) (2.11.2)\n",
            "Requirement already satisfied: wrapt>=1.11.0 in /usr/local/lib/python3.8/dist-packages (from tensorflow->quple) (1.15.0)\n",
            "Requirement already satisfied: google-pasta>=0.1.1 in /usr/local/lib/python3.8/dist-packages (from tensorflow->quple) (0.2.0)\n",
            "Requirement already satisfied: flatbuffers>=2.0 in /usr/local/lib/python3.8/dist-packages (from tensorflow->quple) (23.1.21)\n",
            "Requirement already satisfied: packaging in /usr/local/lib/python3.8/dist-packages (from tensorflow->quple) (23.0)\n",
            "Requirement already satisfied: grpcio<2.0,>=1.24.3 in /usr/local/lib/python3.8/dist-packages (from tensorflow->quple) (1.51.3)\n",
            "Requirement already satisfied: opt-einsum>=2.3.2 in /usr/local/lib/python3.8/dist-packages (from tensorflow->quple) (3.3.0)\n",
            "Requirement already satisfied: gast<=0.4.0,>=0.2.1 in /usr/local/lib/python3.8/dist-packages (from tensorflow->quple) (0.4.0)\n",
            "Requirement already satisfied: tensorflow-io-gcs-filesystem>=0.23.1 in /usr/local/lib/python3.8/dist-packages (from tensorflow->quple) (0.31.0)\n",
            "Requirement already satisfied: keras<2.12,>=2.11.0 in /usr/local/lib/python3.8/dist-packages (from tensorflow->quple) (2.11.0)\n",
            "Requirement already satisfied: astunparse>=1.6.0 in /usr/local/lib/python3.8/dist-packages (from tensorflow->quple) (1.6.3)\n",
            "Requirement already satisfied: setuptools in /usr/local/lib/python3.8/dist-packages (from tensorflow->quple) (57.4.0)\n",
            "Requirement already satisfied: mpmath>=0.19 in /usr/local/lib/python3.8/dist-packages (from sympy->cirq->quple) (1.2.1)\n",
            "Requirement already satisfied: wheel<1.0,>=0.23.0 in /usr/local/lib/python3.8/dist-packages (from astunparse>=1.6.0->tensorflow->quple) (0.38.4)\n",
            "Requirement already satisfied: python-dateutil!=2.0,>=1.0 in /usr/local/lib/python3.8/dist-packages (from freezegun~=0.3.15->cirq->quple) (2.8.2)\n",
            "Requirement already satisfied: pytz in /usr/local/lib/python3.8/dist-packages (from google-api-core[grpc]<2.0.0dev,>=1.14.0->cirq->quple) (2022.7.1)\n",
            "Requirement already satisfied: googleapis-common-protos<2.0dev,>=1.6.0 in /usr/local/lib/python3.8/dist-packages (from google-api-core[grpc]<2.0.0dev,>=1.14.0->cirq->quple) (1.56.0)\n",
            "Requirement already satisfied: google-auth<2.0dev,>=1.25.0 in /usr/local/lib/python3.8/dist-packages (from google-api-core[grpc]<2.0.0dev,>=1.14.0->cirq->quple) (1.35.0)\n",
            "Requirement already satisfied: pyparsing>=2.2.1 in /usr/local/lib/python3.8/dist-packages (from matplotlib~=3.0->cirq->quple) (3.0.9)\n",
            "Requirement already satisfied: kiwisolver>=1.0.1 in /usr/local/lib/python3.8/dist-packages (from matplotlib~=3.0->cirq->quple) (1.4.4)\n",
            "Requirement already satisfied: pillow>=6.2.0 in /usr/local/lib/python3.8/dist-packages (from matplotlib~=3.0->cirq->quple) (8.4.0)\n",
            "Requirement already satisfied: fonttools>=4.22.0 in /usr/local/lib/python3.8/dist-packages (from matplotlib~=3.0->cirq->quple) (4.38.0)\n",
            "Requirement already satisfied: cycler>=0.10 in /usr/local/lib/python3.8/dist-packages (from matplotlib~=3.0->cirq->quple) (0.11.0)\n",
            "Requirement already satisfied: idna<3,>=2.5 in /usr/local/lib/python3.8/dist-packages (from requests~=2.18->cirq->quple) (2.10)\n",
            "Requirement already satisfied: urllib3<1.27,>=1.21.1 in /usr/local/lib/python3.8/dist-packages (from requests~=2.18->cirq->quple) (1.26.14)\n",
            "Requirement already satisfied: chardet<5,>=3.0.2 in /usr/local/lib/python3.8/dist-packages (from requests~=2.18->cirq->quple) (4.0.0)\n",
            "Requirement already satisfied: certifi>=2017.4.17 in /usr/local/lib/python3.8/dist-packages (from requests~=2.18->cirq->quple) (2022.12.7)\n",
            "Requirement already satisfied: tensorboard-plugin-wit>=1.6.0 in /usr/local/lib/python3.8/dist-packages (from tensorboard<2.12,>=2.11->tensorflow->quple) (1.8.1)\n",
            "Requirement already satisfied: google-auth-oauthlib<0.5,>=0.4.1 in /usr/local/lib/python3.8/dist-packages (from tensorboard<2.12,>=2.11->tensorflow->quple) (0.4.6)\n",
            "Requirement already satisfied: tensorboard-data-server<0.7.0,>=0.6.0 in /usr/local/lib/python3.8/dist-packages (from tensorboard<2.12,>=2.11->tensorflow->quple) (0.6.1)\n",
            "Requirement already satisfied: werkzeug>=1.0.1 in /usr/local/lib/python3.8/dist-packages (from tensorboard<2.12,>=2.11->tensorflow->quple) (2.2.3)\n",
            "Requirement already satisfied: markdown>=2.6.8 in /usr/local/lib/python3.8/dist-packages (from tensorboard<2.12,>=2.11->tensorflow->quple) (3.4.1)\n",
            "Requirement already satisfied: cachetools<5.0,>=2.0.0 in /usr/local/lib/python3.8/dist-packages (from google-auth<2.0dev,>=1.25.0->google-api-core[grpc]<2.0.0dev,>=1.14.0->cirq->quple) (4.2.4)\n",
            "Requirement already satisfied: rsa<5,>=3.1.4 in /usr/local/lib/python3.8/dist-packages (from google-auth<2.0dev,>=1.25.0->google-api-core[grpc]<2.0.0dev,>=1.14.0->cirq->quple) (4.9)\n",
            "Requirement already satisfied: pyasn1-modules>=0.2.1 in /usr/local/lib/python3.8/dist-packages (from google-auth<2.0dev,>=1.25.0->google-api-core[grpc]<2.0.0dev,>=1.14.0->cirq->quple) (0.2.8)\n",
            "Requirement already satisfied: requests-oauthlib>=0.7.0 in /usr/local/lib/python3.8/dist-packages (from google-auth-oauthlib<0.5,>=0.4.1->tensorboard<2.12,>=2.11->tensorflow->quple) (1.3.1)\n",
            "Requirement already satisfied: importlib-metadata>=4.4 in /usr/local/lib/python3.8/dist-packages (from markdown>=2.6.8->tensorboard<2.12,>=2.11->tensorflow->quple) (6.0.0)\n",
            "Requirement already satisfied: MarkupSafe>=2.1.1 in /usr/local/lib/python3.8/dist-packages (from werkzeug>=1.0.1->tensorboard<2.12,>=2.11->tensorflow->quple) (2.1.2)\n",
            "Requirement already satisfied: zipp>=0.5 in /usr/local/lib/python3.8/dist-packages (from importlib-metadata>=4.4->markdown>=2.6.8->tensorboard<2.12,>=2.11->tensorflow->quple) (3.15.0)\n",
            "Requirement already satisfied: pyasn1<0.5.0,>=0.4.6 in /usr/local/lib/python3.8/dist-packages (from pyasn1-modules>=0.2.1->google-auth<2.0dev,>=1.25.0->google-api-core[grpc]<2.0.0dev,>=1.14.0->cirq->quple) (0.4.8)\n",
            "Requirement already satisfied: oauthlib>=3.0.0 in /usr/local/lib/python3.8/dist-packages (from requests-oauthlib>=0.7.0->google-auth-oauthlib<0.5,>=0.4.1->tensorboard<2.12,>=2.11->tensorflow->quple) (3.2.2)\n"
          ]
        }
      ]
    },
    {
      "cell_type": "code",
      "source": [
        "!pip install tensorflow-quantum==0.6.0"
      ],
      "metadata": {
        "colab": {
          "base_uri": "https://localhost:8080/"
        },
        "id": "P5rEvtBdfmrC",
        "outputId": "48637039-c4d8-44c5-f228-b21f4c15d1c6"
      },
      "execution_count": 5,
      "outputs": [
        {
          "output_type": "stream",
          "name": "stdout",
          "text": [
            "Looking in indexes: https://pypi.org/simple, https://us-python.pkg.dev/colab-wheels/public/simple/\n",
            "Collecting tensorflow-quantum==0.6.0\n",
            "\u001b[33m  WARNING: Retrying (Retry(total=4, connect=None, read=None, redirect=None, status=None)) after connection broken by 'ReadTimeoutError(\"HTTPSConnectionPool(host='files.pythonhosted.org', port=443): Read timed out. (read timeout=15)\")': /packages/92/1a/994f5d24008f591297c3ef0abaf55d86386db6f4b508943ac924dcbecf97/tensorflow_quantum-0.6.0-cp38-cp38-manylinux_2_12_x86_64.manylinux2010_x86_64.whl\u001b[0m\u001b[33m\n",
            "\u001b[0m  Downloading tensorflow_quantum-0.6.0-cp38-cp38-manylinux_2_12_x86_64.manylinux2010_x86_64.whl (10.5 MB)\n",
            "\u001b[2K     \u001b[91m━━━\u001b[0m\u001b[91m╸\u001b[0m\u001b[90m━━━━━━━━━━━━━━━━━━━━━━━━━━━━━━━━━━━━\u001b[0m \u001b[32m1.0/10.5 MB\u001b[0m \u001b[31m18.1 MB/s\u001b[0m eta \u001b[36m0:00:01\u001b[0m\n",
            "\u001b[?25h\u001b[31mERROR: Exception:\n",
            "Traceback (most recent call last):\n",
            "  File \"/usr/local/lib/python3.8/dist-packages/pip/_vendor/urllib3/response.py\", line 438, in _error_catcher\n",
            "    yield\n",
            "  File \"/usr/local/lib/python3.8/dist-packages/pip/_vendor/urllib3/response.py\", line 519, in read\n",
            "    data = self._fp.read(amt) if not fp_closed else b\"\"\n",
            "  File \"/usr/local/lib/python3.8/dist-packages/pip/_vendor/cachecontrol/filewrapper.py\", line 90, in read\n",
            "    data = self.__fp.read(amt)\n",
            "  File \"/usr/lib/python3.8/http/client.py\", line 459, in read\n",
            "    n = self.readinto(b)\n",
            "  File \"/usr/lib/python3.8/http/client.py\", line 503, in readinto\n",
            "    n = self.fp.readinto(b)\n",
            "  File \"/usr/lib/python3.8/socket.py\", line 669, in readinto\n",
            "    return self._sock.recv_into(b)\n",
            "  File \"/usr/lib/python3.8/ssl.py\", line 1241, in recv_into\n",
            "    return self.read(nbytes, buffer)\n",
            "  File \"/usr/lib/python3.8/ssl.py\", line 1099, in read\n",
            "    return self._sslobj.read(len, buffer)\n",
            "socket.timeout: The read operation timed out\n",
            "\n",
            "During handling of the above exception, another exception occurred:\n",
            "\n",
            "Traceback (most recent call last):\n",
            "  File \"/usr/local/lib/python3.8/dist-packages/pip/_internal/cli/base_command.py\", line 167, in exc_logging_wrapper\n",
            "    status = run_func(*args)\n",
            "  File \"/usr/local/lib/python3.8/dist-packages/pip/_internal/cli/req_command.py\", line 199, in wrapper\n",
            "    return func(self, options, args)\n",
            "  File \"/usr/local/lib/python3.8/dist-packages/pip/_internal/commands/install.py\", line 339, in run\n",
            "    requirement_set = resolver.resolve(\n",
            "  File \"/usr/local/lib/python3.8/dist-packages/pip/_internal/resolution/resolvelib/resolver.py\", line 94, in resolve\n",
            "    result = self._result = resolver.resolve(\n",
            "  File \"/usr/local/lib/python3.8/dist-packages/pip/_vendor/resolvelib/resolvers.py\", line 481, in resolve\n",
            "    state = resolution.resolve(requirements, max_rounds=max_rounds)\n",
            "  File \"/usr/local/lib/python3.8/dist-packages/pip/_vendor/resolvelib/resolvers.py\", line 348, in resolve\n",
            "    self._add_to_criteria(self.state.criteria, r, parent=None)\n",
            "  File \"/usr/local/lib/python3.8/dist-packages/pip/_vendor/resolvelib/resolvers.py\", line 172, in _add_to_criteria\n",
            "    if not criterion.candidates:\n",
            "  File \"/usr/local/lib/python3.8/dist-packages/pip/_vendor/resolvelib/structs.py\", line 151, in __bool__\n",
            "    return bool(self._sequence)\n",
            "  File \"/usr/local/lib/python3.8/dist-packages/pip/_internal/resolution/resolvelib/found_candidates.py\", line 155, in __bool__\n",
            "    return any(self)\n",
            "  File \"/usr/local/lib/python3.8/dist-packages/pip/_internal/resolution/resolvelib/found_candidates.py\", line 143, in <genexpr>\n",
            "    return (c for c in iterator if id(c) not in self._incompatible_ids)\n",
            "  File \"/usr/local/lib/python3.8/dist-packages/pip/_internal/resolution/resolvelib/found_candidates.py\", line 47, in _iter_built\n",
            "    candidate = func()\n",
            "  File \"/usr/local/lib/python3.8/dist-packages/pip/_internal/resolution/resolvelib/factory.py\", line 215, in _make_candidate_from_link\n",
            "    self._link_candidate_cache[link] = LinkCandidate(\n",
            "  File \"/usr/local/lib/python3.8/dist-packages/pip/_internal/resolution/resolvelib/candidates.py\", line 288, in __init__\n",
            "    super().__init__(\n",
            "  File \"/usr/local/lib/python3.8/dist-packages/pip/_internal/resolution/resolvelib/candidates.py\", line 158, in __init__\n",
            "    self.dist = self._prepare()\n",
            "  File \"/usr/local/lib/python3.8/dist-packages/pip/_internal/resolution/resolvelib/candidates.py\", line 227, in _prepare\n",
            "    dist = self._prepare_distribution()\n",
            "  File \"/usr/local/lib/python3.8/dist-packages/pip/_internal/resolution/resolvelib/candidates.py\", line 299, in _prepare_distribution\n",
            "    return preparer.prepare_linked_requirement(self._ireq, parallel_builds=True)\n",
            "  File \"/usr/local/lib/python3.8/dist-packages/pip/_internal/operations/prepare.py\", line 487, in prepare_linked_requirement\n",
            "    return self._prepare_linked_requirement(req, parallel_builds)\n",
            "  File \"/usr/local/lib/python3.8/dist-packages/pip/_internal/operations/prepare.py\", line 532, in _prepare_linked_requirement\n",
            "    local_file = unpack_url(\n",
            "  File \"/usr/local/lib/python3.8/dist-packages/pip/_internal/operations/prepare.py\", line 214, in unpack_url\n",
            "    file = get_http_url(\n",
            "  File \"/usr/local/lib/python3.8/dist-packages/pip/_internal/operations/prepare.py\", line 94, in get_http_url\n",
            "    from_path, content_type = download(link, temp_dir.path)\n",
            "  File \"/usr/local/lib/python3.8/dist-packages/pip/_internal/network/download.py\", line 146, in __call__\n",
            "    for chunk in chunks:\n",
            "  File \"/usr/local/lib/python3.8/dist-packages/pip/_internal/cli/progress_bars.py\", line 304, in _rich_progress_bar\n",
            "    for chunk in iterable:\n",
            "  File \"/usr/local/lib/python3.8/dist-packages/pip/_internal/network/utils.py\", line 63, in response_chunks\n",
            "    for chunk in response.raw.stream(\n",
            "  File \"/usr/local/lib/python3.8/dist-packages/pip/_vendor/urllib3/response.py\", line 576, in stream\n",
            "    data = self.read(amt=amt, decode_content=decode_content)\n",
            "  File \"/usr/local/lib/python3.8/dist-packages/pip/_vendor/urllib3/response.py\", line 541, in read\n",
            "    raise IncompleteRead(self._fp_bytes_read, self.length_remaining)\n",
            "  File \"/usr/lib/python3.8/contextlib.py\", line 131, in __exit__\n",
            "    self.gen.throw(type, value, traceback)\n",
            "  File \"/usr/local/lib/python3.8/dist-packages/pip/_vendor/urllib3/response.py\", line 443, in _error_catcher\n",
            "    raise ReadTimeoutError(self._pool, None, \"Read timed out.\")\n",
            "pip._vendor.urllib3.exceptions.ReadTimeoutError: HTTPSConnectionPool(host='files.pythonhosted.org', port=443): Read timed out.\u001b[0m\u001b[31m\n",
            "\u001b[0m"
          ]
        }
      ]
    },
    {
      "cell_type": "code",
      "source": [
        "import os\n",
        "import glob\n",
        "import operator\n",
        "import numpy as np\n",
        "import pandas\n",
        "import h5py\n",
        "import tensorflow as tf\n",
        "#import tensorflow_quantum as tfq"
      ],
      "metadata": {
        "id": "ZkFQnDnDfC2n"
      },
      "execution_count": 48,
      "outputs": []
    },
    {
      "cell_type": "code",
      "source": [
        "!pip install tensorflow-gpu==2.1.0\n",
        "!pip install cirq==0.7.0 pathos==0.2.5 tensorflow-quantum==0.4.0"
      ],
      "metadata": {
        "colab": {
          "base_uri": "https://localhost:8080/"
        },
        "id": "4EaRItavnh5Q",
        "outputId": "48a6df8b-69db-456d-d720-c1cb122bb918"
      },
      "execution_count": 46,
      "outputs": [
        {
          "output_type": "stream",
          "name": "stdout",
          "text": [
            "Looking in indexes: https://pypi.org/simple, https://us-python.pkg.dev/colab-wheels/public/simple/\n",
            "\u001b[31mERROR: Could not find a version that satisfies the requirement tensorflow-gpu==2.1.0 (from versions: 2.2.0, 2.2.1, 2.2.2, 2.2.3, 2.3.0, 2.3.1, 2.3.2, 2.3.3, 2.3.4, 2.4.0, 2.4.1, 2.4.2, 2.4.3, 2.4.4, 2.5.0, 2.5.1, 2.5.2, 2.5.3, 2.6.0, 2.6.1, 2.6.2, 2.6.3, 2.6.4, 2.6.5, 2.7.0rc0, 2.7.0rc1, 2.7.0, 2.7.1, 2.7.2, 2.7.3, 2.7.4, 2.8.0rc0, 2.8.0rc1, 2.8.0, 2.8.1, 2.8.2, 2.8.3, 2.8.4, 2.9.0rc0, 2.9.0rc1, 2.9.0rc2, 2.9.0, 2.9.1, 2.9.2, 2.9.3, 2.10.0rc0, 2.10.0rc1, 2.10.0rc2, 2.10.0rc3, 2.10.0, 2.10.1, 2.11.0rc0, 2.11.0rc1, 2.11.0rc2, 2.11.0, 2.12.0)\u001b[0m\u001b[31m\n",
            "\u001b[0m\u001b[31mERROR: No matching distribution found for tensorflow-gpu==2.1.0\u001b[0m\u001b[31m\n",
            "\u001b[0mLooking in indexes: https://pypi.org/simple, https://us-python.pkg.dev/colab-wheels/public/simple/\n",
            "Collecting cirq==0.7.0\n",
            "  Downloading cirq-0.7.0-py3-none-any.whl (1.2 MB)\n",
            "\u001b[2K     \u001b[90m━━━━━━━━━━━━━━━━━━━━━━━━━━━━━━━━━━━━━━━━\u001b[0m \u001b[32m1.2/1.2 MB\u001b[0m \u001b[31m14.9 MB/s\u001b[0m eta \u001b[36m0:00:00\u001b[0m\n",
            "\u001b[?25hCollecting pathos==0.2.5\n",
            "  Downloading pathos-0.2.5.tar.gz (162 kB)\n",
            "\u001b[2K     \u001b[90m━━━━━━━━━━━━━━━━━━━━━━━━━━━━━━━━━━━━━━\u001b[0m \u001b[32m162.7/162.7 KB\u001b[0m \u001b[31m18.9 MB/s\u001b[0m eta \u001b[36m0:00:00\u001b[0m\n",
            "\u001b[?25h  Preparing metadata (setup.py) ... \u001b[?25l\u001b[?25hdone\n",
            "Requirement already satisfied: tensorflow-quantum==0.4.0 in /usr/local/lib/python3.8/dist-packages (0.4.0)\n",
            "Requirement already satisfied: scipy in /usr/local/lib/python3.8/dist-packages (from cirq==0.7.0) (1.10.1)\n",
            "Requirement already satisfied: requests~=2.18 in /usr/local/lib/python3.8/dist-packages (from cirq==0.7.0) (2.25.1)\n",
            "Requirement already satisfied: matplotlib~=3.0 in /usr/local/lib/python3.8/dist-packages (from cirq==0.7.0) (3.5.3)\n",
            "Collecting networkx==2.3\n",
            "  Downloading networkx-2.3.zip (1.7 MB)\n",
            "\u001b[2K     \u001b[90m━━━━━━━━━━━━━━━━━━━━━━━━━━━━━━━━━━━━━━━━\u001b[0m \u001b[32m1.7/1.7 MB\u001b[0m \u001b[31m58.5 MB/s\u001b[0m eta \u001b[36m0:00:00\u001b[0m\n",
            "\u001b[?25h  Preparing metadata (setup.py) ... \u001b[?25l\u001b[?25hdone\n",
            "Collecting google-api-python-client~=1.6\n",
            "  Downloading google_api_python_client-1.12.11-py2.py3-none-any.whl (62 kB)\n",
            "\u001b[2K     \u001b[90m━━━━━━━━━━━━━━━━━━━━━━━━━━━━━━━━━━━━━━━━\u001b[0m \u001b[32m62.1/62.1 KB\u001b[0m \u001b[31m8.3 MB/s\u001b[0m eta \u001b[36m0:00:00\u001b[0m\n",
            "\u001b[?25hCollecting protobuf==3.8.0\n",
            "  Downloading protobuf-3.8.0-py2.py3-none-any.whl (427 kB)\n",
            "\u001b[2K     \u001b[90m━━━━━━━━━━━━━━━━━━━━━━━━━━━━━━━━━━━━━━\u001b[0m \u001b[32m427.9/427.9 KB\u001b[0m \u001b[31m45.3 MB/s\u001b[0m eta \u001b[36m0:00:00\u001b[0m\n",
            "\u001b[?25hCollecting sympy==1.4\n",
            "  Downloading sympy-1.4-py2.py3-none-any.whl (5.3 MB)\n",
            "\u001b[2K     \u001b[90m━━━━━━━━━━━━━━━━━━━━━━━━━━━━━━━━━━━━━━━━\u001b[0m \u001b[32m5.3/5.3 MB\u001b[0m \u001b[31m53.0 MB/s\u001b[0m eta \u001b[36m0:00:00\u001b[0m\n",
            "\u001b[?25hRequirement already satisfied: numpy~=1.16 in /usr/local/lib/python3.8/dist-packages (from cirq==0.7.0) (1.22.4)\n",
            "Requirement already satisfied: typing-extensions in /usr/local/lib/python3.8/dist-packages (from cirq==0.7.0) (4.5.0)\n",
            "Requirement already satisfied: pandas in /usr/local/lib/python3.8/dist-packages (from cirq==0.7.0) (1.3.5)\n",
            "Requirement already satisfied: sortedcontainers~=2.0 in /usr/local/lib/python3.8/dist-packages (from cirq==0.7.0) (2.4.0)\n",
            "Collecting ppft>=1.6.6.1\n",
            "  Downloading ppft-1.7.6.6-py3-none-any.whl (52 kB)\n",
            "\u001b[2K     \u001b[90m━━━━━━━━━━━━━━━━━━━━━━━━━━━━━━━━━━━━━━━━\u001b[0m \u001b[32m52.8/52.8 KB\u001b[0m \u001b[31m6.5 MB/s\u001b[0m eta \u001b[36m0:00:00\u001b[0m\n",
            "\u001b[?25hCollecting dill>=0.3.1\n",
            "  Downloading dill-0.3.6-py3-none-any.whl (110 kB)\n",
            "\u001b[2K     \u001b[90m━━━━━━━━━━━━━━━━━━━━━━━━━━━━━━━━━━━━━━\u001b[0m \u001b[32m110.5/110.5 KB\u001b[0m \u001b[31m15.2 MB/s\u001b[0m eta \u001b[36m0:00:00\u001b[0m\n",
            "\u001b[?25hCollecting pox>=0.2.7\n",
            "  Downloading pox-0.3.2-py3-none-any.whl (29 kB)\n",
            "Collecting multiprocess>=0.70.9\n",
            "  Downloading multiprocess-0.70.14-py38-none-any.whl (132 kB)\n",
            "\u001b[2K     \u001b[90m━━━━━━━━━━━━━━━━━━━━━━━━━━━━━━━━━━━━━━\u001b[0m \u001b[32m132.0/132.0 KB\u001b[0m \u001b[31m15.2 MB/s\u001b[0m eta \u001b[36m0:00:00\u001b[0m\n",
            "\u001b[?25hINFO: pip is looking at multiple versions of pathos to determine which version is compatible with other requirements. This could take a while.\n",
            "INFO: pip is looking at multiple versions of <Python from Requires-Python> to determine which version is compatible with other requirements. This could take a while.\n",
            "INFO: pip is looking at multiple versions of cirq to determine which version is compatible with other requirements. This could take a while.\n",
            "\u001b[31mERROR: Cannot install cirq==0.7.0 and tensorflow-quantum==0.4.0 because these package versions have conflicting dependencies.\u001b[0m\u001b[31m\n",
            "\u001b[0m\n",
            "The conflict is caused by:\n",
            "    The user requested cirq==0.7.0\n",
            "    tensorflow-quantum 0.4.0 depends on cirq==0.9.1\n",
            "\n",
            "To fix this you could try to:\n",
            "1. loosen the range of package versions you've specified\n",
            "2. remove package versions to allow pip attempt to solve the dependency conflict\n",
            "\n",
            "\u001b[31mERROR: ResolutionImpossible: for help visit https://pip.pypa.io/en/latest/topics/dependency-resolution/#dealing-with-dependency-conflicts\u001b[0m\u001b[31m\n",
            "\u001b[0m"
          ]
        }
      ]
    },
    {
      "cell_type": "code",
      "source": [
        "#!/bin/bash\n",
        "!wget https://cernbox.cern.ch/index.php/s/sHjzCNFTFxutYCj/download -O data/SingleElectronPt50_IMGCROPS_n249k_RHv1.hdf5\n",
        "!wget https://cernbox.cern.ch/index.php/s/69nGEZjOy3xGxBq/download -O data/SinglePhotonPt50_IMGCROPS_n249k_RHv1.hdf5"
      ],
      "metadata": {
        "colab": {
          "base_uri": "https://localhost:8080/"
        },
        "id": "HJgYrRqtfLMr",
        "outputId": "9cd66c43-309a-4e9f-a569-485ebf6a33ba"
      },
      "execution_count": 6,
      "outputs": [
        {
          "output_type": "stream",
          "name": "stdout",
          "text": [
            "--2023-03-08 13:54:57--  https://cernbox.cern.ch/index.php/s/sHjzCNFTFxutYCj/download\n",
            "Resolving cernbox.cern.ch (cernbox.cern.ch)... 128.142.53.35, 128.142.53.28, 137.138.120.151, ...\n",
            "Connecting to cernbox.cern.ch (cernbox.cern.ch)|128.142.53.35|:443... connected.\n",
            "HTTP request sent, awaiting response... 301 Moved Permanently\n",
            "Location: https://cernbox.cern.ch/s/sHjzCNFTFxutYCj/download [following]\n",
            "--2023-03-08 13:54:59--  https://cernbox.cern.ch/s/sHjzCNFTFxutYCj/download\n",
            "Reusing existing connection to cernbox.cern.ch:443.\n",
            "HTTP request sent, awaiting response... 200 OK\n",
            "Length: unspecified [application/octet-stream]\n",
            "Saving to: ‘data/SingleElectronPt50_IMGCROPS_n249k_RHv1.hdf5’\n",
            "\n",
            "data/SingleElectron     [         <=>        ]  82.98M  9.79MB/s    in 9.8s    \n",
            "\n",
            "2023-03-08 13:55:11 (8.48 MB/s) - ‘data/SingleElectronPt50_IMGCROPS_n249k_RHv1.hdf5’ saved [87010508]\n",
            "\n",
            "--2023-03-08 13:55:11--  https://cernbox.cern.ch/index.php/s/69nGEZjOy3xGxBq/download\n",
            "Resolving cernbox.cern.ch (cernbox.cern.ch)... 128.142.53.35, 128.142.53.28, 137.138.120.151, ...\n",
            "Connecting to cernbox.cern.ch (cernbox.cern.ch)|128.142.53.35|:443... connected.\n",
            "HTTP request sent, awaiting response... 301 Moved Permanently\n",
            "Location: https://cernbox.cern.ch/s/69nGEZjOy3xGxBq/download [following]\n",
            "--2023-03-08 13:55:12--  https://cernbox.cern.ch/s/69nGEZjOy3xGxBq/download\n",
            "Reusing existing connection to cernbox.cern.ch:443.\n",
            "HTTP request sent, awaiting response... 200 OK\n",
            "Length: unspecified [application/octet-stream]\n",
            "Saving to: ‘data/SinglePhotonPt50_IMGCROPS_n249k_RHv1.hdf5’\n",
            "\n",
            "data/SinglePhotonPt     [      <=>           ]  76.18M  10.1MB/s    in 9.2s    \n",
            "\n",
            "2023-03-08 13:55:23 (8.29 MB/s) - ‘data/SinglePhotonPt50_IMGCROPS_n249k_RHv1.hdf5’ saved [79876391]\n",
            "\n"
          ]
        }
      ]
    },
    {
      "cell_type": "code",
      "source": [
        "photon_path = \"/content/data/photon.hdf5\"\n",
        "electron_path = \"/content/data/electron.hdf5\""
      ],
      "metadata": {
        "id": "xUxHrM0ggN4_"
      },
      "execution_count": 14,
      "outputs": []
    },
    {
      "cell_type": "code",
      "source": [
        "# load photon data\n",
        "with h5py.File(photon_path, \"r\") as f:\n",
        "    px = np.asarray(f['X'][()], dtype=np.float32)[:,:,:,0]\n",
        "    py = np.asarray(f['y'][()], dtype=np.float32)\n",
        "\n",
        "# load electron data\n",
        "with h5py.File(electron_path, \"r\") as f:\n",
        "    ex = np.asarray(f['X'][()], dtype=np.float32)[:,:,:,0]\n",
        "    ey = np.asarray(f['y'][()], dtype=np.float32)"
      ],
      "metadata": {
        "id": "uIKIuX-jjftC"
      },
      "execution_count": 15,
      "outputs": []
    },
    {
      "cell_type": "code",
      "source": [
        "from build.lib.quple.utils.visualization import visualize_images\n",
        "particle_label_map = {\n",
        "    0: 'photon',\n",
        "    1: 'electron'\n",
        "}\n"
      ],
      "metadata": {
        "id": "bjOhjlWrji6u"
      },
      "execution_count": 33,
      "outputs": []
    },
    {
      "cell_type": "code",
      "source": [
        "!bash create.sh"
      ],
      "metadata": {
        "colab": {
          "base_uri": "https://localhost:8080/"
        },
        "id": "bidD6wH-lUgh",
        "outputId": "65cab28f-2d15-4b35-99af-b535d9a023dd"
      },
      "execution_count": 31,
      "outputs": [
        {
          "output_type": "stream",
          "name": "stdout",
          "text": [
            "rm: cannot remove 'dist': No such file or directory\n",
            "rm: cannot remove 'build': No such file or directory\n",
            "rm: cannot remove 'quple.egg-info': No such file or directory\n",
            "running sdist\n",
            "running egg_info\n",
            "creating quple.egg-info\n",
            "writing quple.egg-info/PKG-INFO\n",
            "writing dependency_links to quple.egg-info/dependency_links.txt\n",
            "writing requirements to quple.egg-info/requires.txt\n",
            "writing top-level names to quple.egg-info/top_level.txt\n",
            "writing manifest file 'quple.egg-info/SOURCES.txt'\n",
            "Generating grammar tables from /usr/lib/python3.8/lib2to3/Grammar.txt\n",
            "Generating grammar tables from /usr/lib/python3.8/lib2to3/PatternGrammar.txt\n",
            "reading manifest file 'quple.egg-info/SOURCES.txt'\n",
            "adding license file 'LICENSE'\n",
            "writing manifest file 'quple.egg-info/SOURCES.txt'\n",
            "running check\n",
            "creating quple-0.9.0\n",
            "creating quple-0.9.0/quple\n",
            "creating quple-0.9.0/quple.egg-info\n",
            "creating quple-0.9.0/quple/circuits\n",
            "creating quple-0.9.0/quple/circuits/templates\n",
            "creating quple-0.9.0/quple/circuits/variational_circuits\n",
            "creating quple-0.9.0/quple/classifiers\n",
            "creating quple-0.9.0/quple/components\n",
            "creating quple-0.9.0/quple/data_encoding\n",
            "creating quple-0.9.0/quple/interface\n",
            "creating quple-0.9.0/quple/interface/tfq\n",
            "creating quple-0.9.0/quple/interface/tfq/layers\n",
            "creating quple-0.9.0/quple/interface/tfq/metrics\n",
            "creating quple-0.9.0/quple/models\n",
            "creating quple-0.9.0/quple/models/classification\n",
            "creating quple-0.9.0/quple/models/generative\n",
            "creating quple-0.9.0/quple/qiskit_interface\n",
            "creating quple-0.9.0/quple/utils\n",
            "copying files to quple-0.9.0...\n",
            "copying LICENSE -> quple-0.9.0\n",
            "copying README.md -> quple-0.9.0\n",
            "copying setup.py -> quple-0.9.0\n",
            "copying quple/__init__.py -> quple-0.9.0/quple\n",
            "copying quple/_version.py -> quple-0.9.0/quple\n",
            "copying quple.egg-info/PKG-INFO -> quple-0.9.0/quple.egg-info\n",
            "copying quple.egg-info/SOURCES.txt -> quple-0.9.0/quple.egg-info\n",
            "copying quple.egg-info/dependency_links.txt -> quple-0.9.0/quple.egg-info\n",
            "copying quple.egg-info/requires.txt -> quple-0.9.0/quple.egg-info\n",
            "copying quple.egg-info/top_level.txt -> quple-0.9.0/quple.egg-info\n",
            "copying quple/circuits/__init__.py -> quple-0.9.0/quple/circuits\n",
            "copying quple/circuits/common_circuits.py -> quple-0.9.0/quple/circuits\n",
            "copying quple/circuits/parameterised_circuit.py -> quple-0.9.0/quple/circuits\n",
            "copying quple/circuits/quantum_circuit.py -> quple-0.9.0/quple/circuits\n",
            "copying quple/circuits/quantum_circuit_test.py -> quple-0.9.0/quple/circuits\n",
            "copying quple/circuits/qubit_register.py -> quple-0.9.0/quple/circuits\n",
            "copying quple/circuits/templates/__init__.py -> quple-0.9.0/quple/circuits/templates\n",
            "copying quple/circuits/templates/parameterised_block.py -> quple-0.9.0/quple/circuits/templates\n",
            "copying quple/circuits/templates/pauli_block.py -> quple-0.9.0/quple/circuits/templates\n",
            "copying quple/circuits/templates/riswap_block.py -> quple-0.9.0/quple/circuits/templates\n",
            "copying quple/circuits/templates/template_circuit_block.py -> quple-0.9.0/quple/circuits/templates\n",
            "copying quple/circuits/variational_circuits/__init__.py -> quple-0.9.0/quple/circuits/variational_circuits\n",
            "copying quple/circuits/variational_circuits/efficient_su2.py -> quple-0.9.0/quple/circuits/variational_circuits\n",
            "copying quple/circuits/variational_circuits/excitation_preserving.py -> quple-0.9.0/quple/circuits/variational_circuits\n",
            "copying quple/circuits/variational_circuits/ising_coupling.py -> quple-0.9.0/quple/circuits/variational_circuits\n",
            "copying quple/circuits/variational_circuits/real_amplitudes.py -> quple-0.9.0/quple/circuits/variational_circuits\n",
            "copying quple/classifiers/__init__.py -> quple-0.9.0/quple/classifiers\n",
            "copying quple/classifiers/qsvm.py -> quple-0.9.0/quple/classifiers\n",
            "copying quple/classifiers/qsvm_logger.py -> quple-0.9.0/quple/classifiers\n",
            "copying quple/classifiers/qsvm_qiskit.py -> quple-0.9.0/quple/classifiers\n",
            "copying quple/classifiers/vqc.py -> quple-0.9.0/quple/classifiers\n",
            "copying quple/classifiers/vqc_logger.py -> quple-0.9.0/quple/classifiers\n",
            "copying quple/components/__init__.py -> quple-0.9.0/quple/components\n",
            "copying quple/components/descriptors.py -> quple-0.9.0/quple/components\n",
            "copying quple/components/gate_ops.py -> quple-0.9.0/quple/components\n",
            "copying quple/components/interaction_graphs.py -> quple-0.9.0/quple/components\n",
            "copying quple/data_encoding/__init__.py -> quple-0.9.0/quple/data_encoding\n",
            "copying quple/data_encoding/encoding_circuit.py -> quple-0.9.0/quple/data_encoding\n",
            "copying quple/data_encoding/encoding_maps.py -> quple-0.9.0/quple/data_encoding\n",
            "copying quple/data_encoding/first_order_pauli_z_encoding.py -> quple-0.9.0/quple/data_encoding\n",
            "copying quple/data_encoding/general_pauli_encoding.py -> quple-0.9.0/quple/data_encoding\n",
            "copying quple/data_encoding/general_pauli_z_encoding.py -> quple-0.9.0/quple/data_encoding\n",
            "copying quple/data_encoding/second_order_pauli_z_encoding.py -> quple-0.9.0/quple/data_encoding\n",
            "copying quple/interface/__init__.py -> quple-0.9.0/quple/interface\n",
            "copying quple/interface/cirq_interface.py -> quple-0.9.0/quple/interface\n",
            "copying quple/interface/interface_ctrl.py -> quple-0.9.0/quple/interface\n",
            "copying quple/interface/tfq/__init__.py -> quple-0.9.0/quple/interface/tfq\n",
            "copying quple/interface/tfq/resolvers.py -> quple-0.9.0/quple/interface/tfq\n",
            "copying quple/interface/tfq/tf_resolvers.py -> quple-0.9.0/quple/interface/tfq\n",
            "copying quple/interface/tfq/tf_utils.py -> quple-0.9.0/quple/interface/tfq\n",
            "copying quple/interface/tfq/layers/__init__.py -> quple-0.9.0/quple/interface/tfq/layers\n",
            "copying quple/interface/tfq/layers/pqc.py -> quple-0.9.0/quple/interface/tfq/layers\n",
            "copying quple/interface/tfq/layers/qconv2d.py -> quple-0.9.0/quple/interface/tfq/layers\n",
            "copying quple/interface/tfq/metrics/__init__.py -> quple-0.9.0/quple/interface/tfq/metrics\n",
            "copying quple/interface/tfq/metrics/metrics.py -> quple-0.9.0/quple/interface/tfq/metrics\n",
            "copying quple/models/__init__.py -> quple-0.9.0/quple/models\n",
            "copying quple/models/abstract_model.py -> quple-0.9.0/quple/models\n",
            "copying quple/models/classification/__init__.py -> quple-0.9.0/quple/models/classification\n",
            "copying quple/models/generative/__init__.py -> quple-0.9.0/quple/models/generative\n",
            "copying quple/models/generative/qgan.py -> quple-0.9.0/quple/models/generative\n",
            "copying quple/models/generative/qwgan.py -> quple-0.9.0/quple/models/generative\n",
            "copying quple/qiskit_interface/__init__.py -> quple-0.9.0/quple/qiskit_interface\n",
            "copying quple/qiskit_interface/feature_maps.py -> quple-0.9.0/quple/qiskit_interface\n",
            "copying quple/qiskit_interface/tools.py -> quple-0.9.0/quple/qiskit_interface\n",
            "copying quple/utils/__init__.py -> quple-0.9.0/quple/utils\n",
            "copying quple/utils/data_preparation.py -> quple-0.9.0/quple/utils\n",
            "copying quple/utils/mathext.py -> quple-0.9.0/quple/utils\n",
            "copying quple/utils/setup.py -> quple-0.9.0/quple/utils\n",
            "copying quple/utils/sysinfo.py -> quple-0.9.0/quple/utils\n",
            "copying quple/utils/utils.py -> quple-0.9.0/quple/utils\n",
            "copying quple/utils/visualization.py -> quple-0.9.0/quple/utils\n",
            "Writing quple-0.9.0/setup.cfg\n",
            "creating dist\n",
            "Creating tar archive\n",
            "removing 'quple-0.9.0' (and everything under it)\n",
            "running bdist_wheel\n",
            "running build\n",
            "running build_py\n",
            "creating build\n",
            "creating build/lib\n",
            "creating build/lib/quple\n",
            "copying quple/_version.py -> build/lib/quple\n",
            "copying quple/__init__.py -> build/lib/quple\n",
            "creating build/lib/quple/classifiers\n",
            "copying quple/classifiers/qsvm_logger.py -> build/lib/quple/classifiers\n",
            "copying quple/classifiers/qsvm_qiskit.py -> build/lib/quple/classifiers\n",
            "copying quple/classifiers/__init__.py -> build/lib/quple/classifiers\n",
            "copying quple/classifiers/vqc.py -> build/lib/quple/classifiers\n",
            "copying quple/classifiers/vqc_logger.py -> build/lib/quple/classifiers\n",
            "copying quple/classifiers/qsvm.py -> build/lib/quple/classifiers\n",
            "creating build/lib/quple/interface\n",
            "copying quple/interface/__init__.py -> build/lib/quple/interface\n",
            "copying quple/interface/cirq_interface.py -> build/lib/quple/interface\n",
            "copying quple/interface/interface_ctrl.py -> build/lib/quple/interface\n",
            "creating build/lib/quple/models\n",
            "copying quple/models/__init__.py -> build/lib/quple/models\n",
            "copying quple/models/abstract_model.py -> build/lib/quple/models\n",
            "creating build/lib/quple/qiskit_interface\n",
            "copying quple/qiskit_interface/tools.py -> build/lib/quple/qiskit_interface\n",
            "copying quple/qiskit_interface/feature_maps.py -> build/lib/quple/qiskit_interface\n",
            "copying quple/qiskit_interface/__init__.py -> build/lib/quple/qiskit_interface\n",
            "creating build/lib/quple/utils\n",
            "copying quple/utils/setup.py -> build/lib/quple/utils\n",
            "copying quple/utils/utils.py -> build/lib/quple/utils\n",
            "copying quple/utils/data_preparation.py -> build/lib/quple/utils\n",
            "copying quple/utils/sysinfo.py -> build/lib/quple/utils\n",
            "copying quple/utils/__init__.py -> build/lib/quple/utils\n",
            "copying quple/utils/visualization.py -> build/lib/quple/utils\n",
            "copying quple/utils/mathext.py -> build/lib/quple/utils\n",
            "creating build/lib/quple/data_encoding\n",
            "copying quple/data_encoding/second_order_pauli_z_encoding.py -> build/lib/quple/data_encoding\n",
            "copying quple/data_encoding/general_pauli_encoding.py -> build/lib/quple/data_encoding\n",
            "copying quple/data_encoding/__init__.py -> build/lib/quple/data_encoding\n",
            "copying quple/data_encoding/first_order_pauli_z_encoding.py -> build/lib/quple/data_encoding\n",
            "copying quple/data_encoding/general_pauli_z_encoding.py -> build/lib/quple/data_encoding\n",
            "copying quple/data_encoding/encoding_maps.py -> build/lib/quple/data_encoding\n",
            "copying quple/data_encoding/encoding_circuit.py -> build/lib/quple/data_encoding\n",
            "creating build/lib/quple/circuits\n",
            "copying quple/circuits/qubit_register.py -> build/lib/quple/circuits\n",
            "copying quple/circuits/__init__.py -> build/lib/quple/circuits\n",
            "copying quple/circuits/quantum_circuit.py -> build/lib/quple/circuits\n",
            "copying quple/circuits/quantum_circuit_test.py -> build/lib/quple/circuits\n",
            "copying quple/circuits/common_circuits.py -> build/lib/quple/circuits\n",
            "copying quple/circuits/parameterised_circuit.py -> build/lib/quple/circuits\n",
            "creating build/lib/quple/components\n",
            "copying quple/components/interaction_graphs.py -> build/lib/quple/components\n",
            "copying quple/components/descriptors.py -> build/lib/quple/components\n",
            "copying quple/components/__init__.py -> build/lib/quple/components\n",
            "copying quple/components/gate_ops.py -> build/lib/quple/components\n",
            "creating build/lib/quple/interface/tfq\n",
            "copying quple/interface/tfq/tf_resolvers.py -> build/lib/quple/interface/tfq\n",
            "copying quple/interface/tfq/tf_utils.py -> build/lib/quple/interface/tfq\n",
            "copying quple/interface/tfq/__init__.py -> build/lib/quple/interface/tfq\n",
            "copying quple/interface/tfq/resolvers.py -> build/lib/quple/interface/tfq\n",
            "creating build/lib/quple/interface/tfq/metrics\n",
            "copying quple/interface/tfq/metrics/__init__.py -> build/lib/quple/interface/tfq/metrics\n",
            "copying quple/interface/tfq/metrics/metrics.py -> build/lib/quple/interface/tfq/metrics\n",
            "creating build/lib/quple/interface/tfq/layers\n",
            "copying quple/interface/tfq/layers/qconv2d.py -> build/lib/quple/interface/tfq/layers\n",
            "copying quple/interface/tfq/layers/pqc.py -> build/lib/quple/interface/tfq/layers\n",
            "copying quple/interface/tfq/layers/__init__.py -> build/lib/quple/interface/tfq/layers\n",
            "creating build/lib/quple/models/generative\n",
            "copying quple/models/generative/qgan.py -> build/lib/quple/models/generative\n",
            "copying quple/models/generative/__init__.py -> build/lib/quple/models/generative\n",
            "copying quple/models/generative/qwgan.py -> build/lib/quple/models/generative\n",
            "creating build/lib/quple/models/classification\n",
            "copying quple/models/classification/__init__.py -> build/lib/quple/models/classification\n",
            "creating build/lib/quple/circuits/variational_circuits\n",
            "copying quple/circuits/variational_circuits/efficient_su2.py -> build/lib/quple/circuits/variational_circuits\n",
            "copying quple/circuits/variational_circuits/ising_coupling.py -> build/lib/quple/circuits/variational_circuits\n",
            "copying quple/circuits/variational_circuits/real_amplitudes.py -> build/lib/quple/circuits/variational_circuits\n",
            "copying quple/circuits/variational_circuits/__init__.py -> build/lib/quple/circuits/variational_circuits\n",
            "copying quple/circuits/variational_circuits/excitation_preserving.py -> build/lib/quple/circuits/variational_circuits\n",
            "creating build/lib/quple/circuits/templates\n",
            "copying quple/circuits/templates/template_circuit_block.py -> build/lib/quple/circuits/templates\n",
            "copying quple/circuits/templates/parameterised_block.py -> build/lib/quple/circuits/templates\n",
            "copying quple/circuits/templates/pauli_block.py -> build/lib/quple/circuits/templates\n",
            "copying quple/circuits/templates/riswap_block.py -> build/lib/quple/circuits/templates\n",
            "copying quple/circuits/templates/__init__.py -> build/lib/quple/circuits/templates\n",
            "installing to build/bdist.linux-x86_64/wheel\n",
            "running install\n",
            "running install_lib\n",
            "creating build/bdist.linux-x86_64\n",
            "creating build/bdist.linux-x86_64/wheel\n",
            "creating build/bdist.linux-x86_64/wheel/quple\n",
            "copying build/lib/quple/_version.py -> build/bdist.linux-x86_64/wheel/quple\n",
            "creating build/bdist.linux-x86_64/wheel/quple/classifiers\n",
            "copying build/lib/quple/classifiers/qsvm_logger.py -> build/bdist.linux-x86_64/wheel/quple/classifiers\n",
            "copying build/lib/quple/classifiers/qsvm_qiskit.py -> build/bdist.linux-x86_64/wheel/quple/classifiers\n",
            "copying build/lib/quple/classifiers/__init__.py -> build/bdist.linux-x86_64/wheel/quple/classifiers\n",
            "copying build/lib/quple/classifiers/vqc.py -> build/bdist.linux-x86_64/wheel/quple/classifiers\n",
            "copying build/lib/quple/classifiers/vqc_logger.py -> build/bdist.linux-x86_64/wheel/quple/classifiers\n",
            "copying build/lib/quple/classifiers/qsvm.py -> build/bdist.linux-x86_64/wheel/quple/classifiers\n",
            "creating build/bdist.linux-x86_64/wheel/quple/interface\n",
            "creating build/bdist.linux-x86_64/wheel/quple/interface/tfq\n",
            "copying build/lib/quple/interface/tfq/tf_resolvers.py -> build/bdist.linux-x86_64/wheel/quple/interface/tfq\n",
            "copying build/lib/quple/interface/tfq/tf_utils.py -> build/bdist.linux-x86_64/wheel/quple/interface/tfq\n",
            "creating build/bdist.linux-x86_64/wheel/quple/interface/tfq/metrics\n",
            "copying build/lib/quple/interface/tfq/metrics/__init__.py -> build/bdist.linux-x86_64/wheel/quple/interface/tfq/metrics\n",
            "copying build/lib/quple/interface/tfq/metrics/metrics.py -> build/bdist.linux-x86_64/wheel/quple/interface/tfq/metrics\n",
            "copying build/lib/quple/interface/tfq/__init__.py -> build/bdist.linux-x86_64/wheel/quple/interface/tfq\n",
            "copying build/lib/quple/interface/tfq/resolvers.py -> build/bdist.linux-x86_64/wheel/quple/interface/tfq\n",
            "creating build/bdist.linux-x86_64/wheel/quple/interface/tfq/layers\n",
            "copying build/lib/quple/interface/tfq/layers/qconv2d.py -> build/bdist.linux-x86_64/wheel/quple/interface/tfq/layers\n",
            "copying build/lib/quple/interface/tfq/layers/pqc.py -> build/bdist.linux-x86_64/wheel/quple/interface/tfq/layers\n",
            "copying build/lib/quple/interface/tfq/layers/__init__.py -> build/bdist.linux-x86_64/wheel/quple/interface/tfq/layers\n",
            "copying build/lib/quple/interface/__init__.py -> build/bdist.linux-x86_64/wheel/quple/interface\n",
            "copying build/lib/quple/interface/cirq_interface.py -> build/bdist.linux-x86_64/wheel/quple/interface\n",
            "copying build/lib/quple/interface/interface_ctrl.py -> build/bdist.linux-x86_64/wheel/quple/interface\n",
            "creating build/bdist.linux-x86_64/wheel/quple/models\n",
            "copying build/lib/quple/models/__init__.py -> build/bdist.linux-x86_64/wheel/quple/models\n",
            "creating build/bdist.linux-x86_64/wheel/quple/models/generative\n",
            "copying build/lib/quple/models/generative/qgan.py -> build/bdist.linux-x86_64/wheel/quple/models/generative\n",
            "copying build/lib/quple/models/generative/__init__.py -> build/bdist.linux-x86_64/wheel/quple/models/generative\n",
            "copying build/lib/quple/models/generative/qwgan.py -> build/bdist.linux-x86_64/wheel/quple/models/generative\n",
            "copying build/lib/quple/models/abstract_model.py -> build/bdist.linux-x86_64/wheel/quple/models\n",
            "creating build/bdist.linux-x86_64/wheel/quple/models/classification\n",
            "copying build/lib/quple/models/classification/__init__.py -> build/bdist.linux-x86_64/wheel/quple/models/classification\n",
            "creating build/bdist.linux-x86_64/wheel/quple/qiskit_interface\n",
            "copying build/lib/quple/qiskit_interface/tools.py -> build/bdist.linux-x86_64/wheel/quple/qiskit_interface\n",
            "copying build/lib/quple/qiskit_interface/feature_maps.py -> build/bdist.linux-x86_64/wheel/quple/qiskit_interface\n",
            "copying build/lib/quple/qiskit_interface/__init__.py -> build/bdist.linux-x86_64/wheel/quple/qiskit_interface\n",
            "copying build/lib/quple/__init__.py -> build/bdist.linux-x86_64/wheel/quple\n",
            "creating build/bdist.linux-x86_64/wheel/quple/utils\n",
            "copying build/lib/quple/utils/setup.py -> build/bdist.linux-x86_64/wheel/quple/utils\n",
            "copying build/lib/quple/utils/utils.py -> build/bdist.linux-x86_64/wheel/quple/utils\n",
            "copying build/lib/quple/utils/data_preparation.py -> build/bdist.linux-x86_64/wheel/quple/utils\n",
            "copying build/lib/quple/utils/sysinfo.py -> build/bdist.linux-x86_64/wheel/quple/utils\n",
            "copying build/lib/quple/utils/__init__.py -> build/bdist.linux-x86_64/wheel/quple/utils\n",
            "copying build/lib/quple/utils/visualization.py -> build/bdist.linux-x86_64/wheel/quple/utils\n",
            "copying build/lib/quple/utils/mathext.py -> build/bdist.linux-x86_64/wheel/quple/utils\n",
            "creating build/bdist.linux-x86_64/wheel/quple/data_encoding\n",
            "copying build/lib/quple/data_encoding/second_order_pauli_z_encoding.py -> build/bdist.linux-x86_64/wheel/quple/data_encoding\n",
            "copying build/lib/quple/data_encoding/general_pauli_encoding.py -> build/bdist.linux-x86_64/wheel/quple/data_encoding\n",
            "copying build/lib/quple/data_encoding/__init__.py -> build/bdist.linux-x86_64/wheel/quple/data_encoding\n",
            "copying build/lib/quple/data_encoding/first_order_pauli_z_encoding.py -> build/bdist.linux-x86_64/wheel/quple/data_encoding\n",
            "copying build/lib/quple/data_encoding/general_pauli_z_encoding.py -> build/bdist.linux-x86_64/wheel/quple/data_encoding\n",
            "copying build/lib/quple/data_encoding/encoding_maps.py -> build/bdist.linux-x86_64/wheel/quple/data_encoding\n",
            "copying build/lib/quple/data_encoding/encoding_circuit.py -> build/bdist.linux-x86_64/wheel/quple/data_encoding\n",
            "creating build/bdist.linux-x86_64/wheel/quple/circuits\n",
            "copying build/lib/quple/circuits/qubit_register.py -> build/bdist.linux-x86_64/wheel/quple/circuits\n",
            "copying build/lib/quple/circuits/__init__.py -> build/bdist.linux-x86_64/wheel/quple/circuits\n",
            "copying build/lib/quple/circuits/quantum_circuit.py -> build/bdist.linux-x86_64/wheel/quple/circuits\n",
            "creating build/bdist.linux-x86_64/wheel/quple/circuits/variational_circuits\n",
            "copying build/lib/quple/circuits/variational_circuits/efficient_su2.py -> build/bdist.linux-x86_64/wheel/quple/circuits/variational_circuits\n",
            "copying build/lib/quple/circuits/variational_circuits/ising_coupling.py -> build/bdist.linux-x86_64/wheel/quple/circuits/variational_circuits\n",
            "copying build/lib/quple/circuits/variational_circuits/real_amplitudes.py -> build/bdist.linux-x86_64/wheel/quple/circuits/variational_circuits\n",
            "copying build/lib/quple/circuits/variational_circuits/__init__.py -> build/bdist.linux-x86_64/wheel/quple/circuits/variational_circuits\n",
            "copying build/lib/quple/circuits/variational_circuits/excitation_preserving.py -> build/bdist.linux-x86_64/wheel/quple/circuits/variational_circuits\n",
            "copying build/lib/quple/circuits/quantum_circuit_test.py -> build/bdist.linux-x86_64/wheel/quple/circuits\n",
            "creating build/bdist.linux-x86_64/wheel/quple/circuits/templates\n",
            "copying build/lib/quple/circuits/templates/template_circuit_block.py -> build/bdist.linux-x86_64/wheel/quple/circuits/templates\n",
            "copying build/lib/quple/circuits/templates/parameterised_block.py -> build/bdist.linux-x86_64/wheel/quple/circuits/templates\n",
            "copying build/lib/quple/circuits/templates/pauli_block.py -> build/bdist.linux-x86_64/wheel/quple/circuits/templates\n",
            "copying build/lib/quple/circuits/templates/riswap_block.py -> build/bdist.linux-x86_64/wheel/quple/circuits/templates\n",
            "copying build/lib/quple/circuits/templates/__init__.py -> build/bdist.linux-x86_64/wheel/quple/circuits/templates\n",
            "copying build/lib/quple/circuits/common_circuits.py -> build/bdist.linux-x86_64/wheel/quple/circuits\n",
            "copying build/lib/quple/circuits/parameterised_circuit.py -> build/bdist.linux-x86_64/wheel/quple/circuits\n",
            "creating build/bdist.linux-x86_64/wheel/quple/components\n",
            "copying build/lib/quple/components/interaction_graphs.py -> build/bdist.linux-x86_64/wheel/quple/components\n",
            "copying build/lib/quple/components/descriptors.py -> build/bdist.linux-x86_64/wheel/quple/components\n",
            "copying build/lib/quple/components/__init__.py -> build/bdist.linux-x86_64/wheel/quple/components\n",
            "copying build/lib/quple/components/gate_ops.py -> build/bdist.linux-x86_64/wheel/quple/components\n",
            "running install_egg_info\n",
            "Copying quple.egg-info to build/bdist.linux-x86_64/wheel/quple-0.9.0-py3.8.egg-info\n",
            "running install_scripts\n",
            "creating build/bdist.linux-x86_64/wheel/quple-0.9.0.dist-info/WHEEL\n",
            "creating 'dist/quple-0.9.0-py3-none-any.whl' and adding 'build/bdist.linux-x86_64/wheel' to it\n",
            "adding 'quple/__init__.py'\n",
            "adding 'quple/_version.py'\n",
            "adding 'quple/circuits/__init__.py'\n",
            "adding 'quple/circuits/common_circuits.py'\n",
            "adding 'quple/circuits/parameterised_circuit.py'\n",
            "adding 'quple/circuits/quantum_circuit.py'\n",
            "adding 'quple/circuits/quantum_circuit_test.py'\n",
            "adding 'quple/circuits/qubit_register.py'\n",
            "adding 'quple/circuits/templates/__init__.py'\n",
            "adding 'quple/circuits/templates/parameterised_block.py'\n",
            "adding 'quple/circuits/templates/pauli_block.py'\n",
            "adding 'quple/circuits/templates/riswap_block.py'\n",
            "adding 'quple/circuits/templates/template_circuit_block.py'\n",
            "adding 'quple/circuits/variational_circuits/__init__.py'\n",
            "adding 'quple/circuits/variational_circuits/efficient_su2.py'\n",
            "adding 'quple/circuits/variational_circuits/excitation_preserving.py'\n",
            "adding 'quple/circuits/variational_circuits/ising_coupling.py'\n",
            "adding 'quple/circuits/variational_circuits/real_amplitudes.py'\n",
            "adding 'quple/classifiers/__init__.py'\n",
            "adding 'quple/classifiers/qsvm.py'\n",
            "adding 'quple/classifiers/qsvm_logger.py'\n",
            "adding 'quple/classifiers/qsvm_qiskit.py'\n",
            "adding 'quple/classifiers/vqc.py'\n",
            "adding 'quple/classifiers/vqc_logger.py'\n",
            "adding 'quple/components/__init__.py'\n",
            "adding 'quple/components/descriptors.py'\n",
            "adding 'quple/components/gate_ops.py'\n",
            "adding 'quple/components/interaction_graphs.py'\n",
            "adding 'quple/data_encoding/__init__.py'\n",
            "adding 'quple/data_encoding/encoding_circuit.py'\n",
            "adding 'quple/data_encoding/encoding_maps.py'\n",
            "adding 'quple/data_encoding/first_order_pauli_z_encoding.py'\n",
            "adding 'quple/data_encoding/general_pauli_encoding.py'\n",
            "adding 'quple/data_encoding/general_pauli_z_encoding.py'\n",
            "adding 'quple/data_encoding/second_order_pauli_z_encoding.py'\n",
            "adding 'quple/interface/__init__.py'\n",
            "adding 'quple/interface/cirq_interface.py'\n",
            "adding 'quple/interface/interface_ctrl.py'\n",
            "adding 'quple/interface/tfq/__init__.py'\n",
            "adding 'quple/interface/tfq/resolvers.py'\n",
            "adding 'quple/interface/tfq/tf_resolvers.py'\n",
            "adding 'quple/interface/tfq/tf_utils.py'\n",
            "adding 'quple/interface/tfq/layers/__init__.py'\n",
            "adding 'quple/interface/tfq/layers/pqc.py'\n",
            "adding 'quple/interface/tfq/layers/qconv2d.py'\n",
            "adding 'quple/interface/tfq/metrics/__init__.py'\n",
            "adding 'quple/interface/tfq/metrics/metrics.py'\n",
            "adding 'quple/models/__init__.py'\n",
            "adding 'quple/models/abstract_model.py'\n",
            "adding 'quple/models/classification/__init__.py'\n",
            "adding 'quple/models/generative/__init__.py'\n",
            "adding 'quple/models/generative/qgan.py'\n",
            "adding 'quple/models/generative/qwgan.py'\n",
            "adding 'quple/qiskit_interface/__init__.py'\n",
            "adding 'quple/qiskit_interface/feature_maps.py'\n",
            "adding 'quple/qiskit_interface/tools.py'\n",
            "adding 'quple/utils/__init__.py'\n",
            "adding 'quple/utils/data_preparation.py'\n",
            "adding 'quple/utils/mathext.py'\n",
            "adding 'quple/utils/setup.py'\n",
            "adding 'quple/utils/sysinfo.py'\n",
            "adding 'quple/utils/utils.py'\n",
            "adding 'quple/utils/visualization.py'\n",
            "adding 'quple-0.9.0.dist-info/LICENSE'\n",
            "adding 'quple-0.9.0.dist-info/METADATA'\n",
            "adding 'quple-0.9.0.dist-info/WHEEL'\n",
            "adding 'quple-0.9.0.dist-info/top_level.txt'\n",
            "adding 'quple-0.9.0.dist-info/RECORD'\n",
            "removing build/bdist.linux-x86_64/wheel\n",
            "create.sh: line 6: twine: command not found\n"
          ]
        }
      ]
    },
    {
      "cell_type": "code",
      "source": [
        "print(\"#################################################################\")\n",
        "print(\"Photon energy distribution:\")\n",
        "a = visualize_images(px[:16], labels=py[:16], label_map=particle_label_map)\n",
        "a.savefig(\"image_photon_energy_32x32.png\", bbox_inches=\"tight\")"
      ],
      "metadata": {
        "colab": {
          "base_uri": "https://localhost:8080/",
          "height": 356
        },
        "id": "_ZIysPjCjoOO",
        "outputId": "e229f05d-a506-4b3e-aa3f-d96ebf3f21c0"
      },
      "execution_count": 34,
      "outputs": [
        {
          "output_type": "stream",
          "name": "stdout",
          "text": [
            "#################################################################\n",
            "Photon energy distribution:\n"
          ]
        },
        {
          "output_type": "display_data",
          "data": {
            "text/plain": [
              "<Figure size 432x288 with 0 Axes>"
            ]
          },
          "metadata": {}
        },
        {
          "output_type": "display_data",
          "data": {
            "text/plain": [
              "<Figure size 1440x648 with 16 Axes>"
            ],
            "image/png": "[encoded data removed]"
          },
          "metadata": {
            "needs_background": "light"
          }
        }
      ]
    },
    {
      "cell_type": "code",
      "source": [
        "!git clone https://github.com/ericardomuten/QMLHEP.git"
      ],
      "metadata": {
        "colab": {
          "base_uri": "https://localhost:8080/"
        },
        "id": "y_TOvEZsjrHc",
        "outputId": "a2ef3620-7996-49f4-8f40-90333790f280"
      },
      "execution_count": 25,
      "outputs": [
        {
          "output_type": "stream",
          "name": "stdout",
          "text": [
            "Cloning into 'QMLHEP'...\n",
            "remote: Enumerating objects: 405, done.\u001b[K\n",
            "remote: Counting objects: 100% (100/100), done.\u001b[K\n",
            "remote: Compressing objects: 100% (59/59), done.\u001b[K\n",
            "remote: Total 405 (delta 34), reused 100 (delta 34), pack-reused 305\u001b[K\n",
            "Receiving objects: 100% (405/405), 20.60 MiB | 21.81 MiB/s, done.\n",
            "Resolving deltas: 100% (114/114), done.\n"
          ]
        }
      ]
    },
    {
      "cell_type": "code",
      "source": [
        "cd QMLHEP"
      ],
      "metadata": {
        "colab": {
          "base_uri": "https://localhost:8080/"
        },
        "id": "uXySUBtbk5I0",
        "outputId": "b7a97cc5-8212-4e4e-b4f6-befd8b1d0a68"
      },
      "execution_count": 26,
      "outputs": [
        {
          "output_type": "stream",
          "name": "stdout",
          "text": [
            "/content/QMLHEP\n"
          ]
        }
      ]
    },
    {
      "cell_type": "code",
      "source": [
        "print(\"#################################################################\")\n",
        "print(\"Electron energy distribution:\")\n",
        "a = visualize_images(ex[:16], labels=ey[:16], label_map=particle_label_map)\n",
        "a.savefig(\"image_electron_energy_32x32.png\", bbox_inches=\"tight\")"
      ],
      "metadata": {
        "colab": {
          "base_uri": "https://localhost:8080/",
          "height": 356
        },
        "id": "U7HR-cJPlJ1B",
        "outputId": "fd6c9133-ff09-415d-c920-760d07774f0d"
      },
      "execution_count": 35,
      "outputs": [
        {
          "output_type": "stream",
          "name": "stdout",
          "text": [
            "#################################################################\n",
            "Electron energy distribution:\n"
          ]
        },
        {
          "output_type": "display_data",
          "data": {
            "text/plain": [
              "<Figure size 432x288 with 0 Axes>"
            ]
          },
          "metadata": {}
        },
        {
          "output_type": "display_data",
          "data": {
            "text/plain": [
              "<Figure size 1440x648 with 16 Axes>"
            ],
            "image/png": "[encoded data removed]"
          },
          "metadata": {
            "needs_background": "light"
          }
        }
      ]
    },
    {
      "cell_type": "code",
      "source": [
        "from sklearn.model_selection import train_test_split\n",
        "x_train, x_test, y_train, y_test = train_test_split(px, py, train_size=0.75, test_size=0.25, random_state=2021)"
      ],
      "metadata": {
        "id": "4AicUDUQmTsg"
      },
      "execution_count": 36,
      "outputs": []
    },
    {
      "cell_type": "code",
      "source": [
        "from build.lib.quple.utils.data_preparation import crop_images\n",
        "crop_size = (8, 8)\n",
        "x_train_cropped = crop_images(x_train, dimension=crop_size)\n",
        "x_test_cropped = crop_images(x_test, dimension=crop_size)"
      ],
      "metadata": {
        "id": "egJ3lVHemYBM"
      },
      "execution_count": 37,
      "outputs": []
    },
    {
      "cell_type": "code",
      "source": [
        "a = visualize_images(x_train_cropped[:16], labels=y_train[:16], label_map=particle_label_map)\n",
        "a.savefig(\"image_photon_energy_8x8.png\", bbox_inches=\"tight\")"
      ],
      "metadata": {
        "colab": {
          "base_uri": "https://localhost:8080/",
          "height": 323
        },
        "id": "hB7TZ99Amo9w",
        "outputId": "655773d1-15e1-4f93-a394-0832bf995a30"
      },
      "execution_count": 38,
      "outputs": [
        {
          "output_type": "display_data",
          "data": {
            "text/plain": [
              "<Figure size 432x288 with 0 Axes>"
            ]
          },
          "metadata": {}
        },
        {
          "output_type": "display_data",
          "data": {
            "text/plain": [
              "<Figure size 1440x648 with 16 Axes>"
            ],
            "image/png": "[encoded data removed]"
          },
          "metadata": {
            "needs_background": "light"
          }
        }
      ]
    },
    {
      "cell_type": "code",
      "source": [
        "from build.lib.quple.utils.data_preparation import rescale_data\n",
        "x_train_rescaled, x_test_rescaled = rescale_data(x_train_cropped, x_test_cropped, val_range=(-1, 1))\n",
        "visualize_images(x_train_rescaled[:16], labels=y_train[:16], label_map=particle_label_map)"
      ],
      "metadata": {
        "colab": {
          "base_uri": "https://localhost:8080/",
          "height": 340
        },
        "id": "dh3KbvkhmrwM",
        "outputId": "730c07d5-af10-46a7-a932-e220a637d6bd"
      },
      "execution_count": 39,
      "outputs": [
        {
          "output_type": "execute_result",
          "data": {
            "text/plain": [
              "<module 'matplotlib.pyplot' from '/usr/local/lib/python3.8/dist-packages/matplotlib/pyplot.py'>"
            ]
          },
          "metadata": {},
          "execution_count": 39
        },
        {
          "output_type": "display_data",
          "data": {
            "text/plain": [
              "<Figure size 432x288 with 0 Axes>"
            ]
          },
          "metadata": {}
        },
        {
          "output_type": "display_data",
          "data": {
            "text/plain": [
              "<Figure size 1440x648 with 16 Axes>"
            ],
            "image/png": "[encoded data removed]"
          },
          "metadata": {
            "needs_background": "light"
          }
        }
      ]
    },
    {
      "cell_type": "code",
      "source": [
        "x_train_final = np.reshape(x_train_rescaled, (x_train_rescaled.shape[0], 8, 8))\n",
        "x_test_final = np.reshape(x_test_rescaled, (x_test_rescaled.shape[0], 8, 8))"
      ],
      "metadata": {
        "id": "g3xOvYVNmyFf"
      },
      "execution_count": 40,
      "outputs": []
    },
    {
      "cell_type": "code",
      "source": [
        "from build.lib.quple import ParameterisedCircuit\n",
        "from build.lib.quple.data_encoding import FirstOrderPauliZEncoding\n",
        "from build.lib.quple.interface.tfq.layers import QConv2D, PQC"
      ],
      "metadata": {
        "colab": {
          "base_uri": "https://localhost:8080/",
          "height": 468
        },
        "id": "kkXibBAdm17D",
        "outputId": "f4b4ccef-2a3c-402e-ec9e-caa7cf9d1e98"
      },
      "execution_count": 60,
      "outputs": [
        {
          "output_type": "error",
          "ename": "NotFoundError",
          "evalue": "ignored",
          "traceback": [
            "\u001b[0;31m---------------------------------------------------------------------------\u001b[0m",
            "\u001b[0;31mNotFoundError\u001b[0m                             Traceback (most recent call last)",
            "\u001b[0;32m/usr/local/lib/python3.8/dist-packages/tensorflow_quantum/core/ops/load_module.py\u001b[0m in \u001b[0;36mload_module\u001b[0;34m(name)\u001b[0m\n\u001b[1;32m     41\u001b[0m         \u001b[0mpath\u001b[0m \u001b[0;34m=\u001b[0m \u001b[0mresource_loader\u001b[0m\u001b[0;34m.\u001b[0m\u001b[0mget_path_to_datafile\u001b[0m\u001b[0;34m(\u001b[0m\u001b[0mname\u001b[0m\u001b[0;34m)\u001b[0m\u001b[0;34m\u001b[0m\u001b[0;34m\u001b[0m\u001b[0m\n\u001b[0;32m---> 42\u001b[0;31m         \u001b[0;32mreturn\u001b[0m \u001b[0mload_library\u001b[0m\u001b[0;34m.\u001b[0m\u001b[0mload_op_library\u001b[0m\u001b[0;34m(\u001b[0m\u001b[0mpath\u001b[0m\u001b[0;34m)\u001b[0m\u001b[0;34m\u001b[0m\u001b[0;34m\u001b[0m\u001b[0m\n\u001b[0m\u001b[1;32m     43\u001b[0m     \u001b[0;32mexcept\u001b[0m\u001b[0;34m:\u001b[0m\u001b[0;34m\u001b[0m\u001b[0;34m\u001b[0m\u001b[0m\n",
            "\u001b[0;32m/usr/local/lib/python3.8/dist-packages/tensorflow/python/framework/load_library.py\u001b[0m in \u001b[0;36mload_op_library\u001b[0;34m(library_filename)\u001b[0m\n\u001b[1;32m     53\u001b[0m   \"\"\"\n\u001b[0;32m---> 54\u001b[0;31m   \u001b[0mlib_handle\u001b[0m \u001b[0;34m=\u001b[0m \u001b[0mpy_tf\u001b[0m\u001b[0;34m.\u001b[0m\u001b[0mTF_LoadLibrary\u001b[0m\u001b[0;34m(\u001b[0m\u001b[0mlibrary_filename\u001b[0m\u001b[0;34m)\u001b[0m\u001b[0;34m\u001b[0m\u001b[0;34m\u001b[0m\u001b[0m\n\u001b[0m\u001b[1;32m     55\u001b[0m   \u001b[0;32mtry\u001b[0m\u001b[0;34m:\u001b[0m\u001b[0;34m\u001b[0m\u001b[0;34m\u001b[0m\u001b[0m\n",
            "\u001b[0;31mNotFoundError\u001b[0m: /usr/local/lib/python3.8/dist-packages/tensorflow_quantum/core/ops/_tfq_simulate_ops.so: undefined symbol: _ZN10tensorflow8OpKernel11TraceStringEPNS_15OpKernelContextEb",
            "\nDuring handling of the above exception, another exception occurred:\n",
            "\u001b[0;31mNotFoundError\u001b[0m                             Traceback (most recent call last)",
            "\u001b[0;32m<ipython-input-60-401a1cec7661>\u001b[0m in \u001b[0;36m<module>\u001b[0;34m\u001b[0m\n\u001b[1;32m      1\u001b[0m \u001b[0;32mfrom\u001b[0m \u001b[0mbuild\u001b[0m\u001b[0;34m.\u001b[0m\u001b[0mlib\u001b[0m\u001b[0;34m.\u001b[0m\u001b[0mquple\u001b[0m \u001b[0;32mimport\u001b[0m \u001b[0mParameterisedCircuit\u001b[0m\u001b[0;34m\u001b[0m\u001b[0;34m\u001b[0m\u001b[0m\n\u001b[1;32m      2\u001b[0m \u001b[0;32mfrom\u001b[0m \u001b[0mbuild\u001b[0m\u001b[0;34m.\u001b[0m\u001b[0mlib\u001b[0m\u001b[0;34m.\u001b[0m\u001b[0mquple\u001b[0m\u001b[0;34m.\u001b[0m\u001b[0mdata_encoding\u001b[0m \u001b[0;32mimport\u001b[0m \u001b[0mFirstOrderPauliZEncoding\u001b[0m\u001b[0;34m\u001b[0m\u001b[0;34m\u001b[0m\u001b[0m\n\u001b[0;32m----> 3\u001b[0;31m \u001b[0;32mfrom\u001b[0m \u001b[0mbuild\u001b[0m\u001b[0;34m.\u001b[0m\u001b[0mlib\u001b[0m\u001b[0;34m.\u001b[0m\u001b[0mquple\u001b[0m\u001b[0;34m.\u001b[0m\u001b[0minterface\u001b[0m\u001b[0;34m.\u001b[0m\u001b[0mtfq\u001b[0m\u001b[0;34m.\u001b[0m\u001b[0mlayers\u001b[0m \u001b[0;32mimport\u001b[0m \u001b[0mQConv2D\u001b[0m\u001b[0;34m,\u001b[0m \u001b[0mPQC\u001b[0m\u001b[0;34m\u001b[0m\u001b[0;34m\u001b[0m\u001b[0m\n\u001b[0m",
            "\u001b[0;32m/content/QMLHEP/Quantum_GAN_for_HEP_Chi_Lung_Cheng/build/lib/quple/interface/tfq/layers/__init__.py\u001b[0m in \u001b[0;36m<module>\u001b[0;34m\u001b[0m\n\u001b[0;32m----> 1\u001b[0;31m \u001b[0;32mfrom\u001b[0m \u001b[0;34m.\u001b[0m\u001b[0mpqc\u001b[0m \u001b[0;32mimport\u001b[0m \u001b[0mPQC\u001b[0m\u001b[0;34m\u001b[0m\u001b[0;34m\u001b[0m\u001b[0m\n\u001b[0m\u001b[1;32m      2\u001b[0m \u001b[0;32mfrom\u001b[0m \u001b[0;34m.\u001b[0m\u001b[0mqconv2d\u001b[0m \u001b[0;32mimport\u001b[0m \u001b[0mQConv2D\u001b[0m\u001b[0;34m\u001b[0m\u001b[0;34m\u001b[0m\u001b[0m\n",
            "\u001b[0;32m/content/QMLHEP/Quantum_GAN_for_HEP_Chi_Lung_Cheng/build/lib/quple/interface/tfq/layers/pqc.py\u001b[0m in \u001b[0;36m<module>\u001b[0;34m\u001b[0m\n\u001b[1;32m      5\u001b[0m \u001b[0;32mimport\u001b[0m \u001b[0mcirq\u001b[0m\u001b[0;34m\u001b[0m\u001b[0;34m\u001b[0m\u001b[0m\n\u001b[1;32m      6\u001b[0m \u001b[0;32mimport\u001b[0m \u001b[0msympy\u001b[0m\u001b[0;34m\u001b[0m\u001b[0;34m\u001b[0m\u001b[0m\n\u001b[0;32m----> 7\u001b[0;31m \u001b[0;32mfrom\u001b[0m \u001b[0mtensorflow_quantum\u001b[0m\u001b[0;34m.\u001b[0m\u001b[0mpython\u001b[0m\u001b[0;34m.\u001b[0m\u001b[0mlayers\u001b[0m\u001b[0;34m.\u001b[0m\u001b[0mcircuit_executors\u001b[0m \u001b[0;32mimport\u001b[0m\u001b[0;31m \u001b[0m\u001b[0;31m\\\u001b[0m\u001b[0;34m\u001b[0m\u001b[0;34m\u001b[0m\u001b[0m\n\u001b[0m\u001b[1;32m      8\u001b[0m     \u001b[0mexpectation\u001b[0m\u001b[0;34m,\u001b[0m \u001b[0msampled_expectation\u001b[0m\u001b[0;34m\u001b[0m\u001b[0;34m\u001b[0m\u001b[0m\n\u001b[1;32m      9\u001b[0m \u001b[0;32mfrom\u001b[0m \u001b[0mtensorflow_quantum\u001b[0m\u001b[0;34m.\u001b[0m\u001b[0mpython\u001b[0m\u001b[0;34m.\u001b[0m\u001b[0mlayers\u001b[0m\u001b[0;34m.\u001b[0m\u001b[0mcircuit_construction\u001b[0m \u001b[0;32mimport\u001b[0m \u001b[0melementary\u001b[0m\u001b[0;34m\u001b[0m\u001b[0;34m\u001b[0m\u001b[0m\n",
            "\u001b[0;32m/usr/local/lib/python3.8/dist-packages/tensorflow_quantum/__init__.py\u001b[0m in \u001b[0;36m<module>\u001b[0;34m\u001b[0m\n\u001b[1;32m     16\u001b[0m \u001b[0;34m\u001b[0m\u001b[0m\n\u001b[1;32m     17\u001b[0m \u001b[0;31m# Import basic ops and op getters.\u001b[0m\u001b[0;34m\u001b[0m\u001b[0;34m\u001b[0m\u001b[0;34m\u001b[0m\u001b[0m\n\u001b[0;32m---> 18\u001b[0;31m from tensorflow_quantum.core import (append_circuit, get_expectation_op,\n\u001b[0m\u001b[1;32m     19\u001b[0m                                      \u001b[0mget_sampled_expectation_op\u001b[0m\u001b[0;34m,\u001b[0m\u001b[0;34m\u001b[0m\u001b[0;34m\u001b[0m\u001b[0m\n\u001b[1;32m     20\u001b[0m                                      \u001b[0mget_sampling_op\u001b[0m\u001b[0;34m,\u001b[0m \u001b[0mget_state_op\u001b[0m\u001b[0;34m,\u001b[0m\u001b[0;34m\u001b[0m\u001b[0;34m\u001b[0m\u001b[0m\n",
            "\u001b[0;32m/usr/local/lib/python3.8/dist-packages/tensorflow_quantum/core/__init__.py\u001b[0m in \u001b[0;36m<module>\u001b[0;34m\u001b[0m\n\u001b[1;32m     15\u001b[0m \u001b[0;34m\"\"\"Imports to tensorflow_quantum.core.* level.\"\"\"\u001b[0m\u001b[0;34m\u001b[0m\u001b[0;34m\u001b[0m\u001b[0m\n\u001b[1;32m     16\u001b[0m \u001b[0;31m# Import getters for constructing ops.\u001b[0m\u001b[0;34m\u001b[0m\u001b[0;34m\u001b[0m\u001b[0;34m\u001b[0m\u001b[0m\n\u001b[0;32m---> 17\u001b[0;31m from tensorflow_quantum.core.ops import (get_expectation_op,\n\u001b[0m\u001b[1;32m     18\u001b[0m                                          \u001b[0mget_sampled_expectation_op\u001b[0m\u001b[0;34m,\u001b[0m\u001b[0;34m\u001b[0m\u001b[0;34m\u001b[0m\u001b[0m\n\u001b[1;32m     19\u001b[0m                                          \u001b[0mget_sampling_op\u001b[0m\u001b[0;34m,\u001b[0m \u001b[0mget_state_op\u001b[0m\u001b[0;34m,\u001b[0m\u001b[0;34m\u001b[0m\u001b[0;34m\u001b[0m\u001b[0m\n",
            "\u001b[0;32m/usr/local/lib/python3.8/dist-packages/tensorflow_quantum/core/ops/__init__.py\u001b[0m in \u001b[0;36m<module>\u001b[0;34m\u001b[0m\n\u001b[1;32m     16\u001b[0m \u001b[0;34m\u001b[0m\u001b[0m\n\u001b[1;32m     17\u001b[0m \u001b[0;31m# Import getters for constructing ops.\u001b[0m\u001b[0;34m\u001b[0m\u001b[0;34m\u001b[0m\u001b[0;34m\u001b[0m\u001b[0m\n\u001b[0;32m---> 18\u001b[0;31m from tensorflow_quantum.core.ops.circuit_execution_ops import (\n\u001b[0m\u001b[1;32m     19\u001b[0m     \u001b[0mget_expectation_op\u001b[0m\u001b[0;34m,\u001b[0m \u001b[0mget_sampled_expectation_op\u001b[0m\u001b[0;34m,\u001b[0m \u001b[0mget_sampling_op\u001b[0m\u001b[0;34m,\u001b[0m\u001b[0;34m\u001b[0m\u001b[0;34m\u001b[0m\u001b[0m\n\u001b[1;32m     20\u001b[0m     get_state_op)\n",
            "\u001b[0;32m/usr/local/lib/python3.8/dist-packages/tensorflow_quantum/core/ops/circuit_execution_ops.py\u001b[0m in \u001b[0;36m<module>\u001b[0;34m\u001b[0m\n\u001b[1;32m     18\u001b[0m \u001b[0;32mimport\u001b[0m \u001b[0mcirq\u001b[0m\u001b[0;34m\u001b[0m\u001b[0;34m\u001b[0m\u001b[0m\n\u001b[1;32m     19\u001b[0m \u001b[0;34m\u001b[0m\u001b[0m\n\u001b[0;32m---> 20\u001b[0;31m from tensorflow_quantum.core.ops import (cirq_ops, tfq_simulate_ops,\n\u001b[0m\u001b[1;32m     21\u001b[0m                                          tfq_utility_ops)\n\u001b[1;32m     22\u001b[0m \u001b[0;32mfrom\u001b[0m \u001b[0mtensorflow_quantum\u001b[0m\u001b[0;34m.\u001b[0m\u001b[0mpython\u001b[0m \u001b[0;32mimport\u001b[0m \u001b[0mquantum_context\u001b[0m\u001b[0;34m\u001b[0m\u001b[0;34m\u001b[0m\u001b[0m\n",
            "\u001b[0;32m/usr/local/lib/python3.8/dist-packages/tensorflow_quantum/core/ops/tfq_simulate_ops.py\u001b[0m in \u001b[0;36m<module>\u001b[0;34m\u001b[0m\n\u001b[1;32m     17\u001b[0m \u001b[0;32mfrom\u001b[0m \u001b[0mtensorflow_quantum\u001b[0m\u001b[0;34m.\u001b[0m\u001b[0mcore\u001b[0m\u001b[0;34m.\u001b[0m\u001b[0mops\u001b[0m\u001b[0;34m.\u001b[0m\u001b[0mload_module\u001b[0m \u001b[0;32mimport\u001b[0m \u001b[0mload_module\u001b[0m\u001b[0;34m\u001b[0m\u001b[0;34m\u001b[0m\u001b[0m\n\u001b[1;32m     18\u001b[0m \u001b[0;34m\u001b[0m\u001b[0m\n\u001b[0;32m---> 19\u001b[0;31m \u001b[0mSIM_OP_MODULE\u001b[0m \u001b[0;34m=\u001b[0m \u001b[0mload_module\u001b[0m\u001b[0;34m(\u001b[0m\u001b[0;34m\"_tfq_simulate_ops.so\"\u001b[0m\u001b[0;34m)\u001b[0m\u001b[0;34m\u001b[0m\u001b[0;34m\u001b[0m\u001b[0m\n\u001b[0m\u001b[1;32m     20\u001b[0m \u001b[0;34m\u001b[0m\u001b[0m\n\u001b[1;32m     21\u001b[0m \u001b[0;34m\u001b[0m\u001b[0m\n",
            "\u001b[0;32m/usr/local/lib/python3.8/dist-packages/tensorflow_quantum/core/ops/load_module.py\u001b[0m in \u001b[0;36mload_module\u001b[0;34m(name)\u001b[0m\n\u001b[1;32m     44\u001b[0m         path = os.path.join(get_python_lib(), \"tensorflow_quantum/core/ops\",\n\u001b[1;32m     45\u001b[0m                             name)\n\u001b[0;32m---> 46\u001b[0;31m         \u001b[0;32mreturn\u001b[0m \u001b[0mload_library\u001b[0m\u001b[0;34m.\u001b[0m\u001b[0mload_op_library\u001b[0m\u001b[0;34m(\u001b[0m\u001b[0mpath\u001b[0m\u001b[0;34m)\u001b[0m\u001b[0;34m\u001b[0m\u001b[0;34m\u001b[0m\u001b[0m\n\u001b[0m",
            "\u001b[0;32m/usr/local/lib/python3.8/dist-packages/tensorflow/python/framework/load_library.py\u001b[0m in \u001b[0;36mload_op_library\u001b[0;34m(library_filename)\u001b[0m\n\u001b[1;32m     52\u001b[0m     \u001b[0mRuntimeError\u001b[0m\u001b[0;34m:\u001b[0m \u001b[0mwhen\u001b[0m \u001b[0munable\u001b[0m \u001b[0mto\u001b[0m \u001b[0mload\u001b[0m \u001b[0mthe\u001b[0m \u001b[0mlibrary\u001b[0m \u001b[0;32mor\u001b[0m \u001b[0mget\u001b[0m \u001b[0mthe\u001b[0m \u001b[0mpython\u001b[0m \u001b[0mwrappers\u001b[0m\u001b[0;34m.\u001b[0m\u001b[0;34m\u001b[0m\u001b[0;34m\u001b[0m\u001b[0m\n\u001b[1;32m     53\u001b[0m   \"\"\"\n\u001b[0;32m---> 54\u001b[0;31m   \u001b[0mlib_handle\u001b[0m \u001b[0;34m=\u001b[0m \u001b[0mpy_tf\u001b[0m\u001b[0;34m.\u001b[0m\u001b[0mTF_LoadLibrary\u001b[0m\u001b[0;34m(\u001b[0m\u001b[0mlibrary_filename\u001b[0m\u001b[0;34m)\u001b[0m\u001b[0;34m\u001b[0m\u001b[0;34m\u001b[0m\u001b[0m\n\u001b[0m\u001b[1;32m     55\u001b[0m   \u001b[0;32mtry\u001b[0m\u001b[0;34m:\u001b[0m\u001b[0;34m\u001b[0m\u001b[0;34m\u001b[0m\u001b[0m\n\u001b[1;32m     56\u001b[0m     wrappers = _pywrap_python_op_gen.GetPythonWrappers(\n",
            "\u001b[0;31mNotFoundError\u001b[0m: /usr/lib/python3/dist-packages/tensorflow_quantum/core/ops/_tfq_simulate_ops.so: cannot open shared object file: No such file or directory"
          ]
        }
      ]
    },
    {
      "cell_type": "code",
      "source": [
        "!python setup.py"
      ],
      "metadata": {
        "colab": {
          "base_uri": "https://localhost:8080/"
        },
        "id": "1ifqhoTQm5Qn",
        "outputId": "fece9a2d-4a7f-45d7-da3d-fa6e6dd82b2f"
      },
      "execution_count": 43,
      "outputs": [
        {
          "output_type": "stream",
          "name": "stdout",
          "text": [
            "usage: setup.py [global_opts] cmd1 [cmd1_opts] [cmd2 [cmd2_opts] ...]\n",
            "   or: setup.py --help [cmd1 cmd2 ...]\n",
            "   or: setup.py --help-commands\n",
            "   or: setup.py cmd --help\n",
            "\n",
            "error: no commands supplied\n"
          ]
        }
      ]
    },
    {
      "cell_type": "code",
      "source": [
        "from build.lib.quple.models.generative import QGAN, QWGAN"
      ],
      "metadata": {
        "id": "CFg5dN0YoODo"
      },
      "execution_count": 59,
      "outputs": []
    },
    {
      "cell_type": "code",
      "source": [
        "def create_classical_generator():\n",
        "    model = tf.keras.Sequential()\n",
        "    # foundation for 2x2 image\n",
        "    n_nodes = 64 * 2 * 2\n",
        "    model.add(tf.keras.layers.Dense(n_nodes, use_bias=False, input_shape=(100,)))\n",
        "    model.add(tf.keras.layers.BatchNormalization())\n",
        "    model.add(tf.keras.layers.LeakyReLU())\n",
        "    model.add(tf.keras.layers.Reshape((2, 2, 64)))\n",
        "\n",
        "    model.add(tf.keras.layers.Conv2DTranspose(32, (2,2), strides=(1,1), padding=\"same\", use_bias=False))\n",
        "    model.add(tf.keras.layers.BatchNormalization())\n",
        "    model.add(tf.keras.layers.LeakyReLU())\n",
        "    # upsample to 4x4\n",
        "    model.add(tf.keras.layers.Conv2DTranspose(16, (2,2), strides=(2,2), padding=\"same\", use_bias=False))\n",
        "    model.add(tf.keras.layers.BatchNormalization())\n",
        "    model.add(tf.keras.layers.LeakyReLU())    \n",
        "    # upsample to 8x8\n",
        "    model.add(tf.keras.layers.Conv2DTranspose(1, (3,3), strides=(2,2), padding=\"same\", use_bias=False, activation='tanh'))\n",
        "    return model\n",
        "\n",
        "def create_classical_discriminator():\n",
        "    model = tf.keras.Sequential()\n",
        "    model.add(tf.keras.layers.Conv2D(64, (3, 3), strides=(2, 2), padding='same', input_shape=[8, 8, 1]))\n",
        "    model.add(tf.keras.layers.LeakyReLU())\n",
        "    model.add(tf.keras.layers.Dropout(0.3))\n",
        "\n",
        "    model.add(tf.keras.layers.Conv2D(128, (2, 2), strides=(2, 2), padding='same'))\n",
        "    model.add(tf.keras.layers.LeakyReLU())\n",
        "    model.add(tf.keras.layers.Dropout(0.3))\n",
        "\n",
        "    model.add(tf.keras.layers.Flatten())\n",
        "    model.add(tf.keras.layers.Dense(1))\n",
        "    return model"
      ],
      "metadata": {
        "id": "fAVNNbhbnNSe"
      },
      "execution_count": 61,
      "outputs": []
    },
    {
      "cell_type": "code",
      "source": [
        "optimizer_kwargs = {\n",
        "    \"generator\": {\"learning_rate\": 5e-4},\n",
        "    \"discriminator\": {\"learning_rate\": 5e-4}\n",
        "}\n",
        "generator = create_classical_generator()\n",
        "discriminator = create_classical_discriminator()\n",
        "classical_gan = QGAN(generator, discriminator,\n",
        "            epochs=70, batch_size=16,\n",
        "            n_disc=1,\n",
        "            optimizer=\"adam\",\n",
        "            optimizer_kwargs=optimizer_kwargs,\n",
        "            random_state=2021, \n",
        "            checkpoint_dir=\"./training_checkpoints/GAN/photon_image_8x8\")\n",
        "classical_gan.enable_visualization((8, 8), n_image=16)"
      ],
      "metadata": {
        "colab": {
          "base_uri": "https://localhost:8080/"
        },
        "id": "YLAn5mCcn9Z_",
        "outputId": "9bff24e0-e954-4175-b4b7-4909360454ee"
      },
      "execution_count": 62,
      "outputs": [
        {
          "output_type": "stream",
          "name": "stdout",
          "text": [
            "Summary of Generator\n",
            "Model: \"sequential_2\"\n",
            "_________________________________________________________________\n",
            " Layer (type)                Output Shape              Param #   \n",
            "=================================================================\n",
            " dense_2 (Dense)             (None, 256)               25600     \n",
            "                                                                 \n",
            " batch_normalization_3 (Batc  (None, 256)              1024      \n",
            " hNormalization)                                                 \n",
            "                                                                 \n",
            " leaky_re_lu_5 (LeakyReLU)   (None, 256)               0         \n",
            "                                                                 \n",
            " reshape_1 (Reshape)         (None, 2, 2, 64)          0         \n",
            "                                                                 \n",
            " conv2d_transpose_3 (Conv2DT  (None, 2, 2, 32)         8192      \n",
            " ranspose)                                                       \n",
            "                                                                 \n",
            " batch_normalization_4 (Batc  (None, 2, 2, 32)         128       \n",
            " hNormalization)                                                 \n",
            "                                                                 \n",
            " leaky_re_lu_6 (LeakyReLU)   (None, 2, 2, 32)          0         \n",
            "                                                                 \n",
            " conv2d_transpose_4 (Conv2DT  (None, 4, 4, 16)         2048      \n",
            " ranspose)                                                       \n",
            "                                                                 \n",
            " batch_normalization_5 (Batc  (None, 4, 4, 16)         64        \n",
            " hNormalization)                                                 \n",
            "                                                                 \n",
            " leaky_re_lu_7 (LeakyReLU)   (None, 4, 4, 16)          0         \n",
            "                                                                 \n",
            " conv2d_transpose_5 (Conv2DT  (None, 8, 8, 1)          144       \n",
            " ranspose)                                                       \n",
            "                                                                 \n",
            "=================================================================\n",
            "Total params: 37,200\n",
            "Trainable params: 36,592\n",
            "Non-trainable params: 608\n",
            "_________________________________________________________________\n",
            "Summary of Discriminator\n",
            "Model: \"sequential_3\"\n",
            "_________________________________________________________________\n",
            " Layer (type)                Output Shape              Param #   \n",
            "=================================================================\n",
            " conv2d_2 (Conv2D)           (None, 4, 4, 64)          640       \n",
            "                                                                 \n",
            " leaky_re_lu_8 (LeakyReLU)   (None, 4, 4, 64)          0         \n",
            "                                                                 \n",
            " dropout_2 (Dropout)         (None, 4, 4, 64)          0         \n",
            "                                                                 \n",
            " conv2d_3 (Conv2D)           (None, 2, 2, 128)         32896     \n",
            "                                                                 \n",
            " leaky_re_lu_9 (LeakyReLU)   (None, 2, 2, 128)         0         \n",
            "                                                                 \n",
            " dropout_3 (Dropout)         (None, 2, 2, 128)         0         \n",
            "                                                                 \n",
            " flatten_1 (Flatten)         (None, 512)               0         \n",
            "                                                                 \n",
            " dense_3 (Dense)             (None, 1)                 513       \n",
            "                                                                 \n",
            "=================================================================\n",
            "Total params: 34,049\n",
            "Trainable params: 34,049\n",
            "Non-trainable params: 0\n",
            "_________________________________________________________________\n"
          ]
        }
      ]
    },
    {
      "cell_type": "code",
      "source": [
        "classical_gan.train(x_train_final[:200])"
      ],
      "metadata": {
        "colab": {
          "base_uri": "https://localhost:8080/",
          "height": 560
        },
        "id": "_z6ENu0uoA1v",
        "outputId": "424ee6d3-5407-4a61-e640-56a2d968488d"
      },
      "execution_count": null,
      "outputs": [
        {
          "output_type": "display_data",
          "data": {
            "text/plain": [
              "<Figure size 1152x648 with 17 Axes>"
            ],
            "image/png": "[encoded data removed]"
          },
          "metadata": {
            "needs_background": "light"
          }
        }
      ]
    },
    {
      "cell_type": "code",
      "source": [],
      "metadata": {
        "id": "a7auQWlGpsoA"
      },
      "execution_count": null,
      "outputs": []
    }
  ]
}