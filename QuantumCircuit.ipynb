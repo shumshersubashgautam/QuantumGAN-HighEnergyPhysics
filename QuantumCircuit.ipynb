{
  "nbformat": 4,
  "nbformat_minor": 0,
  "metadata": {
    "colab": {
      "provenance": []
    },
    "kernelspec": {
      "name": "python3",
      "display_name": "Python 3"
    },
    "language_info": {
      "name": "python"
    },
    "accelerator": "GPU",
    "gpuClass": "standard"
  },
  "cells": [
    {
      "cell_type": "code",
      "execution_count": 2,
      "metadata": {
        "colab": {
          "base_uri": "https://localhost:8080/"
        },
        "id": "PIugEcjlwk4O",
        "outputId": "8bb25fe1-ab22-434b-d40f-fd6da0c473b0"
      },
      "outputs": [
        {
          "output_type": "stream",
          "name": "stdout",
          "text": [
            "Looking in indexes: https://pypi.org/simple, https://us-python.pkg.dev/colab-wheels/public/simple/\n",
            "Collecting tensorflow==2.3.1\n",
            "  Downloading tensorflow-2.3.1-cp38-cp38-manylinux2010_x86_64.whl (320.5 MB)\n",
            "\u001b[2K     \u001b[90m━━━━━━━━━━━━━━━━━━━━━━━━━━━━━━━━━━━━━━━\u001b[0m \u001b[32m320.5/320.5 MB\u001b[0m \u001b[31m4.5 MB/s\u001b[0m eta \u001b[36m0:00:00\u001b[0m\n",
            "\u001b[?25hCollecting numpy<1.19.0,>=1.16.0\n",
            "  Downloading numpy-1.18.5-cp38-cp38-manylinux1_x86_64.whl (20.6 MB)\n",
            "\u001b[2K     \u001b[90m━━━━━━━━━━━━━━━━━━━━━━━━━━━━━━━━━━━━━━━━\u001b[0m \u001b[32m20.6/20.6 MB\u001b[0m \u001b[31m66.7 MB/s\u001b[0m eta \u001b[36m0:00:00\u001b[0m\n",
            "\u001b[?25hRequirement already satisfied: opt-einsum>=2.3.2 in /usr/local/lib/python3.8/dist-packages (from tensorflow==2.3.1) (3.3.0)\n",
            "Requirement already satisfied: six>=1.12.0 in /usr/local/lib/python3.8/dist-packages (from tensorflow==2.3.1) (1.15.0)\n",
            "Collecting keras-preprocessing<1.2,>=1.1.1\n",
            "  Downloading Keras_Preprocessing-1.1.2-py2.py3-none-any.whl (42 kB)\n",
            "\u001b[2K     \u001b[90m━━━━━━━━━━━━━━━━━━━━━━━━━━━━━━━━━━━━━━━━\u001b[0m \u001b[32m42.6/42.6 KB\u001b[0m \u001b[31m6.2 MB/s\u001b[0m eta \u001b[36m0:00:00\u001b[0m\n",
            "\u001b[?25hRequirement already satisfied: grpcio>=1.8.6 in /usr/local/lib/python3.8/dist-packages (from tensorflow==2.3.1) (1.51.1)\n",
            "Requirement already satisfied: wrapt>=1.11.1 in /usr/local/lib/python3.8/dist-packages (from tensorflow==2.3.1) (1.14.1)\n",
            "Requirement already satisfied: astunparse==1.6.3 in /usr/local/lib/python3.8/dist-packages (from tensorflow==2.3.1) (1.6.3)\n",
            "Collecting tensorflow-estimator<2.4.0,>=2.3.0\n",
            "  Downloading tensorflow_estimator-2.3.0-py2.py3-none-any.whl (459 kB)\n",
            "\u001b[2K     \u001b[90m━━━━━━━━━━━━━━━━━━━━━━━━━━━━━━━━━━━━━━\u001b[0m \u001b[32m459.0/459.0 KB\u001b[0m \u001b[31m47.8 MB/s\u001b[0m eta \u001b[36m0:00:00\u001b[0m\n",
            "\u001b[?25hRequirement already satisfied: absl-py>=0.7.0 in /usr/local/lib/python3.8/dist-packages (from tensorflow==2.3.1) (1.4.0)\n",
            "Requirement already satisfied: wheel>=0.26 in /usr/local/lib/python3.8/dist-packages (from tensorflow==2.3.1) (0.38.4)\n",
            "Requirement already satisfied: google-pasta>=0.1.8 in /usr/local/lib/python3.8/dist-packages (from tensorflow==2.3.1) (0.2.0)\n",
            "Requirement already satisfied: tensorboard<3,>=2.3.0 in /usr/local/lib/python3.8/dist-packages (from tensorflow==2.3.1) (2.11.2)\n",
            "Requirement already satisfied: termcolor>=1.1.0 in /usr/local/lib/python3.8/dist-packages (from tensorflow==2.3.1) (2.2.0)\n",
            "Collecting h5py<2.11.0,>=2.10.0\n",
            "  Downloading h5py-2.10.0-cp38-cp38-manylinux1_x86_64.whl (2.9 MB)\n",
            "\u001b[2K     \u001b[90m━━━━━━━━━━━━━━━━━━━━━━━━━━━━━━━━━━━━━━━━\u001b[0m \u001b[32m2.9/2.9 MB\u001b[0m \u001b[31m92.7 MB/s\u001b[0m eta \u001b[36m0:00:00\u001b[0m\n",
            "\u001b[?25hRequirement already satisfied: protobuf>=3.9.2 in /usr/local/lib/python3.8/dist-packages (from tensorflow==2.3.1) (3.19.6)\n",
            "Collecting gast==0.3.3\n",
            "  Downloading gast-0.3.3-py2.py3-none-any.whl (9.7 kB)\n",
            "Requirement already satisfied: markdown>=2.6.8 in /usr/local/lib/python3.8/dist-packages (from tensorboard<3,>=2.3.0->tensorflow==2.3.1) (3.4.1)\n",
            "Requirement already satisfied: setuptools>=41.0.0 in /usr/local/lib/python3.8/dist-packages (from tensorboard<3,>=2.3.0->tensorflow==2.3.1) (57.4.0)\n",
            "Requirement already satisfied: google-auth-oauthlib<0.5,>=0.4.1 in /usr/local/lib/python3.8/dist-packages (from tensorboard<3,>=2.3.0->tensorflow==2.3.1) (0.4.6)\n",
            "Requirement already satisfied: tensorboard-plugin-wit>=1.6.0 in /usr/local/lib/python3.8/dist-packages (from tensorboard<3,>=2.3.0->tensorflow==2.3.1) (1.8.1)\n",
            "Requirement already satisfied: google-auth<3,>=1.6.3 in /usr/local/lib/python3.8/dist-packages (from tensorboard<3,>=2.3.0->tensorflow==2.3.1) (2.16.0)\n",
            "Requirement already satisfied: werkzeug>=1.0.1 in /usr/local/lib/python3.8/dist-packages (from tensorboard<3,>=2.3.0->tensorflow==2.3.1) (1.0.1)\n",
            "Requirement already satisfied: requests<3,>=2.21.0 in /usr/local/lib/python3.8/dist-packages (from tensorboard<3,>=2.3.0->tensorflow==2.3.1) (2.25.1)\n",
            "Requirement already satisfied: tensorboard-data-server<0.7.0,>=0.6.0 in /usr/local/lib/python3.8/dist-packages (from tensorboard<3,>=2.3.0->tensorflow==2.3.1) (0.6.1)\n",
            "Requirement already satisfied: rsa<5,>=3.1.4 in /usr/local/lib/python3.8/dist-packages (from google-auth<3,>=1.6.3->tensorboard<3,>=2.3.0->tensorflow==2.3.1) (4.9)\n",
            "Requirement already satisfied: pyasn1-modules>=0.2.1 in /usr/local/lib/python3.8/dist-packages (from google-auth<3,>=1.6.3->tensorboard<3,>=2.3.0->tensorflow==2.3.1) (0.2.8)\n",
            "Requirement already satisfied: cachetools<6.0,>=2.0.0 in /usr/local/lib/python3.8/dist-packages (from google-auth<3,>=1.6.3->tensorboard<3,>=2.3.0->tensorflow==2.3.1) (5.3.0)\n",
            "Requirement already satisfied: requests-oauthlib>=0.7.0 in /usr/local/lib/python3.8/dist-packages (from google-auth-oauthlib<0.5,>=0.4.1->tensorboard<3,>=2.3.0->tensorflow==2.3.1) (1.3.1)\n",
            "Requirement already satisfied: importlib-metadata>=4.4 in /usr/local/lib/python3.8/dist-packages (from markdown>=2.6.8->tensorboard<3,>=2.3.0->tensorflow==2.3.1) (6.0.0)\n",
            "Requirement already satisfied: idna<3,>=2.5 in /usr/local/lib/python3.8/dist-packages (from requests<3,>=2.21.0->tensorboard<3,>=2.3.0->tensorflow==2.3.1) (2.10)\n",
            "Requirement already satisfied: urllib3<1.27,>=1.21.1 in /usr/local/lib/python3.8/dist-packages (from requests<3,>=2.21.0->tensorboard<3,>=2.3.0->tensorflow==2.3.1) (1.24.3)\n",
            "Requirement already satisfied: chardet<5,>=3.0.2 in /usr/local/lib/python3.8/dist-packages (from requests<3,>=2.21.0->tensorboard<3,>=2.3.0->tensorflow==2.3.1) (4.0.0)\n",
            "Requirement already satisfied: certifi>=2017.4.17 in /usr/local/lib/python3.8/dist-packages (from requests<3,>=2.21.0->tensorboard<3,>=2.3.0->tensorflow==2.3.1) (2022.12.7)\n",
            "Requirement already satisfied: zipp>=0.5 in /usr/local/lib/python3.8/dist-packages (from importlib-metadata>=4.4->markdown>=2.6.8->tensorboard<3,>=2.3.0->tensorflow==2.3.1) (3.13.0)\n",
            "Requirement already satisfied: pyasn1<0.5.0,>=0.4.6 in /usr/local/lib/python3.8/dist-packages (from pyasn1-modules>=0.2.1->google-auth<3,>=1.6.3->tensorboard<3,>=2.3.0->tensorflow==2.3.1) (0.4.8)\n",
            "Requirement already satisfied: oauthlib>=3.0.0 in /usr/local/lib/python3.8/dist-packages (from requests-oauthlib>=0.7.0->google-auth-oauthlib<0.5,>=0.4.1->tensorboard<3,>=2.3.0->tensorflow==2.3.1) (3.2.2)\n",
            "Installing collected packages: tensorflow-estimator, numpy, gast, keras-preprocessing, h5py, tensorflow\n",
            "  Attempting uninstall: tensorflow-estimator\n",
            "    Found existing installation: tensorflow-estimator 2.11.0\n",
            "    Uninstalling tensorflow-estimator-2.11.0:\n",
            "      Successfully uninstalled tensorflow-estimator-2.11.0\n",
            "  Attempting uninstall: numpy\n",
            "    Found existing installation: numpy 1.21.6\n",
            "    Uninstalling numpy-1.21.6:\n",
            "      Successfully uninstalled numpy-1.21.6\n",
            "  Attempting uninstall: gast\n",
            "    Found existing installation: gast 0.4.0\n",
            "    Uninstalling gast-0.4.0:\n",
            "      Successfully uninstalled gast-0.4.0\n",
            "  Attempting uninstall: h5py\n",
            "    Found existing installation: h5py 3.1.0\n",
            "    Uninstalling h5py-3.1.0:\n",
            "      Successfully uninstalled h5py-3.1.0\n",
            "  Attempting uninstall: tensorflow\n",
            "    Found existing installation: tensorflow 2.11.0\n",
            "    Uninstalling tensorflow-2.11.0:\n",
            "      Successfully uninstalled tensorflow-2.11.0\n",
            "\u001b[31mERROR: pip's dependency resolver does not currently take into account all the packages that are installed. This behaviour is the source of the following dependency conflicts.\n",
            "xarray 2022.12.0 requires numpy>=1.20, but you have numpy 1.18.5 which is incompatible.\n",
            "xarray-einstats 0.5.1 requires numpy>=1.20, but you have numpy 1.18.5 which is incompatible.\n",
            "tables 3.7.0 requires numpy>=1.19.0, but you have numpy 1.18.5 which is incompatible.\n",
            "plotnine 0.8.0 requires numpy>=1.19.0, but you have numpy 1.18.5 which is incompatible.\n",
            "jaxlib 0.3.25+cuda11.cudnn805 requires numpy>=1.20, but you have numpy 1.18.5 which is incompatible.\n",
            "jax 0.3.25 requires numpy>=1.20, but you have numpy 1.18.5 which is incompatible.\n",
            "cupy-cuda11x 11.0.0 requires numpy<1.26,>=1.20, but you have numpy 1.18.5 which is incompatible.\n",
            "cmdstanpy 1.1.0 requires numpy>=1.21, but you have numpy 1.18.5 which is incompatible.\u001b[0m\u001b[31m\n",
            "\u001b[0mSuccessfully installed gast-0.3.3 h5py-2.10.0 keras-preprocessing-1.1.2 numpy-1.18.5 tensorflow-2.3.1 tensorflow-estimator-2.3.0\n",
            "Looking in indexes: https://pypi.org/simple, https://us-python.pkg.dev/colab-wheels/public/simple/\n",
            "Collecting tensorflow_quantum==0.4.0\n",
            "  Downloading tensorflow_quantum-0.4.0-cp38-cp38-manylinux2010_x86_64.whl (5.9 MB)\n",
            "\u001b[2K     \u001b[90m━━━━━━━━━━━━━━━━━━━━━━━━━━━━━━━━━━━━━━━━\u001b[0m \u001b[32m5.9/5.9 MB\u001b[0m \u001b[31m8.0 MB/s\u001b[0m eta \u001b[36m0:00:00\u001b[0m\n",
            "\u001b[?25hCollecting cirq==0.9.1\n",
            "  Downloading cirq-0.9.1-py3-none-any.whl (1.6 MB)\n",
            "\u001b[2K     \u001b[90m━━━━━━━━━━━━━━━━━━━━━━━━━━━━━━━━━━━━━━━━\u001b[0m \u001b[32m1.6/1.6 MB\u001b[0m \u001b[31m75.9 MB/s\u001b[0m eta \u001b[36m0:00:00\u001b[0m\n",
            "\u001b[?25hCollecting sympy==1.5\n",
            "  Downloading sympy-1.5-py2.py3-none-any.whl (5.6 MB)\n",
            "\u001b[2K     \u001b[90m━━━━━━━━━━━━━━━━━━━━━━━━━━━━━━━━━━━━━━━━\u001b[0m \u001b[32m5.6/5.6 MB\u001b[0m \u001b[31m5.4 MB/s\u001b[0m eta \u001b[36m0:00:00\u001b[0m\n",
            "\u001b[?25hRequirement already satisfied: scipy in /usr/local/lib/python3.8/dist-packages (from cirq==0.9.1->tensorflow_quantum==0.4.0) (1.7.3)\n",
            "Collecting google-api-core[grpc]<2.0.0dev,>=1.14.0\n",
            "  Downloading google_api_core-1.34.0-py3-none-any.whl (120 kB)\n",
            "\u001b[2K     \u001b[90m━━━━━━━━━━━━━━━━━━━━━━━━━━━━━━━━━━━━━━\u001b[0m \u001b[32m120.2/120.2 KB\u001b[0m \u001b[31m13.3 MB/s\u001b[0m eta \u001b[36m0:00:00\u001b[0m\n",
            "\u001b[?25hCollecting protobuf~=3.12.0\n",
            "  Downloading protobuf-3.12.4-cp38-cp38-manylinux1_x86_64.whl (1.3 MB)\n",
            "\u001b[2K     \u001b[90m━━━━━━━━━━━━━━━━━━━━━━━━━━━━━━━━━━━━━━━━\u001b[0m \u001b[32m1.3/1.3 MB\u001b[0m \u001b[31m59.7 MB/s\u001b[0m eta \u001b[36m0:00:00\u001b[0m\n",
            "\u001b[?25hRequirement already satisfied: pandas in /usr/local/lib/python3.8/dist-packages (from cirq==0.9.1->tensorflow_quantum==0.4.0) (1.3.5)\n",
            "Collecting networkx~=2.4\n",
            "  Downloading networkx-2.8.8-py3-none-any.whl (2.0 MB)\n",
            "\u001b[2K     \u001b[90m━━━━━━━━━━━━━━━━━━━━━━━━━━━━━━━━━━━━━━━━\u001b[0m \u001b[32m2.0/2.0 MB\u001b[0m \u001b[31m74.6 MB/s\u001b[0m eta \u001b[36m0:00:00\u001b[0m\n",
            "\u001b[?25hCollecting freezegun~=0.3.15\n",
            "  Downloading freezegun-0.3.15-py2.py3-none-any.whl (14 kB)\n",
            "Requirement already satisfied: sortedcontainers~=2.0 in /usr/local/lib/python3.8/dist-packages (from cirq==0.9.1->tensorflow_quantum==0.4.0) (2.4.0)\n",
            "Requirement already satisfied: numpy~=1.16 in /usr/local/lib/python3.8/dist-packages (from cirq==0.9.1->tensorflow_quantum==0.4.0) (1.18.5)\n",
            "Requirement already satisfied: requests~=2.18 in /usr/local/lib/python3.8/dist-packages (from cirq==0.9.1->tensorflow_quantum==0.4.0) (2.25.1)\n",
            "Requirement already satisfied: matplotlib~=3.0 in /usr/local/lib/python3.8/dist-packages (from cirq==0.9.1->tensorflow_quantum==0.4.0) (3.2.2)\n",
            "Requirement already satisfied: typing-extensions in /usr/local/lib/python3.8/dist-packages (from cirq==0.9.1->tensorflow_quantum==0.4.0) (4.5.0)\n",
            "Requirement already satisfied: mpmath>=0.19 in /usr/local/lib/python3.8/dist-packages (from sympy==1.5->tensorflow_quantum==0.4.0) (1.2.1)\n",
            "Requirement already satisfied: six in /usr/local/lib/python3.8/dist-packages (from freezegun~=0.3.15->cirq==0.9.1->tensorflow_quantum==0.4.0) (1.15.0)\n",
            "Requirement already satisfied: python-dateutil!=2.0,>=1.0 in /usr/local/lib/python3.8/dist-packages (from freezegun~=0.3.15->cirq==0.9.1->tensorflow_quantum==0.4.0) (2.8.2)\n",
            "Requirement already satisfied: googleapis-common-protos<2.0dev,>=1.56.2 in /usr/local/lib/python3.8/dist-packages (from google-api-core[grpc]<2.0.0dev,>=1.14.0->cirq==0.9.1->tensorflow_quantum==0.4.0) (1.58.0)\n",
            "Requirement already satisfied: google-auth<3.0dev,>=1.25.0 in /usr/local/lib/python3.8/dist-packages (from google-api-core[grpc]<2.0.0dev,>=1.14.0->cirq==0.9.1->tensorflow_quantum==0.4.0) (2.16.0)\n",
            "Collecting google-api-core[grpc]<2.0.0dev,>=1.14.0\n",
            "  Downloading google_api_core-1.33.2-py3-none-any.whl (115 kB)\n",
            "\u001b[2K     \u001b[90m━━━━━━━━━━━━━━━━━━━━━━━━━━━━━━━━━━━━━━\u001b[0m \u001b[32m115.5/115.5 KB\u001b[0m \u001b[31m18.0 MB/s\u001b[0m eta \u001b[36m0:00:00\u001b[0m\n",
            "\u001b[?25h  Downloading google_api_core-1.33.1-py3-none-any.whl (115 kB)\n",
            "\u001b[2K     \u001b[90m━━━━━━━━━━━━━━━━━━━━━━━━━━━━━━━━━━━━━━\u001b[0m \u001b[32m115.5/115.5 KB\u001b[0m \u001b[31m19.1 MB/s\u001b[0m eta \u001b[36m0:00:00\u001b[0m\n",
            "\u001b[?25h  Downloading google_api_core-1.33.0-py3-none-any.whl (115 kB)\n",
            "\u001b[2K     \u001b[90m━━━━━━━━━━━━━━━━━━━━━━━━━━━━━━━━━━━━━━\u001b[0m \u001b[32m115.2/115.2 KB\u001b[0m \u001b[31m18.7 MB/s\u001b[0m eta \u001b[36m0:00:00\u001b[0m\n",
            "\u001b[?25h  Downloading google_api_core-1.32.0-py2.py3-none-any.whl (93 kB)\n",
            "\u001b[2K     \u001b[90m━━━━━━━━━━━━━━━━━━━━━━━━━━━━━━━━━━━━━━━━\u001b[0m \u001b[32m93.6/93.6 KB\u001b[0m \u001b[31m15.7 MB/s\u001b[0m eta \u001b[36m0:00:00\u001b[0m\n",
            "\u001b[?25hCollecting google-auth<2.0dev,>=1.25.0\n",
            "  Downloading google_auth-1.35.0-py2.py3-none-any.whl (152 kB)\n",
            "\u001b[2K     \u001b[90m━━━━━━━━━━━━━━━━━━━━━━━━━━━━━━━━━━━━━━\u001b[0m \u001b[32m152.9/152.9 KB\u001b[0m \u001b[31m24.2 MB/s\u001b[0m eta \u001b[36m0:00:00\u001b[0m\n",
            "\u001b[?25hRequirement already satisfied: setuptools>=40.3.0 in /usr/local/lib/python3.8/dist-packages (from google-api-core[grpc]<2.0.0dev,>=1.14.0->cirq==0.9.1->tensorflow_quantum==0.4.0) (57.4.0)\n",
            "Requirement already satisfied: packaging>=14.3 in /usr/local/lib/python3.8/dist-packages (from google-api-core[grpc]<2.0.0dev,>=1.14.0->cirq==0.9.1->tensorflow_quantum==0.4.0) (23.0)\n",
            "Requirement already satisfied: pytz in /usr/local/lib/python3.8/dist-packages (from google-api-core[grpc]<2.0.0dev,>=1.14.0->cirq==0.9.1->tensorflow_quantum==0.4.0) (2022.7.1)\n",
            "Requirement already satisfied: grpcio<2.0dev,>=1.29.0 in /usr/local/lib/python3.8/dist-packages (from google-api-core[grpc]<2.0.0dev,>=1.14.0->cirq==0.9.1->tensorflow_quantum==0.4.0) (1.51.1)\n",
            "Requirement already satisfied: cycler>=0.10 in /usr/local/lib/python3.8/dist-packages (from matplotlib~=3.0->cirq==0.9.1->tensorflow_quantum==0.4.0) (0.11.0)\n",
            "Requirement already satisfied: pyparsing!=2.0.4,!=2.1.2,!=2.1.6,>=2.0.1 in /usr/local/lib/python3.8/dist-packages (from matplotlib~=3.0->cirq==0.9.1->tensorflow_quantum==0.4.0) (3.0.9)\n",
            "Requirement already satisfied: kiwisolver>=1.0.1 in /usr/local/lib/python3.8/dist-packages (from matplotlib~=3.0->cirq==0.9.1->tensorflow_quantum==0.4.0) (1.4.4)\n",
            "Requirement already satisfied: chardet<5,>=3.0.2 in /usr/local/lib/python3.8/dist-packages (from requests~=2.18->cirq==0.9.1->tensorflow_quantum==0.4.0) (4.0.0)\n",
            "Requirement already satisfied: urllib3<1.27,>=1.21.1 in /usr/local/lib/python3.8/dist-packages (from requests~=2.18->cirq==0.9.1->tensorflow_quantum==0.4.0) (1.24.3)\n",
            "Requirement already satisfied: idna<3,>=2.5 in /usr/local/lib/python3.8/dist-packages (from requests~=2.18->cirq==0.9.1->tensorflow_quantum==0.4.0) (2.10)\n",
            "Requirement already satisfied: certifi>=2017.4.17 in /usr/local/lib/python3.8/dist-packages (from requests~=2.18->cirq==0.9.1->tensorflow_quantum==0.4.0) (2022.12.7)\n",
            "Requirement already satisfied: rsa<5,>=3.1.4 in /usr/local/lib/python3.8/dist-packages (from google-auth<2.0dev,>=1.25.0->google-api-core[grpc]<2.0.0dev,>=1.14.0->cirq==0.9.1->tensorflow_quantum==0.4.0) (4.9)\n",
            "Requirement already satisfied: pyasn1-modules>=0.2.1 in /usr/local/lib/python3.8/dist-packages (from google-auth<2.0dev,>=1.25.0->google-api-core[grpc]<2.0.0dev,>=1.14.0->cirq==0.9.1->tensorflow_quantum==0.4.0) (0.2.8)\n",
            "Collecting cachetools<5.0,>=2.0.0\n",
            "  Downloading cachetools-4.2.4-py3-none-any.whl (10 kB)\n",
            "Collecting googleapis-common-protos<2.0dev,>=1.6.0\n",
            "  Downloading googleapis_common_protos-1.57.1-py2.py3-none-any.whl (218 kB)\n",
            "\u001b[2K     \u001b[90m━━━━━━━━━━━━━━━━━━━━━━━━━━━━━━━━━━━━━━\u001b[0m \u001b[32m218.0/218.0 KB\u001b[0m \u001b[31m30.6 MB/s\u001b[0m eta \u001b[36m0:00:00\u001b[0m\n",
            "\u001b[?25h  Downloading googleapis_common_protos-1.57.0-py2.py3-none-any.whl (217 kB)\n",
            "\u001b[2K     \u001b[90m━━━━━━━━━━━━━━━━━━━━━━━━━━━━━━━━━━━━━━\u001b[0m \u001b[32m218.0/218.0 KB\u001b[0m \u001b[31m20.9 MB/s\u001b[0m eta \u001b[36m0:00:00\u001b[0m\n",
            "\u001b[?25h  Downloading googleapis_common_protos-1.56.4-py2.py3-none-any.whl (211 kB)\n",
            "\u001b[2K     \u001b[90m━━━━━━━━━━━━━━━━━━━━━━━━━━━━━━━━━━━━━━\u001b[0m \u001b[32m211.7/211.7 KB\u001b[0m \u001b[31m31.8 MB/s\u001b[0m eta \u001b[36m0:00:00\u001b[0m\n",
            "\u001b[?25h  Downloading googleapis_common_protos-1.56.3-py2.py3-none-any.whl (211 kB)\n",
            "\u001b[2K     \u001b[90m━━━━━━━━━━━━━━━━━━━━━━━━━━━━━━━━━━━━━━\u001b[0m \u001b[32m211.8/211.8 KB\u001b[0m \u001b[31m29.4 MB/s\u001b[0m eta \u001b[36m0:00:00\u001b[0m\n",
            "\u001b[?25h  Downloading googleapis_common_protos-1.56.2-py2.py3-none-any.whl (211 kB)\n",
            "\u001b[2K     \u001b[90m━━━━━━━━━━━━━━━━━━━━━━━━━━━━━━━━━━━━━━\u001b[0m \u001b[32m211.8/211.8 KB\u001b[0m \u001b[31m30.6 MB/s\u001b[0m eta \u001b[36m0:00:00\u001b[0m\n",
            "\u001b[?25h  Downloading googleapis_common_protos-1.56.1-py2.py3-none-any.whl (211 kB)\n",
            "\u001b[2K     \u001b[90m━━━━━━━━━━━━━━━━━━━━━━━━━━━━━━━━━━━━━━\u001b[0m \u001b[32m211.7/211.7 KB\u001b[0m \u001b[31m30.1 MB/s\u001b[0m eta \u001b[36m0:00:00\u001b[0m\n",
            "\u001b[?25h  Downloading googleapis_common_protos-1.56.0-py2.py3-none-any.whl (241 kB)\n",
            "\u001b[2K     \u001b[90m━━━━━━━━━━━━━━━━━━━━━━━━━━━━━━━━━━━━━━\u001b[0m \u001b[32m241.5/241.5 KB\u001b[0m \u001b[31m32.7 MB/s\u001b[0m eta \u001b[36m0:00:00\u001b[0m\n",
            "\u001b[?25hRequirement already satisfied: pyasn1<0.5.0,>=0.4.6 in /usr/local/lib/python3.8/dist-packages (from pyasn1-modules>=0.2.1->google-auth<2.0dev,>=1.25.0->google-api-core[grpc]<2.0.0dev,>=1.14.0->cirq==0.9.1->tensorflow_quantum==0.4.0) (0.4.8)\n",
            "Installing collected packages: sympy, protobuf, networkx, cachetools, googleapis-common-protos, google-auth, freezegun, google-api-core, cirq, tensorflow_quantum\n",
            "  Attempting uninstall: sympy\n",
            "    Found existing installation: sympy 1.7.1\n",
            "    Uninstalling sympy-1.7.1:\n",
            "      Successfully uninstalled sympy-1.7.1\n",
            "  Attempting uninstall: protobuf\n",
            "    Found existing installation: protobuf 3.19.6\n",
            "    Uninstalling protobuf-3.19.6:\n",
            "      Successfully uninstalled protobuf-3.19.6\n",
            "  Attempting uninstall: networkx\n",
            "    Found existing installation: networkx 3.0\n",
            "    Uninstalling networkx-3.0:\n",
            "      Successfully uninstalled networkx-3.0\n",
            "  Attempting uninstall: cachetools\n",
            "    Found existing installation: cachetools 5.3.0\n",
            "    Uninstalling cachetools-5.3.0:\n",
            "      Successfully uninstalled cachetools-5.3.0\n",
            "  Attempting uninstall: googleapis-common-protos\n",
            "    Found existing installation: googleapis-common-protos 1.58.0\n",
            "    Uninstalling googleapis-common-protos-1.58.0:\n",
            "      Successfully uninstalled googleapis-common-protos-1.58.0\n",
            "  Attempting uninstall: google-auth\n",
            "    Found existing installation: google-auth 2.16.0\n",
            "    Uninstalling google-auth-2.16.0:\n",
            "      Successfully uninstalled google-auth-2.16.0\n",
            "  Attempting uninstall: google-api-core\n",
            "    Found existing installation: google-api-core 2.11.0\n",
            "    Uninstalling google-api-core-2.11.0:\n",
            "      Successfully uninstalled google-api-core-2.11.0\n",
            "\u001b[31mERROR: pip's dependency resolver does not currently take into account all the packages that are installed. This behaviour is the source of the following dependency conflicts.\n",
            "tensorflow-metadata 1.12.0 requires protobuf<4,>=3.13, but you have protobuf 3.12.4 which is incompatible.\n",
            "proto-plus 1.22.2 requires protobuf<5.0.0dev,>=3.19.0, but you have protobuf 3.12.4 which is incompatible.\n",
            "google-cloud-translate 3.8.4 requires protobuf!=3.20.0,!=3.20.1,!=4.21.0,!=4.21.1,!=4.21.2,!=4.21.3,!=4.21.4,!=4.21.5,<5.0.0dev,>=3.19.5, but you have protobuf 3.12.4 which is incompatible.\n",
            "google-cloud-language 2.6.1 requires protobuf!=3.20.0,!=3.20.1,!=4.21.0,!=4.21.1,!=4.21.2,!=4.21.3,!=4.21.4,!=4.21.5,<5.0.0dev,>=3.19.5, but you have protobuf 3.12.4 which is incompatible.\n",
            "google-cloud-firestore 2.7.3 requires google-api-core[grpc]!=2.0.*,!=2.1.*,!=2.10.*,!=2.2.*,!=2.3.*,!=2.4.*,!=2.5.*,!=2.6.*,!=2.7.*,!=2.8.*,!=2.9.*,<3.0.0dev,>=1.34.0, but you have google-api-core 1.32.0 which is incompatible.\n",
            "google-cloud-firestore 2.7.3 requires protobuf!=3.20.0,!=3.20.1,!=4.21.0,!=4.21.1,!=4.21.2,!=4.21.3,!=4.21.4,!=4.21.5,<5.0.0dev,>=3.19.5, but you have protobuf 3.12.4 which is incompatible.\n",
            "google-cloud-datastore 2.11.1 requires google-api-core[grpc]!=2.0.*,!=2.1.*,!=2.10.*,!=2.2.*,!=2.3.*,!=2.4.*,!=2.5.*,!=2.6.*,!=2.7.*,!=2.8.*,!=2.9.*,<3.0.0dev,>=1.34.0, but you have google-api-core 1.32.0 which is incompatible.\n",
            "google-cloud-datastore 2.11.1 requires protobuf!=3.20.0,!=3.20.1,!=4.21.0,!=4.21.1,!=4.21.2,!=4.21.3,!=4.21.4,!=4.21.5,<5.0.0dev,>=3.19.5, but you have protobuf 3.12.4 which is incompatible.\n",
            "google-cloud-bigquery 3.4.2 requires protobuf!=3.20.0,!=3.20.1,!=4.21.0,!=4.21.1,!=4.21.2,!=4.21.3,!=4.21.4,!=4.21.5,<5.0.0dev,>=3.19.5, but you have protobuf 3.12.4 which is incompatible.\n",
            "google-cloud-bigquery-storage 2.18.1 requires google-api-core[grpc]!=2.0.*,!=2.1.*,!=2.10.*,!=2.2.*,!=2.3.*,!=2.4.*,!=2.5.*,!=2.6.*,!=2.7.*,!=2.8.*,!=2.9.*,<3.0.0dev,>=1.34.0, but you have google-api-core 1.32.0 which is incompatible.\n",
            "google-cloud-bigquery-storage 2.18.1 requires protobuf!=3.20.0,!=3.20.1,!=4.21.0,!=4.21.1,!=4.21.2,!=4.21.3,!=4.21.4,!=4.21.5,<5.0.0dev,>=3.19.5, but you have protobuf 3.12.4 which is incompatible.\u001b[0m\u001b[31m\n",
            "\u001b[0mSuccessfully installed cachetools-4.2.4 cirq-0.9.1 freezegun-0.3.15 google-api-core-1.32.0 google-auth-1.35.0 googleapis-common-protos-1.56.0 networkx-2.8.8 protobuf-3.12.4 sympy-1.5 tensorflow_quantum-0.4.0\n",
            "Looking in indexes: https://pypi.org/simple, https://us-python.pkg.dev/colab-wheels/public/simple/\n",
            "Collecting quple==0.7.8\n",
            "  Downloading quple-0.7.8-py3-none-any.whl (82 kB)\n",
            "\u001b[2K     \u001b[90m━━━━━━━━━━━━━━━━━━━━━━━━━━━━━━━━━━━━━━━━\u001b[0m \u001b[32m83.0/83.0 KB\u001b[0m \u001b[31m6.2 MB/s\u001b[0m eta \u001b[36m0:00:00\u001b[0m\n",
            "\u001b[?25hRequirement already satisfied: tensorflow==2.3.1 in /usr/local/lib/python3.8/dist-packages (from quple==0.7.8) (2.3.1)\n",
            "Requirement already satisfied: cirq in /usr/local/lib/python3.8/dist-packages (from quple==0.7.8) (0.9.1)\n",
            "Requirement already satisfied: numpy in /usr/local/lib/python3.8/dist-packages (from quple==0.7.8) (1.18.5)\n",
            "Requirement already satisfied: tensorflow-quantum==0.4.0 in /usr/local/lib/python3.8/dist-packages (from quple==0.7.8) (0.4.0)\n",
            "Requirement already satisfied: wheel>=0.26 in /usr/local/lib/python3.8/dist-packages (from tensorflow==2.3.1->quple==0.7.8) (0.38.4)\n",
            "Requirement already satisfied: six>=1.12.0 in /usr/local/lib/python3.8/dist-packages (from tensorflow==2.3.1->quple==0.7.8) (1.15.0)\n",
            "Requirement already satisfied: absl-py>=0.7.0 in /usr/local/lib/python3.8/dist-packages (from tensorflow==2.3.1->quple==0.7.8) (1.4.0)\n",
            "Requirement already satisfied: protobuf>=3.9.2 in /usr/local/lib/python3.8/dist-packages (from tensorflow==2.3.1->quple==0.7.8) (3.12.4)\n",
            "Requirement already satisfied: gast==0.3.3 in /usr/local/lib/python3.8/dist-packages (from tensorflow==2.3.1->quple==0.7.8) (0.3.3)\n",
            "Requirement already satisfied: tensorflow-estimator<2.4.0,>=2.3.0 in /usr/local/lib/python3.8/dist-packages (from tensorflow==2.3.1->quple==0.7.8) (2.3.0)\n",
            "Requirement already satisfied: grpcio>=1.8.6 in /usr/local/lib/python3.8/dist-packages (from tensorflow==2.3.1->quple==0.7.8) (1.51.1)\n",
            "Requirement already satisfied: astunparse==1.6.3 in /usr/local/lib/python3.8/dist-packages (from tensorflow==2.3.1->quple==0.7.8) (1.6.3)\n",
            "Requirement already satisfied: h5py<2.11.0,>=2.10.0 in /usr/local/lib/python3.8/dist-packages (from tensorflow==2.3.1->quple==0.7.8) (2.10.0)\n",
            "Requirement already satisfied: keras-preprocessing<1.2,>=1.1.1 in /usr/local/lib/python3.8/dist-packages (from tensorflow==2.3.1->quple==0.7.8) (1.1.2)\n",
            "Requirement already satisfied: tensorboard<3,>=2.3.0 in /usr/local/lib/python3.8/dist-packages (from tensorflow==2.3.1->quple==0.7.8) (2.11.2)\n",
            "Requirement already satisfied: opt-einsum>=2.3.2 in /usr/local/lib/python3.8/dist-packages (from tensorflow==2.3.1->quple==0.7.8) (3.3.0)\n",
            "Requirement already satisfied: termcolor>=1.1.0 in /usr/local/lib/python3.8/dist-packages (from tensorflow==2.3.1->quple==0.7.8) (2.2.0)\n",
            "Requirement already satisfied: wrapt>=1.11.1 in /usr/local/lib/python3.8/dist-packages (from tensorflow==2.3.1->quple==0.7.8) (1.14.1)\n",
            "Requirement already satisfied: google-pasta>=0.1.8 in /usr/local/lib/python3.8/dist-packages (from tensorflow==2.3.1->quple==0.7.8) (0.2.0)\n",
            "Requirement already satisfied: sympy==1.5 in /usr/local/lib/python3.8/dist-packages (from tensorflow-quantum==0.4.0->quple==0.7.8) (1.5)\n",
            "Requirement already satisfied: matplotlib~=3.0 in /usr/local/lib/python3.8/dist-packages (from cirq->quple==0.7.8) (3.2.2)\n",
            "Requirement already satisfied: sortedcontainers~=2.0 in /usr/local/lib/python3.8/dist-packages (from cirq->quple==0.7.8) (2.4.0)\n",
            "Requirement already satisfied: google-api-core[grpc]<2.0.0dev,>=1.14.0 in /usr/local/lib/python3.8/dist-packages (from cirq->quple==0.7.8) (1.32.0)\n",
            "Requirement already satisfied: scipy in /usr/local/lib/python3.8/dist-packages (from cirq->quple==0.7.8) (1.7.3)\n",
            "Requirement already satisfied: pandas in /usr/local/lib/python3.8/dist-packages (from cirq->quple==0.7.8) (1.3.5)\n",
            "Requirement already satisfied: networkx~=2.4 in /usr/local/lib/python3.8/dist-packages (from cirq->quple==0.7.8) (2.8.8)\n",
            "Requirement already satisfied: typing-extensions in /usr/local/lib/python3.8/dist-packages (from cirq->quple==0.7.8) (4.5.0)\n",
            "Requirement already satisfied: requests~=2.18 in /usr/local/lib/python3.8/dist-packages (from cirq->quple==0.7.8) (2.25.1)\n",
            "Requirement already satisfied: freezegun~=0.3.15 in /usr/local/lib/python3.8/dist-packages (from cirq->quple==0.7.8) (0.3.15)\n",
            "Requirement already satisfied: mpmath>=0.19 in /usr/local/lib/python3.8/dist-packages (from sympy==1.5->tensorflow-quantum==0.4.0->quple==0.7.8) (1.2.1)\n",
            "Requirement already satisfied: python-dateutil!=2.0,>=1.0 in /usr/local/lib/python3.8/dist-packages (from freezegun~=0.3.15->cirq->quple==0.7.8) (2.8.2)\n",
            "Requirement already satisfied: pytz in /usr/local/lib/python3.8/dist-packages (from google-api-core[grpc]<2.0.0dev,>=1.14.0->cirq->quple==0.7.8) (2022.7.1)\n",
            "Requirement already satisfied: setuptools>=40.3.0 in /usr/local/lib/python3.8/dist-packages (from google-api-core[grpc]<2.0.0dev,>=1.14.0->cirq->quple==0.7.8) (57.4.0)\n",
            "Requirement already satisfied: packaging>=14.3 in /usr/local/lib/python3.8/dist-packages (from google-api-core[grpc]<2.0.0dev,>=1.14.0->cirq->quple==0.7.8) (23.0)\n",
            "Requirement already satisfied: googleapis-common-protos<2.0dev,>=1.6.0 in /usr/local/lib/python3.8/dist-packages (from google-api-core[grpc]<2.0.0dev,>=1.14.0->cirq->quple==0.7.8) (1.56.0)\n",
            "Requirement already satisfied: google-auth<2.0dev,>=1.25.0 in /usr/local/lib/python3.8/dist-packages (from google-api-core[grpc]<2.0.0dev,>=1.14.0->cirq->quple==0.7.8) (1.35.0)\n",
            "Requirement already satisfied: pyparsing!=2.0.4,!=2.1.2,!=2.1.6,>=2.0.1 in /usr/local/lib/python3.8/dist-packages (from matplotlib~=3.0->cirq->quple==0.7.8) (3.0.9)\n",
            "Requirement already satisfied: cycler>=0.10 in /usr/local/lib/python3.8/dist-packages (from matplotlib~=3.0->cirq->quple==0.7.8) (0.11.0)\n",
            "Requirement already satisfied: kiwisolver>=1.0.1 in /usr/local/lib/python3.8/dist-packages (from matplotlib~=3.0->cirq->quple==0.7.8) (1.4.4)\n",
            "Requirement already satisfied: urllib3<1.27,>=1.21.1 in /usr/local/lib/python3.8/dist-packages (from requests~=2.18->cirq->quple==0.7.8) (1.24.3)\n",
            "Requirement already satisfied: idna<3,>=2.5 in /usr/local/lib/python3.8/dist-packages (from requests~=2.18->cirq->quple==0.7.8) (2.10)\n",
            "Requirement already satisfied: certifi>=2017.4.17 in /usr/local/lib/python3.8/dist-packages (from requests~=2.18->cirq->quple==0.7.8) (2022.12.7)\n",
            "Requirement already satisfied: chardet<5,>=3.0.2 in /usr/local/lib/python3.8/dist-packages (from requests~=2.18->cirq->quple==0.7.8) (4.0.0)\n",
            "Requirement already satisfied: markdown>=2.6.8 in /usr/local/lib/python3.8/dist-packages (from tensorboard<3,>=2.3.0->tensorflow==2.3.1->quple==0.7.8) (3.4.1)\n",
            "Requirement already satisfied: google-auth-oauthlib<0.5,>=0.4.1 in /usr/local/lib/python3.8/dist-packages (from tensorboard<3,>=2.3.0->tensorflow==2.3.1->quple==0.7.8) (0.4.6)\n",
            "Requirement already satisfied: tensorboard-plugin-wit>=1.6.0 in /usr/local/lib/python3.8/dist-packages (from tensorboard<3,>=2.3.0->tensorflow==2.3.1->quple==0.7.8) (1.8.1)\n",
            "Requirement already satisfied: werkzeug>=1.0.1 in /usr/local/lib/python3.8/dist-packages (from tensorboard<3,>=2.3.0->tensorflow==2.3.1->quple==0.7.8) (1.0.1)\n",
            "Requirement already satisfied: tensorboard-data-server<0.7.0,>=0.6.0 in /usr/local/lib/python3.8/dist-packages (from tensorboard<3,>=2.3.0->tensorflow==2.3.1->quple==0.7.8) (0.6.1)\n",
            "Requirement already satisfied: pyasn1-modules>=0.2.1 in /usr/local/lib/python3.8/dist-packages (from google-auth<2.0dev,>=1.25.0->google-api-core[grpc]<2.0.0dev,>=1.14.0->cirq->quple==0.7.8) (0.2.8)\n",
            "Requirement already satisfied: rsa<5,>=3.1.4 in /usr/local/lib/python3.8/dist-packages (from google-auth<2.0dev,>=1.25.0->google-api-core[grpc]<2.0.0dev,>=1.14.0->cirq->quple==0.7.8) (4.9)\n",
            "Requirement already satisfied: cachetools<5.0,>=2.0.0 in /usr/local/lib/python3.8/dist-packages (from google-auth<2.0dev,>=1.25.0->google-api-core[grpc]<2.0.0dev,>=1.14.0->cirq->quple==0.7.8) (4.2.4)\n",
            "Requirement already satisfied: requests-oauthlib>=0.7.0 in /usr/local/lib/python3.8/dist-packages (from google-auth-oauthlib<0.5,>=0.4.1->tensorboard<3,>=2.3.0->tensorflow==2.3.1->quple==0.7.8) (1.3.1)\n",
            "Requirement already satisfied: importlib-metadata>=4.4 in /usr/local/lib/python3.8/dist-packages (from markdown>=2.6.8->tensorboard<3,>=2.3.0->tensorflow==2.3.1->quple==0.7.8) (6.0.0)\n",
            "Requirement already satisfied: zipp>=0.5 in /usr/local/lib/python3.8/dist-packages (from importlib-metadata>=4.4->markdown>=2.6.8->tensorboard<3,>=2.3.0->tensorflow==2.3.1->quple==0.7.8) (3.13.0)\n",
            "Requirement already satisfied: pyasn1<0.5.0,>=0.4.6 in /usr/local/lib/python3.8/dist-packages (from pyasn1-modules>=0.2.1->google-auth<2.0dev,>=1.25.0->google-api-core[grpc]<2.0.0dev,>=1.14.0->cirq->quple==0.7.8) (0.4.8)\n",
            "Requirement already satisfied: oauthlib>=3.0.0 in /usr/local/lib/python3.8/dist-packages (from requests-oauthlib>=0.7.0->google-auth-oauthlib<0.5,>=0.4.1->tensorboard<3,>=2.3.0->tensorflow==2.3.1->quple==0.7.8) (3.2.2)\n",
            "Installing collected packages: quple\n",
            "Successfully installed quple-0.7.8\n"
          ]
        }
      ],
      "source": [
        "if 'google.colab' in str(get_ipython()):\n",
        "  # install packages required for this tutorial\n",
        "  !pip install tensorflow==2.3.1\n",
        "  !pip install tensorflow_quantum==0.4.0\n",
        "  !pip install quple==0.7.8"
      ]
    },
    {
      "cell_type": "markdown",
      "metadata": {
        "id": "inclusive-delta"
      },
      "source": [
        "*** Quantum Circuit***\n",
        "\n",
        " Learned how to:\n",
        "\n",
        "- Create a quantum circuit with customizable qubit layout\n",
        "- Apply gate operations on specific set of qubits for a given circuit\n",
        "- Parameterise a gate operation and resolve the parameters with custom input values\n",
        "- Circuit simulation: statevector simulation and expectation simulation"
      ]
    },
    {
      "cell_type": "code",
      "source": [
        "import cirq\n",
        "import numpy as np\n",
        "import sympy as sp\n",
        "import quple"
      ],
      "metadata": {
        "id": "ZVXRSyc8w-Qi"
      },
      "execution_count": 3,
      "outputs": []
    },
    {
      "cell_type": "markdown",
      "source": [
        "**Create Quantum Circuits**\n",
        "\n",
        "In quple, a base class for building quantum circuit is quple.QuantumCircuit which is derived from the cirq.Circuits class. So any methods applicable to cirq.Circuits can also be applied to quple.QuantumCircuit.\n",
        "The QuantumCircuit class accepts the following arguments:\n",
        "n_qubit: If int, it specifies the number of qubits in the circuit.\n",
        "If iterable of cirq.GridQubit object, it specifies the exact qubit layout of the circuit.\n",
        "name: Name of the circuit\n",
        "insert_strategy: The insertion strategy of gate operations in the circuit. Default is cirq.circuits.InsertStrategy.INLINE\n",
        "backend: The backend for circuit simulation. If None, defaults to the native TensorFlow simulator"
      ],
      "metadata": {
        "id": "LHeLv_bTzEwq"
      }
    },
    {
      "cell_type": "code",
      "source": [
        "from quple import QuantumCircuit"
      ],
      "metadata": {
        "id": "hRsSGotGxDOo"
      },
      "execution_count": 4,
      "outputs": []
    },
    {
      "cell_type": "code",
      "source": [
        "cq = QuantumCircuit(n_qubit=5, name='line_qubit_layout')\n",
        "print('Qubit layout for the circuit \"{}\":'.format(cq.name))\n",
        "# by default, a line qubit layout is used\n",
        "cq.qubits"
      ],
      "metadata": {
        "colab": {
          "base_uri": "https://localhost:8080/"
        },
        "id": "0sBCMGDnzL3J",
        "outputId": "56750395-5678-4019-b158-2be1e91bcd74"
      },
      "execution_count": 5,
      "outputs": [
        {
          "output_type": "stream",
          "name": "stdout",
          "text": [
            "Qubit layout for the circuit \"line_qubit_layout\":\n"
          ]
        },
        {
          "output_type": "execute_result",
          "data": {
            "text/plain": [
              "[cirq.GridQubit(0, 0),\n",
              " cirq.GridQubit(0, 1),\n",
              " cirq.GridQubit(0, 2),\n",
              " cirq.GridQubit(0, 3),\n",
              " cirq.GridQubit(0, 4)]"
            ]
          },
          "metadata": {},
          "execution_count": 5
        }
      ]
    },
    {
      "cell_type": "code",
      "source": [
        "# now let's try a square grid qubit layout\n",
        "qubits = cirq.GridQubit.rect(3, 3)\n",
        "cq_2 = QuantumCircuit(n_qubit=qubits, name='square_qubit_layout')\n",
        "print('Qubit layout for the circuit \"{}\":'.format(cq_2.name))\n",
        "# by default, a line qubit layout is used\n",
        "cq_2.qubits"
      ],
      "metadata": {
        "colab": {
          "base_uri": "https://localhost:8080/"
        },
        "id": "-WIK07vdzOSB",
        "outputId": "efb2f4f6-43b6-4535-8ea9-5ee74a0e4cfc"
      },
      "execution_count": 6,
      "outputs": [
        {
          "output_type": "stream",
          "name": "stdout",
          "text": [
            "Qubit layout for the circuit \"square_qubit_layout\":\n"
          ]
        },
        {
          "output_type": "execute_result",
          "data": {
            "text/plain": [
              "[cirq.GridQubit(0, 0),\n",
              " cirq.GridQubit(0, 1),\n",
              " cirq.GridQubit(0, 2),\n",
              " cirq.GridQubit(1, 0),\n",
              " cirq.GridQubit(1, 1),\n",
              " cirq.GridQubit(1, 2),\n",
              " cirq.GridQubit(2, 0),\n",
              " cirq.GridQubit(2, 1),\n",
              " cirq.GridQubit(2, 2)]"
            ]
          },
          "metadata": {},
          "execution_count": 6
        }
      ]
    },
    {
      "cell_type": "markdown",
      "source": [
        "**Apply gate operations**\n",
        "\n",
        "QuantumCircuit allows for easy application of gate operations with the following features:\n",
        "Most gate operations are appened to the QuantumCircuit class methods. The gate operation can also be accessed by specifying its corresponding string representation.\n",
        "Evey qubit in the circuit is represented by an index. So the target qubit(s) of a gate operation can be specified purely by the qubits' numeric indices."
      ],
      "metadata": {
        "id": "HXd-uB6HzWN7"
      }
    },
    {
      "cell_type": "markdown",
      "source": [
        "## **Construction of the quantum circuit for a Bell state**"
      ],
      "metadata": {
        "id": "UyCa2TQizb47"
      }
    },
    {
      "cell_type": "code",
      "source": [
        "# Creates a circuit with 2 qubits\n",
        "cq = QuantumCircuit(2, name='BellCircuit')\n",
        "# Apply the Hadamard gate to the qubit with index 0 \n",
        "cq.H(0)\n",
        "# Apply the CNOT gate to qubits with indices 0 and 1\n",
        "# with the first one being the control qubit\n",
        "cq.CNOT((0,1))\n",
        "# Print out the circuit diagram\n",
        "cq"
      ],
      "metadata": {
        "colab": {
          "base_uri": "https://localhost:8080/",
          "height": 69
        },
        "id": "DCSQmoeizSIO",
        "outputId": "cd764494-f629-4d58-f7cd-722054396dad"
      },
      "execution_count": 7,
      "outputs": [
        {
          "output_type": "execute_result",
          "data": {
            "text/plain": [
              "(0, 0): ───H───@───\n",
              "               │\n",
              "(0, 1): ───────X───"
            ],
            "text/html": [
              "<pre style=\"overflow: auto; white-space: pre;\">(0, 0): ───H───@───\n",
              "               │\n",
              "(0, 1): ───────X───</pre>"
            ]
          },
          "metadata": {},
          "execution_count": 7
        }
      ]
    },
    {
      "cell_type": "markdown",
      "source": [
        "## **Construction of a more complicated quantum circuit**"
      ],
      "metadata": {
        "id": "7SExvc8Kzmkb"
      }
    },
    {
      "cell_type": "code",
      "source": [
        "# Creates a circuit with 5 qubits\n",
        "cq = QuantumCircuit(5)\n",
        "# Apply the Hadamard gate to all qubits\n",
        "cq.H(cq.qubits)\n",
        "# Apply the RZ gates to qubits 2,3 and 4 with a rotation angle of pi/4 \n",
        "cq.RZ(sp.pi/4, cq.qubits[2:5])\n",
        "# to make the circuit diagram looks less tangled for 2-qubit gates use the NEW insert strategy instead\n",
        "cq.set_insert_strategy(cirq.circuits.InsertStrategy.NEW)\n",
        "# Apply the CNOT gates to the qubit pairs (0, 1), (1, 3), (2, 4)\n",
        "cq.CNOT([(0, 1), (1, 3), (2,4)])\n",
        "# Print out the circuit diagram\n",
        "cq"
      ],
      "metadata": {
        "colab": {
          "base_uri": "https://localhost:8080/",
          "height": 173
        },
        "id": "67OppQmfzijq",
        "outputId": "a27d6487-cfb5-4080-ed92-9535810d8b32"
      },
      "execution_count": 8,
      "outputs": [
        {
          "output_type": "execute_result",
          "data": {
            "text/plain": [
              "(0, 0): ───H──────────────@───────────\n",
              "                          │\n",
              "(0, 1): ───H──────────────X───@───────\n",
              "                              │\n",
              "(0, 2): ───H───Rz(pi/4)───────┼───@───\n",
              "                              │   │\n",
              "(0, 3): ───H───Rz(pi/4)───────X───┼───\n",
              "                                  │\n",
              "(0, 4): ───H───Rz(pi/4)───────────X───"
            ],
            "text/html": [
              "<pre style=\"overflow: auto; white-space: pre;\">(0, 0): ───H──────────────@───────────\n",
              "                          │\n",
              "(0, 1): ───H──────────────X───@───────\n",
              "                              │\n",
              "(0, 2): ───H───Rz(pi/4)───────┼───@───\n",
              "                              │   │\n",
              "(0, 3): ───H───Rz(pi/4)───────X───┼───\n",
              "                                  │\n",
              "(0, 4): ───H───Rz(pi/4)───────────X───</pre>"
            ]
          },
          "metadata": {},
          "execution_count": 8
        }
      ]
    },
    {
      "cell_type": "markdown",
      "source": [
        "Another approach to applying gate operation to a quantum circuit is via the appply_gate_operation method\n",
        "\n",
        "The arguments are:\n",
        "\n",
        "apply_gate_operation(operation:[str, cirq.Gate], qubit_expr, params=None)"
      ],
      "metadata": {
        "id": "fsv1Ab9FzvAk"
      }
    },
    {
      "cell_type": "code",
      "source": [
        "# Creates a circuit with 5 qubits\n",
        "cq = QuantumCircuit(5)\n",
        "# Apply the Hadamard gate to all qubits\n",
        "cq.apply_gate_operation('H', cq.qubits)\n",
        "# Apply the RZ gates to qubits 2,3 and 4 with a rotation angle of pi/4 \n",
        "cq.apply_gate_operation('RZ', cq.qubits[2:5], {'rads': sp.pi/4})\n",
        "# to make the circuit diagram looks less tangled for 2-qubit gates use the NEW insert strategy instead\n",
        "cq.set_insert_strategy(cirq.circuits.InsertStrategy.NEW)\n",
        "# Apply the CNOT gate to the qubit pairs (0, 1), (1, 3), (2, 4)\n",
        "cq.apply_gate_operation('CNOT', [(0, 1), (1, 3), (2,4)])\n",
        "# Apply the SWAP gate to the qubit pairs (3,4)\n",
        "cq.apply_gate_operation('SWAP', (3,4))\n",
        "# Print out the circuit diagram\n",
        "cq"
      ],
      "metadata": {
        "colab": {
          "base_uri": "https://localhost:8080/",
          "height": 173
        },
        "id": "tuGFrg18zrDn",
        "outputId": "2dfe4828-cd87-425d-8dc9-ee00334861bc"
      },
      "execution_count": 9,
      "outputs": [
        {
          "output_type": "execute_result",
          "data": {
            "text/plain": [
              "(0, 0): ───H──────────────@───────────────\n",
              "                          │\n",
              "(0, 1): ───H──────────────X───@───────────\n",
              "                              │\n",
              "(0, 2): ───H───Rz(pi/4)───────┼───@───────\n",
              "                              │   │\n",
              "(0, 3): ───H───Rz(pi/4)───────X───┼───×───\n",
              "                                  │   │\n",
              "(0, 4): ───H───Rz(pi/4)───────────X───×───"
            ],
            "text/html": [
              "<pre style=\"overflow: auto; white-space: pre;\">(0, 0): ───H──────────────@───────────────\n",
              "                          │\n",
              "(0, 1): ───H──────────────X───@───────────\n",
              "                              │\n",
              "(0, 2): ───H───Rz(pi/4)───────┼───@───────\n",
              "                              │   │\n",
              "(0, 3): ───H───Rz(pi/4)───────X───┼───×───\n",
              "                                  │   │\n",
              "(0, 4): ───H───Rz(pi/4)───────────X───×───</pre>"
            ]
          },
          "metadata": {},
          "execution_count": 9
        }
      ]
    },
    {
      "cell_type": "code",
      "source": [
        "# to check the list of mapping from string to gate operations:\n",
        "from quple.circuits.quantum_circuit import kGateMapping\n",
        "kGateMapping"
      ],
      "metadata": {
        "colab": {
          "base_uri": "https://localhost:8080/"
        },
        "id": "KkzvrkpSz1YW",
        "outputId": "7414681e-0eb0-4268-e6ce-f08f60953d5a"
      },
      "execution_count": 10,
      "outputs": [
        {
          "output_type": "execute_result",
          "data": {
            "text/plain": [
              "{'H': cirq.H,\n",
              " 'I': cirq.I,\n",
              " 'S': cirq.S,\n",
              " 'T': cirq.T,\n",
              " 'X': cirq.X,\n",
              " 'Y': cirq.Y,\n",
              " 'Z': cirq.Z,\n",
              " 'PauliX': cirq.X,\n",
              " 'PauliY': cirq.Y,\n",
              " 'PauliZ': cirq.Z,\n",
              " 'CX': cirq.CNOT,\n",
              " 'CNOT': cirq.CNOT,\n",
              " 'CZ': cirq.CZ,\n",
              " 'XX': cirq.XX,\n",
              " 'YY': cirq.YY,\n",
              " 'ZZ': cirq.ZZ,\n",
              " 'XPowGate': cirq.ops.common_gates.XPowGate,\n",
              " 'YPowGate': cirq.ops.common_gates.YPowGate,\n",
              " 'ZPowGate': cirq.ops.common_gates.ZPowGate,\n",
              " 'XXPowGate': cirq.ops.parity_gates.XXPowGate,\n",
              " 'YYPowGate': cirq.ops.parity_gates.YYPowGate,\n",
              " 'ZZPowGate': cirq.ops.parity_gates.ZZPowGate,\n",
              " 'MS': <function cirq.ion.ion_gates.ms(rads: float) -> cirq.ion.ion_gates.MSGate>,\n",
              " 'RXX': <function quple.components.gate_ops.RXX(theta: float) -> cirq.ops.parity_gates.XXPowGate>,\n",
              " 'RYY': <function quple.components.gate_ops.RYY(theta: float) -> cirq.ops.parity_gates.YYPowGate>,\n",
              " 'RZZ': <function quple.components.gate_ops.RZZ(theta: float) -> cirq.ops.parity_gates.ZZPowGate>,\n",
              " 'RX': <function cirq.ops.common_gates.rx(rads: Union[float, sympy.core.basic.Basic]) -> cirq.ops.common_gates.XPowGate>,\n",
              " 'RY': <function cirq.ops.common_gates.ry(rads: Union[float, sympy.core.basic.Basic]) -> cirq.ops.common_gates.YPowGate>,\n",
              " 'RZ': <function cirq.ops.common_gates.rz(rads: Union[float, sympy.core.basic.Basic]) -> cirq.ops.common_gates.ZPowGate>,\n",
              " 'CCNOT': cirq.TOFFOLI,\n",
              " 'CCX': cirq.TOFFOLI,\n",
              " 'Toffoli': cirq.TOFFOLI,\n",
              " 'SWAP': cirq.SWAP,\n",
              " 'CSWAP': cirq.FREDKIN,\n",
              " 'ISWAP': cirq.ISWAP,\n",
              " 'RISWAP': <function cirq.ops.swap_gates.riswap(rads: Union[float, sympy.core.basic.Basic]) -> cirq.ops.swap_gates.ISwapPowGate>,\n",
              " 'FSim': cirq.ops.fsim_gate.FSimGate,\n",
              " 'Fredkin': cirq.FREDKIN,\n",
              " 'CXPowGate': cirq.ops.common_gates.CXPowGate,\n",
              " 'CZPowGate': cirq.ops.common_gates.CZPowGate,\n",
              " 'CNOTPowGate': cirq.ops.common_gates.CXPowGate,\n",
              " 'PauliRotation': quple.components.gate_ops.PauliRotation}"
            ]
          },
          "metadata": {},
          "execution_count": 10
        }
      ]
    },
    {
      "cell_type": "markdown",
      "source": [
        "# **Appending circuits/ Combining circuits**"
      ],
      "metadata": {
        "id": "4XTcb8AYz7Wb"
      }
    },
    {
      "cell_type": "code",
      "source": [
        "# create two circuits with 3 qubits\n",
        "cq_1 = QuantumCircuit(3)\n",
        "cq_1.H(cq_1.qubits)\n",
        "cq_2 = QuantumCircuit(3)\n",
        "cq_2.X(cq_1.qubits)\n",
        "print('circuit 1:')\n",
        "print(cq_1)\n",
        "print()\n",
        "print('circuit 2:')\n",
        "print(cq_2)"
      ],
      "metadata": {
        "colab": {
          "base_uri": "https://localhost:8080/"
        },
        "id": "rRoZRbNzz4Ge",
        "outputId": "cc2cf3f2-ac6f-4a2a-fc39-0dcb74815836"
      },
      "execution_count": 11,
      "outputs": [
        {
          "output_type": "stream",
          "name": "stdout",
          "text": [
            "circuit 1:\n",
            "(0, 0): ───H───\n",
            "\n",
            "(0, 1): ───H───\n",
            "\n",
            "(0, 2): ───H───\n",
            "\n",
            "circuit 2:\n",
            "(0, 0): ───X───\n",
            "\n",
            "(0, 1): ───X───\n",
            "\n",
            "(0, 2): ───X───\n"
          ]
        }
      ]
    },
    {
      "cell_type": "code",
      "source": [
        "# create a third circuit that is a combination of the above two circuits\n",
        "cq_3 = cq_1 + cq_2\n",
        "cq_3"
      ],
      "metadata": {
        "colab": {
          "base_uri": "https://localhost:8080/",
          "height": 104
        },
        "id": "LA3bmwrQ0Ac2",
        "outputId": "ad2f2a9d-077c-410e-afbc-ccf99253d58c"
      },
      "execution_count": 12,
      "outputs": [
        {
          "output_type": "execute_result",
          "data": {
            "text/plain": [
              "(0, 0): ───H───X───\n",
              "\n",
              "(0, 1): ───H───X───\n",
              "\n",
              "(0, 2): ───H───X───"
            ],
            "text/html": [
              "<pre style=\"overflow: auto; white-space: pre;\">(0, 0): ───H───X───\n",
              "\n",
              "(0, 1): ───H───X───\n",
              "\n",
              "(0, 2): ───H───X───</pre>"
            ]
          },
          "metadata": {},
          "execution_count": 12
        }
      ]
    },
    {
      "cell_type": "code",
      "source": [
        "# alternatively, append the 2nd circuit to the 1st in place\n",
        "cq_1 += cq_2\n",
        "cq_1"
      ],
      "metadata": {
        "colab": {
          "base_uri": "https://localhost:8080/",
          "height": 104
        },
        "id": "USkd-LEQ0Den",
        "outputId": "f36c23f9-3053-4cb9-aba7-64427d4f57bf"
      },
      "execution_count": 13,
      "outputs": [
        {
          "output_type": "execute_result",
          "data": {
            "text/plain": [
              "(0, 0): ───H───X───\n",
              "\n",
              "(0, 1): ───H───X───\n",
              "\n",
              "(0, 2): ───H───X───"
            ],
            "text/html": [
              "<pre style=\"overflow: auto; white-space: pre;\">(0, 0): ───H───X───\n",
              "\n",
              "(0, 1): ───H───X───\n",
              "\n",
              "(0, 2): ───H───X───</pre>"
            ]
          },
          "metadata": {},
          "execution_count": 13
        }
      ]
    },
    {
      "cell_type": "markdown",
      "source": [
        "# **Parameterise a gate operation**"
      ],
      "metadata": {
        "id": "FoGqcRxV0JZ7"
      }
    },
    {
      "cell_type": "code",
      "source": [
        "# Creates a circuit with 2 qubits\n",
        "cq = QuantumCircuit(2)\n",
        "# Parameterize the angle of an RZ operation on qubit 0 by \"theta_0\"\n",
        "theta_0 = sp.Symbol('θ_0')\n",
        "cq.RZ(theta_0, 0)\n",
        "# Parameterize the angle of an RZ operation on qubit 1 by \"theta_1\"\n",
        "theta_1 = sp.Symbol('θ_1')\n",
        "cq.RZ(theta_1, 1)\n",
        "# Parameterize the angle of an RZZ operation on the qubit pair (0, 1) with qubit 1 being the target qubit by \"theta_0*theta_1\"\n",
        "cq.PauliRotation('ZZ', theta_0*theta_1, (0, 1))\n",
        "cq"
      ],
      "metadata": {
        "colab": {
          "base_uri": "https://localhost:8080/",
          "height": 69
        },
        "id": "ffsXnOl80Gsx",
        "outputId": "25bec80b-b650-473d-e35e-04a867382c1e"
      },
      "execution_count": 14,
      "outputs": [
        {
          "output_type": "execute_result",
          "data": {
            "text/plain": [
              "(0, 0): ───Rz(θ_0)───@─────────────────@───\n",
              "                     │                 │\n",
              "(0, 1): ───Rz(θ_1)───X───Rz(θ_0*θ_1)───X───"
            ],
            "text/html": [
              "<pre style=\"overflow: auto; white-space: pre;\">(0, 0): ───Rz(θ_0)───@─────────────────@───\n",
              "                     │                 │\n",
              "(0, 1): ───Rz(θ_1)───X───Rz(θ_0*θ_1)───X───</pre>"
            ]
          },
          "metadata": {},
          "execution_count": 14
        }
      ]
    },
    {
      "cell_type": "code",
      "source": [
        "#check the circuit symbols\n",
        "cq.symbols"
      ],
      "metadata": {
        "colab": {
          "base_uri": "https://localhost:8080/"
        },
        "id": "0ajnDAfW0ORs",
        "outputId": "2a40bdda-e73d-4509-f111-bbd2f41ff2cf"
      },
      "execution_count": 15,
      "outputs": [
        {
          "output_type": "execute_result",
          "data": {
            "text/plain": [
              "['θ_0', 'θ_1']"
            ]
          },
          "metadata": {},
          "execution_count": 15
        }
      ]
    },
    {
      "cell_type": "markdown",
      "source": [
        "**Circuit flattening**\n",
        "\n",
        "To more efficiently resolve parameter symbols to specified values for a complicated circuits, it is better to flatten the circuit so that each \"expression\" in a gate operation is regarded as an independent symbol"
      ],
      "metadata": {
        "id": "3b4EN_dt0T_b"
      }
    },
    {
      "cell_type": "code",
      "source": [
        "# flatten the circuit\n",
        "cq.flatten()\n",
        "cq"
      ],
      "metadata": {
        "colab": {
          "base_uri": "https://localhost:8080/",
          "height": 69
        },
        "id": "Wcsd8yPl0RY4",
        "outputId": "9f880c41-a624-4631-c88a-f73f0825dc4a"
      },
      "execution_count": 16,
      "outputs": [
        {
          "output_type": "execute_result",
          "data": {
            "text/plain": [
              "(0, 0): ───Rz(pi*<θ_0/pi>)───@─────────────────────────@───\n",
              "                             │                         │\n",
              "(0, 1): ───Rz(pi*<θ_1/pi>)───X───Rz(pi*<θ_0*θ_1/pi>)───X───"
            ],
            "text/html": [
              "<pre style=\"overflow: auto; white-space: pre;\">(0, 0): ───Rz(pi*&lt;θ_0/pi&gt;)───@─────────────────────────@───\n",
              "                             │                         │\n",
              "(0, 1): ───Rz(pi*&lt;θ_1/pi&gt;)───X───Rz(pi*&lt;θ_0*θ_1/pi&gt;)───X───</pre>"
            ]
          },
          "metadata": {},
          "execution_count": 16
        }
      ]
    },
    {
      "cell_type": "code",
      "source": [
        "# now check the symbols again\n",
        "cq.symbols"
      ],
      "metadata": {
        "colab": {
          "base_uri": "https://localhost:8080/"
        },
        "id": "G-P08Doe0cyo",
        "outputId": "ea758ca0-2d41-4f20-e123-39f7d51b3281"
      },
      "execution_count": 17,
      "outputs": [
        {
          "output_type": "execute_result",
          "data": {
            "text/plain": [
              "['<θ_0*θ_1/pi>', '<θ_0/pi>', '<θ_1/pi>']"
            ]
          },
          "metadata": {},
          "execution_count": 17
        }
      ]
    },
    {
      "cell_type": "code",
      "source": [
        "# get get the original symbols after flattening:\n",
        "cq.raw_symbols"
      ],
      "metadata": {
        "colab": {
          "base_uri": "https://localhost:8080/"
        },
        "id": "H6IdR2Vd0g1A",
        "outputId": "22471906-14d2-48f0-e401-0b6bb2eee4fd"
      },
      "execution_count": 18,
      "outputs": [
        {
          "output_type": "execute_result",
          "data": {
            "text/plain": [
              "['θ_0', 'θ_1']"
            ]
          },
          "metadata": {},
          "execution_count": 18
        }
      ]
    },
    {
      "cell_type": "code",
      "source": [
        "# unflatten the circuit\n",
        "cq.unflatten()\n",
        "cq"
      ],
      "metadata": {
        "colab": {
          "base_uri": "https://localhost:8080/",
          "height": 69
        },
        "id": "8p18DMVU0jhu",
        "outputId": "58d2c79c-f902-4eac-f2fe-8fff69812c46"
      },
      "execution_count": 19,
      "outputs": [
        {
          "output_type": "execute_result",
          "data": {
            "text/plain": [
              "(0, 0): ───Rz(θ_0)───@─────────────────@───\n",
              "                     │                 │\n",
              "(0, 1): ───Rz(θ_1)───X───Rz(θ_0*θ_1)───X───"
            ],
            "text/html": [
              "<pre style=\"overflow: auto; white-space: pre;\">(0, 0): ───Rz(θ_0)───@─────────────────@───\n",
              "                     │                 │\n",
              "(0, 1): ───Rz(θ_1)───X───Rz(θ_0*θ_1)───X───</pre>"
            ]
          },
          "metadata": {},
          "execution_count": 19
        }
      ]
    },
    {
      "cell_type": "markdown",
      "source": [
        "**Resolve parameters of a circuit**\n",
        "\n",
        "To obtain circuit with its paramterised gate operations resolved by some designated values, one can use the resolve_parameters method"
      ],
      "metadata": {
        "id": "n510fi7e0rn7"
      }
    },
    {
      "cell_type": "code",
      "source": [
        "# resolve the values:  theta_0 = 0, theta_1 = pi/2\n",
        "resolved_cq = cq.resolve_parameters(np.array([[0, np.pi/2]]))\n",
        "resolved_cq"
      ],
      "metadata": {
        "colab": {
          "base_uri": "https://localhost:8080/",
          "height": 69
        },
        "id": "R0y7f1xK0lvU",
        "outputId": "37c0f457-cc9f-417d-a8fc-3e0491255f68"
      },
      "execution_count": 20,
      "outputs": [
        {
          "output_type": "execute_result",
          "data": {
            "text/plain": [
              "(0, 0): ───Rz(0)──────@───────────@───\n",
              "                      │           │\n",
              "(0, 1): ───Rz(0.5π)───X───Rz(0)───X───"
            ],
            "text/html": [
              "<pre style=\"overflow: auto; white-space: pre;\">(0, 0): ───Rz(0)──────@───────────@───\n",
              "                      │           │\n",
              "(0, 1): ───Rz(0.5π)───X───Rz(0)───X───</pre>"
            ]
          },
          "metadata": {},
          "execution_count": 20
        }
      ]
    },
    {
      "cell_type": "code",
      "source": [
        "# this also work for flattened circuit the usual way\n",
        "cq.flatten()\n",
        "resolved_cq = cq.resolve_parameters(np.array([[0, np.pi/2]]))\n",
        "resolved_cq"
      ],
      "metadata": {
        "colab": {
          "base_uri": "https://localhost:8080/",
          "height": 69
        },
        "id": "jKa08FO70w7P",
        "outputId": "95416bc2-1e6f-4641-8508-972e7f391614"
      },
      "execution_count": 21,
      "outputs": [
        {
          "output_type": "execute_result",
          "data": {
            "text/plain": [
              "(0, 0): ───Rz(0)──────@───────────@───\n",
              "                      │           │\n",
              "(0, 1): ───Rz(0.5π)───X───Rz(0)───X───"
            ],
            "text/html": [
              "<pre style=\"overflow: auto; white-space: pre;\">(0, 0): ───Rz(0)──────@───────────@───\n",
              "                      │           │\n",
              "(0, 1): ───Rz(0.5π)───X───Rz(0)───X───</pre>"
            ]
          },
          "metadata": {},
          "execution_count": 21
        }
      ]
    },
    {
      "cell_type": "code",
      "source": [
        "cq.unflatten()"
      ],
      "metadata": {
        "id": "d66Vp-Ug0zx_"
      },
      "execution_count": 22,
      "outputs": []
    },
    {
      "cell_type": "code",
      "source": [
        "# resolve multiple set of values:  \n",
        "# [(theta_0 = 0, theta_1 = pi/2), (theta_0 = pi/3, theta_1 = pi/4)]\n",
        "resolved_cqs = cq.resolve_parameters(np.array([[0, np.pi/2], [np.pi/3, np.pi/4]]))\n",
        "print('------------------------------------------------')\n",
        "print('resolved circuit 0:')\n",
        "print(resolved_cqs[0])\n",
        "print('------------------------------------------------')\n",
        "print('resolved circuit 1:')\n",
        "print(resolved_cqs[1])\n",
        "print('------------------------------------------------')"
      ],
      "metadata": {
        "colab": {
          "base_uri": "https://localhost:8080/"
        },
        "id": "Y5E7rhdT1OyN",
        "outputId": "d7ac57c1-4053-4779-9225-7ecf2d5b0604"
      },
      "execution_count": 23,
      "outputs": [
        {
          "output_type": "stream",
          "name": "stdout",
          "text": [
            "------------------------------------------------\n",
            "resolved circuit 0:\n",
            "(0, 0): ───Rz(0)──────@───────────@───\n",
            "                      │           │\n",
            "(0, 1): ───Rz(0.5π)───X───Rz(0)───X───\n",
            "------------------------------------------------\n",
            "resolved circuit 1:\n",
            "(0, 0): ───Rz(0.333π)───@────────────────@───\n",
            "                        │                │\n",
            "(0, 1): ───Rz(0.25π)────X───Rz(0.262π)───X───\n",
            "------------------------------------------------\n"
          ]
        }
      ]
    },
    {
      "cell_type": "code",
      "source": [
        "n_circuit = 5\n",
        "# let's try some random values from -pi to pi\n",
        "random_values = np.random.uniform(-np.pi, np.pi, (n_circuit, len(cq.symbols)))\n",
        "resolved_cqs = cq.resolve_parameters(random_values)\n",
        "for c in resolved_cqs:\n",
        "    print('------------------------------------------------')\n",
        "    print(c)\n",
        "print('------------------------------------------------')"
      ],
      "metadata": {
        "colab": {
          "base_uri": "https://localhost:8080/"
        },
        "id": "LKGayv4C1SB_",
        "outputId": "2527d365-a0f5-4730-f5d1-f5dc16b26d0e"
      },
      "execution_count": 24,
      "outputs": [
        {
          "output_type": "stream",
          "name": "stdout",
          "text": [
            "------------------------------------------------\n",
            "(0, 0): ───Rz(0.447π)───@────────────────@───\n",
            "                        │                │\n",
            "(0, 1): ───Rz(0.175π)───X───Rz(0.245π)───X───\n",
            "------------------------------------------------\n",
            "(0, 0): ───Rz(0.141π)───@────────────────@───\n",
            "                        │                │\n",
            "(0, 1): ───Rz(0.076π)───X───Rz(0.034π)───X───\n",
            "------------------------------------------------\n",
            "(0, 0): ───Rz(-0.378π)───@────────────────@───\n",
            "                         │                │\n",
            "(0, 1): ───Rz(-0.621π)───X───Rz(0.737π)───X───\n",
            "------------------------------------------------\n",
            "(0, 0): ───Rz(-0.088π)───@─────────────────@───\n",
            "                         │                 │\n",
            "(0, 1): ───Rz(0.495π)────X───Rz(-0.137π)───X───\n",
            "------------------------------------------------\n",
            "(0, 0): ───Rz(0.729π)───@────────────────@───\n",
            "                        │                │\n",
            "(0, 1): ───Rz(0.272π)───X───Rz(0.623π)───X───\n",
            "------------------------------------------------\n"
          ]
        }
      ]
    },
    {
      "cell_type": "markdown",
      "source": [
        "# **Circuit simulation**\n",
        "The QuantumCircuit class has two build-in methods for easy statevector and expectation simulation which uses the tensorflow_quantum layers.\n",
        "\n",
        "Alternative, one can simply treat a QuantumCircuit instance as a cirq.Circuit instance and perform simulation using cirq or tensorflow quantum build-in utilities"
      ],
      "metadata": {
        "id": "WEIf1KQX1aB0"
      }
    },
    {
      "cell_type": "markdown",
      "source": [
        "**statevector simulation**\n",
        "\n",
        "To perform statevector simulation, simply use the get_state_vectors method from QuantumCircuit\n",
        "\n",
        "The arguments are:\n",
        "\n",
        "vals: The values feeded to the parameter resolver. Default is None for the case of a non-parameterised circuit. If dict, it represents the map from sympy.Symbol objects to symbol values. If list of dict, it represents a list of parameter resolvers each with a map from sympy.Symbol objects to symbol values. If numpy array, it represents a mapping of symbol values according to the symbol indices."
      ],
      "metadata": {
        "id": "p0l1Jkrs1d6M"
      }
    },
    {
      "cell_type": "code",
      "source": [
        "# let's check the statevector for a Bell circuit\n",
        "cq = QuantumCircuit(2, name='BellCircuit')\n",
        "cq.H(0)\n",
        "cq.CNOT((0,1))\n",
        "cq"
      ],
      "metadata": {
        "colab": {
          "base_uri": "https://localhost:8080/",
          "height": 69
        },
        "id": "AfpPubem1UvA",
        "outputId": "4129d3bd-9092-4a09-f96e-ff013c96536e"
      },
      "execution_count": 25,
      "outputs": [
        {
          "output_type": "execute_result",
          "data": {
            "text/plain": [
              "(0, 0): ───H───@───\n",
              "               │\n",
              "(0, 1): ───────X───"
            ],
            "text/html": [
              "<pre style=\"overflow: auto; white-space: pre;\">(0, 0): ───H───@───\n",
              "               │\n",
              "(0, 1): ───────X───</pre>"
            ]
          },
          "metadata": {},
          "execution_count": 25
        }
      ]
    },
    {
      "cell_type": "code",
      "source": [
        "cq.get_state_vectors()"
      ],
      "metadata": {
        "colab": {
          "base_uri": "https://localhost:8080/"
        },
        "id": "LybVPuZK1ptZ",
        "outputId": "35c4ceac-15e6-45f8-b351-7cf5ce40c67c"
      },
      "execution_count": 26,
      "outputs": [
        {
          "output_type": "execute_result",
          "data": {
            "text/plain": [
              "array([[7.0710677e-01-1.2802769e-08j, 0.0000000e+00+0.0000000e+00j,\n",
              "        2.7021173e-15-3.0908620e-08j, 7.0710677e-01+6.1817239e-08j]],\n",
              "      dtype=complex64)"
            ]
          },
          "metadata": {},
          "execution_count": 26
        }
      ]
    },
    {
      "cell_type": "code",
      "source": [
        "# let's check the statevector for a simple parameterised circuit\n",
        "cq = QuantumCircuit(2)\n",
        "cq.H([0, 1])\n",
        "cq.RZ(sp.Symbol('x'), [0, 1])\n",
        "cq.CNOT((0,1))\n",
        "cq"
      ],
      "metadata": {
        "colab": {
          "base_uri": "https://localhost:8080/",
          "height": 69
        },
        "id": "7VEGkDUo1sba",
        "outputId": "402df796-47c3-4927-c67d-71f4d5a841d7"
      },
      "execution_count": 27,
      "outputs": [
        {
          "output_type": "execute_result",
          "data": {
            "text/plain": [
              "(0, 0): ───H───Rz(x)───@───\n",
              "                       │\n",
              "(0, 1): ───H───Rz(x)───X───"
            ],
            "text/html": [
              "<pre style=\"overflow: auto; white-space: pre;\">(0, 0): ───H───Rz(x)───@───\n",
              "                       │\n",
              "(0, 1): ───H───Rz(x)───X───</pre>"
            ]
          },
          "metadata": {},
          "execution_count": 27
        }
      ]
    },
    {
      "cell_type": "code",
      "source": [
        "# resolve the values of the symbol x from 0 to 2pi with intervals of 200\n",
        "symbol_values = np.linspace(0, 2*np.pi, 200)\n",
        "symbol_values = symbol_values.reshape((200, 1))\n",
        "state_vectors = cq.get_state_vectors(symbol_values)\n",
        "state_vectors[0]"
      ],
      "metadata": {
        "colab": {
          "base_uri": "https://localhost:8080/"
        },
        "id": "HKYvnGNN1viD",
        "outputId": "b0dbf284-9104-4791-947b-5a3b34ee015e"
      },
      "execution_count": 28,
      "outputs": [
        {
          "output_type": "execute_result",
          "data": {
            "text/plain": [
              "array([0.49999997-1.81058493e-08j, 0.49999997+1.28027695e-08j,\n",
              "       0.49999997+4.37113883e-08j, 0.49999997+1.28027704e-08j],\n",
              "      dtype=complex64)"
            ]
          },
          "metadata": {},
          "execution_count": 28
        }
      ]
    },
    {
      "cell_type": "markdown",
      "source": [
        "# **expectation simulation**\n",
        "To perform expectation simulation, simply use the get_expectation method from QuantumCircuit\n",
        "\n",
        "The arguments are:\n",
        "\n",
        "vals: The values feeded to the parameter resolver. Default is None for the case of a non-parameterised circuit. If dict, it represents the map from sympy.Symbol objects to symbol values. If list of dict, it represents a list of parameter resolvers each with a map from sympy.Symbol objects to symbol values. If numpy array, it represents a mapping of symbol values according to the symbol indices.\n",
        "operators: cirq operators for measuring the expecation value. If None, defaults to the PauliZ operator in the first qubit.\n",
        "repetitions: Number of measurement for computing the expecation. Default is 5000."
      ],
      "metadata": {
        "id": "-8EZh5Bc12SE"
      }
    },
    {
      "cell_type": "code",
      "source": [
        "# let's check the expectation for the first qubit for a Bell circuit\n",
        "cq = QuantumCircuit(2, name='BellCircuit')\n",
        "cq.H(0)\n",
        "cq.CNOT((0,1))\n",
        "cq"
      ],
      "metadata": {
        "colab": {
          "base_uri": "https://localhost:8080/",
          "height": 69
        },
        "id": "ARk62Ct51yBO",
        "outputId": "623a1cd7-7213-490c-f3e0-cf0fe9af3c1a"
      },
      "execution_count": 29,
      "outputs": [
        {
          "output_type": "execute_result",
          "data": {
            "text/plain": [
              "(0, 0): ───H───@───\n",
              "               │\n",
              "(0, 1): ───────X───"
            ],
            "text/html": [
              "<pre style=\"overflow: auto; white-space: pre;\">(0, 0): ───H───@───\n",
              "               │\n",
              "(0, 1): ───────X───</pre>"
            ]
          },
          "metadata": {},
          "execution_count": 29
        }
      ]
    },
    {
      "cell_type": "code",
      "source": [
        "result = cq.get_expectation(operators=[cirq.Z(qubits[0]), cirq.Z(qubits[1])], repetitions=5000)\n",
        "print(result)"
      ],
      "metadata": {
        "colab": {
          "base_uri": "https://localhost:8080/"
        },
        "id": "NR3Gm6xF18zX",
        "outputId": "26347f33-f11e-4f20-9f6e-f925c9134f44"
      },
      "execution_count": 30,
      "outputs": [
        {
          "output_type": "stream",
          "name": "stdout",
          "text": [
            "[[-0.0044 -0.0044]]\n"
          ]
        }
      ]
    },
    {
      "cell_type": "markdown",
      "source": [
        "We can see that both qubits have expectation 0 for the PauliZ operator. This means for both qubits, they have equal probability of being in the spin up (i.e. measured Z value is 1) or spin down (i.e. measured Z value is -1) states"
      ],
      "metadata": {
        "id": "l_oLXhCL2B29"
      }
    },
    {
      "cell_type": "code",
      "source": [
        "# let's check the expectation for a simple parameterised circuit\n",
        "cq = QuantumCircuit(1)\n",
        "cq.RX(sp.Symbol('x'), 0)\n",
        "cq"
      ],
      "metadata": {
        "colab": {
          "base_uri": "https://localhost:8080/",
          "height": 34
        },
        "id": "cKxtdyvw1_cp",
        "outputId": "c55240ae-41d5-4b6b-c019-cba81407ad31"
      },
      "execution_count": 31,
      "outputs": [
        {
          "output_type": "execute_result",
          "data": {
            "text/plain": [
              "(0, 0): ───Rx(x)───"
            ],
            "text/html": [
              "<pre style=\"overflow: auto; white-space: pre;\">(0, 0): ───Rx(x)───</pre>"
            ]
          },
          "metadata": {},
          "execution_count": 31
        }
      ]
    },
    {
      "cell_type": "code",
      "source": [
        "symbol_values = np.linspace(0, 2*np.pi, 200)\n",
        "symbol_values = symbol_values.reshape((200, 1))\n",
        "result = cq.get_expectation(symbol_values)"
      ],
      "metadata": {
        "id": "5hsppvdY2FzX"
      },
      "execution_count": 32,
      "outputs": []
    },
    {
      "cell_type": "code",
      "source": [
        "import matplotlib.pyplot as plt\n",
        "x = np.linspace(0, 2*np.pi, 200)\n",
        "y = result.reshape((200))\n",
        "plt.plot(x, y)\n",
        "plt.xlabel('x')\n",
        "plt.ylabel('Expecation(Z)')\n",
        "plt"
      ],
      "metadata": {
        "colab": {
          "base_uri": "https://localhost:8080/",
          "height": 296
        },
        "id": "pco9ir872H_p",
        "outputId": "c072ab0c-f16e-4545-f9e5-048bfa8ff53b"
      },
      "execution_count": 33,
      "outputs": [
        {
          "output_type": "execute_result",
          "data": {
            "text/plain": [
              "<module 'matplotlib.pyplot' from '/usr/local/lib/python3.8/dist-packages/matplotlib/pyplot.py'>"
            ]
          },
          "metadata": {},
          "execution_count": 33
        },
        {
          "output_type": "display_data",
          "data": {
            "text/plain": [
              "<Figure size 432x288 with 1 Axes>"
            ],
            "image/png": "[encoded data removed]"
          },
          "metadata": {
            "needs_background": "light"
          }
        }
      ]
    },
    {
      "cell_type": "code",
      "source": [],
      "metadata": {
        "id": "nZwOYw_22KJV"
      },
      "execution_count": null,
      "outputs": []
    }
  ]
}