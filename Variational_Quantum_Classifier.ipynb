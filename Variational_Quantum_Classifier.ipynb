{
  "nbformat": 4,
  "nbformat_minor": 0,
  "metadata": {
    "colab": {
      "provenance": [],
      "authorship_tag": "ABX9TyPOM8Sf9V+aqJGL0bn5lMDq",
      "include_colab_link": true
    },
    "kernelspec": {
      "name": "python3",
      "display_name": "Python 3"
    },
    "language_info": {
      "name": "python"
    },
    "accelerator": "GPU",
    "gpuClass": "standard"
  },
  "cells": [
    {
      "cell_type": "markdown",
      "metadata": {
        "id": "view-in-github",
        "colab_type": "text"
      },
      "source": [
        "<a href=\"https://colab.research.google.com/github/shumshersubashgautam/QuantumGAN-HighEnergyPhysics/blob/main/Variational_Quantum_Classifier.ipynb\" target=\"_parent\"><img src=\"https://colab.research.google.com/assets/colab-badge.svg\" alt=\"Open In Colab\"/></a>"
      ]
    },
    {
      "cell_type": "code",
      "execution_count": 1,
      "metadata": {
        "colab": {
          "base_uri": "https://localhost:8080/"
        },
        "id": "O2Xc5GdLGeVw",
        "outputId": "8fa86875-ad1e-4e21-e976-408fe56e9ee3"
      },
      "outputs": [
        {
          "output_type": "stream",
          "name": "stdout",
          "text": [
            "Looking in indexes: https://pypi.org/simple, https://us-python.pkg.dev/colab-wheels/public/simple/\n",
            "Collecting tensorflow==2.3.1\n",
            "  Downloading tensorflow-2.3.1-cp38-cp38-manylinux2010_x86_64.whl (320.5 MB)\n",
            "\u001b[2K     \u001b[90m━━━━━━━━━━━━━━━━━━━━━━━━━━━━━━━━━━━━━━━\u001b[0m \u001b[32m320.5/320.5 MB\u001b[0m \u001b[31m4.5 MB/s\u001b[0m eta \u001b[36m0:00:00\u001b[0m\n",
            "\u001b[?25hRequirement already satisfied: wrapt>=1.11.1 in /usr/local/lib/python3.8/dist-packages (from tensorflow==2.3.1) (1.14.1)\n",
            "Requirement already satisfied: wheel>=0.26 in /usr/local/lib/python3.8/dist-packages (from tensorflow==2.3.1) (0.38.4)\n",
            "Collecting keras-preprocessing<1.2,>=1.1.1\n",
            "  Downloading Keras_Preprocessing-1.1.2-py2.py3-none-any.whl (42 kB)\n",
            "\u001b[2K     \u001b[90m━━━━━━━━━━━━━━━━━━━━━━━━━━━━━━━━━━━━━━━━\u001b[0m \u001b[32m42.6/42.6 KB\u001b[0m \u001b[31m4.0 MB/s\u001b[0m eta \u001b[36m0:00:00\u001b[0m\n",
            "\u001b[?25hCollecting gast==0.3.3\n",
            "  Downloading gast-0.3.3-py2.py3-none-any.whl (9.7 kB)\n",
            "Collecting numpy<1.19.0,>=1.16.0\n",
            "  Downloading numpy-1.18.5-cp38-cp38-manylinux1_x86_64.whl (20.6 MB)\n",
            "\u001b[2K     \u001b[90m━━━━━━━━━━━━━━━━━━━━━━━━━━━━━━━━━━━━━━━━\u001b[0m \u001b[32m20.6/20.6 MB\u001b[0m \u001b[31m60.6 MB/s\u001b[0m eta \u001b[36m0:00:00\u001b[0m\n",
            "\u001b[?25hRequirement already satisfied: absl-py>=0.7.0 in /usr/local/lib/python3.8/dist-packages (from tensorflow==2.3.1) (1.4.0)\n",
            "Requirement already satisfied: opt-einsum>=2.3.2 in /usr/local/lib/python3.8/dist-packages (from tensorflow==2.3.1) (3.3.0)\n",
            "Requirement already satisfied: protobuf>=3.9.2 in /usr/local/lib/python3.8/dist-packages (from tensorflow==2.3.1) (3.19.6)\n",
            "Requirement already satisfied: tensorboard<3,>=2.3.0 in /usr/local/lib/python3.8/dist-packages (from tensorflow==2.3.1) (2.11.2)\n",
            "Collecting tensorflow-estimator<2.4.0,>=2.3.0\n",
            "  Downloading tensorflow_estimator-2.3.0-py2.py3-none-any.whl (459 kB)\n",
            "\u001b[2K     \u001b[90m━━━━━━━━━━━━━━━━━━━━━━━━━━━━━━━━━━━━━━\u001b[0m \u001b[32m459.0/459.0 KB\u001b[0m \u001b[31m46.7 MB/s\u001b[0m eta \u001b[36m0:00:00\u001b[0m\n",
            "\u001b[?25hRequirement already satisfied: astunparse==1.6.3 in /usr/local/lib/python3.8/dist-packages (from tensorflow==2.3.1) (1.6.3)\n",
            "Requirement already satisfied: termcolor>=1.1.0 in /usr/local/lib/python3.8/dist-packages (from tensorflow==2.3.1) (2.2.0)\n",
            "Requirement already satisfied: grpcio>=1.8.6 in /usr/local/lib/python3.8/dist-packages (from tensorflow==2.3.1) (1.51.1)\n",
            "Collecting h5py<2.11.0,>=2.10.0\n",
            "  Downloading h5py-2.10.0-cp38-cp38-manylinux1_x86_64.whl (2.9 MB)\n",
            "\u001b[2K     \u001b[90m━━━━━━━━━━━━━━━━━━━━━━━━━━━━━━━━━━━━━━━━\u001b[0m \u001b[32m2.9/2.9 MB\u001b[0m \u001b[31m94.0 MB/s\u001b[0m eta \u001b[36m0:00:00\u001b[0m\n",
            "\u001b[?25hRequirement already satisfied: six>=1.12.0 in /usr/local/lib/python3.8/dist-packages (from tensorflow==2.3.1) (1.15.0)\n",
            "Requirement already satisfied: google-pasta>=0.1.8 in /usr/local/lib/python3.8/dist-packages (from tensorflow==2.3.1) (0.2.0)\n",
            "Requirement already satisfied: tensorboard-data-server<0.7.0,>=0.6.0 in /usr/local/lib/python3.8/dist-packages (from tensorboard<3,>=2.3.0->tensorflow==2.3.1) (0.6.1)\n",
            "Requirement already satisfied: google-auth-oauthlib<0.5,>=0.4.1 in /usr/local/lib/python3.8/dist-packages (from tensorboard<3,>=2.3.0->tensorflow==2.3.1) (0.4.6)\n",
            "Requirement already satisfied: setuptools>=41.0.0 in /usr/local/lib/python3.8/dist-packages (from tensorboard<3,>=2.3.0->tensorflow==2.3.1) (57.4.0)\n",
            "Requirement already satisfied: markdown>=2.6.8 in /usr/local/lib/python3.8/dist-packages (from tensorboard<3,>=2.3.0->tensorflow==2.3.1) (3.4.1)\n",
            "Requirement already satisfied: google-auth<3,>=1.6.3 in /usr/local/lib/python3.8/dist-packages (from tensorboard<3,>=2.3.0->tensorflow==2.3.1) (2.16.1)\n",
            "Requirement already satisfied: requests<3,>=2.21.0 in /usr/local/lib/python3.8/dist-packages (from tensorboard<3,>=2.3.0->tensorflow==2.3.1) (2.25.1)\n",
            "Requirement already satisfied: tensorboard-plugin-wit>=1.6.0 in /usr/local/lib/python3.8/dist-packages (from tensorboard<3,>=2.3.0->tensorflow==2.3.1) (1.8.1)\n",
            "Requirement already satisfied: werkzeug>=1.0.1 in /usr/local/lib/python3.8/dist-packages (from tensorboard<3,>=2.3.0->tensorflow==2.3.1) (1.0.1)\n",
            "Requirement already satisfied: cachetools<6.0,>=2.0.0 in /usr/local/lib/python3.8/dist-packages (from google-auth<3,>=1.6.3->tensorboard<3,>=2.3.0->tensorflow==2.3.1) (5.3.0)\n",
            "Requirement already satisfied: pyasn1-modules>=0.2.1 in /usr/local/lib/python3.8/dist-packages (from google-auth<3,>=1.6.3->tensorboard<3,>=2.3.0->tensorflow==2.3.1) (0.2.8)\n",
            "Requirement already satisfied: rsa<5,>=3.1.4 in /usr/local/lib/python3.8/dist-packages (from google-auth<3,>=1.6.3->tensorboard<3,>=2.3.0->tensorflow==2.3.1) (4.9)\n",
            "Requirement already satisfied: requests-oauthlib>=0.7.0 in /usr/local/lib/python3.8/dist-packages (from google-auth-oauthlib<0.5,>=0.4.1->tensorboard<3,>=2.3.0->tensorflow==2.3.1) (1.3.1)\n",
            "Requirement already satisfied: importlib-metadata>=4.4 in /usr/local/lib/python3.8/dist-packages (from markdown>=2.6.8->tensorboard<3,>=2.3.0->tensorflow==2.3.1) (6.0.0)\n",
            "Requirement already satisfied: urllib3<1.27,>=1.21.1 in /usr/local/lib/python3.8/dist-packages (from requests<3,>=2.21.0->tensorboard<3,>=2.3.0->tensorflow==2.3.1) (1.24.3)\n",
            "Requirement already satisfied: chardet<5,>=3.0.2 in /usr/local/lib/python3.8/dist-packages (from requests<3,>=2.21.0->tensorboard<3,>=2.3.0->tensorflow==2.3.1) (4.0.0)\n",
            "Requirement already satisfied: certifi>=2017.4.17 in /usr/local/lib/python3.8/dist-packages (from requests<3,>=2.21.0->tensorboard<3,>=2.3.0->tensorflow==2.3.1) (2022.12.7)\n",
            "Requirement already satisfied: idna<3,>=2.5 in /usr/local/lib/python3.8/dist-packages (from requests<3,>=2.21.0->tensorboard<3,>=2.3.0->tensorflow==2.3.1) (2.10)\n",
            "Requirement already satisfied: zipp>=0.5 in /usr/local/lib/python3.8/dist-packages (from importlib-metadata>=4.4->markdown>=2.6.8->tensorboard<3,>=2.3.0->tensorflow==2.3.1) (3.14.0)\n",
            "Requirement already satisfied: pyasn1<0.5.0,>=0.4.6 in /usr/local/lib/python3.8/dist-packages (from pyasn1-modules>=0.2.1->google-auth<3,>=1.6.3->tensorboard<3,>=2.3.0->tensorflow==2.3.1) (0.4.8)\n",
            "Requirement already satisfied: oauthlib>=3.0.0 in /usr/local/lib/python3.8/dist-packages (from requests-oauthlib>=0.7.0->google-auth-oauthlib<0.5,>=0.4.1->tensorboard<3,>=2.3.0->tensorflow==2.3.1) (3.2.2)\n",
            "Installing collected packages: tensorflow-estimator, numpy, gast, keras-preprocessing, h5py, tensorflow\n",
            "  Attempting uninstall: tensorflow-estimator\n",
            "    Found existing installation: tensorflow-estimator 2.11.0\n",
            "    Uninstalling tensorflow-estimator-2.11.0:\n",
            "      Successfully uninstalled tensorflow-estimator-2.11.0\n",
            "  Attempting uninstall: numpy\n",
            "    Found existing installation: numpy 1.22.4\n",
            "    Uninstalling numpy-1.22.4:\n",
            "      Successfully uninstalled numpy-1.22.4\n",
            "  Attempting uninstall: gast\n",
            "    Found existing installation: gast 0.4.0\n",
            "    Uninstalling gast-0.4.0:\n",
            "      Successfully uninstalled gast-0.4.0\n",
            "  Attempting uninstall: h5py\n",
            "    Found existing installation: h5py 3.1.0\n",
            "    Uninstalling h5py-3.1.0:\n",
            "      Successfully uninstalled h5py-3.1.0\n",
            "  Attempting uninstall: tensorflow\n",
            "    Found existing installation: tensorflow 2.11.0\n",
            "    Uninstalling tensorflow-2.11.0:\n",
            "      Successfully uninstalled tensorflow-2.11.0\n",
            "\u001b[31mERROR: pip's dependency resolver does not currently take into account all the packages that are installed. This behaviour is the source of the following dependency conflicts.\n",
            "xarray 2022.12.0 requires numpy>=1.20, but you have numpy 1.18.5 which is incompatible.\n",
            "xarray-einstats 0.5.1 requires numpy>=1.20, but you have numpy 1.18.5 which is incompatible.\n",
            "tables 3.7.0 requires numpy>=1.19.0, but you have numpy 1.18.5 which is incompatible.\n",
            "plotnine 0.8.0 requires numpy>=1.19.0, but you have numpy 1.18.5 which is incompatible.\n",
            "jaxlib 0.3.25+cuda11.cudnn805 requires numpy>=1.20, but you have numpy 1.18.5 which is incompatible.\n",
            "jax 0.3.25 requires numpy>=1.20, but you have numpy 1.18.5 which is incompatible.\n",
            "cupy-cuda11x 11.0.0 requires numpy<1.26,>=1.20, but you have numpy 1.18.5 which is incompatible.\n",
            "cmdstanpy 1.1.0 requires numpy>=1.21, but you have numpy 1.18.5 which is incompatible.\u001b[0m\u001b[31m\n",
            "\u001b[0mSuccessfully installed gast-0.3.3 h5py-2.10.0 keras-preprocessing-1.1.2 numpy-1.18.5 tensorflow-2.3.1 tensorflow-estimator-2.3.0\n",
            "Looking in indexes: https://pypi.org/simple, https://us-python.pkg.dev/colab-wheels/public/simple/\n",
            "Collecting tensorflow_quantum==0.4.0\n",
            "  Downloading tensorflow_quantum-0.4.0-cp38-cp38-manylinux2010_x86_64.whl (5.9 MB)\n",
            "\u001b[2K     \u001b[90m━━━━━━━━━━━━━━━━━━━━━━━━━━━━━━━━━━━━━━━━\u001b[0m \u001b[32m5.9/5.9 MB\u001b[0m \u001b[31m81.3 MB/s\u001b[0m eta \u001b[36m0:00:00\u001b[0m\n",
            "\u001b[?25hCollecting cirq==0.9.1\n",
            "  Downloading cirq-0.9.1-py3-none-any.whl (1.6 MB)\n",
            "\u001b[2K     \u001b[90m━━━━━━━━━━━━━━━━━━━━━━━━━━━━━━━━━━━━━━━━\u001b[0m \u001b[32m1.6/1.6 MB\u001b[0m \u001b[31m79.8 MB/s\u001b[0m eta \u001b[36m0:00:00\u001b[0m\n",
            "\u001b[?25hCollecting sympy==1.5\n",
            "  Downloading sympy-1.5-py2.py3-none-any.whl (5.6 MB)\n",
            "\u001b[2K     \u001b[90m━━━━━━━━━━━━━━━━━━━━━━━━━━━━━━━━━━━━━━━━\u001b[0m \u001b[32m5.6/5.6 MB\u001b[0m \u001b[31m16.1 MB/s\u001b[0m eta \u001b[36m0:00:00\u001b[0m\n",
            "\u001b[?25hRequirement already satisfied: pandas in /usr/local/lib/python3.8/dist-packages (from cirq==0.9.1->tensorflow_quantum==0.4.0) (1.3.5)\n",
            "Collecting protobuf~=3.12.0\n",
            "  Downloading protobuf-3.12.4-cp38-cp38-manylinux1_x86_64.whl (1.3 MB)\n",
            "\u001b[2K     \u001b[90m━━━━━━━━━━━━━━━━━━━━━━━━━━━━━━━━━━━━━━━━\u001b[0m \u001b[32m1.3/1.3 MB\u001b[0m \u001b[31m48.0 MB/s\u001b[0m eta \u001b[36m0:00:00\u001b[0m\n",
            "\u001b[?25hRequirement already satisfied: sortedcontainers~=2.0 in /usr/local/lib/python3.8/dist-packages (from cirq==0.9.1->tensorflow_quantum==0.4.0) (2.4.0)\n",
            "Requirement already satisfied: typing-extensions in /usr/local/lib/python3.8/dist-packages (from cirq==0.9.1->tensorflow_quantum==0.4.0) (4.5.0)\n",
            "Requirement already satisfied: numpy~=1.16 in /usr/local/lib/python3.8/dist-packages (from cirq==0.9.1->tensorflow_quantum==0.4.0) (1.18.5)\n",
            "Collecting networkx~=2.4\n",
            "  Downloading networkx-2.8.8-py3-none-any.whl (2.0 MB)\n",
            "\u001b[2K     \u001b[90m━━━━━━━━━━━━━━━━━━━━━━━━━━━━━━━━━━━━━━━━\u001b[0m \u001b[32m2.0/2.0 MB\u001b[0m \u001b[31m75.2 MB/s\u001b[0m eta \u001b[36m0:00:00\u001b[0m\n",
            "\u001b[?25hCollecting freezegun~=0.3.15\n",
            "  Downloading freezegun-0.3.15-py2.py3-none-any.whl (14 kB)\n",
            "Requirement already satisfied: requests~=2.18 in /usr/local/lib/python3.8/dist-packages (from cirq==0.9.1->tensorflow_quantum==0.4.0) (2.25.1)\n",
            "Requirement already satisfied: scipy in /usr/local/lib/python3.8/dist-packages (from cirq==0.9.1->tensorflow_quantum==0.4.0) (1.7.3)\n",
            "Requirement already satisfied: matplotlib~=3.0 in /usr/local/lib/python3.8/dist-packages (from cirq==0.9.1->tensorflow_quantum==0.4.0) (3.5.3)\n",
            "Collecting google-api-core[grpc]<2.0.0dev,>=1.14.0\n",
            "  Downloading google_api_core-1.34.0-py3-none-any.whl (120 kB)\n",
            "\u001b[2K     \u001b[90m━━━━━━━━━━━━━━━━━━━━━━━━━━━━━━━━━━━━━━\u001b[0m \u001b[32m120.2/120.2 KB\u001b[0m \u001b[31m14.9 MB/s\u001b[0m eta \u001b[36m0:00:00\u001b[0m\n",
            "\u001b[?25hRequirement already satisfied: mpmath>=0.19 in /usr/local/lib/python3.8/dist-packages (from sympy==1.5->tensorflow_quantum==0.4.0) (1.2.1)\n",
            "Requirement already satisfied: six in /usr/local/lib/python3.8/dist-packages (from freezegun~=0.3.15->cirq==0.9.1->tensorflow_quantum==0.4.0) (1.15.0)\n",
            "Requirement already satisfied: python-dateutil!=2.0,>=1.0 in /usr/local/lib/python3.8/dist-packages (from freezegun~=0.3.15->cirq==0.9.1->tensorflow_quantum==0.4.0) (2.8.2)\n",
            "  Downloading google_api_core-1.33.2-py3-none-any.whl (115 kB)\n",
            "\u001b[2K     \u001b[90m━━━━━━━━━━━━━━━━━━━━━━━━━━━━━━━━━━━━━━\u001b[0m \u001b[32m115.5/115.5 KB\u001b[0m \u001b[31m15.2 MB/s\u001b[0m eta \u001b[36m0:00:00\u001b[0m\n",
            "\u001b[?25h  Downloading google_api_core-1.33.1-py3-none-any.whl (115 kB)\n",
            "\u001b[2K     \u001b[90m━━━━━━━━━━━━━━━━━━━━━━━━━━━━━━━━━━━━━━\u001b[0m \u001b[32m115.5/115.5 KB\u001b[0m \u001b[31m15.1 MB/s\u001b[0m eta \u001b[36m0:00:00\u001b[0m\n",
            "\u001b[?25hRequirement already satisfied: googleapis-common-protos<2.0dev,>=1.56.2 in /usr/local/lib/python3.8/dist-packages (from google-api-core[grpc]<2.0.0dev,>=1.14.0->cirq==0.9.1->tensorflow_quantum==0.4.0) (1.58.0)\n",
            "Requirement already satisfied: google-auth<3.0dev,>=1.25.0 in /usr/local/lib/python3.8/dist-packages (from google-api-core[grpc]<2.0.0dev,>=1.14.0->cirq==0.9.1->tensorflow_quantum==0.4.0) (2.16.1)\n",
            "  Downloading google_api_core-1.33.0-py3-none-any.whl (115 kB)\n",
            "\u001b[2K     \u001b[90m━━━━━━━━━━━━━━━━━━━━━━━━━━━━━━━━━━━━━━\u001b[0m \u001b[32m115.2/115.2 KB\u001b[0m \u001b[31m14.7 MB/s\u001b[0m eta \u001b[36m0:00:00\u001b[0m\n",
            "\u001b[?25h  Downloading google_api_core-1.32.0-py2.py3-none-any.whl (93 kB)\n",
            "\u001b[2K     \u001b[90m━━━━━━━━━━━━━━━━━━━━━━━━━━━━━━━━━━━━━━━━\u001b[0m \u001b[32m93.6/93.6 KB\u001b[0m \u001b[31m12.7 MB/s\u001b[0m eta \u001b[36m0:00:00\u001b[0m\n",
            "\u001b[?25hRequirement already satisfied: setuptools>=40.3.0 in /usr/local/lib/python3.8/dist-packages (from google-api-core[grpc]<2.0.0dev,>=1.14.0->cirq==0.9.1->tensorflow_quantum==0.4.0) (57.4.0)\n",
            "Requirement already satisfied: pytz in /usr/local/lib/python3.8/dist-packages (from google-api-core[grpc]<2.0.0dev,>=1.14.0->cirq==0.9.1->tensorflow_quantum==0.4.0) (2022.7.1)\n",
            "Collecting google-auth<2.0dev,>=1.25.0\n",
            "  Downloading google_auth-1.35.0-py2.py3-none-any.whl (152 kB)\n",
            "\u001b[2K     \u001b[90m━━━━━━━━━━━━━━━━━━━━━━━━━━━━━━━━━━━━━━\u001b[0m \u001b[32m152.9/152.9 KB\u001b[0m \u001b[31m18.2 MB/s\u001b[0m eta \u001b[36m0:00:00\u001b[0m\n",
            "\u001b[?25hRequirement already satisfied: packaging>=14.3 in /usr/local/lib/python3.8/dist-packages (from google-api-core[grpc]<2.0.0dev,>=1.14.0->cirq==0.9.1->tensorflow_quantum==0.4.0) (23.0)\n",
            "Requirement already satisfied: grpcio<2.0dev,>=1.29.0 in /usr/local/lib/python3.8/dist-packages (from google-api-core[grpc]<2.0.0dev,>=1.14.0->cirq==0.9.1->tensorflow_quantum==0.4.0) (1.51.1)\n",
            "Requirement already satisfied: pillow>=6.2.0 in /usr/local/lib/python3.8/dist-packages (from matplotlib~=3.0->cirq==0.9.1->tensorflow_quantum==0.4.0) (7.1.2)\n",
            "Requirement already satisfied: kiwisolver>=1.0.1 in /usr/local/lib/python3.8/dist-packages (from matplotlib~=3.0->cirq==0.9.1->tensorflow_quantum==0.4.0) (1.4.4)\n",
            "Requirement already satisfied: cycler>=0.10 in /usr/local/lib/python3.8/dist-packages (from matplotlib~=3.0->cirq==0.9.1->tensorflow_quantum==0.4.0) (0.11.0)\n",
            "Requirement already satisfied: pyparsing>=2.2.1 in /usr/local/lib/python3.8/dist-packages (from matplotlib~=3.0->cirq==0.9.1->tensorflow_quantum==0.4.0) (3.0.9)\n",
            "Requirement already satisfied: fonttools>=4.22.0 in /usr/local/lib/python3.8/dist-packages (from matplotlib~=3.0->cirq==0.9.1->tensorflow_quantum==0.4.0) (4.38.0)\n",
            "Requirement already satisfied: certifi>=2017.4.17 in /usr/local/lib/python3.8/dist-packages (from requests~=2.18->cirq==0.9.1->tensorflow_quantum==0.4.0) (2022.12.7)\n",
            "Requirement already satisfied: idna<3,>=2.5 in /usr/local/lib/python3.8/dist-packages (from requests~=2.18->cirq==0.9.1->tensorflow_quantum==0.4.0) (2.10)\n",
            "Requirement already satisfied: urllib3<1.27,>=1.21.1 in /usr/local/lib/python3.8/dist-packages (from requests~=2.18->cirq==0.9.1->tensorflow_quantum==0.4.0) (1.24.3)\n",
            "Requirement already satisfied: chardet<5,>=3.0.2 in /usr/local/lib/python3.8/dist-packages (from requests~=2.18->cirq==0.9.1->tensorflow_quantum==0.4.0) (4.0.0)\n",
            "Requirement already satisfied: pyasn1-modules>=0.2.1 in /usr/local/lib/python3.8/dist-packages (from google-auth<2.0dev,>=1.25.0->google-api-core[grpc]<2.0.0dev,>=1.14.0->cirq==0.9.1->tensorflow_quantum==0.4.0) (0.2.8)\n",
            "Collecting cachetools<5.0,>=2.0.0\n",
            "  Downloading cachetools-4.2.4-py3-none-any.whl (10 kB)\n",
            "Requirement already satisfied: rsa<5,>=3.1.4 in /usr/local/lib/python3.8/dist-packages (from google-auth<2.0dev,>=1.25.0->google-api-core[grpc]<2.0.0dev,>=1.14.0->cirq==0.9.1->tensorflow_quantum==0.4.0) (4.9)\n",
            "Collecting googleapis-common-protos<2.0dev,>=1.6.0\n",
            "  Downloading googleapis_common_protos-1.57.1-py2.py3-none-any.whl (218 kB)\n",
            "\u001b[2K     \u001b[90m━━━━━━━━━━━━━━━━━━━━━━━━━━━━━━━━━━━━━━\u001b[0m \u001b[32m218.0/218.0 KB\u001b[0m \u001b[31m21.7 MB/s\u001b[0m eta \u001b[36m0:00:00\u001b[0m\n",
            "\u001b[?25h  Downloading googleapis_common_protos-1.57.0-py2.py3-none-any.whl (217 kB)\n",
            "\u001b[2K     \u001b[90m━━━━━━━━━━━━━━━━━━━━━━━━━━━━━━━━━━━━━━\u001b[0m \u001b[32m218.0/218.0 KB\u001b[0m \u001b[31m24.4 MB/s\u001b[0m eta \u001b[36m0:00:00\u001b[0m\n",
            "\u001b[?25h  Downloading googleapis_common_protos-1.56.4-py2.py3-none-any.whl (211 kB)\n",
            "\u001b[2K     \u001b[90m━━━━━━━━━━━━━━━━━━━━━━━━━━━━━━━━━━━━━━\u001b[0m \u001b[32m211.7/211.7 KB\u001b[0m \u001b[31m23.8 MB/s\u001b[0m eta \u001b[36m0:00:00\u001b[0m\n",
            "\u001b[?25h  Downloading googleapis_common_protos-1.56.3-py2.py3-none-any.whl (211 kB)\n",
            "\u001b[2K     \u001b[90m━━━━━━━━━━━━━━━━━━━━━━━━━━━━━━━━━━━━━━\u001b[0m \u001b[32m211.8/211.8 KB\u001b[0m \u001b[31m23.9 MB/s\u001b[0m eta \u001b[36m0:00:00\u001b[0m\n",
            "\u001b[?25h  Downloading googleapis_common_protos-1.56.2-py2.py3-none-any.whl (211 kB)\n",
            "\u001b[2K     \u001b[90m━━━━━━━━━━━━━━━━━━━━━━━━━━━━━━━━━━━━━━\u001b[0m \u001b[32m211.8/211.8 KB\u001b[0m \u001b[31m23.1 MB/s\u001b[0m eta \u001b[36m0:00:00\u001b[0m\n",
            "\u001b[?25h  Downloading googleapis_common_protos-1.56.1-py2.py3-none-any.whl (211 kB)\n",
            "\u001b[2K     \u001b[90m━━━━━━━━━━━━━━━━━━━━━━━━━━━━━━━━━━━━━━\u001b[0m \u001b[32m211.7/211.7 KB\u001b[0m \u001b[31m21.7 MB/s\u001b[0m eta \u001b[36m0:00:00\u001b[0m\n",
            "\u001b[?25h  Downloading googleapis_common_protos-1.56.0-py2.py3-none-any.whl (241 kB)\n",
            "\u001b[2K     \u001b[90m━━━━━━━━━━━━━━━━━━━━━━━━━━━━━━━━━━━━━━\u001b[0m \u001b[32m241.5/241.5 KB\u001b[0m \u001b[31m22.6 MB/s\u001b[0m eta \u001b[36m0:00:00\u001b[0m\n",
            "\u001b[?25hRequirement already satisfied: pyasn1<0.5.0,>=0.4.6 in /usr/local/lib/python3.8/dist-packages (from pyasn1-modules>=0.2.1->google-auth<2.0dev,>=1.25.0->google-api-core[grpc]<2.0.0dev,>=1.14.0->cirq==0.9.1->tensorflow_quantum==0.4.0) (0.4.8)\n",
            "Installing collected packages: sympy, protobuf, networkx, cachetools, googleapis-common-protos, google-auth, freezegun, google-api-core, cirq, tensorflow_quantum\n",
            "  Attempting uninstall: sympy\n",
            "    Found existing installation: sympy 1.7.1\n",
            "    Uninstalling sympy-1.7.1:\n",
            "      Successfully uninstalled sympy-1.7.1\n",
            "  Attempting uninstall: protobuf\n",
            "    Found existing installation: protobuf 3.19.6\n",
            "    Uninstalling protobuf-3.19.6:\n",
            "      Successfully uninstalled protobuf-3.19.6\n",
            "  Attempting uninstall: networkx\n",
            "    Found existing installation: networkx 3.0\n",
            "    Uninstalling networkx-3.0:\n",
            "      Successfully uninstalled networkx-3.0\n",
            "  Attempting uninstall: cachetools\n",
            "    Found existing installation: cachetools 5.3.0\n",
            "    Uninstalling cachetools-5.3.0:\n",
            "      Successfully uninstalled cachetools-5.3.0\n",
            "  Attempting uninstall: googleapis-common-protos\n",
            "    Found existing installation: googleapis-common-protos 1.58.0\n",
            "    Uninstalling googleapis-common-protos-1.58.0:\n",
            "      Successfully uninstalled googleapis-common-protos-1.58.0\n",
            "  Attempting uninstall: google-auth\n",
            "    Found existing installation: google-auth 2.16.1\n",
            "    Uninstalling google-auth-2.16.1:\n",
            "      Successfully uninstalled google-auth-2.16.1\n",
            "  Attempting uninstall: google-api-core\n",
            "    Found existing installation: google-api-core 2.11.0\n",
            "    Uninstalling google-api-core-2.11.0:\n",
            "      Successfully uninstalled google-api-core-2.11.0\n",
            "\u001b[31mERROR: pip's dependency resolver does not currently take into account all the packages that are installed. This behaviour is the source of the following dependency conflicts.\n",
            "tensorflow-metadata 1.12.0 requires protobuf<4,>=3.13, but you have protobuf 3.12.4 which is incompatible.\n",
            "proto-plus 1.22.2 requires protobuf<5.0.0dev,>=3.19.0, but you have protobuf 3.12.4 which is incompatible.\n",
            "google-cloud-translate 3.8.4 requires protobuf!=3.20.0,!=3.20.1,!=4.21.0,!=4.21.1,!=4.21.2,!=4.21.3,!=4.21.4,!=4.21.5,<5.0.0dev,>=3.19.5, but you have protobuf 3.12.4 which is incompatible.\n",
            "google-cloud-language 2.6.1 requires protobuf!=3.20.0,!=3.20.1,!=4.21.0,!=4.21.1,!=4.21.2,!=4.21.3,!=4.21.4,!=4.21.5,<5.0.0dev,>=3.19.5, but you have protobuf 3.12.4 which is incompatible.\n",
            "google-cloud-firestore 2.7.3 requires google-api-core[grpc]!=2.0.*,!=2.1.*,!=2.10.*,!=2.2.*,!=2.3.*,!=2.4.*,!=2.5.*,!=2.6.*,!=2.7.*,!=2.8.*,!=2.9.*,<3.0.0dev,>=1.34.0, but you have google-api-core 1.32.0 which is incompatible.\n",
            "google-cloud-firestore 2.7.3 requires protobuf!=3.20.0,!=3.20.1,!=4.21.0,!=4.21.1,!=4.21.2,!=4.21.3,!=4.21.4,!=4.21.5,<5.0.0dev,>=3.19.5, but you have protobuf 3.12.4 which is incompatible.\n",
            "google-cloud-datastore 2.11.1 requires google-api-core[grpc]!=2.0.*,!=2.1.*,!=2.10.*,!=2.2.*,!=2.3.*,!=2.4.*,!=2.5.*,!=2.6.*,!=2.7.*,!=2.8.*,!=2.9.*,<3.0.0dev,>=1.34.0, but you have google-api-core 1.32.0 which is incompatible.\n",
            "google-cloud-datastore 2.11.1 requires protobuf!=3.20.0,!=3.20.1,!=4.21.0,!=4.21.1,!=4.21.2,!=4.21.3,!=4.21.4,!=4.21.5,<5.0.0dev,>=3.19.5, but you have protobuf 3.12.4 which is incompatible.\n",
            "google-cloud-bigquery 3.4.2 requires protobuf!=3.20.0,!=3.20.1,!=4.21.0,!=4.21.1,!=4.21.2,!=4.21.3,!=4.21.4,!=4.21.5,<5.0.0dev,>=3.19.5, but you have protobuf 3.12.4 which is incompatible.\n",
            "google-cloud-bigquery-storage 2.18.1 requires google-api-core[grpc]!=2.0.*,!=2.1.*,!=2.10.*,!=2.2.*,!=2.3.*,!=2.4.*,!=2.5.*,!=2.6.*,!=2.7.*,!=2.8.*,!=2.9.*,<3.0.0dev,>=1.34.0, but you have google-api-core 1.32.0 which is incompatible.\n",
            "google-cloud-bigquery-storage 2.18.1 requires protobuf!=3.20.0,!=3.20.1,!=4.21.0,!=4.21.1,!=4.21.2,!=4.21.3,!=4.21.4,!=4.21.5,<5.0.0dev,>=3.19.5, but you have protobuf 3.12.4 which is incompatible.\u001b[0m\u001b[31m\n",
            "\u001b[0mSuccessfully installed cachetools-4.2.4 cirq-0.9.1 freezegun-0.3.15 google-api-core-1.32.0 google-auth-1.35.0 googleapis-common-protos-1.56.0 networkx-2.8.8 protobuf-3.12.4 sympy-1.5 tensorflow_quantum-0.4.0\n",
            "Looking in indexes: https://pypi.org/simple, https://us-python.pkg.dev/colab-wheels/public/simple/\n",
            "Collecting quple==0.7.8\n",
            "  Downloading quple-0.7.8-py3-none-any.whl (82 kB)\n",
            "\u001b[2K     \u001b[90m━━━━━━━━━━━━━━━━━━━━━━━━━━━━━━━━━━━━━━━━\u001b[0m \u001b[32m83.0/83.0 KB\u001b[0m \u001b[31m7.1 MB/s\u001b[0m eta \u001b[36m0:00:00\u001b[0m\n",
            "\u001b[?25hRequirement already satisfied: cirq in /usr/local/lib/python3.8/dist-packages (from quple==0.7.8) (0.9.1)\n",
            "Requirement already satisfied: tensorflow-quantum==0.4.0 in /usr/local/lib/python3.8/dist-packages (from quple==0.7.8) (0.4.0)\n",
            "Requirement already satisfied: numpy in /usr/local/lib/python3.8/dist-packages (from quple==0.7.8) (1.18.5)\n",
            "Requirement already satisfied: tensorflow==2.3.1 in /usr/local/lib/python3.8/dist-packages (from quple==0.7.8) (2.3.1)\n",
            "Requirement already satisfied: tensorboard<3,>=2.3.0 in /usr/local/lib/python3.8/dist-packages (from tensorflow==2.3.1->quple==0.7.8) (2.11.2)\n",
            "Requirement already satisfied: grpcio>=1.8.6 in /usr/local/lib/python3.8/dist-packages (from tensorflow==2.3.1->quple==0.7.8) (1.51.1)\n",
            "Requirement already satisfied: astunparse==1.6.3 in /usr/local/lib/python3.8/dist-packages (from tensorflow==2.3.1->quple==0.7.8) (1.6.3)\n",
            "Requirement already satisfied: six>=1.12.0 in /usr/local/lib/python3.8/dist-packages (from tensorflow==2.3.1->quple==0.7.8) (1.15.0)\n",
            "Requirement already satisfied: h5py<2.11.0,>=2.10.0 in /usr/local/lib/python3.8/dist-packages (from tensorflow==2.3.1->quple==0.7.8) (2.10.0)\n",
            "Requirement already satisfied: wheel>=0.26 in /usr/local/lib/python3.8/dist-packages (from tensorflow==2.3.1->quple==0.7.8) (0.38.4)\n",
            "Requirement already satisfied: protobuf>=3.9.2 in /usr/local/lib/python3.8/dist-packages (from tensorflow==2.3.1->quple==0.7.8) (3.12.4)\n",
            "Requirement already satisfied: termcolor>=1.1.0 in /usr/local/lib/python3.8/dist-packages (from tensorflow==2.3.1->quple==0.7.8) (2.2.0)\n",
            "Requirement already satisfied: google-pasta>=0.1.8 in /usr/local/lib/python3.8/dist-packages (from tensorflow==2.3.1->quple==0.7.8) (0.2.0)\n",
            "Requirement already satisfied: opt-einsum>=2.3.2 in /usr/local/lib/python3.8/dist-packages (from tensorflow==2.3.1->quple==0.7.8) (3.3.0)\n",
            "Requirement already satisfied: tensorflow-estimator<2.4.0,>=2.3.0 in /usr/local/lib/python3.8/dist-packages (from tensorflow==2.3.1->quple==0.7.8) (2.3.0)\n",
            "Requirement already satisfied: absl-py>=0.7.0 in /usr/local/lib/python3.8/dist-packages (from tensorflow==2.3.1->quple==0.7.8) (1.4.0)\n",
            "Requirement already satisfied: wrapt>=1.11.1 in /usr/local/lib/python3.8/dist-packages (from tensorflow==2.3.1->quple==0.7.8) (1.14.1)\n",
            "Requirement already satisfied: keras-preprocessing<1.2,>=1.1.1 in /usr/local/lib/python3.8/dist-packages (from tensorflow==2.3.1->quple==0.7.8) (1.1.2)\n",
            "Requirement already satisfied: gast==0.3.3 in /usr/local/lib/python3.8/dist-packages (from tensorflow==2.3.1->quple==0.7.8) (0.3.3)\n",
            "Requirement already satisfied: sympy==1.5 in /usr/local/lib/python3.8/dist-packages (from tensorflow-quantum==0.4.0->quple==0.7.8) (1.5)\n",
            "Requirement already satisfied: matplotlib~=3.0 in /usr/local/lib/python3.8/dist-packages (from cirq->quple==0.7.8) (3.5.3)\n",
            "Requirement already satisfied: typing-extensions in /usr/local/lib/python3.8/dist-packages (from cirq->quple==0.7.8) (4.5.0)\n",
            "Requirement already satisfied: freezegun~=0.3.15 in /usr/local/lib/python3.8/dist-packages (from cirq->quple==0.7.8) (0.3.15)\n",
            "Requirement already satisfied: pandas in /usr/local/lib/python3.8/dist-packages (from cirq->quple==0.7.8) (1.3.5)\n",
            "Requirement already satisfied: google-api-core[grpc]<2.0.0dev,>=1.14.0 in /usr/local/lib/python3.8/dist-packages (from cirq->quple==0.7.8) (1.32.0)\n",
            "Requirement already satisfied: sortedcontainers~=2.0 in /usr/local/lib/python3.8/dist-packages (from cirq->quple==0.7.8) (2.4.0)\n",
            "Requirement already satisfied: requests~=2.18 in /usr/local/lib/python3.8/dist-packages (from cirq->quple==0.7.8) (2.25.1)\n",
            "Requirement already satisfied: scipy in /usr/local/lib/python3.8/dist-packages (from cirq->quple==0.7.8) (1.7.3)\n",
            "Requirement already satisfied: networkx~=2.4 in /usr/local/lib/python3.8/dist-packages (from cirq->quple==0.7.8) (2.8.8)\n",
            "Requirement already satisfied: mpmath>=0.19 in /usr/local/lib/python3.8/dist-packages (from sympy==1.5->tensorflow-quantum==0.4.0->quple==0.7.8) (1.2.1)\n",
            "Requirement already satisfied: python-dateutil!=2.0,>=1.0 in /usr/local/lib/python3.8/dist-packages (from freezegun~=0.3.15->cirq->quple==0.7.8) (2.8.2)\n",
            "Requirement already satisfied: pytz in /usr/local/lib/python3.8/dist-packages (from google-api-core[grpc]<2.0.0dev,>=1.14.0->cirq->quple==0.7.8) (2022.7.1)\n",
            "Requirement already satisfied: googleapis-common-protos<2.0dev,>=1.6.0 in /usr/local/lib/python3.8/dist-packages (from google-api-core[grpc]<2.0.0dev,>=1.14.0->cirq->quple==0.7.8) (1.56.0)\n",
            "Requirement already satisfied: google-auth<2.0dev,>=1.25.0 in /usr/local/lib/python3.8/dist-packages (from google-api-core[grpc]<2.0.0dev,>=1.14.0->cirq->quple==0.7.8) (1.35.0)\n",
            "Requirement already satisfied: packaging>=14.3 in /usr/local/lib/python3.8/dist-packages (from google-api-core[grpc]<2.0.0dev,>=1.14.0->cirq->quple==0.7.8) (23.0)\n",
            "Requirement already satisfied: setuptools>=40.3.0 in /usr/local/lib/python3.8/dist-packages (from google-api-core[grpc]<2.0.0dev,>=1.14.0->cirq->quple==0.7.8) (57.4.0)\n",
            "Requirement already satisfied: fonttools>=4.22.0 in /usr/local/lib/python3.8/dist-packages (from matplotlib~=3.0->cirq->quple==0.7.8) (4.38.0)\n",
            "Requirement already satisfied: kiwisolver>=1.0.1 in /usr/local/lib/python3.8/dist-packages (from matplotlib~=3.0->cirq->quple==0.7.8) (1.4.4)\n",
            "Requirement already satisfied: pyparsing>=2.2.1 in /usr/local/lib/python3.8/dist-packages (from matplotlib~=3.0->cirq->quple==0.7.8) (3.0.9)\n",
            "Requirement already satisfied: cycler>=0.10 in /usr/local/lib/python3.8/dist-packages (from matplotlib~=3.0->cirq->quple==0.7.8) (0.11.0)\n",
            "Requirement already satisfied: pillow>=6.2.0 in /usr/local/lib/python3.8/dist-packages (from matplotlib~=3.0->cirq->quple==0.7.8) (7.1.2)\n",
            "Requirement already satisfied: chardet<5,>=3.0.2 in /usr/local/lib/python3.8/dist-packages (from requests~=2.18->cirq->quple==0.7.8) (4.0.0)\n",
            "Requirement already satisfied: urllib3<1.27,>=1.21.1 in /usr/local/lib/python3.8/dist-packages (from requests~=2.18->cirq->quple==0.7.8) (1.24.3)\n",
            "Requirement already satisfied: certifi>=2017.4.17 in /usr/local/lib/python3.8/dist-packages (from requests~=2.18->cirq->quple==0.7.8) (2022.12.7)\n",
            "Requirement already satisfied: idna<3,>=2.5 in /usr/local/lib/python3.8/dist-packages (from requests~=2.18->cirq->quple==0.7.8) (2.10)\n",
            "Requirement already satisfied: google-auth-oauthlib<0.5,>=0.4.1 in /usr/local/lib/python3.8/dist-packages (from tensorboard<3,>=2.3.0->tensorflow==2.3.1->quple==0.7.8) (0.4.6)\n",
            "Requirement already satisfied: markdown>=2.6.8 in /usr/local/lib/python3.8/dist-packages (from tensorboard<3,>=2.3.0->tensorflow==2.3.1->quple==0.7.8) (3.4.1)\n",
            "Requirement already satisfied: tensorboard-data-server<0.7.0,>=0.6.0 in /usr/local/lib/python3.8/dist-packages (from tensorboard<3,>=2.3.0->tensorflow==2.3.1->quple==0.7.8) (0.6.1)\n",
            "Requirement already satisfied: tensorboard-plugin-wit>=1.6.0 in /usr/local/lib/python3.8/dist-packages (from tensorboard<3,>=2.3.0->tensorflow==2.3.1->quple==0.7.8) (1.8.1)\n",
            "Requirement already satisfied: werkzeug>=1.0.1 in /usr/local/lib/python3.8/dist-packages (from tensorboard<3,>=2.3.0->tensorflow==2.3.1->quple==0.7.8) (1.0.1)\n",
            "Requirement already satisfied: rsa<5,>=3.1.4 in /usr/local/lib/python3.8/dist-packages (from google-auth<2.0dev,>=1.25.0->google-api-core[grpc]<2.0.0dev,>=1.14.0->cirq->quple==0.7.8) (4.9)\n",
            "Requirement already satisfied: pyasn1-modules>=0.2.1 in /usr/local/lib/python3.8/dist-packages (from google-auth<2.0dev,>=1.25.0->google-api-core[grpc]<2.0.0dev,>=1.14.0->cirq->quple==0.7.8) (0.2.8)\n",
            "Requirement already satisfied: cachetools<5.0,>=2.0.0 in /usr/local/lib/python3.8/dist-packages (from google-auth<2.0dev,>=1.25.0->google-api-core[grpc]<2.0.0dev,>=1.14.0->cirq->quple==0.7.8) (4.2.4)\n",
            "Requirement already satisfied: requests-oauthlib>=0.7.0 in /usr/local/lib/python3.8/dist-packages (from google-auth-oauthlib<0.5,>=0.4.1->tensorboard<3,>=2.3.0->tensorflow==2.3.1->quple==0.7.8) (1.3.1)\n",
            "Requirement already satisfied: importlib-metadata>=4.4 in /usr/local/lib/python3.8/dist-packages (from markdown>=2.6.8->tensorboard<3,>=2.3.0->tensorflow==2.3.1->quple==0.7.8) (6.0.0)\n",
            "Requirement already satisfied: zipp>=0.5 in /usr/local/lib/python3.8/dist-packages (from importlib-metadata>=4.4->markdown>=2.6.8->tensorboard<3,>=2.3.0->tensorflow==2.3.1->quple==0.7.8) (3.14.0)\n",
            "Requirement already satisfied: pyasn1<0.5.0,>=0.4.6 in /usr/local/lib/python3.8/dist-packages (from pyasn1-modules>=0.2.1->google-auth<2.0dev,>=1.25.0->google-api-core[grpc]<2.0.0dev,>=1.14.0->cirq->quple==0.7.8) (0.4.8)\n",
            "Requirement already satisfied: oauthlib>=3.0.0 in /usr/local/lib/python3.8/dist-packages (from requests-oauthlib>=0.7.0->google-auth-oauthlib<0.5,>=0.4.1->tensorboard<3,>=2.3.0->tensorflow==2.3.1->quple==0.7.8) (3.2.2)\n",
            "Installing collected packages: quple\n",
            "Successfully installed quple-0.7.8\n"
          ]
        }
      ],
      "source": [
        "if 'google.colab' in str(get_ipython()):\n",
        "  # install packages needed for this task\n",
        "  !pip install tensorflow==2.3.1\n",
        "  !pip install tensorflow_quantum==0.4.0\n",
        "  !pip install quple==0.7.8"
      ]
    },
    {
      "cell_type": "code",
      "source": [
        "import tensorflow_quantum as tfq\n",
        "import tensorflow as tf\n",
        "import quple\n",
        "import cirq"
      ],
      "metadata": {
        "id": "upfuNQJ-G3dW"
      },
      "execution_count": 2,
      "outputs": []
    },
    {
      "cell_type": "code",
      "source": [
        "# download training data (hmumu 2jet)\n",
        "!wget https://gitlab.cern.ch/clcheng/gsoc2021_qml/-/raw/master/data/hmumu_twojet_0719.npy"
      ],
      "metadata": {
        "colab": {
          "base_uri": "https://localhost:8080/"
        },
        "id": "ABgbLYafH9nO",
        "outputId": "5ca56e6a-c874-4ea8-e2ad-ae97d11f23e4"
      },
      "execution_count": 3,
      "outputs": [
        {
          "output_type": "stream",
          "name": "stdout",
          "text": [
            "--2023-02-24 15:35:25--  https://gitlab.cern.ch/clcheng/gsoc2021_qml/-/raw/master/data/hmumu_twojet_0719.npy\n",
            "Resolving gitlab.cern.ch (gitlab.cern.ch)... 188.185.34.83, 188.185.25.203, 188.185.31.211, ...\n",
            "Connecting to gitlab.cern.ch (gitlab.cern.ch)|188.185.34.83|:443... connected.\n",
            "HTTP request sent, awaiting response... 200 OK\n",
            "Length: 2032704 (1.9M) [application/octet-stream]\n",
            "Saving to: ‘hmumu_twojet_0719.npy’\n",
            "\n",
            "hmumu_twojet_0719.n 100%[===================>]   1.94M  --.-KB/s    in 0.1s    \n",
            "\n",
            "2023-02-24 15:35:25 (14.4 MB/s) - ‘hmumu_twojet_0719.npy’ saved [2032704/2032704]\n",
            "\n"
          ]
        }
      ]
    },
    {
      "cell_type": "code",
      "source": [
        "import numpy as np\n",
        "# prepare training data\n",
        "data = np.load('hmumu_twojet_0719.npy')\n",
        "x = data[:,:-1]\n",
        "y = data[:,-1]\n",
        "print('x: shape = {}'.format(x.shape))\n",
        "print(x)\n",
        "print('y: shape = {}'.format(y.shape))\n",
        "print(y)"
      ],
      "metadata": {
        "colab": {
          "base_uri": "https://localhost:8080/"
        },
        "id": "l_xypJc7ICc9",
        "outputId": "383a68e5-c649-4a70-dcd5-08a4df47e485"
      },
      "execution_count": 4,
      "outputs": [
        {
          "output_type": "stream",
          "name": "stdout",
          "text": [
            "x: shape = (18148, 13)\n",
            "[[ 1.35123826e+02  9.97897017e-01  9.58638570e-01 ...  4.58769383e-01\n",
            "  -3.05654504e+00  1.80854129e+03]\n",
            " [ 2.43290406e+02  3.03747750e-01  6.74568519e-01 ... -1.34468994e+00\n",
            "  -2.72506172e+00  5.11933555e+02]\n",
            " [ 1.64464537e+02 -5.81922591e-02  5.42151745e-02 ... -6.23148328e-01\n",
            "   3.07514485e+00  3.44958465e+02]\n",
            " ...\n",
            " [ 2.16542712e+01 -3.05524425e+00  4.59151309e-01 ...  9.26630829e-01\n",
            "   3.08020790e+00  5.62347204e+02]\n",
            " [ 4.19387585e+01  1.89239955e+00  4.48033832e-01 ...  1.73410377e+00\n",
            "  -2.62992120e+00  1.44320990e+02]\n",
            " [ 9.33202609e+01  8.70685882e-01  8.74988118e-01 ... -1.21892943e+00\n",
            "   2.85587492e+00  2.03240716e+02]]\n",
            "y: shape = (18148,)\n",
            "[1. 1. 1. ... 0. 0. 0.]\n"
          ]
        }
      ]
    },
    {
      "cell_type": "code",
      "source": [
        "# let's say we want to train on a circuit with 5 qubit\n",
        "n_qubit = 5\n",
        "# let's say we want to train on 1000 events\n",
        "n_event = 1000"
      ],
      "metadata": {
        "id": "_Fq5jG6LIf_9"
      },
      "execution_count": 5,
      "outputs": []
    },
    {
      "cell_type": "code",
      "source": [
        "# prepare data preprocessors from sklearn\n",
        "from sklearn.preprocessing import StandardScaler, MinMaxScaler\n",
        "from sklearn.decomposition import PCA\n",
        "# we apply 3 data preprocessors\n",
        "# 1. PCA to reduce the dimension to 5 to fit the 5 qubit circuit\n",
        "# 2. StandardScaler to standardize features by removing the mean and scaling to unit variance\n",
        "# 3. MinMaxScaler to bound the data in the range [-1,+1]\n",
        "preprocessors = [PCA(n_components=n_qubit, random_state=3), StandardScaler(), MinMaxScaler((-1,1))]"
      ],
      "metadata": {
        "id": "JDfsgEvkImyF"
      },
      "execution_count": 6,
      "outputs": []
    },
    {
      "cell_type": "code",
      "source": [
        "from quple.components.data_preparation import prepare_train_val_test\n",
        "# split the data into training set, validation set and test set\n",
        "x_train, x_val, x_test, y_train, y_val, y_test = prepare_train_val_test(x, y, train_size=n_event, val_size=n_event, test_size=n_event, preprocessors=preprocessors, random_state=24)\n",
        "print('x_train: shape = {}'.format(x_train.shape))\n",
        "print('x_val: shape = {}'.format(x_val.shape))\n",
        "print('x_test: shape = {}'.format(x_test.shape))\n",
        "print('y_train: shape = {}'.format(y_train.shape))\n",
        "print('y_val: shape = {}'.format(y_val.shape))\n",
        "print('y_test: shape = {}'.format(y_test.shape))"
      ],
      "metadata": {
        "colab": {
          "base_uri": "https://localhost:8080/"
        },
        "id": "ru2q9ldMIp-N",
        "outputId": "45776503-ef89-4274-a7a6-f43daa742751"
      },
      "execution_count": 7,
      "outputs": [
        {
          "output_type": "stream",
          "name": "stdout",
          "text": [
            "x_train: shape = (1000, 5)\n",
            "x_val: shape = (1000, 5)\n",
            "x_test: shape = (1000, 5)\n",
            "y_train: shape = (1000,)\n",
            "y_val: shape = (1000,)\n",
            "y_test: shape = (1000,)\n"
          ]
        }
      ]
    },
    {
      "cell_type": "code",
      "source": [
        "from quple.data_encoding import FirstOrderPauliZEncoding, SecondOrderPauliZEncoding\n",
        "from quple.data_encoding.encoding_maps import self_product, cosine_product, modified_cosine_product, distance_measure, arithmetic_mean, polynomial"
      ],
      "metadata": {
        "id": "Ki621IueIsfm"
      },
      "execution_count": 8,
      "outputs": []
    },
    {
      "cell_type": "code",
      "source": [
        "# let's try the first order pauli z encoding circuit with depth 2\n",
        "encoding_circuit = FirstOrderPauliZEncoding(feature_dimension=n_qubit, copies=2)\n",
        "# Notice that there is a default scale factor of pi added to the encoding function \n",
        "# since we assume the input is in the range [-1, +1]. You can override this behavior\n",
        "# by passing the argument parameter_scale=1 to the initializer\n",
        "encoding_circuit"
      ],
      "metadata": {
        "colab": {
          "base_uri": "https://localhost:8080/",
          "height": 173
        },
        "id": "NY-Jh_UwIvON",
        "outputId": "23456a07-0cd9-420e-8ebb-01bf96a39162"
      },
      "execution_count": 9,
      "outputs": [
        {
          "output_type": "execute_result",
          "data": {
            "text/plain": [
              "(0, 0): ───H───Rz(pi*x_0)───H───Rz(pi*x_0)───\n",
              "\n",
              "(0, 1): ───H───Rz(pi*x_1)───H───Rz(pi*x_1)───\n",
              "\n",
              "(0, 2): ───H───Rz(pi*x_2)───H───Rz(pi*x_2)───\n",
              "\n",
              "(0, 3): ───H───Rz(pi*x_3)───H───Rz(pi*x_3)───\n",
              "\n",
              "(0, 4): ───H───Rz(pi*x_4)───H───Rz(pi*x_4)───"
            ],
            "text/html": [
              "<pre style=\"overflow: auto; white-space: pre;\">(0, 0): ───H───Rz(pi*x_0)───H───Rz(pi*x_0)───\n",
              "\n",
              "(0, 1): ───H───Rz(pi*x_1)───H───Rz(pi*x_1)───\n",
              "\n",
              "(0, 2): ───H───Rz(pi*x_2)───H───Rz(pi*x_2)───\n",
              "\n",
              "(0, 3): ───H───Rz(pi*x_3)───H───Rz(pi*x_3)───\n",
              "\n",
              "(0, 4): ───H───Rz(pi*x_4)───H───Rz(pi*x_4)───</pre>"
            ]
          },
          "metadata": {},
          "execution_count": 9
        }
      ]
    },
    {
      "cell_type": "markdown",
      "source": [
        "**Construct Variational Circuit**"
      ],
      "metadata": {
        "id": "uY6VEDiMNbH2"
      }
    },
    {
      "cell_type": "code",
      "source": [
        "from quple.circuits.variational_circuits import EfficientSU2"
      ],
      "metadata": {
        "id": "cn-B8xWOIxrt"
      },
      "execution_count": 10,
      "outputs": []
    },
    {
      "cell_type": "code",
      "source": [
        "# let's try the Efficient SU2 variational circuit with depth 2\n",
        "variational_circuit = EfficientSU2(n_qubit=n_qubit, copies=2)\n",
        "#The readout qubit will be entangled to all input qubits via certain two qubit gate operations\n",
        "variational_circuit.add_readout('XX')\n",
        "variational_circuit"
      ],
      "metadata": {
        "colab": {
          "base_uri": "https://localhost:8080/",
          "height": 258
        },
        "id": "A0E1O8oONhal",
        "outputId": "8b4d7b67-ce38-408b-9c37-19c07247f42b"
      },
      "execution_count": 11,
      "outputs": [
        {
          "output_type": "execute_result",
          "data": {
            "text/plain": [
              "                                             ┌──┐       ┌──┐                                                ┌──┐       ┌──┐\n",
              "(-1, -1): ──────────────────────────────────────────────────────────────────────────────────────────────────────────────────────────────────────────────XX──────────XX──────────XX──────────XX──────────XX──────────\n",
              "                                                                                                                                                        │           │           │           │           │\n",
              "(0, 0): ─────Ry(θ_0)───Rz(θ_5)───@───@───@────@────────────────────Ry(θ_10)───Rz(θ_15)───@──────────@───@────@────────────────────Ry(θ_20)───Rz(θ_25)───XX^(θ_30)───┼───────────┼───────────┼───────────┼───────────\n",
              "                                 │   │   │    │                                          │          │   │    │                                                      │           │           │           │\n",
              "(0, 1): ─────Ry(θ_1)───Rz(θ_6)───X───┼───┼────┼@────@────@─────────Ry(θ_11)───Rz(θ_16)───X──────────┼───┼────┼@────@────@─────────Ry(θ_21)───Rz(θ_26)───────────────XX^(θ_31)───┼───────────┼───────────┼───────────\n",
              "                                     │   │    ││    │    │                                          │   │    ││    │    │                                                       │           │           │\n",
              "(0, 2): ─────Ry(θ_2)───Rz(θ_7)───────X───┼────┼X────┼────┼@────@───Ry(θ_12)───Rz(θ_17)──────────────X───┼────┼X────┼────┼@────@───Ry(θ_22)───Rz(θ_27)───────────────────────────XX^(θ_32)───┼───────────┼───────────\n",
              "                                         │    │     │    ││    │                                        │    │     │    ││    │                                                             │           │\n",
              "(0, 3): ─────Ry(θ_3)───Rz(θ_8)───────────X────┼─────X────┼X────┼───@──────────Ry(θ_13)───Rz(θ_18)───────X────┼─────X────┼X────┼───@──────────Ry(θ_23)───Rz(θ_28)────────────────────────────XX^(θ_33)───┼───────────\n",
              "                                              │          │     │   │                                         │          │     │   │                                                                     │\n",
              "(0, 4): ─────Ry(θ_4)───Rz(θ_9)────────────────X──────────X─────X───X──────────Ry(θ_14)───Rz(θ_19)────────────X──────────X─────X───X──────────Ry(θ_24)───Rz(θ_29)────────────────────────────────────────XX^(θ_34)───\n",
              "                                             └──┘       └──┘                                                └──┘       └──┘"
            ],
            "text/html": [
              "<pre style=\"overflow: auto; white-space: pre;\">                                             ┌──┐       ┌──┐                                                ┌──┐       ┌──┐\n",
              "(-1, -1): ──────────────────────────────────────────────────────────────────────────────────────────────────────────────────────────────────────────────XX──────────XX──────────XX──────────XX──────────XX──────────\n",
              "                                                                                                                                                        │           │           │           │           │\n",
              "(0, 0): ─────Ry(θ_0)───Rz(θ_5)───@───@───@────@────────────────────Ry(θ_10)───Rz(θ_15)───@──────────@───@────@────────────────────Ry(θ_20)───Rz(θ_25)───XX^(θ_30)───┼───────────┼───────────┼───────────┼───────────\n",
              "                                 │   │   │    │                                          │          │   │    │                                                      │           │           │           │\n",
              "(0, 1): ─────Ry(θ_1)───Rz(θ_6)───X───┼───┼────┼@────@────@─────────Ry(θ_11)───Rz(θ_16)───X──────────┼───┼────┼@────@────@─────────Ry(θ_21)───Rz(θ_26)───────────────XX^(θ_31)───┼───────────┼───────────┼───────────\n",
              "                                     │   │    ││    │    │                                          │   │    ││    │    │                                                       │           │           │\n",
              "(0, 2): ─────Ry(θ_2)───Rz(θ_7)───────X───┼────┼X────┼────┼@────@───Ry(θ_12)───Rz(θ_17)──────────────X───┼────┼X────┼────┼@────@───Ry(θ_22)───Rz(θ_27)───────────────────────────XX^(θ_32)───┼───────────┼───────────\n",
              "                                         │    │     │    ││    │                                        │    │     │    ││    │                                                             │           │\n",
              "(0, 3): ─────Ry(θ_3)───Rz(θ_8)───────────X────┼─────X────┼X────┼───@──────────Ry(θ_13)───Rz(θ_18)───────X────┼─────X────┼X────┼───@──────────Ry(θ_23)───Rz(θ_28)────────────────────────────XX^(θ_33)───┼───────────\n",
              "                                              │          │     │   │                                         │          │     │   │                                                                     │\n",
              "(0, 4): ─────Ry(θ_4)───Rz(θ_9)────────────────X──────────X─────X───X──────────Ry(θ_14)───Rz(θ_19)────────────X──────────X─────X───X──────────Ry(θ_24)───Rz(θ_29)────────────────────────────────────────XX^(θ_34)───\n",
              "                                             └──┘       └──┘                                                └──┘       └──┘</pre>"
            ]
          },
          "metadata": {},
          "execution_count": 11
        }
      ]
    },
    {
      "cell_type": "code",
      "source": [
        "print('Readout qubit:')\n",
        "print(variational_circuit.readout_qubit)"
      ],
      "metadata": {
        "colab": {
          "base_uri": "https://localhost:8080/"
        },
        "id": "GL9fgGJqNkOc",
        "outputId": "471aac77-1f98-4771-c53e-c727d371d59e"
      },
      "execution_count": 12,
      "outputs": [
        {
          "output_type": "stream",
          "name": "stdout",
          "text": [
            "Readout qubit:\n",
            "(-1, -1)\n"
          ]
        }
      ]
    },
    {
      "cell_type": "markdown",
      "source": [
        "**Build the VQC Model**"
      ],
      "metadata": {
        "id": "0vg_5Dk1NzSt"
      }
    },
    {
      "cell_type": "code",
      "source": [
        "from quple.classifiers import VQC\n",
        "# let's use the following settings\n",
        "# optimizer = Adam (learning rate = 0.01)\n",
        "# metrics = binary accuracy and auc\n",
        "# loss = mean squared loss\n",
        "\n",
        "# construct the vqc model\n",
        "vqc = VQC(encoding_circuit, variational_circuit,\n",
        "          optimizer=tf.keras.optimizers.Adam(learning_rate=0.01),\n",
        "          metrics=['binary_accuracy','qAUC'],\n",
        "          readout=[cirq.Z(variational_circuit.readout_qubit)],\n",
        "          loss='mse',\n",
        "          random_state=16)"
      ],
      "metadata": {
        "colab": {
          "base_uri": "https://localhost:8080/"
        },
        "id": "yo-Xw0c4NqAj",
        "outputId": "2ca7ca2f-4228-4002-bcd2-40013d574389"
      },
      "execution_count": 13,
      "outputs": [
        {
          "output_type": "stream",
          "name": "stderr",
          "text": [
            "Registered encoding circuit with feature dimension: 5\n",
            "INFO:quple.classifiers.vqc:Registered encoding circuit with feature dimension: 5\n",
            "Registered variational circuit with number of parameters: 35\n",
            "INFO:quple.classifiers.vqc:Registered variational circuit with number of parameters: 35\n"
          ]
        }
      ]
    },
    {
      "cell_type": "code",
      "source": [
        "from quple.classifiers import VQC\n",
        "# let's use the following settings\n",
        "# optimizer = Adam (learning rate = 0.01)\n",
        "# metrics = binary accuracy and auc\n",
        "# loss = mean squared loss\n",
        "\n",
        "# construct the vqc model\n",
        "vqc = VQC(encoding_circuit, variational_circuit,\n",
        "          optimizer=tf.keras.optimizers.Adam(learning_rate=0.01),\n",
        "          metrics=['binary_accuracy','qAUC'],\n",
        "          readout=[cirq.Z(variational_circuit.readout_qubit)],\n",
        "          loss='mse',\n",
        "          random_state=16)"
      ],
      "metadata": {
        "colab": {
          "base_uri": "https://localhost:8080/"
        },
        "id": "mDIlvUQVNwuj",
        "outputId": "0fbc482f-8dbe-466d-8a79-05e597b737fa"
      },
      "execution_count": 14,
      "outputs": [
        {
          "output_type": "stream",
          "name": "stderr",
          "text": [
            "Registered encoding circuit with feature dimension: 5\n",
            "INFO:quple.classifiers.vqc:Registered encoding circuit with feature dimension: 5\n",
            "Registered variational circuit with number of parameters: 35\n",
            "INFO:quple.classifiers.vqc:Registered variational circuit with number of parameters: 35\n"
          ]
        }
      ]
    },
    {
      "cell_type": "markdown",
      "source": [
        "**Train the Classifier**"
      ],
      "metadata": {
        "id": "-eezzxCKOA0U"
      }
    },
    {
      "cell_type": "code",
      "source": [
        "# train the vqc model\n",
        "callback = tf.keras.callbacks.EarlyStopping(monitor='loss', patience=10, restore_best_weights=True)\n",
        "vqc.fit(x_train, y_train,\n",
        "        batch_size=64,\n",
        "        epochs=10,\n",
        "        verbose=1,\n",
        "        validation_data=(x_val, y_val),\n",
        "        callbacks=[callback])"
      ],
      "metadata": {
        "colab": {
          "base_uri": "https://localhost:8080/"
        },
        "id": "u85WBJNFN9-k",
        "outputId": "a7bc0dec-50cc-4333-f3a4-092ae08b8d21"
      },
      "execution_count": 15,
      "outputs": [
        {
          "output_type": "stream",
          "name": "stderr",
          "text": [
            "Converting circuits to tensors...\n",
            "INFO:quple.classifiers.vqc:Converting circuits to tensors...\n",
            "Converting circuits to tensors...\n",
            "INFO:quple.classifiers.vqc:Converting circuits to tensors...\n"
          ]
        },
        {
          "output_type": "stream",
          "name": "stdout",
          "text": [
            "Epoch 1/10\n",
            "16/16 [==============================] - 5s 290ms/step - loss: 0.3208 - binary_accuracy: 0.4950 - q_auc_1: 0.4627 - val_loss: 0.2617 - val_binary_accuracy: 0.5530 - val_q_auc_1: 0.5720\n",
            "Epoch 2/10\n",
            "16/16 [==============================] - 7s 410ms/step - loss: 0.2625 - binary_accuracy: 0.5460 - q_auc_1: 0.5457 - val_loss: 0.2313 - val_binary_accuracy: 0.6640 - val_q_auc_1: 0.6930\n",
            "Epoch 3/10\n",
            "16/16 [==============================] - 6s 386ms/step - loss: 0.2345 - binary_accuracy: 0.6490 - q_auc_1: 0.6776 - val_loss: 0.2130 - val_binary_accuracy: 0.7050 - val_q_auc_1: 0.7804\n",
            "Epoch 4/10\n",
            "16/16 [==============================] - 4s 260ms/step - loss: 0.2154 - binary_accuracy: 0.6940 - q_auc_1: 0.7565 - val_loss: 0.2005 - val_binary_accuracy: 0.7670 - val_q_auc_1: 0.8242\n",
            "Epoch 5/10\n",
            "16/16 [==============================] - 2s 129ms/step - loss: 0.1991 - binary_accuracy: 0.7310 - q_auc_1: 0.8035 - val_loss: 0.1895 - val_binary_accuracy: 0.7280 - val_q_auc_1: 0.8433\n",
            "Epoch 6/10\n",
            "16/16 [==============================] - 2s 147ms/step - loss: 0.1882 - binary_accuracy: 0.7370 - q_auc_1: 0.8376 - val_loss: 0.1837 - val_binary_accuracy: 0.7600 - val_q_auc_1: 0.8460\n",
            "Epoch 7/10\n",
            "16/16 [==============================] - 4s 223ms/step - loss: 0.1829 - binary_accuracy: 0.7460 - q_auc_1: 0.8329 - val_loss: 0.1776 - val_binary_accuracy: 0.7470 - val_q_auc_1: 0.8473\n",
            "Epoch 8/10\n",
            "16/16 [==============================] - 4s 250ms/step - loss: 0.1774 - binary_accuracy: 0.7500 - q_auc_1: 0.8496 - val_loss: 0.1752 - val_binary_accuracy: 0.7490 - val_q_auc_1: 0.8466\n",
            "Epoch 9/10\n",
            "16/16 [==============================] - 3s 158ms/step - loss: 0.1740 - binary_accuracy: 0.7490 - q_auc_1: 0.8580 - val_loss: 0.1728 - val_binary_accuracy: 0.7540 - val_q_auc_1: 0.8477\n",
            "Epoch 10/10\n",
            "16/16 [==============================] - 3s 191ms/step - loss: 0.1714 - binary_accuracy: 0.7530 - q_auc_1: 0.8601 - val_loss: 0.1726 - val_binary_accuracy: 0.7440 - val_q_auc_1: 0.8489\n"
          ]
        },
        {
          "output_type": "execute_result",
          "data": {
            "text/plain": [
              "<tensorflow.python.keras.callbacks.History at 0x7f011d0a6eb0>"
            ]
          },
          "metadata": {},
          "execution_count": 15
        }
      ]
    },
    {
      "cell_type": "markdown",
      "source": [
        "**Evaluate the Result**"
      ],
      "metadata": {
        "id": "MRiuSCrUOL01"
      }
    },
    {
      "cell_type": "code",
      "source": [
        "# test the model\n",
        "y_score = vqc.predict(x_test)\n",
        "y_score"
      ],
      "metadata": {
        "colab": {
          "base_uri": "https://localhost:8080/"
        },
        "id": "ULHCAG7EOJ7k",
        "outputId": "08ac01c9-93ec-448f-ac06-1f1765f49437"
      },
      "execution_count": 16,
      "outputs": [
        {
          "output_type": "stream",
          "name": "stderr",
          "text": [
            "Converting circuits to tensors...\n",
            "INFO:quple.classifiers.vqc:Converting circuits to tensors...\n"
          ]
        },
        {
          "output_type": "execute_result",
          "data": {
            "text/plain": [
              "array([[0.25551373],\n",
              "       [0.6398509 ],\n",
              "       [0.41366142],\n",
              "       [0.26453093],\n",
              "       [0.49183765],\n",
              "       [0.2348524 ],\n",
              "       [0.73499465],\n",
              "       [0.7907396 ],\n",
              "       [0.6652454 ],\n",
              "       [0.3003377 ],\n",
              "       [0.22771463],\n",
              "       [0.23009677],\n",
              "       [0.60608107],\n",
              "       [0.22311182],\n",
              "       [0.2531095 ],\n",
              "       [0.47869414],\n",
              "       [0.28882077],\n",
              "       [0.32856354],\n",
              "       [0.34647334],\n",
              "       [0.5463053 ],\n",
              "       [0.24785581],\n",
              "       [0.25187412],\n",
              "       [0.67950815],\n",
              "       [0.30801362],\n",
              "       [0.6309235 ],\n",
              "       [0.68329227],\n",
              "       [0.25191846],\n",
              "       [0.29563126],\n",
              "       [0.21535566],\n",
              "       [0.4681913 ],\n",
              "       [0.852528  ],\n",
              "       [0.44572547],\n",
              "       [0.22500533],\n",
              "       [0.5449783 ],\n",
              "       [0.27084765],\n",
              "       [0.2666558 ],\n",
              "       [0.6666239 ],\n",
              "       [0.39774704],\n",
              "       [0.5408343 ],\n",
              "       [0.7263391 ],\n",
              "       [0.3182584 ],\n",
              "       [0.72660583],\n",
              "       [0.22287221],\n",
              "       [0.3159271 ],\n",
              "       [0.7518629 ],\n",
              "       [0.22200707],\n",
              "       [0.229734  ],\n",
              "       [0.8291224 ],\n",
              "       [0.5767879 ],\n",
              "       [0.26792982],\n",
              "       [0.23747657],\n",
              "       [0.7495835 ],\n",
              "       [0.34823424],\n",
              "       [0.46288574],\n",
              "       [0.2560586 ],\n",
              "       [0.30286574],\n",
              "       [0.2675223 ],\n",
              "       [0.6362852 ],\n",
              "       [0.58345276],\n",
              "       [0.3040959 ],\n",
              "       [0.24566756],\n",
              "       [0.6948233 ],\n",
              "       [0.24571687],\n",
              "       [0.75249213],\n",
              "       [0.29493788],\n",
              "       [0.8297433 ],\n",
              "       [0.25738385],\n",
              "       [0.42987475],\n",
              "       [0.26635775],\n",
              "       [0.2569376 ],\n",
              "       [0.24821559],\n",
              "       [0.26459837],\n",
              "       [0.84745216],\n",
              "       [0.23778339],\n",
              "       [0.21949704],\n",
              "       [0.64654547],\n",
              "       [0.21166322],\n",
              "       [0.8995395 ],\n",
              "       [0.26611918],\n",
              "       [0.29299513],\n",
              "       [0.30665195],\n",
              "       [0.22819307],\n",
              "       [0.28334916],\n",
              "       [0.2832616 ],\n",
              "       [0.43357542],\n",
              "       [0.8118496 ],\n",
              "       [0.7180515 ],\n",
              "       [0.80743206],\n",
              "       [0.37450868],\n",
              "       [0.32166326],\n",
              "       [0.23881198],\n",
              "       [0.22172679],\n",
              "       [0.2578892 ],\n",
              "       [0.22304334],\n",
              "       [0.8412344 ],\n",
              "       [0.35068238],\n",
              "       [0.36647037],\n",
              "       [0.8121467 ],\n",
              "       [0.8355669 ],\n",
              "       [0.3183841 ],\n",
              "       [0.26859576],\n",
              "       [0.2270318 ],\n",
              "       [0.38005948],\n",
              "       [0.44664884],\n",
              "       [0.23092856],\n",
              "       [0.84902596],\n",
              "       [0.21933365],\n",
              "       [0.2248775 ],\n",
              "       [0.24640585],\n",
              "       [0.73842955],\n",
              "       [0.3600501 ],\n",
              "       [0.25543535],\n",
              "       [0.39960426],\n",
              "       [0.39779916],\n",
              "       [0.2430211 ],\n",
              "       [0.78713584],\n",
              "       [0.9602054 ],\n",
              "       [0.61457235],\n",
              "       [0.2335503 ],\n",
              "       [0.47487783],\n",
              "       [0.26485938],\n",
              "       [0.24024847],\n",
              "       [0.75539535],\n",
              "       [0.2561341 ],\n",
              "       [0.23229466],\n",
              "       [0.22900105],\n",
              "       [0.23137477],\n",
              "       [0.25662893],\n",
              "       [0.24214341],\n",
              "       [0.48355514],\n",
              "       [0.22905305],\n",
              "       [0.21676508],\n",
              "       [0.2182583 ],\n",
              "       [0.22348036],\n",
              "       [0.22526677],\n",
              "       [0.6931181 ],\n",
              "       [0.8050894 ],\n",
              "       [0.231287  ],\n",
              "       [0.61491174],\n",
              "       [0.25814754],\n",
              "       [0.81591165],\n",
              "       [0.27669692],\n",
              "       [0.45347297],\n",
              "       [0.8450426 ],\n",
              "       [0.40556836],\n",
              "       [0.2877675 ],\n",
              "       [0.6271373 ],\n",
              "       [0.7306566 ],\n",
              "       [0.63139343],\n",
              "       [0.22755682],\n",
              "       [0.6717802 ],\n",
              "       [0.6395338 ],\n",
              "       [0.82055837],\n",
              "       [0.55042017],\n",
              "       [0.6223437 ],\n",
              "       [0.3409914 ],\n",
              "       [0.88814557],\n",
              "       [0.60670716],\n",
              "       [0.8360899 ],\n",
              "       [0.6966565 ],\n",
              "       [0.82381743],\n",
              "       [0.2360826 ],\n",
              "       [0.21808845],\n",
              "       [0.76164174],\n",
              "       [0.24131942],\n",
              "       [0.84931767],\n",
              "       [0.6994721 ],\n",
              "       [0.24059263],\n",
              "       [0.23589656],\n",
              "       [0.36228946],\n",
              "       [0.29208156],\n",
              "       [0.23295018],\n",
              "       [0.83619887],\n",
              "       [0.23924233],\n",
              "       [0.38278273],\n",
              "       [0.3680626 ],\n",
              "       [0.35933506],\n",
              "       [0.8285425 ],\n",
              "       [0.76507896],\n",
              "       [0.25685984],\n",
              "       [0.41288936],\n",
              "       [0.8096169 ],\n",
              "       [0.8418127 ],\n",
              "       [0.2910729 ],\n",
              "       [0.8506444 ],\n",
              "       [0.79782265],\n",
              "       [0.25969034],\n",
              "       [0.70630056],\n",
              "       [0.52825856],\n",
              "       [0.29795867],\n",
              "       [0.7122407 ],\n",
              "       [0.51211643],\n",
              "       [0.59771717],\n",
              "       [0.8503177 ],\n",
              "       [0.6463266 ],\n",
              "       [0.31159487],\n",
              "       [0.49365953],\n",
              "       [0.56538236],\n",
              "       [0.8433878 ],\n",
              "       [0.2371341 ],\n",
              "       [0.4796284 ],\n",
              "       [0.8311595 ],\n",
              "       [0.24273153],\n",
              "       [0.75815105],\n",
              "       [0.27121943],\n",
              "       [0.40138355],\n",
              "       [0.23506717],\n",
              "       [0.2749862 ],\n",
              "       [0.2845856 ],\n",
              "       [0.27253696],\n",
              "       [0.25588927],\n",
              "       [0.23061582],\n",
              "       [0.25209793],\n",
              "       [0.23922054],\n",
              "       [0.45565563],\n",
              "       [0.48879123],\n",
              "       [0.23898293],\n",
              "       [0.8000092 ],\n",
              "       [0.38732326],\n",
              "       [0.4723217 ],\n",
              "       [0.23379217],\n",
              "       [0.8515809 ],\n",
              "       [0.24683106],\n",
              "       [0.4639995 ],\n",
              "       [0.46474877],\n",
              "       [0.24162877],\n",
              "       [0.24934787],\n",
              "       [0.3116405 ],\n",
              "       [0.36153337],\n",
              "       [0.42557332],\n",
              "       [0.8494091 ],\n",
              "       [0.5333428 ],\n",
              "       [0.5308202 ],\n",
              "       [0.36459672],\n",
              "       [0.84595096],\n",
              "       [0.24696964],\n",
              "       [0.6853512 ],\n",
              "       [0.53702766],\n",
              "       [0.24516308],\n",
              "       [0.21816504],\n",
              "       [0.59819674],\n",
              "       [0.30758125],\n",
              "       [0.2305318 ],\n",
              "       [0.27065548],\n",
              "       [0.2501558 ],\n",
              "       [0.8552519 ],\n",
              "       [0.32519773],\n",
              "       [0.2840049 ],\n",
              "       [0.23972787],\n",
              "       [0.2650597 ],\n",
              "       [0.4744042 ],\n",
              "       [0.84458345],\n",
              "       [0.7692609 ],\n",
              "       [0.22984928],\n",
              "       [0.26200634],\n",
              "       [0.22437774],\n",
              "       [0.23609513],\n",
              "       [0.7847397 ],\n",
              "       [0.23439772],\n",
              "       [0.2700602 ],\n",
              "       [0.43382868],\n",
              "       [0.24580918],\n",
              "       [0.81762075],\n",
              "       [0.3138781 ],\n",
              "       [0.39126584],\n",
              "       [0.8044059 ],\n",
              "       [0.49253935],\n",
              "       [0.2496392 ],\n",
              "       [0.7629028 ],\n",
              "       [0.6011988 ],\n",
              "       [0.24892916],\n",
              "       [0.6047737 ],\n",
              "       [0.77914226],\n",
              "       [0.32719   ],\n",
              "       [0.23850076],\n",
              "       [0.5371025 ],\n",
              "       [0.27584422],\n",
              "       [0.3442819 ],\n",
              "       [0.25856018],\n",
              "       [0.4163533 ],\n",
              "       [0.24806409],\n",
              "       [0.31736615],\n",
              "       [0.24096581],\n",
              "       [0.61806315],\n",
              "       [0.25077605],\n",
              "       [0.37201872],\n",
              "       [0.81319815],\n",
              "       [0.28030366],\n",
              "       [0.64466274],\n",
              "       [0.25928265],\n",
              "       [0.26287326],\n",
              "       [0.3864364 ],\n",
              "       [0.52681804],\n",
              "       [0.28648424],\n",
              "       [0.24337879],\n",
              "       [0.553976  ],\n",
              "       [0.29862002],\n",
              "       [0.4955625 ],\n",
              "       [0.3086328 ],\n",
              "       [0.226862  ],\n",
              "       [0.32407105],\n",
              "       [0.28811893],\n",
              "       [0.28221908],\n",
              "       [0.25369868],\n",
              "       [0.7556996 ],\n",
              "       [0.23115802],\n",
              "       [0.23147273],\n",
              "       [0.7633019 ],\n",
              "       [0.6912434 ],\n",
              "       [0.7629101 ],\n",
              "       [0.3533596 ],\n",
              "       [0.63633806],\n",
              "       [0.30309445],\n",
              "       [0.35333738],\n",
              "       [0.6082061 ],\n",
              "       [0.44779932],\n",
              "       [0.24305812],\n",
              "       [0.22955045],\n",
              "       [0.8167159 ],\n",
              "       [0.74246675],\n",
              "       [0.313147  ],\n",
              "       [0.7629028 ],\n",
              "       [0.23420806],\n",
              "       [0.31191564],\n",
              "       [0.81001115],\n",
              "       [0.223069  ],\n",
              "       [0.3223067 ],\n",
              "       [0.31258985],\n",
              "       [0.4714993 ],\n",
              "       [0.2611317 ],\n",
              "       [0.2633575 ],\n",
              "       [0.23330165],\n",
              "       [0.7206103 ],\n",
              "       [0.21284245],\n",
              "       [0.25038493],\n",
              "       [0.8483258 ],\n",
              "       [0.66244066],\n",
              "       [0.24259605],\n",
              "       [0.22869834],\n",
              "       [0.24663253],\n",
              "       [0.28028598],\n",
              "       [0.22914985],\n",
              "       [0.24570282],\n",
              "       [0.24913095],\n",
              "       [0.23452729],\n",
              "       [0.7499883 ],\n",
              "       [0.8415055 ],\n",
              "       [0.26006585],\n",
              "       [0.29485247],\n",
              "       [0.39990258],\n",
              "       [0.29288056],\n",
              "       [0.2718537 ],\n",
              "       [0.21807441],\n",
              "       [0.28177717],\n",
              "       [0.3140452 ],\n",
              "       [0.2685017 ],\n",
              "       [0.30328995],\n",
              "       [0.5389266 ],\n",
              "       [0.24984331],\n",
              "       [0.22515924],\n",
              "       [0.24360837],\n",
              "       [0.4260229 ],\n",
              "       [0.27198642],\n",
              "       [0.2177167 ],\n",
              "       [0.6595183 ],\n",
              "       [0.29354465],\n",
              "       [0.2932904 ],\n",
              "       [0.23095092],\n",
              "       [0.82661355],\n",
              "       [0.23859136],\n",
              "       [0.22996686],\n",
              "       [0.3410557 ],\n",
              "       [0.45323595],\n",
              "       [0.30885047],\n",
              "       [0.2863305 ],\n",
              "       [0.23547058],\n",
              "       [0.27671933],\n",
              "       [0.7197582 ],\n",
              "       [0.84007174],\n",
              "       [0.79340625],\n",
              "       [0.29628184],\n",
              "       [0.23229158],\n",
              "       [0.59707206],\n",
              "       [0.27524137],\n",
              "       [0.848928  ],\n",
              "       [0.7606652 ],\n",
              "       [0.64759743],\n",
              "       [0.7781294 ],\n",
              "       [0.32931104],\n",
              "       [0.6995163 ],\n",
              "       [0.23662907],\n",
              "       [0.46709514],\n",
              "       [0.30380726],\n",
              "       [0.8542952 ],\n",
              "       [0.27064216],\n",
              "       [0.2581607 ],\n",
              "       [0.5412533 ],\n",
              "       [0.22181752],\n",
              "       [0.37944198],\n",
              "       [0.23931985],\n",
              "       [0.24112257],\n",
              "       [0.23517646],\n",
              "       [0.44925565],\n",
              "       [0.25621146],\n",
              "       [0.23708813],\n",
              "       [0.8435135 ],\n",
              "       [0.76053625],\n",
              "       [0.34312245],\n",
              "       [0.31237623],\n",
              "       [0.24697177],\n",
              "       [0.7313783 ],\n",
              "       [0.21533486],\n",
              "       [0.22833292],\n",
              "       [0.22906373],\n",
              "       [0.26821098],\n",
              "       [0.5401281 ],\n",
              "       [0.84116244],\n",
              "       [0.67791283],\n",
              "       [0.7668408 ],\n",
              "       [0.21177886],\n",
              "       [0.24711572],\n",
              "       [0.3842119 ],\n",
              "       [0.8495781 ],\n",
              "       [0.5549027 ],\n",
              "       [0.9159881 ],\n",
              "       [0.47105664],\n",
              "       [0.23899123],\n",
              "       [0.38442716],\n",
              "       [0.48852426],\n",
              "       [0.21497248],\n",
              "       [0.25068617],\n",
              "       [0.3359432 ],\n",
              "       [0.81068045],\n",
              "       [0.45485073],\n",
              "       [0.32167098],\n",
              "       [0.44835302],\n",
              "       [0.31030187],\n",
              "       [0.29163778],\n",
              "       [0.24728419],\n",
              "       [0.7800512 ],\n",
              "       [0.23103401],\n",
              "       [0.2588206 ],\n",
              "       [0.34074977],\n",
              "       [0.82717377],\n",
              "       [0.7184099 ],\n",
              "       [0.2787196 ],\n",
              "       [0.2851259 ],\n",
              "       [0.24891284],\n",
              "       [0.5620662 ],\n",
              "       [0.7985871 ],\n",
              "       [0.84692943],\n",
              "       [0.27328715],\n",
              "       [0.7943272 ],\n",
              "       [0.42373097],\n",
              "       [0.49829888],\n",
              "       [0.25006562],\n",
              "       [0.25322872],\n",
              "       [0.2735731 ],\n",
              "       [0.27262294],\n",
              "       [0.22963892],\n",
              "       [0.2565409 ],\n",
              "       [0.24468663],\n",
              "       [0.29882467],\n",
              "       [0.2708629 ],\n",
              "       [0.2413858 ],\n",
              "       [0.37187845],\n",
              "       [0.3287647 ],\n",
              "       [0.4121804 ],\n",
              "       [0.5388283 ],\n",
              "       [0.24773388],\n",
              "       [0.8317106 ],\n",
              "       [0.46806166],\n",
              "       [0.25228316],\n",
              "       [0.5341309 ],\n",
              "       [0.24007972],\n",
              "       [0.5024317 ],\n",
              "       [0.8380387 ],\n",
              "       [0.47626838],\n",
              "       [0.80922496],\n",
              "       [0.23562275],\n",
              "       [0.67373073],\n",
              "       [0.7530475 ],\n",
              "       [0.69844425],\n",
              "       [0.700029  ],\n",
              "       [0.72685844],\n",
              "       [0.23114322],\n",
              "       [0.86496574],\n",
              "       [0.23094004],\n",
              "       [0.21508655],\n",
              "       [0.43328565],\n",
              "       [0.7777637 ],\n",
              "       [0.23534794],\n",
              "       [0.30034435],\n",
              "       [0.5771244 ],\n",
              "       [0.23215997],\n",
              "       [0.31458932],\n",
              "       [0.8468415 ],\n",
              "       [0.80605584],\n",
              "       [0.35053235],\n",
              "       [0.3800444 ],\n",
              "       [0.24307287],\n",
              "       [0.74988604],\n",
              "       [0.5884684 ],\n",
              "       [0.24569021],\n",
              "       [0.22013569],\n",
              "       [0.4616674 ],\n",
              "       [0.62430394],\n",
              "       [0.30888823],\n",
              "       [0.23613915],\n",
              "       [0.37738004],\n",
              "       [0.2776546 ],\n",
              "       [0.2308992 ],\n",
              "       [0.6884441 ],\n",
              "       [0.28080675],\n",
              "       [0.2356555 ],\n",
              "       [0.22663474],\n",
              "       [0.4917953 ],\n",
              "       [0.91255885],\n",
              "       [0.5168994 ],\n",
              "       [0.2870702 ],\n",
              "       [0.7817483 ],\n",
              "       [0.2716349 ],\n",
              "       [0.5083607 ],\n",
              "       [0.26191187],\n",
              "       [0.7325398 ],\n",
              "       [0.23635799],\n",
              "       [0.2272343 ],\n",
              "       [0.26566994],\n",
              "       [0.40584064],\n",
              "       [0.23589362],\n",
              "       [0.2528453 ],\n",
              "       [0.31235248],\n",
              "       [0.2843214 ],\n",
              "       [0.425467  ],\n",
              "       [0.25774434],\n",
              "       [0.23140827],\n",
              "       [0.33068958],\n",
              "       [0.8515298 ],\n",
              "       [0.23237802],\n",
              "       [0.68133456],\n",
              "       [0.44151536],\n",
              "       [0.77478844],\n",
              "       [0.404762  ],\n",
              "       [0.2706034 ],\n",
              "       [0.23754969],\n",
              "       [0.20975897],\n",
              "       [0.23361376],\n",
              "       [0.25857994],\n",
              "       [0.24329524],\n",
              "       [0.77637756],\n",
              "       [0.35362023],\n",
              "       [0.21842285],\n",
              "       [0.42788035],\n",
              "       [0.4373735 ],\n",
              "       [0.29327282],\n",
              "       [0.23545228],\n",
              "       [0.24651845],\n",
              "       [0.34060615],\n",
              "       [0.2272383 ],\n",
              "       [0.7537378 ],\n",
              "       [0.24551272],\n",
              "       [0.5340932 ],\n",
              "       [0.24146944],\n",
              "       [0.3923587 ],\n",
              "       [0.54352254],\n",
              "       [0.43782514],\n",
              "       [0.7576092 ],\n",
              "       [0.7946122 ],\n",
              "       [0.23295943],\n",
              "       [0.29076254],\n",
              "       [0.46883842],\n",
              "       [0.6115171 ],\n",
              "       [0.75611955],\n",
              "       [0.2901109 ],\n",
              "       [0.24281609],\n",
              "       [0.2525776 ],\n",
              "       [0.76218235],\n",
              "       [0.48373836],\n",
              "       [0.63426185],\n",
              "       [0.6164342 ],\n",
              "       [0.28044084],\n",
              "       [0.26585352],\n",
              "       [0.26976156],\n",
              "       [0.27690622],\n",
              "       [0.49289116],\n",
              "       [0.29072344],\n",
              "       [0.23270732],\n",
              "       [0.6467421 ],\n",
              "       [0.22713852],\n",
              "       [0.23758319],\n",
              "       [0.2316627 ],\n",
              "       [0.26902568],\n",
              "       [0.5130472 ],\n",
              "       [0.69435656],\n",
              "       [0.24677959],\n",
              "       [0.2570604 ],\n",
              "       [0.24639066],\n",
              "       [0.26809153],\n",
              "       [0.36560145],\n",
              "       [0.2391518 ],\n",
              "       [0.23216936],\n",
              "       [0.24025506],\n",
              "       [0.8446983 ],\n",
              "       [0.5254679 ],\n",
              "       [0.22989331],\n",
              "       [0.3484888 ],\n",
              "       [0.42509595],\n",
              "       [0.23390889],\n",
              "       [0.82633185],\n",
              "       [0.7054445 ],\n",
              "       [0.25774688],\n",
              "       [0.23069537],\n",
              "       [0.5454337 ],\n",
              "       [0.22703277],\n",
              "       [0.2384066 ],\n",
              "       [0.5526368 ],\n",
              "       [0.23610915],\n",
              "       [0.5742772 ],\n",
              "       [0.7092887 ],\n",
              "       [0.22752123],\n",
              "       [0.24350739],\n",
              "       [0.2410283 ],\n",
              "       [0.6419888 ],\n",
              "       [0.4745699 ],\n",
              "       [0.28052628],\n",
              "       [0.8329298 ],\n",
              "       [0.30553725],\n",
              "       [0.23504548],\n",
              "       [0.6751303 ],\n",
              "       [0.25706217],\n",
              "       [0.81544954],\n",
              "       [0.3021999 ],\n",
              "       [0.37019166],\n",
              "       [0.72664756],\n",
              "       [0.6544763 ],\n",
              "       [0.28804758],\n",
              "       [0.834817  ],\n",
              "       [0.2454169 ],\n",
              "       [0.22514652],\n",
              "       [0.29292238],\n",
              "       [0.23118462],\n",
              "       [0.3127915 ],\n",
              "       [0.7448893 ],\n",
              "       [0.32645065],\n",
              "       [0.6411526 ],\n",
              "       [0.28323424],\n",
              "       [0.42421737],\n",
              "       [0.51879156],\n",
              "       [0.7551632 ],\n",
              "       [0.3041605 ],\n",
              "       [0.25072435],\n",
              "       [0.68908584],\n",
              "       [0.5185582 ],\n",
              "       [0.7652893 ],\n",
              "       [0.22583848],\n",
              "       [0.3645042 ],\n",
              "       [0.28192976],\n",
              "       [0.5985475 ],\n",
              "       [0.33790296],\n",
              "       [0.7956395 ],\n",
              "       [0.69972944],\n",
              "       [0.67552394],\n",
              "       [0.70628375],\n",
              "       [0.59628206],\n",
              "       [0.27737594],\n",
              "       [0.7852068 ],\n",
              "       [0.36584666],\n",
              "       [0.77228284],\n",
              "       [0.38596964],\n",
              "       [0.21472952],\n",
              "       [0.3105305 ],\n",
              "       [0.68093836],\n",
              "       [0.27400747],\n",
              "       [0.7320664 ],\n",
              "       [0.22953679],\n",
              "       [0.23202935],\n",
              "       [0.3305723 ],\n",
              "       [0.25851083],\n",
              "       [0.2864384 ],\n",
              "       [0.8373076 ],\n",
              "       [0.27429694],\n",
              "       [0.24305469],\n",
              "       [0.74634546],\n",
              "       [0.8278052 ],\n",
              "       [0.2658686 ],\n",
              "       [0.2286399 ],\n",
              "       [0.27177042],\n",
              "       [0.2495559 ],\n",
              "       [0.28440702],\n",
              "       [0.2471479 ],\n",
              "       [0.26317114],\n",
              "       [0.23031458],\n",
              "       [0.27831227],\n",
              "       [0.82218516],\n",
              "       [0.80896455],\n",
              "       [0.26255637],\n",
              "       [0.8386518 ],\n",
              "       [0.30432838],\n",
              "       [0.22604258],\n",
              "       [0.89216703],\n",
              "       [0.29131624],\n",
              "       [0.32851723],\n",
              "       [0.7924368 ],\n",
              "       [0.8356302 ],\n",
              "       [0.26785058],\n",
              "       [0.30463314],\n",
              "       [0.25956157],\n",
              "       [0.70213765],\n",
              "       [0.24494089],\n",
              "       [0.26096374],\n",
              "       [0.28489468],\n",
              "       [0.22222146],\n",
              "       [0.3725602 ],\n",
              "       [0.28930137],\n",
              "       [0.30131316],\n",
              "       [0.83131635],\n",
              "       [0.25566474],\n",
              "       [0.2598082 ],\n",
              "       [0.25916454],\n",
              "       [0.2593255 ],\n",
              "       [0.28474402],\n",
              "       [0.5853497 ],\n",
              "       [0.82684255],\n",
              "       [0.32133082],\n",
              "       [0.21040688],\n",
              "       [0.6928479 ],\n",
              "       [0.4598975 ],\n",
              "       [0.24002504],\n",
              "       [0.55028796],\n",
              "       [0.24405919],\n",
              "       [0.21521181],\n",
              "       [0.84173673],\n",
              "       [0.83652437],\n",
              "       [0.23696971],\n",
              "       [0.33560565],\n",
              "       [0.27611658],\n",
              "       [0.739229  ],\n",
              "       [0.23607618],\n",
              "       [0.26386723],\n",
              "       [0.60435253],\n",
              "       [0.43252698],\n",
              "       [0.5574593 ],\n",
              "       [0.2606145 ],\n",
              "       [0.24753332],\n",
              "       [0.81022877],\n",
              "       [0.42559537],\n",
              "       [0.7161334 ],\n",
              "       [0.7288319 ],\n",
              "       [0.24182919],\n",
              "       [0.36501515],\n",
              "       [0.4001468 ],\n",
              "       [0.22547236],\n",
              "       [0.7833137 ],\n",
              "       [0.28934154],\n",
              "       [0.25787008],\n",
              "       [0.77200425],\n",
              "       [0.30684638],\n",
              "       [0.2947259 ],\n",
              "       [0.25995585],\n",
              "       [0.27567416],\n",
              "       [0.5423894 ],\n",
              "       [0.7829716 ],\n",
              "       [0.2306793 ],\n",
              "       [0.5179959 ],\n",
              "       [0.28611127],\n",
              "       [0.33854026],\n",
              "       [0.67839974],\n",
              "       [0.57379466],\n",
              "       [0.29219776],\n",
              "       [0.787463  ],\n",
              "       [0.31233272],\n",
              "       [0.30558518],\n",
              "       [0.2612801 ],\n",
              "       [0.63139343],\n",
              "       [0.7104255 ],\n",
              "       [0.23373514],\n",
              "       [0.2423896 ],\n",
              "       [0.24274224],\n",
              "       [0.23117392],\n",
              "       [0.399074  ],\n",
              "       [0.28557667],\n",
              "       [0.22162476],\n",
              "       [0.76382715],\n",
              "       [0.2393664 ],\n",
              "       [0.35140783],\n",
              "       [0.25875953],\n",
              "       [0.48794737],\n",
              "       [0.63347626],\n",
              "       [0.25009534],\n",
              "       [0.21978508],\n",
              "       [0.2227211 ],\n",
              "       [0.23415692],\n",
              "       [0.47530285],\n",
              "       [0.2889372 ],\n",
              "       [0.24368393],\n",
              "       [0.27493918],\n",
              "       [0.83821994],\n",
              "       [0.22721958],\n",
              "       [0.34932873],\n",
              "       [0.22346082],\n",
              "       [0.2275894 ],\n",
              "       [0.22072598],\n",
              "       [0.25082308],\n",
              "       [0.3364061 ],\n",
              "       [0.22675733],\n",
              "       [0.25402975],\n",
              "       [0.34448266],\n",
              "       [0.2329029 ],\n",
              "       [0.22070834],\n",
              "       [0.23332596],\n",
              "       [0.22870295],\n",
              "       [0.2288154 ],\n",
              "       [0.5513711 ],\n",
              "       [0.340124  ],\n",
              "       [0.752715  ],\n",
              "       [0.24102944],\n",
              "       [0.56309015],\n",
              "       [0.38550264],\n",
              "       [0.75491834],\n",
              "       [0.21774626],\n",
              "       [0.4261895 ],\n",
              "       [0.26861018],\n",
              "       [0.33343583],\n",
              "       [0.39614865],\n",
              "       [0.26149145],\n",
              "       [0.3073383 ],\n",
              "       [0.22709878],\n",
              "       [0.26552337],\n",
              "       [0.33781374],\n",
              "       [0.3748225 ],\n",
              "       [0.7720505 ],\n",
              "       [0.26147747],\n",
              "       [0.21360092],\n",
              "       [0.80937594],\n",
              "       [0.3739034 ],\n",
              "       [0.50357306],\n",
              "       [0.47323793],\n",
              "       [0.30134064],\n",
              "       [0.63964343],\n",
              "       [0.36696953],\n",
              "       [0.35084242],\n",
              "       [0.56026244],\n",
              "       [0.23141506],\n",
              "       [0.3124861 ],\n",
              "       [0.28515974],\n",
              "       [0.59393716],\n",
              "       [0.34012753],\n",
              "       [0.28594226],\n",
              "       [0.48386642],\n",
              "       [0.2725716 ],\n",
              "       [0.21918644],\n",
              "       [0.24759129],\n",
              "       [0.22268361],\n",
              "       [0.75620806],\n",
              "       [0.8089754 ],\n",
              "       [0.72487307],\n",
              "       [0.84322685],\n",
              "       [0.24907237],\n",
              "       [0.8125436 ],\n",
              "       [0.31281322],\n",
              "       [0.2855784 ],\n",
              "       [0.6171502 ],\n",
              "       [0.23080784],\n",
              "       [0.32110307],\n",
              "       [0.2966679 ],\n",
              "       [0.23044913],\n",
              "       [0.38950488],\n",
              "       [0.5408723 ],\n",
              "       [0.23943983],\n",
              "       [0.38782293],\n",
              "       [0.38277227],\n",
              "       [0.28313178],\n",
              "       [0.3128151 ],\n",
              "       [0.23481451],\n",
              "       [0.48127192],\n",
              "       [0.69691414],\n",
              "       [0.22090003],\n",
              "       [0.24542478],\n",
              "       [0.35497653],\n",
              "       [0.228768  ],\n",
              "       [0.726675  ],\n",
              "       [0.22710557],\n",
              "       [0.36421958],\n",
              "       [0.70803875],\n",
              "       [0.663049  ],\n",
              "       [0.28489468],\n",
              "       [0.27912948],\n",
              "       [0.25306752],\n",
              "       [0.26034704],\n",
              "       [0.6269033 ],\n",
              "       [0.9522525 ],\n",
              "       [0.22320491],\n",
              "       [0.21370645],\n",
              "       [0.6518265 ],\n",
              "       [0.27167028],\n",
              "       [0.43680626],\n",
              "       [0.77667737],\n",
              "       [0.26503745],\n",
              "       [0.2521624 ],\n",
              "       [0.41629884],\n",
              "       [0.21517153],\n",
              "       [0.31692842],\n",
              "       [0.2547654 ],\n",
              "       [0.24819311],\n",
              "       [0.7719361 ],\n",
              "       [0.46044865],\n",
              "       [0.50590956],\n",
              "       [0.21556912],\n",
              "       [0.30854326],\n",
              "       [0.23874468],\n",
              "       [0.8175157 ],\n",
              "       [0.5207434 ],\n",
              "       [0.26892504],\n",
              "       [0.62477726],\n",
              "       [0.22382626],\n",
              "       [0.2629656 ],\n",
              "       [0.5039408 ],\n",
              "       [0.25269172],\n",
              "       [0.23911013],\n",
              "       [0.22004083],\n",
              "       [0.6200458 ],\n",
              "       [0.2448062 ],\n",
              "       [0.7840524 ],\n",
              "       [0.23313741],\n",
              "       [0.22633325],\n",
              "       [0.8005549 ],\n",
              "       [0.24369754],\n",
              "       [0.7657984 ],\n",
              "       [0.458309  ],\n",
              "       [0.2855607 ],\n",
              "       [0.23985487],\n",
              "       [0.23505695],\n",
              "       [0.31818312],\n",
              "       [0.7046744 ],\n",
              "       [0.82010657],\n",
              "       [0.7392729 ],\n",
              "       [0.5240353 ],\n",
              "       [0.36801922],\n",
              "       [0.24427532],\n",
              "       [0.35608503],\n",
              "       [0.7960543 ],\n",
              "       [0.24896212],\n",
              "       [0.3116456 ],\n",
              "       [0.2854408 ],\n",
              "       [0.8305116 ],\n",
              "       [0.74898666],\n",
              "       [0.27243128],\n",
              "       [0.22674769],\n",
              "       [0.653383  ],\n",
              "       [0.30717057],\n",
              "       [0.8370672 ],\n",
              "       [0.2323028 ],\n",
              "       [0.72586226],\n",
              "       [0.8245413 ],\n",
              "       [0.28904316],\n",
              "       [0.7521055 ],\n",
              "       [0.43676147],\n",
              "       [0.3054944 ],\n",
              "       [0.31161115],\n",
              "       [0.6097731 ],\n",
              "       [0.22641298],\n",
              "       [0.2226378 ],\n",
              "       [0.23777834],\n",
              "       [0.24030481],\n",
              "       [0.2394749 ],\n",
              "       [0.3637491 ],\n",
              "       [0.27460575],\n",
              "       [0.2950924 ],\n",
              "       [0.24459165],\n",
              "       [0.43252262],\n",
              "       [0.26583478],\n",
              "       [0.24907286],\n",
              "       [0.24484292],\n",
              "       [0.3174175 ],\n",
              "       [0.23667051],\n",
              "       [0.9129837 ],\n",
              "       [0.289617  ],\n",
              "       [0.27569836],\n",
              "       [0.7773625 ],\n",
              "       [0.6994384 ],\n",
              "       [0.23963577],\n",
              "       [0.31439844],\n",
              "       [0.73670006],\n",
              "       [0.28842285],\n",
              "       [0.9608454 ],\n",
              "       [0.24322599],\n",
              "       [0.483435  ],\n",
              "       [0.28283927],\n",
              "       [0.22793354],\n",
              "       [0.27120253],\n",
              "       [0.2716275 ],\n",
              "       [0.65636784],\n",
              "       [0.27541324],\n",
              "       [0.34499857],\n",
              "       [0.4887278 ],\n",
              "       [0.2712418 ],\n",
              "       [0.5022283 ],\n",
              "       [0.59164435],\n",
              "       [0.28920743],\n",
              "       [0.7946104 ]], dtype=float32)"
            ]
          },
          "metadata": {},
          "execution_count": 16
        }
      ]
    },
    {
      "cell_type": "code",
      "source": [
        "  # plot a roc curve\n",
        "from sklearn.metrics import roc_curve, auc\n",
        "fpr, tpr, _ = roc_curve(y_test, y_score)\n",
        "plt = quple.utils.utils.plot_roc_curve(fpr, tpr, label='FirstOrder_5_qubit', title='ROC Curve')"
      ],
      "metadata": {
        "colab": {
          "base_uri": "https://localhost:8080/",
          "height": 305
        },
        "id": "vCPcQzi0OEQ7",
        "outputId": "193defdf-6403-42df-c243-8870a43b6d0a"
      },
      "execution_count": 17,
      "outputs": [
        {
          "output_type": "display_data",
          "data": {
            "text/plain": [
              "<Figure size 432x288 with 1 Axes>"
            ],
            "image/png": "[encoded data removed]"
          },
          "metadata": {
            "needs_background": "light"
          }
        }
      ]
    },
    {
      "cell_type": "code",
      "source": [
        "# Try out different encoding maps and using SecondOrderExpansion encoding circuit\n",
        "# encoding map = self_product ~ x_0*x_1*x_2...\n",
        "second_order_self_product = SecondOrderPauliZEncoding(feature_dimension=n_qubit, entangle_strategy='linear')\n",
        "second_order_self_product"
      ],
      "metadata": {
        "colab": {
          "base_uri": "https://localhost:8080/",
          "height": 189
        },
        "id": "dd8JzDkRSq6T",
        "outputId": "fc1e5190-721d-4b74-f2fc-45d3472ee891"
      },
      "execution_count": 18,
      "outputs": [
        {
          "output_type": "execute_result",
          "data": {
            "text/plain": [
              "(0, 0): ───H───Rz(pi*x_0)───@──────────────────────@────────────────────────────────────────────────────────────────────────────────H───Rz(pi*x_0)───@───────────────────────────────@────────────────────────────────────────────────────────────────────────────────────\n",
              "                            │                      │                                                                                                 │                               │\n",
              "(0, 1): ───H───Rz(pi*x_1)───X───Rz(pi*<x_0*x_1>)───X───@──────────────────────@─────────────────────────────────────────────────────H───Rz(pi*x_1)───X────────────Rz(pi*<x_0*x_1>)───X───@──────────────────────@─────────────────────────────────────────────────────────\n",
              "                                                       │                      │                                                                                                          │                      │\n",
              "(0, 2): ───H───Rz(pi*x_2)──────────────────────────────X───Rz(pi*<x_1*x_2>)───X───@──────────────────────@──────────────────────────H───Rz(pi*x_2)───────────────────────────────────────X───Rz(pi*<x_1*x_2>)───X───@──────────────────────@──────────────────────────────\n",
              "                                                                                  │                      │                                                                                                          │                      │\n",
              "(0, 3): ───H───Rz(pi*x_3)─────────────────────────────────────────────────────────X───Rz(pi*<x_2*x_3>)───X───@──────────────────────@───H────────────Rz(pi*x_3)─────────────────────────────────────────────────────X───Rz(pi*<x_2*x_3>)───X───@──────────────────────@───\n",
              "                                                                                                             │                      │                                                                                                          │                      │\n",
              "(0, 4): ───H───Rz(pi*x_4)────────────────────────────────────────────────────────────────────────────────────X───Rz(pi*<x_3*x_4>)───X───H────────────Rz(pi*x_4)────────────────────────────────────────────────────────────────────────────────X───Rz(pi*<x_3*x_4>)───X───"
            ],
            "text/html": [
              "<pre style=\"overflow: auto; white-space: pre;\">(0, 0): ───H───Rz(pi*x_0)───@──────────────────────@────────────────────────────────────────────────────────────────────────────────H───Rz(pi*x_0)───@───────────────────────────────@────────────────────────────────────────────────────────────────────────────────────\n",
              "                            │                      │                                                                                                 │                               │\n",
              "(0, 1): ───H───Rz(pi*x_1)───X───Rz(pi*&lt;x_0*x_1&gt;)───X───@──────────────────────@─────────────────────────────────────────────────────H───Rz(pi*x_1)───X────────────Rz(pi*&lt;x_0*x_1&gt;)───X───@──────────────────────@─────────────────────────────────────────────────────────\n",
              "                                                       │                      │                                                                                                          │                      │\n",
              "(0, 2): ───H───Rz(pi*x_2)──────────────────────────────X───Rz(pi*&lt;x_1*x_2&gt;)───X───@──────────────────────@──────────────────────────H───Rz(pi*x_2)───────────────────────────────────────X───Rz(pi*&lt;x_1*x_2&gt;)───X───@──────────────────────@──────────────────────────────\n",
              "                                                                                  │                      │                                                                                                          │                      │\n",
              "(0, 3): ───H───Rz(pi*x_3)─────────────────────────────────────────────────────────X───Rz(pi*&lt;x_2*x_3&gt;)───X───@──────────────────────@───H────────────Rz(pi*x_3)─────────────────────────────────────────────────────X───Rz(pi*&lt;x_2*x_3&gt;)───X───@──────────────────────@───\n",
              "                                                                                                             │                      │                                                                                                          │                      │\n",
              "(0, 4): ───H───Rz(pi*x_4)────────────────────────────────────────────────────────────────────────────────────X───Rz(pi*&lt;x_3*x_4&gt;)───X───H────────────Rz(pi*x_4)────────────────────────────────────────────────────────────────────────────────X───Rz(pi*&lt;x_3*x_4&gt;)───X───</pre>"
            ]
          },
          "metadata": {},
          "execution_count": 18
        }
      ]
    },
    {
      "cell_type": "code",
      "source": [
        "# encoding map = cosine_product ~ cos(x_0)*cos(x_1)*...\n",
        "second_order_cosine_product = SecondOrderPauliZEncoding(feature_dimension=n_qubit, encoding_map=cosine_product, entangle_strategy='linear')\n",
        "second_order_cosine_product"
      ],
      "metadata": {
        "colab": {
          "base_uri": "https://localhost:8080/",
          "height": 189
        },
        "id": "5FseIpb9S6iq",
        "outputId": "08b133ec-6ec8-4441-acc6-51b46a89f43f"
      },
      "execution_count": 19,
      "outputs": [
        {
          "output_type": "execute_result",
          "data": {
            "text/plain": [
              "(0, 0): ───H───Rz(pi*x_0)───@────────────────────────────────@──────────────────────────────────────────────────────────────────────────────────────────────────────────────H───Rz(pi*x_0)───@─────────────────────────────────────────@──────────────────────────────────────────────────────────────────────────────────────────────────────────────────\n",
              "                            │                                │                                                                                                                               │                                         │\n",
              "(0, 1): ───H───Rz(pi*x_1)───X───Rz(pi*<cos(x_0)*cos(x_1)>)───X───@────────────────────────────────@─────────────────────────────────────────────────────────────────────────H───Rz(pi*x_1)───X────────────Rz(pi*<cos(x_0)*cos(x_1)>)───X───@────────────────────────────────@─────────────────────────────────────────────────────────────────────────────\n",
              "                                                                 │                                │                                                                                                                                        │                                │\n",
              "(0, 2): ───H───Rz(pi*x_2)────────────────────────────────────────X───Rz(pi*<cos(x_1)*cos(x_2)>)───X───@────────────────────────────────@────────────────────────────────────H───Rz(pi*x_2)─────────────────────────────────────────────────X───Rz(pi*<cos(x_1)*cos(x_2)>)───X───@────────────────────────────────@────────────────────────────────────────\n",
              "                                                                                                      │                                │                                                                                                                                        │                                │\n",
              "(0, 3): ───H───Rz(pi*x_3)─────────────────────────────────────────────────────────────────────────────X───Rz(pi*<cos(x_2)*cos(x_3)>)───X───@────────────────────────────────@───H────────────Rz(pi*x_3)─────────────────────────────────────────────────────────────────────────X───Rz(pi*<cos(x_2)*cos(x_3)>)───X───@────────────────────────────────@───\n",
              "                                                                                                                                           │                                │                                                                                                                                        │                                │\n",
              "(0, 4): ───H───Rz(pi*x_4)──────────────────────────────────────────────────────────────────────────────────────────────────────────────────X───Rz(pi*<cos(x_3)*cos(x_4)>)───X───H────────────Rz(pi*x_4)──────────────────────────────────────────────────────────────────────────────────────────────────────────────X───Rz(pi*<cos(x_3)*cos(x_4)>)───X───"
            ],
            "text/html": [
              "<pre style=\"overflow: auto; white-space: pre;\">(0, 0): ───H───Rz(pi*x_0)───@────────────────────────────────@──────────────────────────────────────────────────────────────────────────────────────────────────────────────H───Rz(pi*x_0)───@─────────────────────────────────────────@──────────────────────────────────────────────────────────────────────────────────────────────────────────────────\n",
              "                            │                                │                                                                                                                               │                                         │\n",
              "(0, 1): ───H───Rz(pi*x_1)───X───Rz(pi*&lt;cos(x_0)*cos(x_1)&gt;)───X───@────────────────────────────────@─────────────────────────────────────────────────────────────────────────H───Rz(pi*x_1)───X────────────Rz(pi*&lt;cos(x_0)*cos(x_1)&gt;)───X───@────────────────────────────────@─────────────────────────────────────────────────────────────────────────────\n",
              "                                                                 │                                │                                                                                                                                        │                                │\n",
              "(0, 2): ───H───Rz(pi*x_2)────────────────────────────────────────X───Rz(pi*&lt;cos(x_1)*cos(x_2)&gt;)───X───@────────────────────────────────@────────────────────────────────────H───Rz(pi*x_2)─────────────────────────────────────────────────X───Rz(pi*&lt;cos(x_1)*cos(x_2)&gt;)───X───@────────────────────────────────@────────────────────────────────────────\n",
              "                                                                                                      │                                │                                                                                                                                        │                                │\n",
              "(0, 3): ───H───Rz(pi*x_3)─────────────────────────────────────────────────────────────────────────────X───Rz(pi*&lt;cos(x_2)*cos(x_3)&gt;)───X───@────────────────────────────────@───H────────────Rz(pi*x_3)─────────────────────────────────────────────────────────────────────────X───Rz(pi*&lt;cos(x_2)*cos(x_3)&gt;)───X───@────────────────────────────────@───\n",
              "                                                                                                                                           │                                │                                                                                                                                        │                                │\n",
              "(0, 4): ───H───Rz(pi*x_4)──────────────────────────────────────────────────────────────────────────────────────────────────────────────────X───Rz(pi*&lt;cos(x_3)*cos(x_4)&gt;)───X───H────────────Rz(pi*x_4)──────────────────────────────────────────────────────────────────────────────────────────────────────────────X───Rz(pi*&lt;cos(x_3)*cos(x_4)&gt;)───X───</pre>"
            ]
          },
          "metadata": {},
          "execution_count": 19
        }
      ]
    },
    {
      "cell_type": "code",
      "source": [
        "# encoding map = distance_measure ~ (x_0-x_1)*(x_1-x_2)*(x_2-x_3)/2**(number of pairs)...\n",
        "second_order_distance_measure = SecondOrderPauliZEncoding(feature_dimension=n_qubit, encoding_map=distance_measure, entangle_strategy='linear')\n",
        "second_order_distance_measure"
      ],
      "metadata": {
        "colab": {
          "base_uri": "https://localhost:8080/",
          "height": 189
        },
        "id": "xPC__u0oTA6y",
        "outputId": "16c945c4-74ec-477c-c1e2-4967f4b433ab"
      },
      "execution_count": 20,
      "outputs": [
        {
          "output_type": "execute_result",
          "data": {
            "text/plain": [
              "(0, 0): ───H───Rz(pi*x_0)───@────────────────────────────@──────────────────────────────────────────────────────────────────────────────────────────────────H───Rz(pi*x_0)───@─────────────────────────────────────@──────────────────────────────────────────────────────────────────────────────────────────────────────\n",
              "                            │                            │                                                                                                                   │                                     │\n",
              "(0, 1): ───H───Rz(pi*x_1)───X───Rz(pi*<x_0/2 - x_1/2>)───X───@────────────────────────────@─────────────────────────────────────────────────────────────────H───Rz(pi*x_1)───X────────────Rz(pi*<x_0/2 - x_1/2>)───X───@────────────────────────────@─────────────────────────────────────────────────────────────────────\n",
              "                                                             │                            │                                                                                                                            │                            │\n",
              "(0, 2): ───H───Rz(pi*x_2)────────────────────────────────────X───Rz(pi*<x_1/2 - x_2/2>)───X───@────────────────────────────@────────────────────────────────H───Rz(pi*x_2)─────────────────────────────────────────────X───Rz(pi*<x_1/2 - x_2/2>)───X───@────────────────────────────@────────────────────────────────────\n",
              "                                                                                              │                            │                                                                                                                            │                            │\n",
              "(0, 3): ───H───Rz(pi*x_3)─────────────────────────────────────────────────────────────────────X───Rz(pi*<x_2/2 - x_3/2>)───X───@────────────────────────────@───H────────────Rz(pi*x_3)─────────────────────────────────────────────────────────────────X───Rz(pi*<x_2/2 - x_3/2>)───X───@────────────────────────────@───\n",
              "                                                                                                                               │                            │                                                                                                                            │                            │\n",
              "(0, 4): ───H───Rz(pi*x_4)──────────────────────────────────────────────────────────────────────────────────────────────────────X───Rz(pi*<x_3/2 - x_4/2>)───X───H────────────Rz(pi*x_4)──────────────────────────────────────────────────────────────────────────────────────────────────X───Rz(pi*<x_3/2 - x_4/2>)───X───"
            ],
            "text/html": [
              "<pre style=\"overflow: auto; white-space: pre;\">(0, 0): ───H───Rz(pi*x_0)───@────────────────────────────@──────────────────────────────────────────────────────────────────────────────────────────────────H───Rz(pi*x_0)───@─────────────────────────────────────@──────────────────────────────────────────────────────────────────────────────────────────────────────\n",
              "                            │                            │                                                                                                                   │                                     │\n",
              "(0, 1): ───H───Rz(pi*x_1)───X───Rz(pi*&lt;x_0/2 - x_1/2&gt;)───X───@────────────────────────────@─────────────────────────────────────────────────────────────────H───Rz(pi*x_1)───X────────────Rz(pi*&lt;x_0/2 - x_1/2&gt;)───X───@────────────────────────────@─────────────────────────────────────────────────────────────────────\n",
              "                                                             │                            │                                                                                                                            │                            │\n",
              "(0, 2): ───H───Rz(pi*x_2)────────────────────────────────────X───Rz(pi*&lt;x_1/2 - x_2/2&gt;)───X───@────────────────────────────@────────────────────────────────H───Rz(pi*x_2)─────────────────────────────────────────────X───Rz(pi*&lt;x_1/2 - x_2/2&gt;)───X───@────────────────────────────@────────────────────────────────────\n",
              "                                                                                              │                            │                                                                                                                            │                            │\n",
              "(0, 3): ───H───Rz(pi*x_3)─────────────────────────────────────────────────────────────────────X───Rz(pi*&lt;x_2/2 - x_3/2&gt;)───X───@────────────────────────────@───H────────────Rz(pi*x_3)─────────────────────────────────────────────────────────────────X───Rz(pi*&lt;x_2/2 - x_3/2&gt;)───X───@────────────────────────────@───\n",
              "                                                                                                                               │                            │                                                                                                                            │                            │\n",
              "(0, 4): ───H───Rz(pi*x_4)──────────────────────────────────────────────────────────────────────────────────────────────────────X───Rz(pi*&lt;x_3/2 - x_4/2&gt;)───X───H────────────Rz(pi*x_4)──────────────────────────────────────────────────────────────────────────────────────────────────X───Rz(pi*&lt;x_3/2 - x_4/2&gt;)───X───</pre>"
            ]
          },
          "metadata": {},
          "execution_count": 20
        }
      ]
    },
    {
      "cell_type": "code",
      "source": [
        "# encoding map = arithmetic_mean ~ (x_0+x_1+x_2+...)/N...\n",
        "second_order_arithmetic_mean = SecondOrderPauliZEncoding(feature_dimension=n_qubit, encoding_map=arithmetic_mean, entangle_strategy='linear')\n",
        "second_order_arithmetic_mean"
      ],
      "metadata": {
        "colab": {
          "base_uri": "https://localhost:8080/",
          "height": 189
        },
        "id": "TVRX11hzTFJq",
        "outputId": "c762f95c-863c-4a32-c44a-0f33cd1bd221"
      },
      "execution_count": 21,
      "outputs": [
        {
          "output_type": "execute_result",
          "data": {
            "text/plain": [
              "(0, 0): ───H───Rz(pi*x_0)───@────────────────────────────@──────────────────────────────────────────────────────────────────────────────────────────────────H───Rz(pi*x_0)───@─────────────────────────────────────@──────────────────────────────────────────────────────────────────────────────────────────────────────\n",
              "                            │                            │                                                                                                                   │                                     │\n",
              "(0, 1): ───H───Rz(pi*x_1)───X───Rz(pi*<x_0/2 + x_1/2>)───X───@────────────────────────────@─────────────────────────────────────────────────────────────────H───Rz(pi*x_1)───X────────────Rz(pi*<x_0/2 + x_1/2>)───X───@────────────────────────────@─────────────────────────────────────────────────────────────────────\n",
              "                                                             │                            │                                                                                                                            │                            │\n",
              "(0, 2): ───H───Rz(pi*x_2)────────────────────────────────────X───Rz(pi*<x_1/2 + x_2/2>)───X───@────────────────────────────@────────────────────────────────H───Rz(pi*x_2)─────────────────────────────────────────────X───Rz(pi*<x_1/2 + x_2/2>)───X───@────────────────────────────@────────────────────────────────────\n",
              "                                                                                              │                            │                                                                                                                            │                            │\n",
              "(0, 3): ───H───Rz(pi*x_3)─────────────────────────────────────────────────────────────────────X───Rz(pi*<x_2/2 + x_3/2>)───X───@────────────────────────────@───H────────────Rz(pi*x_3)─────────────────────────────────────────────────────────────────X───Rz(pi*<x_2/2 + x_3/2>)───X───@────────────────────────────@───\n",
              "                                                                                                                               │                            │                                                                                                                            │                            │\n",
              "(0, 4): ───H───Rz(pi*x_4)──────────────────────────────────────────────────────────────────────────────────────────────────────X───Rz(pi*<x_3/2 + x_4/2>)───X───H────────────Rz(pi*x_4)──────────────────────────────────────────────────────────────────────────────────────────────────X───Rz(pi*<x_3/2 + x_4/2>)───X───"
            ],
            "text/html": [
              "<pre style=\"overflow: auto; white-space: pre;\">(0, 0): ───H───Rz(pi*x_0)───@────────────────────────────@──────────────────────────────────────────────────────────────────────────────────────────────────H───Rz(pi*x_0)───@─────────────────────────────────────@──────────────────────────────────────────────────────────────────────────────────────────────────────\n",
              "                            │                            │                                                                                                                   │                                     │\n",
              "(0, 1): ───H───Rz(pi*x_1)───X───Rz(pi*&lt;x_0/2 + x_1/2&gt;)───X───@────────────────────────────@─────────────────────────────────────────────────────────────────H───Rz(pi*x_1)───X────────────Rz(pi*&lt;x_0/2 + x_1/2&gt;)───X───@────────────────────────────@─────────────────────────────────────────────────────────────────────\n",
              "                                                             │                            │                                                                                                                            │                            │\n",
              "(0, 2): ───H───Rz(pi*x_2)────────────────────────────────────X───Rz(pi*&lt;x_1/2 + x_2/2&gt;)───X───@────────────────────────────@────────────────────────────────H───Rz(pi*x_2)─────────────────────────────────────────────X───Rz(pi*&lt;x_1/2 + x_2/2&gt;)───X───@────────────────────────────@────────────────────────────────────\n",
              "                                                                                              │                            │                                                                                                                            │                            │\n",
              "(0, 3): ───H───Rz(pi*x_3)─────────────────────────────────────────────────────────────────────X───Rz(pi*&lt;x_2/2 + x_3/2&gt;)───X───@────────────────────────────@───H────────────Rz(pi*x_3)─────────────────────────────────────────────────────────────────X───Rz(pi*&lt;x_2/2 + x_3/2&gt;)───X───@────────────────────────────@───\n",
              "                                                                                                                               │                            │                                                                                                                            │                            │\n",
              "(0, 4): ───H───Rz(pi*x_4)──────────────────────────────────────────────────────────────────────────────────────────────────────X───Rz(pi*&lt;x_3/2 + x_4/2&gt;)───X───H────────────Rz(pi*x_4)──────────────────────────────────────────────────────────────────────────────────────────────────X───Rz(pi*&lt;x_3/2 + x_4/2&gt;)───X───</pre>"
            ]
          },
          "metadata": {},
          "execution_count": 21
        }
      ]
    },
    {
      "cell_type": "code",
      "source": [
        "# construct the models with the various encoding circuits\n",
        "my_models = [\n",
        "  VQC(second_order_self_product, variational_circuit, metrics=['binary_accuracy','qAUC'], loss='mse', readout=[cirq.Z(variational_circuit.readout_qubit)], random_state=16),\n",
        "  VQC(second_order_cosine_product, variational_circuit, metrics=['binary_accuracy','qAUC'], loss='mse', readout=[cirq.Z(variational_circuit.readout_qubit)], random_state=16),\n",
        "  VQC(second_order_distance_measure, variational_circuit, metrics=['binary_accuracy','qAUC'], loss='mse', readout=[cirq.Z(variational_circuit.readout_qubit)], random_state=16),\n",
        "  VQC(second_order_arithmetic_mean, variational_circuit, metrics=['binary_accuracy','qAUC'], loss='mse', readout=[cirq.Z(variational_circuit.readout_qubit)], random_state=16)\n",
        "]"
      ],
      "metadata": {
        "colab": {
          "base_uri": "https://localhost:8080/"
        },
        "id": "sBH5XT39TIFy",
        "outputId": "ea9d8562-fc79-4e20-d71a-f2e931182ab7"
      },
      "execution_count": 22,
      "outputs": [
        {
          "output_type": "stream",
          "name": "stderr",
          "text": [
            "Registered encoding circuit with feature dimension: 5\n",
            "INFO:quple.classifiers.vqc:Registered encoding circuit with feature dimension: 5\n",
            "Registered variational circuit with number of parameters: 35\n",
            "INFO:quple.classifiers.vqc:Registered variational circuit with number of parameters: 35\n",
            "Registered encoding circuit with feature dimension: 5\n",
            "INFO:quple.classifiers.vqc:Registered encoding circuit with feature dimension: 5\n",
            "Registered variational circuit with number of parameters: 35\n",
            "INFO:quple.classifiers.vqc:Registered variational circuit with number of parameters: 35\n",
            "Registered encoding circuit with feature dimension: 5\n",
            "INFO:quple.classifiers.vqc:Registered encoding circuit with feature dimension: 5\n",
            "Registered variational circuit with number of parameters: 35\n",
            "INFO:quple.classifiers.vqc:Registered variational circuit with number of parameters: 35\n",
            "Registered encoding circuit with feature dimension: 5\n",
            "INFO:quple.classifiers.vqc:Registered encoding circuit with feature dimension: 5\n",
            "Registered variational circuit with number of parameters: 35\n",
            "INFO:quple.classifiers.vqc:Registered variational circuit with number of parameters: 35\n"
          ]
        }
      ]
    },
    {
      "cell_type": "code",
      "source": [
        "# create the tensor form of the resolved encoding circuits (this can be fed to model.fit directly so that the conversion does not happen inside fit)\n",
        "x_train_tensors = [model.convert_to_tensor(x_train) for model in my_models]\n",
        "x_val_tensors = [model.convert_to_tensor(x_val) for model in my_models]\n",
        "x_test_tensors = [model.convert_to_tensor(x_test) for model in my_models]"
      ],
      "metadata": {
        "colab": {
          "base_uri": "https://localhost:8080/"
        },
        "id": "kOXweNVmTLgx",
        "outputId": "966fbd39-fb66-4d4a-f2bc-1b4340e4b2de"
      },
      "execution_count": 23,
      "outputs": [
        {
          "output_type": "stream",
          "name": "stderr",
          "text": [
            "Converting circuits to tensors...\n",
            "INFO:quple.classifiers.vqc:Converting circuits to tensors...\n",
            "Converting circuits to tensors...\n",
            "INFO:quple.classifiers.vqc:Converting circuits to tensors...\n",
            "Converting circuits to tensors...\n",
            "INFO:quple.classifiers.vqc:Converting circuits to tensors...\n",
            "Converting circuits to tensors...\n",
            "INFO:quple.classifiers.vqc:Converting circuits to tensors...\n",
            "Converting circuits to tensors...\n",
            "INFO:quple.classifiers.vqc:Converting circuits to tensors...\n",
            "Converting circuits to tensors...\n",
            "INFO:quple.classifiers.vqc:Converting circuits to tensors...\n",
            "Converting circuits to tensors...\n",
            "INFO:quple.classifiers.vqc:Converting circuits to tensors...\n",
            "Converting circuits to tensors...\n",
            "INFO:quple.classifiers.vqc:Converting circuits to tensors...\n",
            "Converting circuits to tensors...\n",
            "INFO:quple.classifiers.vqc:Converting circuits to tensors...\n",
            "Converting circuits to tensors...\n",
            "INFO:quple.classifiers.vqc:Converting circuits to tensors...\n",
            "Converting circuits to tensors...\n",
            "INFO:quple.classifiers.vqc:Converting circuits to tensors...\n",
            "Converting circuits to tensors...\n",
            "INFO:quple.classifiers.vqc:Converting circuits to tensors...\n"
          ]
        }
      ]
    },
    {
      "cell_type": "code",
      "source": [
        "# train the models\n",
        "# you may increase the number of epochs if it did not converge \n",
        "for i,model in enumerate(my_models):\n",
        "    model.fit(x_train_tensors[i], y_train,\n",
        "              batch_size=64,\n",
        "              epochs=10,\n",
        "              verbose=1,\n",
        "              validation_data=(x_val_tensors[i], y_val),\n",
        "              callbacks=[callback])"
      ],
      "metadata": {
        "colab": {
          "base_uri": "https://localhost:8080/"
        },
        "id": "1g-1yejCTVda",
        "outputId": "b3c66102-a61f-4e7b-96f5-ac06c28f3c10"
      },
      "execution_count": 24,
      "outputs": [
        {
          "output_type": "stream",
          "name": "stdout",
          "text": [
            "Epoch 1/10\n",
            "16/16 [==============================] - 3s 180ms/step - loss: 0.5109 - binary_accuracy: 0.4990 - q_auc_2: 0.6037 - val_loss: 0.4825 - val_binary_accuracy: 0.4960 - val_q_auc_2: 0.6475\n",
            "Epoch 2/10\n",
            "16/16 [==============================] - 3s 191ms/step - loss: 0.4636 - binary_accuracy: 0.4990 - q_auc_2: 0.6044 - val_loss: 0.4365 - val_binary_accuracy: 0.4960 - val_q_auc_2: 0.6476\n",
            "Epoch 3/10\n",
            "16/16 [==============================] - 7s 465ms/step - loss: 0.4208 - binary_accuracy: 0.4990 - q_auc_2: 0.5992 - val_loss: 0.3951 - val_binary_accuracy: 0.4960 - val_q_auc_2: 0.6477\n",
            "Epoch 4/10\n",
            "16/16 [==============================] - 3s 168ms/step - loss: 0.3820 - binary_accuracy: 0.4990 - q_auc_2: 0.6089 - val_loss: 0.3614 - val_binary_accuracy: 0.4960 - val_q_auc_2: 0.6502\n",
            "Epoch 5/10\n",
            "16/16 [==============================] - 3s 167ms/step - loss: 0.3516 - binary_accuracy: 0.4990 - q_auc_2: 0.6043 - val_loss: 0.3325 - val_binary_accuracy: 0.4960 - val_q_auc_2: 0.6530\n",
            "Epoch 6/10\n",
            "16/16 [==============================] - 3s 165ms/step - loss: 0.3255 - binary_accuracy: 0.4990 - q_auc_2: 0.6098 - val_loss: 0.3098 - val_binary_accuracy: 0.4960 - val_q_auc_2: 0.6546\n",
            "Epoch 7/10\n",
            "16/16 [==============================] - 4s 225ms/step - loss: 0.3051 - binary_accuracy: 0.4990 - q_auc_2: 0.6145 - val_loss: 0.2908 - val_binary_accuracy: 0.4960 - val_q_auc_2: 0.6600\n",
            "Epoch 8/10\n",
            "16/16 [==============================] - 5s 283ms/step - loss: 0.2883 - binary_accuracy: 0.5000 - q_auc_2: 0.6169 - val_loss: 0.2754 - val_binary_accuracy: 0.4970 - val_q_auc_2: 0.6630\n",
            "Epoch 9/10\n",
            "16/16 [==============================] - 3s 170ms/step - loss: 0.2745 - binary_accuracy: 0.5010 - q_auc_2: 0.6249 - val_loss: 0.2633 - val_binary_accuracy: 0.5020 - val_q_auc_2: 0.6705\n",
            "Epoch 10/10\n",
            "16/16 [==============================] - 3s 169ms/step - loss: 0.2637 - binary_accuracy: 0.5130 - q_auc_2: 0.6324 - val_loss: 0.2533 - val_binary_accuracy: 0.5150 - val_q_auc_2: 0.6778\n",
            "Epoch 1/10\n",
            "16/16 [==============================] - 3s 181ms/step - loss: 0.4602 - binary_accuracy: 0.4990 - q_auc_3: 0.6161 - val_loss: 0.4436 - val_binary_accuracy: 0.4960 - val_q_auc_3: 0.6200\n",
            "Epoch 2/10\n",
            "16/16 [==============================] - 4s 249ms/step - loss: 0.4250 - binary_accuracy: 0.4990 - q_auc_3: 0.6019 - val_loss: 0.4134 - val_binary_accuracy: 0.4960 - val_q_auc_3: 0.6063\n",
            "Epoch 3/10\n",
            "16/16 [==============================] - 4s 270ms/step - loss: 0.3987 - binary_accuracy: 0.4990 - q_auc_3: 0.5901 - val_loss: 0.3897 - val_binary_accuracy: 0.4960 - val_q_auc_3: 0.6001\n",
            "Epoch 4/10\n",
            "16/16 [==============================] - 3s 166ms/step - loss: 0.3763 - binary_accuracy: 0.4990 - q_auc_3: 0.5910 - val_loss: 0.3693 - val_binary_accuracy: 0.4990 - val_q_auc_3: 0.5989\n",
            "Epoch 5/10\n",
            "16/16 [==============================] - 3s 166ms/step - loss: 0.3565 - binary_accuracy: 0.5050 - q_auc_3: 0.5906 - val_loss: 0.3490 - val_binary_accuracy: 0.5050 - val_q_auc_3: 0.6018\n",
            "Epoch 6/10\n",
            "16/16 [==============================] - 3s 167ms/step - loss: 0.3363 - binary_accuracy: 0.5140 - q_auc_3: 0.5967 - val_loss: 0.3293 - val_binary_accuracy: 0.5150 - val_q_auc_3: 0.6089\n",
            "Epoch 7/10\n",
            "16/16 [==============================] - 4s 238ms/step - loss: 0.3169 - binary_accuracy: 0.5210 - q_auc_3: 0.6033 - val_loss: 0.3091 - val_binary_accuracy: 0.5290 - val_q_auc_3: 0.6158\n",
            "Epoch 8/10\n",
            "16/16 [==============================] - 4s 278ms/step - loss: 0.2979 - binary_accuracy: 0.5370 - q_auc_3: 0.6102 - val_loss: 0.2904 - val_binary_accuracy: 0.5520 - val_q_auc_3: 0.6224\n",
            "Epoch 9/10\n",
            "16/16 [==============================] - 3s 166ms/step - loss: 0.2808 - binary_accuracy: 0.5650 - q_auc_3: 0.6191 - val_loss: 0.2745 - val_binary_accuracy: 0.5720 - val_q_auc_3: 0.6308\n",
            "Epoch 10/10\n",
            "16/16 [==============================] - 4s 254ms/step - loss: 0.2667 - binary_accuracy: 0.5850 - q_auc_3: 0.6252 - val_loss: 0.2609 - val_binary_accuracy: 0.6030 - val_q_auc_3: 0.6386\n",
            "Epoch 1/10\n",
            "16/16 [==============================] - 3s 202ms/step - loss: 0.3839 - binary_accuracy: 0.4990 - q_auc_4: 0.5732 - val_loss: 0.3534 - val_binary_accuracy: 0.4960 - val_q_auc_4: 0.5901\n",
            "Epoch 2/10\n",
            "16/16 [==============================] - 5s 340ms/step - loss: 0.3482 - binary_accuracy: 0.4980 - q_auc_4: 0.5300 - val_loss: 0.3266 - val_binary_accuracy: 0.4960 - val_q_auc_4: 0.5537\n",
            "Epoch 3/10\n",
            "16/16 [==============================] - 3s 188ms/step - loss: 0.3286 - binary_accuracy: 0.5000 - q_auc_4: 0.4876 - val_loss: 0.3113 - val_binary_accuracy: 0.5020 - val_q_auc_4: 0.5320\n",
            "Epoch 4/10\n",
            "16/16 [==============================] - 3s 166ms/step - loss: 0.3161 - binary_accuracy: 0.4960 - q_auc_4: 0.4788 - val_loss: 0.3029 - val_binary_accuracy: 0.4920 - val_q_auc_4: 0.5260\n",
            "Epoch 5/10\n",
            "16/16 [==============================] - 3s 163ms/step - loss: 0.3088 - binary_accuracy: 0.4900 - q_auc_4: 0.4710 - val_loss: 0.2962 - val_binary_accuracy: 0.5080 - val_q_auc_4: 0.5254\n",
            "Epoch 6/10\n",
            "16/16 [==============================] - 3s 186ms/step - loss: 0.3023 - binary_accuracy: 0.4900 - q_auc_4: 0.4728 - val_loss: 0.2908 - val_binary_accuracy: 0.5230 - val_q_auc_4: 0.5325\n",
            "Epoch 7/10\n",
            "16/16 [==============================] - 5s 283ms/step - loss: 0.2969 - binary_accuracy: 0.4890 - q_auc_4: 0.4796 - val_loss: 0.2855 - val_binary_accuracy: 0.5410 - val_q_auc_4: 0.5418\n",
            "Epoch 8/10\n",
            "16/16 [==============================] - 3s 203ms/step - loss: 0.2914 - binary_accuracy: 0.5010 - q_auc_4: 0.4861 - val_loss: 0.2804 - val_binary_accuracy: 0.5550 - val_q_auc_4: 0.5519\n",
            "Epoch 9/10\n",
            "16/16 [==============================] - 5s 338ms/step - loss: 0.2859 - binary_accuracy: 0.5120 - q_auc_4: 0.4971 - val_loss: 0.2754 - val_binary_accuracy: 0.5700 - val_q_auc_4: 0.5667\n",
            "Epoch 10/10\n",
            "16/16 [==============================] - 3s 194ms/step - loss: 0.2806 - binary_accuracy: 0.5230 - q_auc_4: 0.5107 - val_loss: 0.2703 - val_binary_accuracy: 0.5840 - val_q_auc_4: 0.5813\n",
            "Epoch 1/10\n",
            "16/16 [==============================] - 5s 307ms/step - loss: 0.6415 - binary_accuracy: 0.4990 - q_auc_5: 0.3683 - val_loss: 0.6194 - val_binary_accuracy: 0.4960 - val_q_auc_5: 0.3354\n",
            "Epoch 2/10\n",
            "16/16 [==============================] - 3s 179ms/step - loss: 0.5938 - binary_accuracy: 0.4990 - q_auc_5: 0.3514 - val_loss: 0.5718 - val_binary_accuracy: 0.4960 - val_q_auc_5: 0.3226\n",
            "Epoch 3/10\n",
            "16/16 [==============================] - 3s 169ms/step - loss: 0.5510 - binary_accuracy: 0.4990 - q_auc_5: 0.3383 - val_loss: 0.5290 - val_binary_accuracy: 0.4960 - val_q_auc_5: 0.3169\n",
            "Epoch 4/10\n",
            "16/16 [==============================] - 3s 171ms/step - loss: 0.5106 - binary_accuracy: 0.4990 - q_auc_5: 0.3337 - val_loss: 0.4904 - val_binary_accuracy: 0.4960 - val_q_auc_5: 0.3120\n",
            "Epoch 5/10\n",
            "16/16 [==============================] - 4s 221ms/step - loss: 0.4738 - binary_accuracy: 0.4990 - q_auc_5: 0.3239 - val_loss: 0.4532 - val_binary_accuracy: 0.4960 - val_q_auc_5: 0.3097\n",
            "Epoch 6/10\n",
            "16/16 [==============================] - 5s 286ms/step - loss: 0.4378 - binary_accuracy: 0.4990 - q_auc_5: 0.3241 - val_loss: 0.4188 - val_binary_accuracy: 0.4960 - val_q_auc_5: 0.3115\n",
            "Epoch 7/10\n",
            "16/16 [==============================] - 3s 187ms/step - loss: 0.4045 - binary_accuracy: 0.4990 - q_auc_5: 0.3235 - val_loss: 0.3860 - val_binary_accuracy: 0.4970 - val_q_auc_5: 0.3151\n",
            "Epoch 8/10\n",
            "16/16 [==============================] - 3s 176ms/step - loss: 0.3728 - binary_accuracy: 0.4990 - q_auc_5: 0.3277 - val_loss: 0.3563 - val_binary_accuracy: 0.4970 - val_q_auc_5: 0.3261\n",
            "Epoch 9/10\n",
            "16/16 [==============================] - 3s 175ms/step - loss: 0.3444 - binary_accuracy: 0.4960 - q_auc_5: 0.3401 - val_loss: 0.3305 - val_binary_accuracy: 0.4950 - val_q_auc_5: 0.3405\n",
            "Epoch 10/10\n",
            "16/16 [==============================] - 4s 242ms/step - loss: 0.3198 - binary_accuracy: 0.4950 - q_auc_5: 0.3553 - val_loss: 0.3086 - val_binary_accuracy: 0.4980 - val_q_auc_5: 0.3664\n"
          ]
        }
      ]
    },
    {
      "cell_type": "code",
      "source": [
        "# plot the roc curves\n",
        "fpr_list, tpr_list = [], []\n",
        "for i,model in enumerate(my_models):\n",
        "    y_score = vqc.predict(x_test_tensors[i])\n",
        "    fpr, tpr, _ = roc_curve(y_test, y_score)\n",
        "    fpr_list.append(fpr)\n",
        "    tpr_list.append(tpr)\n",
        "labels = ['SecondOrder_self_product_5_qubit',\n",
        "          'SecondOrder_cosine_product_5_qubit',\n",
        "          'SecondOrder_distance_measure_5_qubit',\n",
        "          'SecondOrder_arithmetic_mean_5_qubit']\n",
        "multi_model_plt = quple.utils.utils.plot_stacked_roc_curve(fpr_list, tpr_list, labels)"
      ],
      "metadata": {
        "colab": {
          "base_uri": "https://localhost:8080/",
          "height": 305
        },
        "id": "4YCfi_NGTmD6",
        "outputId": "22478a4c-52bf-4cd0-c4db-8b4c32eefad8"
      },
      "execution_count": 25,
      "outputs": [
        {
          "output_type": "display_data",
          "data": {
            "text/plain": [
              "<Figure size 432x288 with 1 Axes>"
            ],
            "image/png": "[encoded data removed]"
          },
          "metadata": {
            "needs_background": "light"
          }
        }
      ]
    },
    {
      "cell_type": "markdown",
      "source": [
        "**The VQC Logger**\n",
        "\n",
        "The following will be saved to a log text file as well as a npz file\n",
        "\n",
        "Number of qubits\n",
        "\n",
        "\n",
        "Qubit layout\n",
        "\n",
        "\n",
        "Name of encoding circuit\n",
        "\n",
        "Name of encoding map\n",
        "\n",
        "Name of variational circuit\n",
        "\n",
        "Circuit parameters\n",
        "\n",
        "Number of parameters\n",
        "\n",
        "Name of Optimizer\n",
        "\n",
        "Name of Loss Function\n",
        "\n",
        "Name of Activation Function\n",
        "\n",
        "Name of Metrics\n",
        "\n",
        "Train Size\n",
        "\n",
        "Val Size\n",
        "\n",
        "Test Size\n",
        "\n",
        "Batch Size\n",
        "\n",
        "Number of Epochs\n",
        "\n",
        "Circuit Diagram for Encoding Circuit\n",
        "\n",
        "Circuit Diagram for Variational Circuit\n",
        "\n",
        "Losses in each epoch\n",
        "\n",
        "Model weights after training\n",
        "\n",
        "fpr for roc curve\n",
        "\n",
        "tpr for roc curve\n",
        "\n",
        "auc for roc curve\n",
        "\n",
        "The following will be saved as a png file\n",
        "\n",
        "\n",
        "\n",
        "\n",
        "\n",
        "A ROC curve plot"
      ],
      "metadata": {
        "id": "VHVlMbTxEOjW"
      }
    },
    {
      "cell_type": "code",
      "source": [
        "from quple.classifiers.vqc_logger import VQCLogger\n",
        "logger = VQCLogger()"
      ],
      "metadata": {
        "id": "FO8zKIU5TuYR"
      },
      "execution_count": 27,
      "outputs": []
    },
    {
      "cell_type": "code",
      "source": [
        "# run the training, evaluation and test\n",
        "vqc.run(x_train, y_train, x_val, y_val, x_test, y_test, batch_size=64, epochs=5, callbacks=[logger])"
      ],
      "metadata": {
        "colab": {
          "base_uri": "https://localhost:8080/",
          "height": 1000
        },
        "id": "pfzKNm5HFQud",
        "outputId": "d38102f4-155d-4001-9751-80289c8e598e"
      },
      "execution_count": 28,
      "outputs": [
        {
          "output_type": "stream",
          "name": "stderr",
          "text": [
            "Converting circuits to tensors...\n",
            "INFO:quple.classifiers.vqc:Converting circuits to tensors...\n",
            "Converting circuits to tensors...\n",
            "INFO:quple.classifiers.vqc:Converting circuits to tensors...\n",
            "2023-02-24 15:43:57,480 [MainThread  ][INFO ]  ######## Executing VQC with the following attributes ########\n",
            "INFO:quple.classifiers.vqc_logger:######## Executing VQC with the following attributes ########\n",
            "2023-02-24 15:43:57,484 [MainThread  ][INFO ]  Feature Dimension: 5\n",
            "INFO:quple.classifiers.vqc_logger:Feature Dimension: 5\n",
            "2023-02-24 15:43:57,489 [MainThread  ][INFO ]  Number of Qubits: 5\n",
            "INFO:quple.classifiers.vqc_logger:Number of Qubits: 5\n",
            "2023-02-24 15:43:57,491 [MainThread  ][INFO ]  Qubit Layout: [cirq.GridQubit(0, 0), cirq.GridQubit(0, 1), cirq.GridQubit(0, 2), cirq.GridQubit(0, 3), cirq.GridQubit(0, 4)]\n",
            "INFO:quple.classifiers.vqc_logger:Qubit Layout: [cirq.GridQubit(0, 0), cirq.GridQubit(0, 1), cirq.GridQubit(0, 2), cirq.GridQubit(0, 3), cirq.GridQubit(0, 4)]\n",
            "2023-02-24 15:43:57,494 [MainThread  ][INFO ]  Encoding Circuit: FirstOrderPauliZEncoding\n",
            "INFO:quple.classifiers.vqc_logger:Encoding Circuit: FirstOrderPauliZEncoding\n",
            "2023-02-24 15:43:57,497 [MainThread  ][INFO ]  Encoding Map: self_product\n",
            "INFO:quple.classifiers.vqc_logger:Encoding Map: self_product\n",
            "2023-02-24 15:43:57,499 [MainThread  ][INFO ]  Variational Circuit: EfficientSU2\n",
            "INFO:quple.classifiers.vqc_logger:Variational Circuit: EfficientSU2\n",
            "2023-02-24 15:43:57,501 [MainThread  ][INFO ]  Circuit Parameters: ['θ_0', 'θ_1', 'θ_2', 'θ_3', 'θ_4', 'θ_5', 'θ_6', 'θ_7', 'θ_8', 'θ_9', 'θ_10', 'θ_11', 'θ_12', 'θ_13', 'θ_14', 'θ_15', 'θ_16', 'θ_17', 'θ_18', 'θ_19', 'θ_20', 'θ_21', 'θ_22', 'θ_23', 'θ_24', 'θ_25', 'θ_26', 'θ_27', 'θ_28', 'θ_29', 'θ_30', 'θ_31', 'θ_32', 'θ_33', 'θ_34']\n",
            "INFO:quple.classifiers.vqc_logger:Circuit Parameters: ['θ_0', 'θ_1', 'θ_2', 'θ_3', 'θ_4', 'θ_5', 'θ_6', 'θ_7', 'θ_8', 'θ_9', 'θ_10', 'θ_11', 'θ_12', 'θ_13', 'θ_14', 'θ_15', 'θ_16', 'θ_17', 'θ_18', 'θ_19', 'θ_20', 'θ_21', 'θ_22', 'θ_23', 'θ_24', 'θ_25', 'θ_26', 'θ_27', 'θ_28', 'θ_29', 'θ_30', 'θ_31', 'θ_32', 'θ_33', 'θ_34']\n",
            "2023-02-24 15:43:57,503 [MainThread  ][INFO ]  Number of Parameters: 35\n",
            "INFO:quple.classifiers.vqc_logger:Number of Parameters: 35\n",
            "2023-02-24 15:43:57,506 [MainThread  ][INFO ]  Optimizer: Adam\n",
            "INFO:quple.classifiers.vqc_logger:Optimizer: Adam\n",
            "2023-02-24 15:43:57,509 [MainThread  ][INFO ]  Metrics: ['binary_accuracy', 'q_auc_1']\n",
            "INFO:quple.classifiers.vqc_logger:Metrics: ['binary_accuracy', 'q_auc_1']\n",
            "2023-02-24 15:43:57,513 [MainThread  ][INFO ]  Loss Function: mse\n",
            "INFO:quple.classifiers.vqc_logger:Loss Function: mse\n",
            "2023-02-24 15:43:57,516 [MainThread  ][INFO ]  Activation Function: sigmoid\n",
            "INFO:quple.classifiers.vqc_logger:Activation Function: sigmoid\n",
            "2023-02-24 15:43:57,519 [MainThread  ][INFO ]  Training Size: 1000\n",
            "INFO:quple.classifiers.vqc_logger:Training Size: 1000\n",
            "2023-02-24 15:43:57,522 [MainThread  ][INFO ]  Validation Size: 1000\n",
            "INFO:quple.classifiers.vqc_logger:Validation Size: 1000\n",
            "2023-02-24 15:43:57,524 [MainThread  ][INFO ]  Test Size: 1000\n",
            "INFO:quple.classifiers.vqc_logger:Test Size: 1000\n",
            "2023-02-24 15:43:57,548 [MainThread  ][INFO ]  Batch Size: 64\n",
            "INFO:quple.classifiers.vqc_logger:Batch Size: 64\n",
            "2023-02-24 15:43:57,552 [MainThread  ][INFO ]  Number of Epochs: 10\n",
            "INFO:quple.classifiers.vqc_logger:Number of Epochs: 10\n",
            "DEBUG:quple.classifiers.vqc_logger:Circuit Diagram for Encoding Circuit:\n",
            "(0, 0): ───H───Rz(pi*x_0)───H───Rz(pi*x_0)───\n",
            "\n",
            "(0, 1): ───H───Rz(pi*x_1)───H───Rz(pi*x_1)───\n",
            "\n",
            "(0, 2): ───H───Rz(pi*x_2)───H───Rz(pi*x_2)───\n",
            "\n",
            "(0, 3): ───H───Rz(pi*x_3)───H───Rz(pi*x_3)───\n",
            "\n",
            "(0, 4): ───H───Rz(pi*x_4)───H───Rz(pi*x_4)───\n",
            "DEBUG:quple.classifiers.vqc_logger:Circuit Diagram for Variational Circuit:\n",
            "                                             ┌──┐       ┌──┐                                                ┌──┐       ┌──┐\n",
            "(-1, -1): ──────────────────────────────────────────────────────────────────────────────────────────────────────────────────────────────────────────────XX──────────XX──────────XX──────────XX──────────XX──────────\n",
            "                                                                                                                                                        │           │           │           │           │\n",
            "(0, 0): ─────Ry(θ_0)───Rz(θ_5)───@───@───@────@────────────────────Ry(θ_10)───Rz(θ_15)───@──────────@───@────@────────────────────Ry(θ_20)───Rz(θ_25)───XX^(θ_30)───┼───────────┼───────────┼───────────┼───────────\n",
            "                                 │   │   │    │                                          │          │   │    │                                                      │           │           │           │\n",
            "(0, 1): ─────Ry(θ_1)───Rz(θ_6)───X───┼───┼────┼@────@────@─────────Ry(θ_11)───Rz(θ_16)───X──────────┼───┼────┼@────@────@─────────Ry(θ_21)───Rz(θ_26)───────────────XX^(θ_31)───┼───────────┼───────────┼───────────\n",
            "                                     │   │    ││    │    │                                          │   │    ││    │    │                                                       │           │           │\n",
            "(0, 2): ─────Ry(θ_2)───Rz(θ_7)───────X───┼────┼X────┼────┼@────@───Ry(θ_12)───Rz(θ_17)──────────────X───┼────┼X────┼────┼@────@───Ry(θ_22)───Rz(θ_27)───────────────────────────XX^(θ_32)───┼───────────┼───────────\n",
            "                                         │    │     │    ││    │                                        │    │     │    ││    │                                                             │           │\n",
            "(0, 3): ─────Ry(θ_3)───Rz(θ_8)───────────X────┼─────X────┼X────┼───@──────────Ry(θ_13)───Rz(θ_18)───────X────┼─────X────┼X────┼───@──────────Ry(θ_23)───Rz(θ_28)────────────────────────────XX^(θ_33)───┼───────────\n",
            "                                              │          │     │   │                                         │          │     │   │                                                                     │\n",
            "(0, 4): ─────Ry(θ_4)───Rz(θ_9)────────────────X──────────X─────X───X──────────Ry(θ_14)───Rz(θ_19)────────────X──────────X─────X───X──────────Ry(θ_24)───Rz(θ_29)────────────────────────────────────────XX^(θ_34)───\n",
            "                                             └──┘       └──┘                                                └──┘       └──┘\n",
            "2023-02-24 15:43:57,628 [MainThread  ][INFO ]  ######## Training Begins ########\n",
            "INFO:quple.classifiers.vqc_logger:######## Training Begins ########\n",
            "2023-02-24 15:43:57,632 [MainThread  ][INFO ]  Number of samples for Training: 1000\n",
            "INFO:quple.classifiers.vqc_logger:Number of samples for Training: 1000\n",
            "2023-02-24 15:43:57,635 [MainThread  ][INFO ]  Number of Epochs: 10\n",
            "INFO:quple.classifiers.vqc_logger:Number of Epochs: 10\n",
            "2023-02-24 15:43:57,639 [MainThread  ][INFO ]  Batch Size: 64\n",
            "INFO:quple.classifiers.vqc_logger:Batch Size: 64\n"
          ]
        },
        {
          "output_type": "stream",
          "name": "stdout",
          "text": [
            "Epoch 1/5\n",
            "16/16 [==============================] - ETA: 0s - loss: 0.1709 - binary_accuracy: 0.7470 - q_auc_1: 0.8552"
          ]
        },
        {
          "output_type": "stream",
          "name": "stderr",
          "text": [
            "DEBUG:quple.classifiers.vqc_logger:######## Epoch 0 ########\n",
            "DEBUG:quple.classifiers.vqc_logger:loss: 0.1709294617176056\n",
            "DEBUG:quple.classifiers.vqc_logger:binary_accuracy: 0.746999979019165\n",
            "DEBUG:quple.classifiers.vqc_logger:q_auc_1: 0.8552154302597046\n",
            "DEBUG:quple.classifiers.vqc_logger:val_loss: 0.17049528658390045\n",
            "DEBUG:quple.classifiers.vqc_logger:val_binary_accuracy: 0.7599999904632568\n",
            "DEBUG:quple.classifiers.vqc_logger:val_q_auc_1: 0.8492583632469177\n"
          ]
        },
        {
          "output_type": "stream",
          "name": "stdout",
          "text": [
            "16/16 [==============================] - 3s 162ms/step - loss: 0.1709 - binary_accuracy: 0.7470 - q_auc_1: 0.8552 - val_loss: 0.1705 - val_binary_accuracy: 0.7600 - val_q_auc_1: 0.8493\n",
            "Epoch 2/5\n",
            "16/16 [==============================] - ETA: 0s - loss: 0.1687 - binary_accuracy: 0.7590 - q_auc_1: 0.8591"
          ]
        },
        {
          "output_type": "stream",
          "name": "stderr",
          "text": [
            "DEBUG:quple.classifiers.vqc_logger:######## Epoch 1 ########\n",
            "DEBUG:quple.classifiers.vqc_logger:loss: 0.1687323898077011\n",
            "DEBUG:quple.classifiers.vqc_logger:binary_accuracy: 0.7590000033378601\n",
            "DEBUG:quple.classifiers.vqc_logger:q_auc_1: 0.8590594530105591\n",
            "DEBUG:quple.classifiers.vqc_logger:val_loss: 0.17018374800682068\n",
            "DEBUG:quple.classifiers.vqc_logger:val_binary_accuracy: 0.7509999871253967\n",
            "DEBUG:quple.classifiers.vqc_logger:val_q_auc_1: 0.8486903309822083\n"
          ]
        },
        {
          "output_type": "stream",
          "name": "stdout",
          "text": [
            "16/16 [==============================] - 2s 130ms/step - loss: 0.1687 - binary_accuracy: 0.7590 - q_auc_1: 0.8591 - val_loss: 0.1702 - val_binary_accuracy: 0.7510 - val_q_auc_1: 0.8487\n",
            "Epoch 3/5\n",
            "16/16 [==============================] - ETA: 0s - loss: 0.1680 - binary_accuracy: 0.7570 - q_auc_1: 0.8601"
          ]
        },
        {
          "output_type": "stream",
          "name": "stderr",
          "text": [
            "DEBUG:quple.classifiers.vqc_logger:######## Epoch 2 ########\n",
            "DEBUG:quple.classifiers.vqc_logger:loss: 0.16797375679016113\n",
            "DEBUG:quple.classifiers.vqc_logger:binary_accuracy: 0.7570000290870667\n",
            "DEBUG:quple.classifiers.vqc_logger:q_auc_1: 0.860073447227478\n",
            "DEBUG:quple.classifiers.vqc_logger:val_loss: 0.1692906618118286\n",
            "DEBUG:quple.classifiers.vqc_logger:val_binary_accuracy: 0.7549999952316284\n",
            "DEBUG:quple.classifiers.vqc_logger:val_q_auc_1: 0.84846431016922\n"
          ]
        },
        {
          "output_type": "stream",
          "name": "stdout",
          "text": [
            "16/16 [==============================] - 2s 129ms/step - loss: 0.1680 - binary_accuracy: 0.7570 - q_auc_1: 0.8601 - val_loss: 0.1693 - val_binary_accuracy: 0.7550 - val_q_auc_1: 0.8485\n",
            "Epoch 4/5\n",
            "16/16 [==============================] - ETA: 0s - loss: 0.1688 - binary_accuracy: 0.7570 - q_auc_1: 0.8430"
          ]
        },
        {
          "output_type": "stream",
          "name": "stderr",
          "text": [
            "DEBUG:quple.classifiers.vqc_logger:######## Epoch 3 ########\n",
            "DEBUG:quple.classifiers.vqc_logger:loss: 0.16878974437713623\n",
            "DEBUG:quple.classifiers.vqc_logger:binary_accuracy: 0.7570000290870667\n",
            "DEBUG:quple.classifiers.vqc_logger:q_auc_1: 0.8429853916168213\n",
            "DEBUG:quple.classifiers.vqc_logger:val_loss: 0.1725056767463684\n",
            "DEBUG:quple.classifiers.vqc_logger:val_binary_accuracy: 0.7680000066757202\n",
            "DEBUG:quple.classifiers.vqc_logger:val_q_auc_1: 0.8472902774810791\n"
          ]
        },
        {
          "output_type": "stream",
          "name": "stdout",
          "text": [
            "16/16 [==============================] - 2s 131ms/step - loss: 0.1688 - binary_accuracy: 0.7570 - q_auc_1: 0.8430 - val_loss: 0.1725 - val_binary_accuracy: 0.7680 - val_q_auc_1: 0.8473\n",
            "Epoch 5/5\n",
            "16/16 [==============================] - ETA: 0s - loss: 0.1670 - binary_accuracy: 0.7610 - q_auc_1: 0.8519"
          ]
        },
        {
          "output_type": "stream",
          "name": "stderr",
          "text": [
            "DEBUG:quple.classifiers.vqc_logger:######## Epoch 4 ########\n",
            "DEBUG:quple.classifiers.vqc_logger:loss: 0.16702167689800262\n",
            "DEBUG:quple.classifiers.vqc_logger:binary_accuracy: 0.7609999775886536\n",
            "DEBUG:quple.classifiers.vqc_logger:q_auc_1: 0.8519093990325928\n",
            "DEBUG:quple.classifiers.vqc_logger:val_loss: 0.1705722063779831\n",
            "DEBUG:quple.classifiers.vqc_logger:val_binary_accuracy: 0.7540000081062317\n",
            "DEBUG:quple.classifiers.vqc_logger:val_q_auc_1: 0.8488883376121521\n"
          ]
        },
        {
          "output_type": "stream",
          "name": "stdout",
          "text": [
            "\b\b\b\b\b\b\b\b\b\b\b\b\b\b\b\b\b\b\b\b\b\b\b\b\b\b\b\b\b\b\b\b\b\b\b\b\b\b\b\b\b\b\b\b\b\b\b\b\b\b\b\b\b\b\b\b\b\b\b\b\b\b\b\b\b\b\b\b\b\b\b\b\b\b\b\b\b\b\b\b\b\b\b\b\b\b\b\b\b\b\b\b\b\b\b\b\b\b\b\b\b\b\b\b\b\b\b\r16/16 [==============================] - 4s 225ms/step - loss: 0.1670 - binary_accuracy: 0.7610 - q_auc_1: 0.8519 - val_loss: 0.1706 - val_binary_accuracy: 0.7540 - val_q_auc_1: 0.8489\n"
          ]
        },
        {
          "output_type": "stream",
          "name": "stderr",
          "text": [
            "2023-02-24 15:44:10,830 [MainThread  ][INFO ]  ######## Training Ends ########\n",
            "INFO:quple.classifiers.vqc_logger:######## Training Ends ########\n",
            "2023-02-24 15:44:10,845 [MainThread  ][INFO ]  Model weights: \n",
            "[ 3.672414    3.381905    0.2953684   1.4807465   5.275809    6.1557493\n",
            "  2.0306993   6.164961    1.5752516  -0.20108697  4.952955    0.05443803\n",
            "  2.5480974   3.2798269   0.6580332   2.570104    0.6585996   1.6024274\n",
            "  0.45259508  1.4754394   4.9819193   4.9149346  -0.21754701  5.977769\n",
            "  4.270921    0.26600707  3.0012302  -0.03117078  0.9643001   5.4413385\n",
            "  4.8850346   2.0866737   2.298294    4.59115     5.5142074 ]\n",
            "INFO:quple.classifiers.vqc_logger:Model weights: \n",
            "[ 3.672414    3.381905    0.2953684   1.4807465   5.275809    6.1557493\n",
            "  2.0306993   6.164961    1.5752516  -0.20108697  4.952955    0.05443803\n",
            "  2.5480974   3.2798269   0.6580332   2.570104    0.6585996   1.6024274\n",
            "  0.45259508  1.4754394   4.9819193   4.9149346  -0.21754701  5.977769\n",
            "  4.270921    0.26600707  3.0012302  -0.03117078  0.9643001   5.4413385\n",
            "  4.8850346   2.0866737   2.298294    4.59115     5.5142074 ]\n",
            "Converting circuits to tensors...\n",
            "INFO:quple.classifiers.vqc:Converting circuits to tensors...\n",
            "2023-02-24 15:44:19,279 [MainThread  ][INFO ]  ######## Test Begins ########\n",
            "INFO:quple.classifiers.vqc_logger:######## Test Begins ########\n",
            "2023-02-24 15:44:19,285 [MainThread  ][INFO ]  Number of samples for Testing: 1000\n",
            "INFO:quple.classifiers.vqc_logger:Number of samples for Testing: 1000\n",
            "2023-02-24 15:44:19,289 [MainThread  ][INFO ]  Number of Epochs: 10\n",
            "INFO:quple.classifiers.vqc_logger:Number of Epochs: 10\n",
            "2023-02-24 15:44:19,293 [MainThread  ][INFO ]  Batch Size: 64\n",
            "INFO:quple.classifiers.vqc_logger:Batch Size: 64\n"
          ]
        },
        {
          "output_type": "stream",
          "name": "stdout",
          "text": [
            "31/32 [============================>.] - ETA: 0s - loss: 0.1622 - binary_accuracy: 0.7722 - q_auc_1: 0.8669"
          ]
        },
        {
          "output_type": "stream",
          "name": "stderr",
          "text": [
            "2023-02-24 15:44:20,196 [MainThread  ][INFO ]  ######## Test Ends ########\n",
            "INFO:quple.classifiers.vqc_logger:######## Test Ends ########\n"
          ]
        },
        {
          "output_type": "stream",
          "name": "stdout",
          "text": [
            "\b\b\b\b\b\b\b\b\b\b\b\b\b\b\b\b\b\b\b\b\b\b\b\b\b\b\b\b\b\b\b\b\b\b\b\b\b\b\b\b\b\b\b\b\b\b\b\b\b\b\b\b\b\b\b\b\b\b\b\b\b\b\b\b\b\b\b\b\b\b\b\b\b\b\b\b\b\b\b\b\b\b\b\b\b\b\b\b\b\b\b\b\b\b\b\b\b\b\b\b\b\b\b\b\b\b\b\r32/32 [==============================] - 1s 27ms/step - loss: 0.1629 - binary_accuracy: 0.7700 - q_auc_1: 0.8660\n"
          ]
        },
        {
          "output_type": "stream",
          "name": "stderr",
          "text": [
            "DEBUG:quple.classifiers.vqc_logger:######## ROC curve information ########\n",
            "DEBUG:quple.classifiers.vqc_logger:fpr:\n",
            "[0.         0.         0.         0.00192678 0.00192678 0.00385356\n",
            " 0.00385356 0.00578035 0.00578035 0.00770713 0.00770713 0.00963391\n",
            " 0.00963391 0.01156069 0.01156069 0.01348748 0.01348748 0.01541426\n",
            " 0.01541426 0.01734104 0.01734104 0.02119461 0.02119461 0.02312139\n",
            " 0.02312139 0.02504817 0.02504817 0.02890173 0.02890173 0.03082852\n",
            " 0.03082852 0.0327553  0.0327553  0.03660886 0.03660886 0.03853565\n",
            " 0.03853565 0.04046243 0.04046243 0.04238921 0.04238921 0.04238921\n",
            " 0.04238921 0.04238921 0.04431599 0.04431599 0.04624277 0.04624277\n",
            " 0.04816956 0.04816956 0.05202312 0.05202312 0.0539499  0.0539499\n",
            " 0.05587669 0.05587669 0.05780347 0.05780347 0.05973025 0.05973025\n",
            " 0.06358382 0.06358382 0.0655106  0.0655106  0.06743738 0.06743738\n",
            " 0.07129094 0.07129094 0.07707129 0.07707129 0.07899807 0.07899807\n",
            " 0.08092486 0.08092486 0.08285164 0.08285164 0.08477842 0.08477842\n",
            " 0.0867052  0.0867052  0.08863198 0.08863198 0.09055877 0.09055877\n",
            " 0.09248555 0.09248555 0.09441233 0.09441233 0.09633911 0.09633911\n",
            " 0.0982659  0.0982659  0.10211946 0.10211946 0.10404624 0.10404624\n",
            " 0.10789981 0.10789981 0.10982659 0.10982659 0.11175337 0.11175337\n",
            " 0.11560694 0.11560694 0.11753372 0.11753372 0.12138728 0.12138728\n",
            " 0.12331407 0.12331407 0.12524085 0.12524085 0.12716763 0.12716763\n",
            " 0.12909441 0.12909441 0.13294798 0.13294798 0.13487476 0.13487476\n",
            " 0.14065511 0.14065511 0.14450867 0.14450867 0.14643545 0.14643545\n",
            " 0.1522158  0.1522158  0.15414258 0.15414258 0.16377649 0.16377649\n",
            " 0.16763006 0.16763006 0.16955684 0.16955684 0.1734104  0.1734104\n",
            " 0.17919075 0.17919075 0.18304432 0.18304432 0.18689788 0.18689788\n",
            " 0.19075145 0.19075145 0.19460501 0.19460501 0.19653179 0.19653179\n",
            " 0.20423892 0.20423892 0.2061657  0.2061657  0.20809249 0.20809249\n",
            " 0.21387283 0.21387283 0.21579961 0.21579961 0.21965318 0.21965318\n",
            " 0.22543353 0.22543353 0.22736031 0.22736031 0.22928709 0.22928709\n",
            " 0.23314066 0.23314066 0.238921   0.238921   0.24084778 0.24084778\n",
            " 0.24662813 0.24662813 0.24855491 0.24855491 0.25240848 0.25240848\n",
            " 0.25433526 0.25433526 0.25818882 0.25818882 0.2716763  0.2716763\n",
            " 0.28323699 0.28323699 0.28516378 0.28516378 0.29287091 0.29287091\n",
            " 0.29672447 0.29672447 0.31406551 0.31406551 0.31984586 0.31984586\n",
            " 0.32369942 0.32369942 0.3256262  0.3256262  0.33333333 0.33333333\n",
            " 0.33911368 0.33911368 0.34104046 0.34104046 0.34489403 0.34489403\n",
            " 0.34874759 0.34874759 0.35067437 0.35067437 0.35260116 0.35260116\n",
            " 0.36030829 0.36030829 0.37764933 0.37764933 0.38535645 0.38535645\n",
            " 0.3911368  0.3911368  0.3911368  0.39499037 0.39499037 0.39691715\n",
            " 0.39691715 0.40462428 0.40462428 0.41811175 0.41811175 0.4238921\n",
            " 0.4238921  0.42581888 0.42581888 0.43545279 0.43545279 0.43737958\n",
            " 0.43737958 0.43930636 0.43930636 0.44315992 0.44315992 0.45279383\n",
            " 0.45279383 0.45472062 0.45472062 0.46820809 0.46820809 0.477842\n",
            " 0.477842   0.47976879 0.47976879 0.48554913 0.48554913 0.48747592\n",
            " 0.48747592 0.49710983 0.49710983 0.50096339 0.50096339 0.50674374\n",
            " 0.50674374 0.53179191 0.53179191 0.53371869 0.53371869 0.53949904\n",
            " 0.53949904 0.56262042 0.56262042 0.57032755 0.57032755 0.59537572\n",
            " 0.59537572 0.59922929 0.59922929 0.60500963 0.60500963 0.61464355\n",
            " 0.61464355 0.63391137 0.63391137 0.64932563 0.64932563 0.68786127\n",
            " 0.68786127 0.69171484 0.69171484 0.69364162 0.69364162 0.70520231\n",
            " 0.70520231 0.73795761 0.73795761 0.77456647 0.77456647 0.7938343\n",
            " 0.7938343  0.80924855 0.80924855 0.86319846 0.86319846 0.89980732\n",
            " 0.89980732 0.90751445 0.90751445 0.90944123 0.90944123 0.93834297\n",
            " 0.93834297 0.97109827 0.97109827 1.        ]\n",
            "DEBUG:quple.classifiers.vqc_logger:tpr:\n",
            "[0.         0.002079   0.06860707 0.06860707 0.07276507 0.07276507\n",
            " 0.1018711  0.1018711  0.11018711 0.11018711 0.12681913 0.12681913\n",
            " 0.14760915 0.14760915 0.16008316 0.16008316 0.22453222 0.22453222\n",
            " 0.22869023 0.22869023 0.23492723 0.23492723 0.25155925 0.25155925\n",
            " 0.25363825 0.25363825 0.25779626 0.25779626 0.27442827 0.27442827\n",
            " 0.29106029 0.29106029 0.31185031 0.31185031 0.33264033 0.33264033\n",
            " 0.38253638 0.38253638 0.42619543 0.42619543 0.43035343 0.43451143\n",
            " 0.45322245 0.45738046 0.45738046 0.4989605  0.4989605  0.52598753\n",
            " 0.52598753 0.52806653 0.52806653 0.53430353 0.53430353 0.55093555\n",
            " 0.55093555 0.55717256 0.55717256 0.56133056 0.56133056 0.56964657\n",
            " 0.56964657 0.57588358 0.57588358 0.58004158 0.58004158 0.58627859\n",
            " 0.58627859 0.59043659 0.59043659 0.5987526  0.5987526  0.60914761\n",
            " 0.60914761 0.62370062 0.62370062 0.62577963 0.62577963 0.62993763\n",
            " 0.62993763 0.63617464 0.63617464 0.64656965 0.64656965 0.65280665\n",
            " 0.65280665 0.66320166 0.66320166 0.66735967 0.66735967 0.67151767\n",
            " 0.67151767 0.67359667 0.67359667 0.67567568 0.67567568 0.67775468\n",
            " 0.67775468 0.67983368 0.67983368 0.68814969 0.68814969 0.69230769\n",
            " 0.69230769 0.69438669 0.69438669 0.6985447  0.6985447  0.7006237\n",
            " 0.7006237  0.7027027  0.7027027  0.7047817  0.7047817  0.71101871\n",
            " 0.71101871 0.71517672 0.71517672 0.72349272 0.72349272 0.72557173\n",
            " 0.72557173 0.72765073 0.72765073 0.73180873 0.73180873 0.73804574\n",
            " 0.73804574 0.74012474 0.74012474 0.74220374 0.74220374 0.74636175\n",
            " 0.74636175 0.74844075 0.74844075 0.75051975 0.75051975 0.75259875\n",
            " 0.75259875 0.76091476 0.76091476 0.76299376 0.76299376 0.76507277\n",
            " 0.76507277 0.76715177 0.76715177 0.76923077 0.76923077 0.77546778\n",
            " 0.77546778 0.77962578 0.77962578 0.78170478 0.78170478 0.78586279\n",
            " 0.78586279 0.79002079 0.79002079 0.7962578  0.7962578  0.8024948\n",
            " 0.8024948  0.8045738  0.8045738  0.80873181 0.80873181 0.81081081\n",
            " 0.81081081 0.81288981 0.81288981 0.81496881 0.81496881 0.81704782\n",
            " 0.81704782 0.81912682 0.81912682 0.82120582 0.82120582 0.82328482\n",
            " 0.82328482 0.82536383 0.82536383 0.82952183 0.82952183 0.83160083\n",
            " 0.83160083 0.83783784 0.83783784 0.83991684 0.83991684 0.84199584\n",
            " 0.84199584 0.84823285 0.84823285 0.85239085 0.85239085 0.85446985\n",
            " 0.85446985 0.85862786 0.85862786 0.86070686 0.86070686 0.86278586\n",
            " 0.86278586 0.86486486 0.86486486 0.86902287 0.86902287 0.87110187\n",
            " 0.87110187 0.87525988 0.87525988 0.87941788 0.87941788 0.88565489\n",
            " 0.88565489 0.88773389 0.88773389 0.88981289 0.88981289 0.89189189\n",
            " 0.89189189 0.8960499  0.8981289  0.8981289  0.9002079  0.9002079\n",
            " 0.9022869  0.9022869  0.9043659  0.9043659  0.90644491 0.90644491\n",
            " 0.90852391 0.90852391 0.91268191 0.91268191 0.91476091 0.91476091\n",
            " 0.91683992 0.91683992 0.91891892 0.91891892 0.92099792 0.92099792\n",
            " 0.92307692 0.92307692 0.92515593 0.92515593 0.92723493 0.92723493\n",
            " 0.92931393 0.92931393 0.93139293 0.93139293 0.93347193 0.93347193\n",
            " 0.93555094 0.93555094 0.93762994 0.93762994 0.94178794 0.94178794\n",
            " 0.94594595 0.94594595 0.94802495 0.94802495 0.95010395 0.95010395\n",
            " 0.95218295 0.95218295 0.95426195 0.95426195 0.95634096 0.95634096\n",
            " 0.95841996 0.95841996 0.96049896 0.96049896 0.96257796 0.96257796\n",
            " 0.96465696 0.96465696 0.96673597 0.96673597 0.96881497 0.96881497\n",
            " 0.97089397 0.97089397 0.97297297 0.97297297 0.97505198 0.97505198\n",
            " 0.97713098 0.97713098 0.97920998 0.97920998 0.98128898 0.98128898\n",
            " 0.98544699 0.98544699 0.98752599 0.98752599 0.98960499 0.98960499\n",
            " 0.99168399 0.99168399 0.99376299 0.99376299 0.995842   0.995842\n",
            " 0.997921   0.997921   1.         1.        ]\n",
            "DEBUG:quple.classifiers.vqc_logger:auc:\n",
            "0.866090634876762\n",
            "WARNING:matplotlib.backends.backend_ps:The PostScript backend does not support transparency; partially transparent artists will be rendered opaque.\n"
          ]
        },
        {
          "output_type": "display_data",
          "data": {
            "text/plain": [
              "<Figure size 432x288 with 1 Axes>"
            ],
            "image/png": "[encoded data removed]"
          },
          "metadata": {
            "needs_background": "light"
          }
        }
      ]
    },
    {
      "cell_type": "code",
      "source": [
        "#Let's check what files we've got\n",
        "!ls logs/*"
      ],
      "metadata": {
        "colab": {
          "base_uri": "https://localhost:8080/"
        },
        "id": "iRSfMkvEF4nU",
        "outputId": "bfebaab2-db23-40d7-8db8-0e4569dd119c"
      },
      "execution_count": 29,
      "outputs": [
        {
          "output_type": "stream",
          "name": "stdout",
          "text": [
            "logs/checkpoint\n",
            "logs/FirstOrderPauliZEncoding_self_product_EfficientSU2_5_qubit_sigmoid_Adam_train_1000_val_1000_test_1000_epoch_10_batch_size_64_2023-02-24_15-43-29.log\n",
            "logs/FirstOrderPauliZEncoding_self_product_EfficientSU2_5_qubit_sigmoid_Adam_train_1000_val_1000_test_1000_epoch_10_batch_size_64_2023-02-24_15-43-29_model_weights.data-00000-of-00001\n",
            "logs/FirstOrderPauliZEncoding_self_product_EfficientSU2_5_qubit_sigmoid_Adam_train_1000_val_1000_test_1000_epoch_10_batch_size_64_2023-02-24_15-43-29_model_weights.index\n",
            "logs/FirstOrderPauliZEncoding_self_product_EfficientSU2_5_qubit_sigmoid_Adam_train_1000_val_1000_test_1000_epoch_10_batch_size_64_2023-02-24_15-43-29.npz\n",
            "logs/FirstOrderPauliZEncoding_self_product_EfficientSU2_5_qubit_sigmoid_Adam_train_1000_val_1000_test_1000_epoch_10_batch_size_64_2023-02-24_15-43-29_roc_curve.eps\n",
            "logs/FirstOrderPauliZEncoding_self_product_EfficientSU2_5_qubit_sigmoid_Adam_train_1000_val_1000_test_1000_epoch_10_batch_size_64_2023-02-24_15-43-29_roc_curve.png\n"
          ]
        }
      ]
    },
    {
      "cell_type": "code",
      "source": [
        "#print out the content of the log file\n",
        "import glob\n",
        "logfile = glob.glob('logs/*.log')[0]\n",
        "print(open(logfile, 'r').read())"
      ],
      "metadata": {
        "colab": {
          "base_uri": "https://localhost:8080/"
        },
        "id": "nR1Rv5SJGNKb",
        "outputId": "088c9d0b-977a-4e1d-b09f-a79ebaf4bf7e"
      },
      "execution_count": 30,
      "outputs": [
        {
          "output_type": "stream",
          "name": "stdout",
          "text": [
            "2023-02-24 15:43:57,480 [MainThread  ][INFO ]  ######## Executing VQC with the following attributes ########\n",
            "2023-02-24 15:43:57,484 [MainThread  ][INFO ]  Feature Dimension: 5\n",
            "2023-02-24 15:43:57,489 [MainThread  ][INFO ]  Number of Qubits: 5\n",
            "2023-02-24 15:43:57,491 [MainThread  ][INFO ]  Qubit Layout: [cirq.GridQubit(0, 0), cirq.GridQubit(0, 1), cirq.GridQubit(0, 2), cirq.GridQubit(0, 3), cirq.GridQubit(0, 4)]\n",
            "2023-02-24 15:43:57,494 [MainThread  ][INFO ]  Encoding Circuit: FirstOrderPauliZEncoding\n",
            "2023-02-24 15:43:57,497 [MainThread  ][INFO ]  Encoding Map: self_product\n",
            "2023-02-24 15:43:57,499 [MainThread  ][INFO ]  Variational Circuit: EfficientSU2\n",
            "2023-02-24 15:43:57,501 [MainThread  ][INFO ]  Circuit Parameters: ['θ_0', 'θ_1', 'θ_2', 'θ_3', 'θ_4', 'θ_5', 'θ_6', 'θ_7', 'θ_8', 'θ_9', 'θ_10', 'θ_11', 'θ_12', 'θ_13', 'θ_14', 'θ_15', 'θ_16', 'θ_17', 'θ_18', 'θ_19', 'θ_20', 'θ_21', 'θ_22', 'θ_23', 'θ_24', 'θ_25', 'θ_26', 'θ_27', 'θ_28', 'θ_29', 'θ_30', 'θ_31', 'θ_32', 'θ_33', 'θ_34']\n",
            "2023-02-24 15:43:57,503 [MainThread  ][INFO ]  Number of Parameters: 35\n",
            "2023-02-24 15:43:57,506 [MainThread  ][INFO ]  Optimizer: Adam\n",
            "2023-02-24 15:43:57,509 [MainThread  ][INFO ]  Metrics: ['binary_accuracy', 'q_auc_1']\n",
            "2023-02-24 15:43:57,513 [MainThread  ][INFO ]  Loss Function: mse\n",
            "2023-02-24 15:43:57,516 [MainThread  ][INFO ]  Activation Function: sigmoid\n",
            "2023-02-24 15:43:57,519 [MainThread  ][INFO ]  Training Size: 1000\n",
            "2023-02-24 15:43:57,522 [MainThread  ][INFO ]  Validation Size: 1000\n",
            "2023-02-24 15:43:57,524 [MainThread  ][INFO ]  Test Size: 1000\n",
            "2023-02-24 15:43:57,548 [MainThread  ][INFO ]  Batch Size: 64\n",
            "2023-02-24 15:43:57,552 [MainThread  ][INFO ]  Number of Epochs: 10\n",
            "2023-02-24 15:43:57,561 [MainThread  ][DEBUG]  Circuit Diagram for Encoding Circuit:\n",
            "(0, 0): ───H───Rz(pi*x_0)───H───Rz(pi*x_0)───\n",
            "\n",
            "(0, 1): ───H───Rz(pi*x_1)───H───Rz(pi*x_1)───\n",
            "\n",
            "(0, 2): ───H───Rz(pi*x_2)───H───Rz(pi*x_2)───\n",
            "\n",
            "(0, 3): ───H───Rz(pi*x_3)───H───Rz(pi*x_3)───\n",
            "\n",
            "(0, 4): ───H───Rz(pi*x_4)───H───Rz(pi*x_4)───\n",
            "2023-02-24 15:43:57,626 [MainThread  ][DEBUG]  Circuit Diagram for Variational Circuit:\n",
            "                                             ┌──┐       ┌──┐                                                ┌──┐       ┌──┐\n",
            "(-1, -1): ──────────────────────────────────────────────────────────────────────────────────────────────────────────────────────────────────────────────XX──────────XX──────────XX──────────XX──────────XX──────────\n",
            "                                                                                                                                                        │           │           │           │           │\n",
            "(0, 0): ─────Ry(θ_0)───Rz(θ_5)───@───@───@────@────────────────────Ry(θ_10)───Rz(θ_15)───@──────────@───@────@────────────────────Ry(θ_20)───Rz(θ_25)───XX^(θ_30)───┼───────────┼───────────┼───────────┼───────────\n",
            "                                 │   │   │    │                                          │          │   │    │                                                      │           │           │           │\n",
            "(0, 1): ─────Ry(θ_1)───Rz(θ_6)───X───┼───┼────┼@────@────@─────────Ry(θ_11)───Rz(θ_16)───X──────────┼───┼────┼@────@────@─────────Ry(θ_21)───Rz(θ_26)───────────────XX^(θ_31)───┼───────────┼───────────┼───────────\n",
            "                                     │   │    ││    │    │                                          │   │    ││    │    │                                                       │           │           │\n",
            "(0, 2): ─────Ry(θ_2)───Rz(θ_7)───────X───┼────┼X────┼────┼@────@───Ry(θ_12)───Rz(θ_17)──────────────X───┼────┼X────┼────┼@────@───Ry(θ_22)───Rz(θ_27)───────────────────────────XX^(θ_32)───┼───────────┼───────────\n",
            "                                         │    │     │    ││    │                                        │    │     │    ││    │                                                             │           │\n",
            "(0, 3): ─────Ry(θ_3)───Rz(θ_8)───────────X────┼─────X────┼X────┼───@──────────Ry(θ_13)───Rz(θ_18)───────X────┼─────X────┼X────┼───@──────────Ry(θ_23)───Rz(θ_28)────────────────────────────XX^(θ_33)───┼───────────\n",
            "                                              │          │     │   │                                         │          │     │   │                                                                     │\n",
            "(0, 4): ─────Ry(θ_4)───Rz(θ_9)────────────────X──────────X─────X───X──────────Ry(θ_14)───Rz(θ_19)────────────X──────────X─────X───X──────────Ry(θ_24)───Rz(θ_29)────────────────────────────────────────XX^(θ_34)───\n",
            "                                             └──┘       └──┘                                                └──┘       └──┘\n",
            "2023-02-24 15:43:57,628 [MainThread  ][INFO ]  ######## Training Begins ########\n",
            "2023-02-24 15:43:57,632 [MainThread  ][INFO ]  Number of samples for Training: 1000\n",
            "2023-02-24 15:43:57,635 [MainThread  ][INFO ]  Number of Epochs: 10\n",
            "2023-02-24 15:43:57,639 [MainThread  ][INFO ]  Batch Size: 64\n",
            "2023-02-24 15:44:00,570 [MainThread  ][DEBUG]  ######## Epoch 0 ########\n",
            "2023-02-24 15:44:00,572 [MainThread  ][DEBUG]  loss: 0.1709294617176056\n",
            "2023-02-24 15:44:00,575 [MainThread  ][DEBUG]  binary_accuracy: 0.746999979019165\n",
            "2023-02-24 15:44:00,577 [MainThread  ][DEBUG]  q_auc_1: 0.8552154302597046\n",
            "2023-02-24 15:44:00,580 [MainThread  ][DEBUG]  val_loss: 0.17049528658390045\n",
            "2023-02-24 15:44:00,581 [MainThread  ][DEBUG]  val_binary_accuracy: 0.7599999904632568\n",
            "2023-02-24 15:44:00,584 [MainThread  ][DEBUG]  val_q_auc_1: 0.8492583632469177\n",
            "2023-02-24 15:44:02,742 [MainThread  ][DEBUG]  ######## Epoch 1 ########\n",
            "2023-02-24 15:44:02,744 [MainThread  ][DEBUG]  loss: 0.1687323898077011\n",
            "2023-02-24 15:44:02,749 [MainThread  ][DEBUG]  binary_accuracy: 0.7590000033378601\n",
            "2023-02-24 15:44:02,752 [MainThread  ][DEBUG]  q_auc_1: 0.8590594530105591\n",
            "2023-02-24 15:44:02,754 [MainThread  ][DEBUG]  val_loss: 0.17018374800682068\n",
            "2023-02-24 15:44:02,757 [MainThread  ][DEBUG]  val_binary_accuracy: 0.7509999871253967\n",
            "2023-02-24 15:44:02,761 [MainThread  ][DEBUG]  val_q_auc_1: 0.8486903309822083\n",
            "2023-02-24 15:44:04,909 [MainThread  ][DEBUG]  ######## Epoch 2 ########\n",
            "2023-02-24 15:44:04,911 [MainThread  ][DEBUG]  loss: 0.16797375679016113\n",
            "2023-02-24 15:44:04,917 [MainThread  ][DEBUG]  binary_accuracy: 0.7570000290870667\n",
            "2023-02-24 15:44:04,918 [MainThread  ][DEBUG]  q_auc_1: 0.860073447227478\n",
            "2023-02-24 15:44:04,921 [MainThread  ][DEBUG]  val_loss: 0.1692906618118286\n",
            "2023-02-24 15:44:04,922 [MainThread  ][DEBUG]  val_binary_accuracy: 0.7549999952316284\n",
            "2023-02-24 15:44:04,926 [MainThread  ][DEBUG]  val_q_auc_1: 0.84846431016922\n",
            "2023-02-24 15:44:07,103 [MainThread  ][DEBUG]  ######## Epoch 3 ########\n",
            "2023-02-24 15:44:07,105 [MainThread  ][DEBUG]  loss: 0.16878974437713623\n",
            "2023-02-24 15:44:07,110 [MainThread  ][DEBUG]  binary_accuracy: 0.7570000290870667\n",
            "2023-02-24 15:44:07,112 [MainThread  ][DEBUG]  q_auc_1: 0.8429853916168213\n",
            "2023-02-24 15:44:07,115 [MainThread  ][DEBUG]  val_loss: 0.1725056767463684\n",
            "2023-02-24 15:44:07,118 [MainThread  ][DEBUG]  val_binary_accuracy: 0.7680000066757202\n",
            "2023-02-24 15:44:07,121 [MainThread  ][DEBUG]  val_q_auc_1: 0.8472902774810791\n",
            "2023-02-24 15:44:10,764 [MainThread  ][DEBUG]  ######## Epoch 4 ########\n",
            "2023-02-24 15:44:10,783 [MainThread  ][DEBUG]  loss: 0.16702167689800262\n",
            "2023-02-24 15:44:10,787 [MainThread  ][DEBUG]  binary_accuracy: 0.7609999775886536\n",
            "2023-02-24 15:44:10,796 [MainThread  ][DEBUG]  q_auc_1: 0.8519093990325928\n",
            "2023-02-24 15:44:10,805 [MainThread  ][DEBUG]  val_loss: 0.1705722063779831\n",
            "2023-02-24 15:44:10,806 [MainThread  ][DEBUG]  val_binary_accuracy: 0.7540000081062317\n",
            "2023-02-24 15:44:10,811 [MainThread  ][DEBUG]  val_q_auc_1: 0.8488883376121521\n",
            "2023-02-24 15:44:10,830 [MainThread  ][INFO ]  ######## Training Ends ########\n",
            "2023-02-24 15:44:10,845 [MainThread  ][INFO ]  Model weights: \n",
            "[ 3.672414    3.381905    0.2953684   1.4807465   5.275809    6.1557493\n",
            "  2.0306993   6.164961    1.5752516  -0.20108697  4.952955    0.05443803\n",
            "  2.5480974   3.2798269   0.6580332   2.570104    0.6585996   1.6024274\n",
            "  0.45259508  1.4754394   4.9819193   4.9149346  -0.21754701  5.977769\n",
            "  4.270921    0.26600707  3.0012302  -0.03117078  0.9643001   5.4413385\n",
            "  4.8850346   2.0866737   2.298294    4.59115     5.5142074 ]\n",
            "2023-02-24 15:44:19,279 [MainThread  ][INFO ]  ######## Test Begins ########\n",
            "2023-02-24 15:44:19,285 [MainThread  ][INFO ]  Number of samples for Testing: 1000\n",
            "2023-02-24 15:44:19,289 [MainThread  ][INFO ]  Number of Epochs: 10\n",
            "2023-02-24 15:44:19,293 [MainThread  ][INFO ]  Batch Size: 64\n",
            "2023-02-24 15:44:20,196 [MainThread  ][INFO ]  ######## Test Ends ########\n",
            "2023-02-24 15:44:21,006 [MainThread  ][DEBUG]  ######## ROC curve information ########\n",
            "2023-02-24 15:44:21,016 [MainThread  ][DEBUG]  fpr:\n",
            "[0.         0.         0.         0.00192678 0.00192678 0.00385356\n",
            " 0.00385356 0.00578035 0.00578035 0.00770713 0.00770713 0.00963391\n",
            " 0.00963391 0.01156069 0.01156069 0.01348748 0.01348748 0.01541426\n",
            " 0.01541426 0.01734104 0.01734104 0.02119461 0.02119461 0.02312139\n",
            " 0.02312139 0.02504817 0.02504817 0.02890173 0.02890173 0.03082852\n",
            " 0.03082852 0.0327553  0.0327553  0.03660886 0.03660886 0.03853565\n",
            " 0.03853565 0.04046243 0.04046243 0.04238921 0.04238921 0.04238921\n",
            " 0.04238921 0.04238921 0.04431599 0.04431599 0.04624277 0.04624277\n",
            " 0.04816956 0.04816956 0.05202312 0.05202312 0.0539499  0.0539499\n",
            " 0.05587669 0.05587669 0.05780347 0.05780347 0.05973025 0.05973025\n",
            " 0.06358382 0.06358382 0.0655106  0.0655106  0.06743738 0.06743738\n",
            " 0.07129094 0.07129094 0.07707129 0.07707129 0.07899807 0.07899807\n",
            " 0.08092486 0.08092486 0.08285164 0.08285164 0.08477842 0.08477842\n",
            " 0.0867052  0.0867052  0.08863198 0.08863198 0.09055877 0.09055877\n",
            " 0.09248555 0.09248555 0.09441233 0.09441233 0.09633911 0.09633911\n",
            " 0.0982659  0.0982659  0.10211946 0.10211946 0.10404624 0.10404624\n",
            " 0.10789981 0.10789981 0.10982659 0.10982659 0.11175337 0.11175337\n",
            " 0.11560694 0.11560694 0.11753372 0.11753372 0.12138728 0.12138728\n",
            " 0.12331407 0.12331407 0.12524085 0.12524085 0.12716763 0.12716763\n",
            " 0.12909441 0.12909441 0.13294798 0.13294798 0.13487476 0.13487476\n",
            " 0.14065511 0.14065511 0.14450867 0.14450867 0.14643545 0.14643545\n",
            " 0.1522158  0.1522158  0.15414258 0.15414258 0.16377649 0.16377649\n",
            " 0.16763006 0.16763006 0.16955684 0.16955684 0.1734104  0.1734104\n",
            " 0.17919075 0.17919075 0.18304432 0.18304432 0.18689788 0.18689788\n",
            " 0.19075145 0.19075145 0.19460501 0.19460501 0.19653179 0.19653179\n",
            " 0.20423892 0.20423892 0.2061657  0.2061657  0.20809249 0.20809249\n",
            " 0.21387283 0.21387283 0.21579961 0.21579961 0.21965318 0.21965318\n",
            " 0.22543353 0.22543353 0.22736031 0.22736031 0.22928709 0.22928709\n",
            " 0.23314066 0.23314066 0.238921   0.238921   0.24084778 0.24084778\n",
            " 0.24662813 0.24662813 0.24855491 0.24855491 0.25240848 0.25240848\n",
            " 0.25433526 0.25433526 0.25818882 0.25818882 0.2716763  0.2716763\n",
            " 0.28323699 0.28323699 0.28516378 0.28516378 0.29287091 0.29287091\n",
            " 0.29672447 0.29672447 0.31406551 0.31406551 0.31984586 0.31984586\n",
            " 0.32369942 0.32369942 0.3256262  0.3256262  0.33333333 0.33333333\n",
            " 0.33911368 0.33911368 0.34104046 0.34104046 0.34489403 0.34489403\n",
            " 0.34874759 0.34874759 0.35067437 0.35067437 0.35260116 0.35260116\n",
            " 0.36030829 0.36030829 0.37764933 0.37764933 0.38535645 0.38535645\n",
            " 0.3911368  0.3911368  0.3911368  0.39499037 0.39499037 0.39691715\n",
            " 0.39691715 0.40462428 0.40462428 0.41811175 0.41811175 0.4238921\n",
            " 0.4238921  0.42581888 0.42581888 0.43545279 0.43545279 0.43737958\n",
            " 0.43737958 0.43930636 0.43930636 0.44315992 0.44315992 0.45279383\n",
            " 0.45279383 0.45472062 0.45472062 0.46820809 0.46820809 0.477842\n",
            " 0.477842   0.47976879 0.47976879 0.48554913 0.48554913 0.48747592\n",
            " 0.48747592 0.49710983 0.49710983 0.50096339 0.50096339 0.50674374\n",
            " 0.50674374 0.53179191 0.53179191 0.53371869 0.53371869 0.53949904\n",
            " 0.53949904 0.56262042 0.56262042 0.57032755 0.57032755 0.59537572\n",
            " 0.59537572 0.59922929 0.59922929 0.60500963 0.60500963 0.61464355\n",
            " 0.61464355 0.63391137 0.63391137 0.64932563 0.64932563 0.68786127\n",
            " 0.68786127 0.69171484 0.69171484 0.69364162 0.69364162 0.70520231\n",
            " 0.70520231 0.73795761 0.73795761 0.77456647 0.77456647 0.7938343\n",
            " 0.7938343  0.80924855 0.80924855 0.86319846 0.86319846 0.89980732\n",
            " 0.89980732 0.90751445 0.90751445 0.90944123 0.90944123 0.93834297\n",
            " 0.93834297 0.97109827 0.97109827 1.        ]\n",
            "2023-02-24 15:44:21,019 [MainThread  ][DEBUG]  tpr:\n",
            "[0.         0.002079   0.06860707 0.06860707 0.07276507 0.07276507\n",
            " 0.1018711  0.1018711  0.11018711 0.11018711 0.12681913 0.12681913\n",
            " 0.14760915 0.14760915 0.16008316 0.16008316 0.22453222 0.22453222\n",
            " 0.22869023 0.22869023 0.23492723 0.23492723 0.25155925 0.25155925\n",
            " 0.25363825 0.25363825 0.25779626 0.25779626 0.27442827 0.27442827\n",
            " 0.29106029 0.29106029 0.31185031 0.31185031 0.33264033 0.33264033\n",
            " 0.38253638 0.38253638 0.42619543 0.42619543 0.43035343 0.43451143\n",
            " 0.45322245 0.45738046 0.45738046 0.4989605  0.4989605  0.52598753\n",
            " 0.52598753 0.52806653 0.52806653 0.53430353 0.53430353 0.55093555\n",
            " 0.55093555 0.55717256 0.55717256 0.56133056 0.56133056 0.56964657\n",
            " 0.56964657 0.57588358 0.57588358 0.58004158 0.58004158 0.58627859\n",
            " 0.58627859 0.59043659 0.59043659 0.5987526  0.5987526  0.60914761\n",
            " 0.60914761 0.62370062 0.62370062 0.62577963 0.62577963 0.62993763\n",
            " 0.62993763 0.63617464 0.63617464 0.64656965 0.64656965 0.65280665\n",
            " 0.65280665 0.66320166 0.66320166 0.66735967 0.66735967 0.67151767\n",
            " 0.67151767 0.67359667 0.67359667 0.67567568 0.67567568 0.67775468\n",
            " 0.67775468 0.67983368 0.67983368 0.68814969 0.68814969 0.69230769\n",
            " 0.69230769 0.69438669 0.69438669 0.6985447  0.6985447  0.7006237\n",
            " 0.7006237  0.7027027  0.7027027  0.7047817  0.7047817  0.71101871\n",
            " 0.71101871 0.71517672 0.71517672 0.72349272 0.72349272 0.72557173\n",
            " 0.72557173 0.72765073 0.72765073 0.73180873 0.73180873 0.73804574\n",
            " 0.73804574 0.74012474 0.74012474 0.74220374 0.74220374 0.74636175\n",
            " 0.74636175 0.74844075 0.74844075 0.75051975 0.75051975 0.75259875\n",
            " 0.75259875 0.76091476 0.76091476 0.76299376 0.76299376 0.76507277\n",
            " 0.76507277 0.76715177 0.76715177 0.76923077 0.76923077 0.77546778\n",
            " 0.77546778 0.77962578 0.77962578 0.78170478 0.78170478 0.78586279\n",
            " 0.78586279 0.79002079 0.79002079 0.7962578  0.7962578  0.8024948\n",
            " 0.8024948  0.8045738  0.8045738  0.80873181 0.80873181 0.81081081\n",
            " 0.81081081 0.81288981 0.81288981 0.81496881 0.81496881 0.81704782\n",
            " 0.81704782 0.81912682 0.81912682 0.82120582 0.82120582 0.82328482\n",
            " 0.82328482 0.82536383 0.82536383 0.82952183 0.82952183 0.83160083\n",
            " 0.83160083 0.83783784 0.83783784 0.83991684 0.83991684 0.84199584\n",
            " 0.84199584 0.84823285 0.84823285 0.85239085 0.85239085 0.85446985\n",
            " 0.85446985 0.85862786 0.85862786 0.86070686 0.86070686 0.86278586\n",
            " 0.86278586 0.86486486 0.86486486 0.86902287 0.86902287 0.87110187\n",
            " 0.87110187 0.87525988 0.87525988 0.87941788 0.87941788 0.88565489\n",
            " 0.88565489 0.88773389 0.88773389 0.88981289 0.88981289 0.89189189\n",
            " 0.89189189 0.8960499  0.8981289  0.8981289  0.9002079  0.9002079\n",
            " 0.9022869  0.9022869  0.9043659  0.9043659  0.90644491 0.90644491\n",
            " 0.90852391 0.90852391 0.91268191 0.91268191 0.91476091 0.91476091\n",
            " 0.91683992 0.91683992 0.91891892 0.91891892 0.92099792 0.92099792\n",
            " 0.92307692 0.92307692 0.92515593 0.92515593 0.92723493 0.92723493\n",
            " 0.92931393 0.92931393 0.93139293 0.93139293 0.93347193 0.93347193\n",
            " 0.93555094 0.93555094 0.93762994 0.93762994 0.94178794 0.94178794\n",
            " 0.94594595 0.94594595 0.94802495 0.94802495 0.95010395 0.95010395\n",
            " 0.95218295 0.95218295 0.95426195 0.95426195 0.95634096 0.95634096\n",
            " 0.95841996 0.95841996 0.96049896 0.96049896 0.96257796 0.96257796\n",
            " 0.96465696 0.96465696 0.96673597 0.96673597 0.96881497 0.96881497\n",
            " 0.97089397 0.97089397 0.97297297 0.97297297 0.97505198 0.97505198\n",
            " 0.97713098 0.97713098 0.97920998 0.97920998 0.98128898 0.98128898\n",
            " 0.98544699 0.98544699 0.98752599 0.98752599 0.98960499 0.98960499\n",
            " 0.99168399 0.99168399 0.99376299 0.99376299 0.995842   0.995842\n",
            " 0.997921   0.997921   1.         1.        ]\n",
            "2023-02-24 15:44:21,023 [MainThread  ][DEBUG]  auc:\n",
            "0.866090634876762\n",
            "\n"
          ]
        }
      ]
    },
    {
      "cell_type": "code",
      "source": [
        "#print out content of the npz file\n",
        "npzfile = glob.glob('logs/*.npz')[0]\n",
        "print(dict(np.load(npzfile, allow_pickle=True)))"
      ],
      "metadata": {
        "colab": {
          "base_uri": "https://localhost:8080/"
        },
        "id": "yAIJvI7dGOXU",
        "outputId": "212c79ae-dca4-4772-f641-c2949d3e2a8d"
      },
      "execution_count": 31,
      "outputs": [
        {
          "output_type": "stream",
          "name": "stdout",
          "text": [
            "{'train_result': array([{'loss': 0.1709294617176056, 'binary_accuracy': 0.746999979019165, 'q_auc_1': 0.8552154302597046, 'val_loss': 0.17049528658390045, 'val_binary_accuracy': 0.7599999904632568, 'val_q_auc_1': 0.8492583632469177, 'epoch': 0},\n",
            "       {'loss': 0.1687323898077011, 'binary_accuracy': 0.7590000033378601, 'q_auc_1': 0.8590594530105591, 'val_loss': 0.17018374800682068, 'val_binary_accuracy': 0.7509999871253967, 'val_q_auc_1': 0.8486903309822083, 'epoch': 1},\n",
            "       {'loss': 0.16797375679016113, 'binary_accuracy': 0.7570000290870667, 'q_auc_1': 0.860073447227478, 'val_loss': 0.1692906618118286, 'val_binary_accuracy': 0.7549999952316284, 'val_q_auc_1': 0.84846431016922, 'epoch': 2},\n",
            "       {'loss': 0.16878974437713623, 'binary_accuracy': 0.7570000290870667, 'q_auc_1': 0.8429853916168213, 'val_loss': 0.1725056767463684, 'val_binary_accuracy': 0.7680000066757202, 'val_q_auc_1': 0.8472902774810791, 'epoch': 3},\n",
            "       {'loss': 0.16702167689800262, 'binary_accuracy': 0.7609999775886536, 'q_auc_1': 0.8519093990325928, 'val_loss': 0.1705722063779831, 'val_binary_accuracy': 0.7540000081062317, 'val_q_auc_1': 0.8488883376121521, 'epoch': 4}],\n",
            "      dtype=object), 'model_weights': array([ 3.672414  ,  3.381905  ,  0.2953684 ,  1.4807465 ,  5.275809  ,\n",
            "        6.1557493 ,  2.0306993 ,  6.164961  ,  1.5752516 , -0.20108697,\n",
            "        4.952955  ,  0.05443803,  2.5480974 ,  3.2798269 ,  0.6580332 ,\n",
            "        2.570104  ,  0.6585996 ,  1.6024274 ,  0.45259508,  1.4754394 ,\n",
            "        4.9819193 ,  4.9149346 , -0.21754701,  5.977769  ,  4.270921  ,\n",
            "        0.26600707,  3.0012302 , -0.03117078,  0.9643001 ,  5.4413385 ,\n",
            "        4.8850346 ,  2.0866737 ,  2.298294  ,  4.59115   ,  5.5142074 ],\n",
            "      dtype=float32), 'feature_dimension': array(5), 'encoding_circuit': array('FirstOrderPauliZEncoding', dtype='<U24'), 'encoding_map': array('self_product', dtype='<U12'), 'circuit_parameters': array(['θ_0', 'θ_1', 'θ_2', 'θ_3', 'θ_4', 'θ_5', 'θ_6', 'θ_7', 'θ_8',\n",
            "       'θ_9', 'θ_10', 'θ_11', 'θ_12', 'θ_13', 'θ_14', 'θ_15', 'θ_16',\n",
            "       'θ_17', 'θ_18', 'θ_19', 'θ_20', 'θ_21', 'θ_22', 'θ_23', 'θ_24',\n",
            "       'θ_25', 'θ_26', 'θ_27', 'θ_28', 'θ_29', 'θ_30', 'θ_31', 'θ_32',\n",
            "       'θ_33', 'θ_34'], dtype='<U4'), 'num_parameters': array(35), 'variational_circuit': array('EfficientSU2', dtype='<U12'), 'qubits': array([cirq.GridQubit(0, 0), cirq.GridQubit(0, 1), cirq.GridQubit(0, 2),\n",
            "       cirq.GridQubit(0, 3), cirq.GridQubit(0, 4)], dtype=object), 'n_qubit': array(5), 'differentiator': array('', dtype='<U1'), 'activation': array('sigmoid', dtype='<U7'), 'optimizer': array('Adam', dtype='<U4'), 'metrics': array(['binary_accuracy', 'q_auc_1'], dtype='<U15'), 'loss': array('mse', dtype='<U3'), 'train_size': array(1000), 'val_size': array(1000), 'batch_size': array(64), 'epochs': array(5), 'test_size': array(1000), 'predict_size': array(1000), 'test_result': array({'loss': 0.16291509568691254, 'binary_accuracy': 0.7699999809265137, 'q_auc_1': 0.8660485744476318},\n",
            "      dtype=object), 'roc_result': array({'fpr': array([0.        , 0.        , 0.        , 0.00192678, 0.00192678,\n",
            "       0.00385356, 0.00385356, 0.00578035, 0.00578035, 0.00770713,\n",
            "       0.00770713, 0.00963391, 0.00963391, 0.01156069, 0.01156069,\n",
            "       0.01348748, 0.01348748, 0.01541426, 0.01541426, 0.01734104,\n",
            "       0.01734104, 0.02119461, 0.02119461, 0.02312139, 0.02312139,\n",
            "       0.02504817, 0.02504817, 0.02890173, 0.02890173, 0.03082852,\n",
            "       0.03082852, 0.0327553 , 0.0327553 , 0.03660886, 0.03660886,\n",
            "       0.03853565, 0.03853565, 0.04046243, 0.04046243, 0.04238921,\n",
            "       0.04238921, 0.04238921, 0.04238921, 0.04238921, 0.04431599,\n",
            "       0.04431599, 0.04624277, 0.04624277, 0.04816956, 0.04816956,\n",
            "       0.05202312, 0.05202312, 0.0539499 , 0.0539499 , 0.05587669,\n",
            "       0.05587669, 0.05780347, 0.05780347, 0.05973025, 0.05973025,\n",
            "       0.06358382, 0.06358382, 0.0655106 , 0.0655106 , 0.06743738,\n",
            "       0.06743738, 0.07129094, 0.07129094, 0.07707129, 0.07707129,\n",
            "       0.07899807, 0.07899807, 0.08092486, 0.08092486, 0.08285164,\n",
            "       0.08285164, 0.08477842, 0.08477842, 0.0867052 , 0.0867052 ,\n",
            "       0.08863198, 0.08863198, 0.09055877, 0.09055877, 0.09248555,\n",
            "       0.09248555, 0.09441233, 0.09441233, 0.09633911, 0.09633911,\n",
            "       0.0982659 , 0.0982659 , 0.10211946, 0.10211946, 0.10404624,\n",
            "       0.10404624, 0.10789981, 0.10789981, 0.10982659, 0.10982659,\n",
            "       0.11175337, 0.11175337, 0.11560694, 0.11560694, 0.11753372,\n",
            "       0.11753372, 0.12138728, 0.12138728, 0.12331407, 0.12331407,\n",
            "       0.12524085, 0.12524085, 0.12716763, 0.12716763, 0.12909441,\n",
            "       0.12909441, 0.13294798, 0.13294798, 0.13487476, 0.13487476,\n",
            "       0.14065511, 0.14065511, 0.14450867, 0.14450867, 0.14643545,\n",
            "       0.14643545, 0.1522158 , 0.1522158 , 0.15414258, 0.15414258,\n",
            "       0.16377649, 0.16377649, 0.16763006, 0.16763006, 0.16955684,\n",
            "       0.16955684, 0.1734104 , 0.1734104 , 0.17919075, 0.17919075,\n",
            "       0.18304432, 0.18304432, 0.18689788, 0.18689788, 0.19075145,\n",
            "       0.19075145, 0.19460501, 0.19460501, 0.19653179, 0.19653179,\n",
            "       0.20423892, 0.20423892, 0.2061657 , 0.2061657 , 0.20809249,\n",
            "       0.20809249, 0.21387283, 0.21387283, 0.21579961, 0.21579961,\n",
            "       0.21965318, 0.21965318, 0.22543353, 0.22543353, 0.22736031,\n",
            "       0.22736031, 0.22928709, 0.22928709, 0.23314066, 0.23314066,\n",
            "       0.238921  , 0.238921  , 0.24084778, 0.24084778, 0.24662813,\n",
            "       0.24662813, 0.24855491, 0.24855491, 0.25240848, 0.25240848,\n",
            "       0.25433526, 0.25433526, 0.25818882, 0.25818882, 0.2716763 ,\n",
            "       0.2716763 , 0.28323699, 0.28323699, 0.28516378, 0.28516378,\n",
            "       0.29287091, 0.29287091, 0.29672447, 0.29672447, 0.31406551,\n",
            "       0.31406551, 0.31984586, 0.31984586, 0.32369942, 0.32369942,\n",
            "       0.3256262 , 0.3256262 , 0.33333333, 0.33333333, 0.33911368,\n",
            "       0.33911368, 0.34104046, 0.34104046, 0.34489403, 0.34489403,\n",
            "       0.34874759, 0.34874759, 0.35067437, 0.35067437, 0.35260116,\n",
            "       0.35260116, 0.36030829, 0.36030829, 0.37764933, 0.37764933,\n",
            "       0.38535645, 0.38535645, 0.3911368 , 0.3911368 , 0.3911368 ,\n",
            "       0.39499037, 0.39499037, 0.39691715, 0.39691715, 0.40462428,\n",
            "       0.40462428, 0.41811175, 0.41811175, 0.4238921 , 0.4238921 ,\n",
            "       0.42581888, 0.42581888, 0.43545279, 0.43545279, 0.43737958,\n",
            "       0.43737958, 0.43930636, 0.43930636, 0.44315992, 0.44315992,\n",
            "       0.45279383, 0.45279383, 0.45472062, 0.45472062, 0.46820809,\n",
            "       0.46820809, 0.477842  , 0.477842  , 0.47976879, 0.47976879,\n",
            "       0.48554913, 0.48554913, 0.48747592, 0.48747592, 0.49710983,\n",
            "       0.49710983, 0.50096339, 0.50096339, 0.50674374, 0.50674374,\n",
            "       0.53179191, 0.53179191, 0.53371869, 0.53371869, 0.53949904,\n",
            "       0.53949904, 0.56262042, 0.56262042, 0.57032755, 0.57032755,\n",
            "       0.59537572, 0.59537572, 0.59922929, 0.59922929, 0.60500963,\n",
            "       0.60500963, 0.61464355, 0.61464355, 0.63391137, 0.63391137,\n",
            "       0.64932563, 0.64932563, 0.68786127, 0.68786127, 0.69171484,\n",
            "       0.69171484, 0.69364162, 0.69364162, 0.70520231, 0.70520231,\n",
            "       0.73795761, 0.73795761, 0.77456647, 0.77456647, 0.7938343 ,\n",
            "       0.7938343 , 0.80924855, 0.80924855, 0.86319846, 0.86319846,\n",
            "       0.89980732, 0.89980732, 0.90751445, 0.90751445, 0.90944123,\n",
            "       0.90944123, 0.93834297, 0.93834297, 0.97109827, 0.97109827,\n",
            "       1.        ]), 'tpr': array([0.        , 0.002079  , 0.06860707, 0.06860707, 0.07276507,\n",
            "       0.07276507, 0.1018711 , 0.1018711 , 0.11018711, 0.11018711,\n",
            "       0.12681913, 0.12681913, 0.14760915, 0.14760915, 0.16008316,\n",
            "       0.16008316, 0.22453222, 0.22453222, 0.22869023, 0.22869023,\n",
            "       0.23492723, 0.23492723, 0.25155925, 0.25155925, 0.25363825,\n",
            "       0.25363825, 0.25779626, 0.25779626, 0.27442827, 0.27442827,\n",
            "       0.29106029, 0.29106029, 0.31185031, 0.31185031, 0.33264033,\n",
            "       0.33264033, 0.38253638, 0.38253638, 0.42619543, 0.42619543,\n",
            "       0.43035343, 0.43451143, 0.45322245, 0.45738046, 0.45738046,\n",
            "       0.4989605 , 0.4989605 , 0.52598753, 0.52598753, 0.52806653,\n",
            "       0.52806653, 0.53430353, 0.53430353, 0.55093555, 0.55093555,\n",
            "       0.55717256, 0.55717256, 0.56133056, 0.56133056, 0.56964657,\n",
            "       0.56964657, 0.57588358, 0.57588358, 0.58004158, 0.58004158,\n",
            "       0.58627859, 0.58627859, 0.59043659, 0.59043659, 0.5987526 ,\n",
            "       0.5987526 , 0.60914761, 0.60914761, 0.62370062, 0.62370062,\n",
            "       0.62577963, 0.62577963, 0.62993763, 0.62993763, 0.63617464,\n",
            "       0.63617464, 0.64656965, 0.64656965, 0.65280665, 0.65280665,\n",
            "       0.66320166, 0.66320166, 0.66735967, 0.66735967, 0.67151767,\n",
            "       0.67151767, 0.67359667, 0.67359667, 0.67567568, 0.67567568,\n",
            "       0.67775468, 0.67775468, 0.67983368, 0.67983368, 0.68814969,\n",
            "       0.68814969, 0.69230769, 0.69230769, 0.69438669, 0.69438669,\n",
            "       0.6985447 , 0.6985447 , 0.7006237 , 0.7006237 , 0.7027027 ,\n",
            "       0.7027027 , 0.7047817 , 0.7047817 , 0.71101871, 0.71101871,\n",
            "       0.71517672, 0.71517672, 0.72349272, 0.72349272, 0.72557173,\n",
            "       0.72557173, 0.72765073, 0.72765073, 0.73180873, 0.73180873,\n",
            "       0.73804574, 0.73804574, 0.74012474, 0.74012474, 0.74220374,\n",
            "       0.74220374, 0.74636175, 0.74636175, 0.74844075, 0.74844075,\n",
            "       0.75051975, 0.75051975, 0.75259875, 0.75259875, 0.76091476,\n",
            "       0.76091476, 0.76299376, 0.76299376, 0.76507277, 0.76507277,\n",
            "       0.76715177, 0.76715177, 0.76923077, 0.76923077, 0.77546778,\n",
            "       0.77546778, 0.77962578, 0.77962578, 0.78170478, 0.78170478,\n",
            "       0.78586279, 0.78586279, 0.79002079, 0.79002079, 0.7962578 ,\n",
            "       0.7962578 , 0.8024948 , 0.8024948 , 0.8045738 , 0.8045738 ,\n",
            "       0.80873181, 0.80873181, 0.81081081, 0.81081081, 0.81288981,\n",
            "       0.81288981, 0.81496881, 0.81496881, 0.81704782, 0.81704782,\n",
            "       0.81912682, 0.81912682, 0.82120582, 0.82120582, 0.82328482,\n",
            "       0.82328482, 0.82536383, 0.82536383, 0.82952183, 0.82952183,\n",
            "       0.83160083, 0.83160083, 0.83783784, 0.83783784, 0.83991684,\n",
            "       0.83991684, 0.84199584, 0.84199584, 0.84823285, 0.84823285,\n",
            "       0.85239085, 0.85239085, 0.85446985, 0.85446985, 0.85862786,\n",
            "       0.85862786, 0.86070686, 0.86070686, 0.86278586, 0.86278586,\n",
            "       0.86486486, 0.86486486, 0.86902287, 0.86902287, 0.87110187,\n",
            "       0.87110187, 0.87525988, 0.87525988, 0.87941788, 0.87941788,\n",
            "       0.88565489, 0.88565489, 0.88773389, 0.88773389, 0.88981289,\n",
            "       0.88981289, 0.89189189, 0.89189189, 0.8960499 , 0.8981289 ,\n",
            "       0.8981289 , 0.9002079 , 0.9002079 , 0.9022869 , 0.9022869 ,\n",
            "       0.9043659 , 0.9043659 , 0.90644491, 0.90644491, 0.90852391,\n",
            "       0.90852391, 0.91268191, 0.91268191, 0.91476091, 0.91476091,\n",
            "       0.91683992, 0.91683992, 0.91891892, 0.91891892, 0.92099792,\n",
            "       0.92099792, 0.92307692, 0.92307692, 0.92515593, 0.92515593,\n",
            "       0.92723493, 0.92723493, 0.92931393, 0.92931393, 0.93139293,\n",
            "       0.93139293, 0.93347193, 0.93347193, 0.93555094, 0.93555094,\n",
            "       0.93762994, 0.93762994, 0.94178794, 0.94178794, 0.94594595,\n",
            "       0.94594595, 0.94802495, 0.94802495, 0.95010395, 0.95010395,\n",
            "       0.95218295, 0.95218295, 0.95426195, 0.95426195, 0.95634096,\n",
            "       0.95634096, 0.95841996, 0.95841996, 0.96049896, 0.96049896,\n",
            "       0.96257796, 0.96257796, 0.96465696, 0.96465696, 0.96673597,\n",
            "       0.96673597, 0.96881497, 0.96881497, 0.97089397, 0.97089397,\n",
            "       0.97297297, 0.97297297, 0.97505198, 0.97505198, 0.97713098,\n",
            "       0.97713098, 0.97920998, 0.97920998, 0.98128898, 0.98128898,\n",
            "       0.98544699, 0.98544699, 0.98752599, 0.98752599, 0.98960499,\n",
            "       0.98960499, 0.99168399, 0.99168399, 0.99376299, 0.99376299,\n",
            "       0.995842  , 0.995842  , 0.997921  , 0.997921  , 1.        ,\n",
            "       1.        ]), 'auc': 0.866090634876762}, dtype=object)}\n"
          ]
        }
      ]
    },
    {
      "cell_type": "code",
      "source": [
        "#display the roc curve\n",
        "from IPython.display import Image\n",
        "roc_image = glob.glob('logs/*.png')[0]\n",
        "Image(filename=roc_image) "
      ],
      "metadata": {
        "colab": {
          "base_uri": "https://localhost:8080/",
          "height": 305
        },
        "id": "l4WuWsp_GSHD",
        "outputId": "d49d60b5-6d12-4a0e-950b-5f159c0f607f"
      },
      "execution_count": 32,
      "outputs": [
        {
          "output_type": "execute_result",
          "data": {
            "image/png": "[encoded data removed]",
            "text/plain": [
              "<IPython.core.display.Image object>"
            ]
          },
          "metadata": {},
          "execution_count": 32
        }
      ]
    },
    {
      "cell_type": "code",
      "source": [
        "# Now try customizing the loggers\n",
        "# Let's say we want to save the log files in the directory my_logs\n",
        "log_dir = 'my_logs'\n",
        "# Let's say we want the file name format to be simply\n",
        "filename = '{encoding_circuit}_{variational_circuit}_{n_qubit}_{time}'\n",
        "# do not save npz file\n",
        "save_npz = False\n",
        "# do not save the model\n",
        "save_weights = False\n",
        "# do not save roc plot\n",
        "roc_plot = False\n",
        "# do not print logs unless fatal error messages\n",
        "import logging\n",
        "stream_level = logging.CRITICAL\n",
        "# only save logs of level INFO or higher\n",
        "file_level = logging.INFO\n",
        "# only save the auc infos for the training results\n",
        "keys = ['AUC', 'val_AUC', 'epoch']\n",
        "logger = VQCLogger(log_dir=log_dir,filename=filename, keys=keys, stream_level=stream_level, file_level=file_level, save_npz=save_npz, save_weights=save_weights)"
      ],
      "metadata": {
        "id": "Lunh4Y2aGVY0"
      },
      "execution_count": 34,
      "outputs": []
    },
    {
      "cell_type": "code",
      "source": [
        "# Let's train again\n",
        "vqc = VQC(encoding_circuit, variational_circuit, \n",
        "          optimizer=tf.keras.optimizers.Adam(), metrics=['binary_accuracy','qAUC'], loss='mse',\n",
        "          readout=[variational_circuit.readout_measurement()], trainable_dense_layer=False)\n",
        "vqc.run(x_train, y_train, x_val, y_val, x_test, y_test, batch_size=64, epochs=100, callbacks=[logger])"
      ],
      "metadata": {
        "colab": {
          "base_uri": "https://localhost:8080/",
          "height": 1000
        },
        "id": "TkPOok5sGh2z",
        "outputId": "dbfebb26-b1c5-4002-8f9a-23e7c7d7ae1a"
      },
      "execution_count": 35,
      "outputs": [
        {
          "output_type": "stream",
          "name": "stderr",
          "text": [
            "Registered encoding circuit with feature dimension: 5\n",
            "INFO:quple.classifiers.vqc:Registered encoding circuit with feature dimension: 5\n",
            "Registered variational circuit with number of parameters: 35\n",
            "INFO:quple.classifiers.vqc:Registered variational circuit with number of parameters: 35\n",
            "Converting circuits to tensors...\n",
            "INFO:quple.classifiers.vqc:Converting circuits to tensors...\n",
            "Converting circuits to tensors...\n",
            "INFO:quple.classifiers.vqc:Converting circuits to tensors...\n",
            "INFO:quple.classifiers.vqc_logger:######## Executing VQC with the following attributes ########\n",
            "INFO:quple.classifiers.vqc_logger:Feature Dimension: 5\n",
            "INFO:quple.classifiers.vqc_logger:Number of Qubits: 5\n",
            "INFO:quple.classifiers.vqc_logger:Qubit Layout: [cirq.GridQubit(0, 0), cirq.GridQubit(0, 1), cirq.GridQubit(0, 2), cirq.GridQubit(0, 3), cirq.GridQubit(0, 4)]\n",
            "INFO:quple.classifiers.vqc_logger:Encoding Circuit: FirstOrderPauliZEncoding\n",
            "INFO:quple.classifiers.vqc_logger:Encoding Map: self_product\n",
            "INFO:quple.classifiers.vqc_logger:Variational Circuit: EfficientSU2\n",
            "INFO:quple.classifiers.vqc_logger:Circuit Parameters: ['θ_0', 'θ_1', 'θ_2', 'θ_3', 'θ_4', 'θ_5', 'θ_6', 'θ_7', 'θ_8', 'θ_9', 'θ_10', 'θ_11', 'θ_12', 'θ_13', 'θ_14', 'θ_15', 'θ_16', 'θ_17', 'θ_18', 'θ_19', 'θ_20', 'θ_21', 'θ_22', 'θ_23', 'θ_24', 'θ_25', 'θ_26', 'θ_27', 'θ_28', 'θ_29', 'θ_30', 'θ_31', 'θ_32', 'θ_33', 'θ_34']\n",
            "INFO:quple.classifiers.vqc_logger:Number of Parameters: 35\n",
            "INFO:quple.classifiers.vqc_logger:Optimizer: Adam\n",
            "INFO:quple.classifiers.vqc_logger:Metrics: ['binary_accuracy', 'q_auc_6']\n",
            "INFO:quple.classifiers.vqc_logger:Loss Function: mse\n",
            "INFO:quple.classifiers.vqc_logger:Activation Function: sigmoid\n",
            "INFO:quple.classifiers.vqc_logger:Training Size: 1000\n",
            "INFO:quple.classifiers.vqc_logger:Validation Size: 1000\n",
            "INFO:quple.classifiers.vqc_logger:Test Size: 1000\n",
            "INFO:quple.classifiers.vqc_logger:Batch Size: 64\n",
            "INFO:quple.classifiers.vqc_logger:Number of Epochs: 100\n",
            "DEBUG:quple.classifiers.vqc_logger:Circuit Diagram for Encoding Circuit:\n",
            "(0, 0): ───H───Rz(pi*x_0)───H───Rz(pi*x_0)───\n",
            "\n",
            "(0, 1): ───H───Rz(pi*x_1)───H───Rz(pi*x_1)───\n",
            "\n",
            "(0, 2): ───H───Rz(pi*x_2)───H───Rz(pi*x_2)───\n",
            "\n",
            "(0, 3): ───H───Rz(pi*x_3)───H───Rz(pi*x_3)───\n",
            "\n",
            "(0, 4): ───H───Rz(pi*x_4)───H───Rz(pi*x_4)───\n",
            "DEBUG:quple.classifiers.vqc_logger:Circuit Diagram for Variational Circuit:\n",
            "                                             ┌──┐       ┌──┐                                                ┌──┐       ┌──┐\n",
            "(-1, -1): ──────────────────────────────────────────────────────────────────────────────────────────────────────────────────────────────────────────────XX──────────XX──────────XX──────────XX──────────XX──────────\n",
            "                                                                                                                                                        │           │           │           │           │\n",
            "(0, 0): ─────Ry(θ_0)───Rz(θ_5)───@───@───@────@────────────────────Ry(θ_10)───Rz(θ_15)───@──────────@───@────@────────────────────Ry(θ_20)───Rz(θ_25)───XX^(θ_30)───┼───────────┼───────────┼───────────┼───────────\n",
            "                                 │   │   │    │                                          │          │   │    │                                                      │           │           │           │\n",
            "(0, 1): ─────Ry(θ_1)───Rz(θ_6)───X───┼───┼────┼@────@────@─────────Ry(θ_11)───Rz(θ_16)───X──────────┼───┼────┼@────@────@─────────Ry(θ_21)───Rz(θ_26)───────────────XX^(θ_31)───┼───────────┼───────────┼───────────\n",
            "                                     │   │    ││    │    │                                          │   │    ││    │    │                                                       │           │           │\n",
            "(0, 2): ─────Ry(θ_2)───Rz(θ_7)───────X───┼────┼X────┼────┼@────@───Ry(θ_12)───Rz(θ_17)──────────────X───┼────┼X────┼────┼@────@───Ry(θ_22)───Rz(θ_27)───────────────────────────XX^(θ_32)───┼───────────┼───────────\n",
            "                                         │    │     │    ││    │                                        │    │     │    ││    │                                                             │           │\n",
            "(0, 3): ─────Ry(θ_3)───Rz(θ_8)───────────X────┼─────X────┼X────┼───@──────────Ry(θ_13)───Rz(θ_18)───────X────┼─────X────┼X────┼───@──────────Ry(θ_23)───Rz(θ_28)────────────────────────────XX^(θ_33)───┼───────────\n",
            "                                              │          │     │   │                                         │          │     │   │                                                                     │\n",
            "(0, 4): ─────Ry(θ_4)───Rz(θ_9)────────────────X──────────X─────X───X──────────Ry(θ_14)───Rz(θ_19)────────────X──────────X─────X───X──────────Ry(θ_24)───Rz(θ_29)────────────────────────────────────────XX^(θ_34)───\n",
            "                                             └──┘       └──┘                                                └──┘       └──┘\n",
            "INFO:quple.classifiers.vqc_logger:######## Training Begins ########\n",
            "INFO:quple.classifiers.vqc_logger:Number of samples for Training: 1000\n",
            "INFO:quple.classifiers.vqc_logger:Number of Epochs: 100\n",
            "INFO:quple.classifiers.vqc_logger:Batch Size: 64\n"
          ]
        },
        {
          "output_type": "stream",
          "name": "stdout",
          "text": [
            "Epoch 1/100\n",
            "16/16 [==============================] - ETA: 0s - loss: 0.4324 - binary_accuracy: 0.4990 - q_auc_6: 0.6038"
          ]
        },
        {
          "output_type": "stream",
          "name": "stderr",
          "text": [
            "DEBUG:quple.classifiers.vqc_logger:######## Epoch 0 ########\n",
            "DEBUG:quple.classifiers.vqc_logger:loss: 0.4323669970035553\n",
            "DEBUG:quple.classifiers.vqc_logger:binary_accuracy: 0.49900001287460327\n",
            "DEBUG:quple.classifiers.vqc_logger:q_auc_6: 0.6037904024124146\n",
            "DEBUG:quple.classifiers.vqc_logger:val_loss: 0.4201298952102661\n",
            "DEBUG:quple.classifiers.vqc_logger:val_binary_accuracy: 0.4959999918937683\n",
            "DEBUG:quple.classifiers.vqc_logger:val_q_auc_6: 0.6172654628753662\n"
          ]
        },
        {
          "output_type": "stream",
          "name": "stdout",
          "text": [
            "16/16 [==============================] - 3s 205ms/step - loss: 0.4324 - binary_accuracy: 0.4990 - q_auc_6: 0.6038 - val_loss: 0.4201 - val_binary_accuracy: 0.4960 - val_q_auc_6: 0.6173\n",
            "Epoch 2/100\n",
            "16/16 [==============================] - ETA: 0s - loss: 0.4046 - binary_accuracy: 0.4990 - q_auc_6: 0.6102"
          ]
        },
        {
          "output_type": "stream",
          "name": "stderr",
          "text": [
            "DEBUG:quple.classifiers.vqc_logger:######## Epoch 1 ########\n",
            "DEBUG:quple.classifiers.vqc_logger:loss: 0.4046384394168854\n",
            "DEBUG:quple.classifiers.vqc_logger:binary_accuracy: 0.49900001287460327\n",
            "DEBUG:quple.classifiers.vqc_logger:q_auc_6: 0.6101844310760498\n",
            "DEBUG:quple.classifiers.vqc_logger:val_loss: 0.39415228366851807\n",
            "DEBUG:quple.classifiers.vqc_logger:val_binary_accuracy: 0.4959999918937683\n",
            "DEBUG:quple.classifiers.vqc_logger:val_q_auc_6: 0.6222118139266968\n"
          ]
        },
        {
          "output_type": "stream",
          "name": "stdout",
          "text": [
            "16/16 [==============================] - 2s 130ms/step - loss: 0.4046 - binary_accuracy: 0.4990 - q_auc_6: 0.6102 - val_loss: 0.3942 - val_binary_accuracy: 0.4960 - val_q_auc_6: 0.6222\n",
            "Epoch 3/100\n",
            "16/16 [==============================] - ETA: 0s - loss: 0.3827 - binary_accuracy: 0.4990 - q_auc_6: 0.6114"
          ]
        },
        {
          "output_type": "stream",
          "name": "stderr",
          "text": [
            "DEBUG:quple.classifiers.vqc_logger:######## Epoch 2 ########\n",
            "DEBUG:quple.classifiers.vqc_logger:loss: 0.382736474275589\n",
            "DEBUG:quple.classifiers.vqc_logger:binary_accuracy: 0.49900001287460327\n",
            "DEBUG:quple.classifiers.vqc_logger:q_auc_6: 0.6114444732666016\n",
            "DEBUG:quple.classifiers.vqc_logger:val_loss: 0.3722499907016754\n",
            "DEBUG:quple.classifiers.vqc_logger:val_binary_accuracy: 0.4959999918937683\n",
            "DEBUG:quple.classifiers.vqc_logger:val_q_auc_6: 0.6321225166320801\n"
          ]
        },
        {
          "output_type": "stream",
          "name": "stdout",
          "text": [
            "16/16 [==============================] - 2s 131ms/step - loss: 0.3827 - binary_accuracy: 0.4990 - q_auc_6: 0.6114 - val_loss: 0.3722 - val_binary_accuracy: 0.4960 - val_q_auc_6: 0.6321\n",
            "Epoch 4/100\n",
            "16/16 [==============================] - ETA: 0s - loss: 0.3638 - binary_accuracy: 0.4990 - q_auc_6: 0.6223"
          ]
        },
        {
          "output_type": "stream",
          "name": "stderr",
          "text": [
            "DEBUG:quple.classifiers.vqc_logger:######## Epoch 3 ########\n",
            "DEBUG:quple.classifiers.vqc_logger:loss: 0.36382126808166504\n",
            "DEBUG:quple.classifiers.vqc_logger:binary_accuracy: 0.49900001287460327\n",
            "DEBUG:quple.classifiers.vqc_logger:q_auc_6: 0.6222724914550781\n",
            "DEBUG:quple.classifiers.vqc_logger:val_loss: 0.3534170091152191\n",
            "DEBUG:quple.classifiers.vqc_logger:val_binary_accuracy: 0.4959999918937683\n",
            "DEBUG:quple.classifiers.vqc_logger:val_q_auc_6: 0.6430791616439819\n"
          ]
        },
        {
          "output_type": "stream",
          "name": "stdout",
          "text": [
            "16/16 [==============================] - 2s 129ms/step - loss: 0.3638 - binary_accuracy: 0.4990 - q_auc_6: 0.6223 - val_loss: 0.3534 - val_binary_accuracy: 0.4960 - val_q_auc_6: 0.6431\n",
            "Epoch 5/100\n",
            "16/16 [==============================] - ETA: 0s - loss: 0.3476 - binary_accuracy: 0.4990 - q_auc_6: 0.6241"
          ]
        },
        {
          "output_type": "stream",
          "name": "stderr",
          "text": [
            "DEBUG:quple.classifiers.vqc_logger:######## Epoch 4 ########\n",
            "DEBUG:quple.classifiers.vqc_logger:loss: 0.3476351797580719\n",
            "DEBUG:quple.classifiers.vqc_logger:binary_accuracy: 0.49900001287460327\n",
            "DEBUG:quple.classifiers.vqc_logger:q_auc_6: 0.624050498008728\n",
            "DEBUG:quple.classifiers.vqc_logger:val_loss: 0.33556443452835083\n",
            "DEBUG:quple.classifiers.vqc_logger:val_binary_accuracy: 0.4959999918937683\n",
            "DEBUG:quple.classifiers.vqc_logger:val_q_auc_6: 0.6535158157348633\n"
          ]
        },
        {
          "output_type": "stream",
          "name": "stdout",
          "text": [
            "16/16 [==============================] - 2s 130ms/step - loss: 0.3476 - binary_accuracy: 0.4990 - q_auc_6: 0.6241 - val_loss: 0.3356 - val_binary_accuracy: 0.4960 - val_q_auc_6: 0.6535\n",
            "Epoch 6/100\n",
            "16/16 [==============================] - ETA: 0s - loss: 0.3319 - binary_accuracy: 0.4990 - q_auc_6: 0.6312"
          ]
        },
        {
          "output_type": "stream",
          "name": "stderr",
          "text": [
            "DEBUG:quple.classifiers.vqc_logger:######## Epoch 5 ########\n",
            "DEBUG:quple.classifiers.vqc_logger:loss: 0.33194079995155334\n",
            "DEBUG:quple.classifiers.vqc_logger:binary_accuracy: 0.49900001287460327\n",
            "DEBUG:quple.classifiers.vqc_logger:q_auc_6: 0.6311885714530945\n",
            "DEBUG:quple.classifiers.vqc_logger:val_loss: 0.3185337483882904\n",
            "DEBUG:quple.classifiers.vqc_logger:val_binary_accuracy: 0.4959999918937683\n",
            "DEBUG:quple.classifiers.vqc_logger:val_q_auc_6: 0.663950502872467\n"
          ]
        },
        {
          "output_type": "stream",
          "name": "stdout",
          "text": [
            "16/16 [==============================] - 3s 218ms/step - loss: 0.3319 - binary_accuracy: 0.4990 - q_auc_6: 0.6312 - val_loss: 0.3185 - val_binary_accuracy: 0.4960 - val_q_auc_6: 0.6640\n",
            "Epoch 7/100\n",
            "16/16 [==============================] - ETA: 0s - loss: 0.3168 - binary_accuracy: 0.4990 - q_auc_6: 0.6325"
          ]
        },
        {
          "output_type": "stream",
          "name": "stderr",
          "text": [
            "DEBUG:quple.classifiers.vqc_logger:######## Epoch 6 ########\n",
            "DEBUG:quple.classifiers.vqc_logger:loss: 0.31676220893859863\n",
            "DEBUG:quple.classifiers.vqc_logger:binary_accuracy: 0.49900001287460327\n",
            "DEBUG:quple.classifiers.vqc_logger:q_auc_6: 0.6324825286865234\n",
            "DEBUG:quple.classifiers.vqc_logger:val_loss: 0.3019682765007019\n",
            "DEBUG:quple.classifiers.vqc_logger:val_binary_accuracy: 0.4959999918937683\n",
            "DEBUG:quple.classifiers.vqc_logger:val_q_auc_6: 0.6687188148498535\n"
          ]
        },
        {
          "output_type": "stream",
          "name": "stdout",
          "text": [
            "16/16 [==============================] - 3s 214ms/step - loss: 0.3168 - binary_accuracy: 0.4990 - q_auc_6: 0.6325 - val_loss: 0.3020 - val_binary_accuracy: 0.4960 - val_q_auc_6: 0.6687\n",
            "Epoch 8/100\n",
            "16/16 [==============================] - ETA: 0s - loss: 0.3021 - binary_accuracy: 0.4990 - q_auc_6: 0.6321"
          ]
        },
        {
          "output_type": "stream",
          "name": "stderr",
          "text": [
            "DEBUG:quple.classifiers.vqc_logger:######## Epoch 7 ########\n",
            "DEBUG:quple.classifiers.vqc_logger:loss: 0.3021261394023895\n",
            "DEBUG:quple.classifiers.vqc_logger:binary_accuracy: 0.49900001287460327\n",
            "DEBUG:quple.classifiers.vqc_logger:q_auc_6: 0.6320545077323914\n",
            "DEBUG:quple.classifiers.vqc_logger:val_loss: 0.28666168451309204\n",
            "DEBUG:quple.classifiers.vqc_logger:val_binary_accuracy: 0.4970000088214874\n",
            "DEBUG:quple.classifiers.vqc_logger:val_q_auc_6: 0.675193190574646\n"
          ]
        },
        {
          "output_type": "stream",
          "name": "stdout",
          "text": [
            "16/16 [==============================] - 2s 142ms/step - loss: 0.3021 - binary_accuracy: 0.4990 - q_auc_6: 0.6321 - val_loss: 0.2867 - val_binary_accuracy: 0.4970 - val_q_auc_6: 0.6752\n",
            "Epoch 9/100\n",
            "16/16 [==============================] - ETA: 0s - loss: 0.2888 - binary_accuracy: 0.5080 - q_auc_6: 0.6319"
          ]
        },
        {
          "output_type": "stream",
          "name": "stderr",
          "text": [
            "DEBUG:quple.classifiers.vqc_logger:######## Epoch 8 ########\n",
            "DEBUG:quple.classifiers.vqc_logger:loss: 0.28879374265670776\n",
            "DEBUG:quple.classifiers.vqc_logger:binary_accuracy: 0.5080000162124634\n",
            "DEBUG:quple.classifiers.vqc_logger:q_auc_6: 0.6318865418434143\n",
            "DEBUG:quple.classifiers.vqc_logger:val_loss: 0.2732270061969757\n",
            "DEBUG:quple.classifiers.vqc_logger:val_binary_accuracy: 0.5189999938011169\n",
            "DEBUG:quple.classifiers.vqc_logger:val_q_auc_6: 0.6820056438446045\n"
          ]
        },
        {
          "output_type": "stream",
          "name": "stdout",
          "text": [
            "16/16 [==============================] - 2s 129ms/step - loss: 0.2888 - binary_accuracy: 0.5080 - q_auc_6: 0.6319 - val_loss: 0.2732 - val_binary_accuracy: 0.5190 - val_q_auc_6: 0.6820\n",
            "Epoch 10/100\n",
            "16/16 [==============================] - ETA: 0s - loss: 0.2771 - binary_accuracy: 0.5220 - q_auc_6: 0.6326"
          ]
        },
        {
          "output_type": "stream",
          "name": "stderr",
          "text": [
            "DEBUG:quple.classifiers.vqc_logger:######## Epoch 9 ########\n",
            "DEBUG:quple.classifiers.vqc_logger:loss: 0.2771161198616028\n",
            "DEBUG:quple.classifiers.vqc_logger:binary_accuracy: 0.5220000147819519\n",
            "DEBUG:quple.classifiers.vqc_logger:q_auc_6: 0.6326005458831787\n",
            "DEBUG:quple.classifiers.vqc_logger:val_loss: 0.2617078125476837\n",
            "DEBUG:quple.classifiers.vqc_logger:val_binary_accuracy: 0.5379999876022339\n",
            "DEBUG:quple.classifiers.vqc_logger:val_q_auc_6: 0.6869159936904907\n"
          ]
        },
        {
          "output_type": "stream",
          "name": "stdout",
          "text": [
            "16/16 [==============================] - 2s 129ms/step - loss: 0.2771 - binary_accuracy: 0.5220 - q_auc_6: 0.6326 - val_loss: 0.2617 - val_binary_accuracy: 0.5380 - val_q_auc_6: 0.6869\n",
            "Epoch 11/100\n",
            "16/16 [==============================] - ETA: 0s - loss: 0.2671 - binary_accuracy: 0.5390 - q_auc_6: 0.6345"
          ]
        },
        {
          "output_type": "stream",
          "name": "stderr",
          "text": [
            "DEBUG:quple.classifiers.vqc_logger:######## Epoch 10 ########\n",
            "DEBUG:quple.classifiers.vqc_logger:loss: 0.267123818397522\n",
            "DEBUG:quple.classifiers.vqc_logger:binary_accuracy: 0.5389999747276306\n",
            "DEBUG:quple.classifiers.vqc_logger:q_auc_6: 0.6344965696334839\n",
            "DEBUG:quple.classifiers.vqc_logger:val_loss: 0.2524707019329071\n",
            "DEBUG:quple.classifiers.vqc_logger:val_binary_accuracy: 0.5640000104904175\n",
            "DEBUG:quple.classifiers.vqc_logger:val_q_auc_6: 0.6938364505767822\n"
          ]
        },
        {
          "output_type": "stream",
          "name": "stdout",
          "text": [
            "16/16 [==============================] - 2s 130ms/step - loss: 0.2671 - binary_accuracy: 0.5390 - q_auc_6: 0.6345 - val_loss: 0.2525 - val_binary_accuracy: 0.5640 - val_q_auc_6: 0.6938\n",
            "Epoch 12/100\n",
            "16/16 [==============================] - ETA: 0s - loss: 0.2587 - binary_accuracy: 0.5580 - q_auc_6: 0.6431"
          ]
        },
        {
          "output_type": "stream",
          "name": "stderr",
          "text": [
            "DEBUG:quple.classifiers.vqc_logger:######## Epoch 11 ########\n",
            "DEBUG:quple.classifiers.vqc_logger:loss: 0.258718878030777\n",
            "DEBUG:quple.classifiers.vqc_logger:binary_accuracy: 0.5580000281333923\n",
            "DEBUG:quple.classifiers.vqc_logger:q_auc_6: 0.6430705785751343\n",
            "DEBUG:quple.classifiers.vqc_logger:val_loss: 0.24529029428958893\n",
            "DEBUG:quple.classifiers.vqc_logger:val_binary_accuracy: 0.5929999947547913\n",
            "DEBUG:quple.classifiers.vqc_logger:val_q_auc_6: 0.7017969489097595\n"
          ]
        },
        {
          "output_type": "stream",
          "name": "stdout",
          "text": [
            "16/16 [==============================] - 2s 151ms/step - loss: 0.2587 - binary_accuracy: 0.5580 - q_auc_6: 0.6431 - val_loss: 0.2453 - val_binary_accuracy: 0.5930 - val_q_auc_6: 0.7018\n",
            "Epoch 13/100\n",
            "16/16 [==============================] - ETA: 0s - loss: 0.2518 - binary_accuracy: 0.5850 - q_auc_6: 0.6521"
          ]
        },
        {
          "output_type": "stream",
          "name": "stderr",
          "text": [
            "DEBUG:quple.classifiers.vqc_logger:######## Epoch 12 ########\n",
            "DEBUG:quple.classifiers.vqc_logger:loss: 0.2518172860145569\n",
            "DEBUG:quple.classifiers.vqc_logger:binary_accuracy: 0.5849999785423279\n",
            "DEBUG:quple.classifiers.vqc_logger:q_auc_6: 0.6521085500717163\n",
            "DEBUG:quple.classifiers.vqc_logger:val_loss: 0.23933374881744385\n",
            "DEBUG:quple.classifiers.vqc_logger:val_binary_accuracy: 0.6119999885559082\n",
            "DEBUG:quple.classifiers.vqc_logger:val_q_auc_6: 0.7076833248138428\n"
          ]
        },
        {
          "output_type": "stream",
          "name": "stdout",
          "text": [
            "16/16 [==============================] - 4s 226ms/step - loss: 0.2518 - binary_accuracy: 0.5850 - q_auc_6: 0.6521 - val_loss: 0.2393 - val_binary_accuracy: 0.6120 - val_q_auc_6: 0.7077\n",
            "Epoch 14/100\n",
            "16/16 [==============================] - ETA: 0s - loss: 0.2460 - binary_accuracy: 0.6070 - q_auc_6: 0.6602"
          ]
        },
        {
          "output_type": "stream",
          "name": "stderr",
          "text": [
            "DEBUG:quple.classifiers.vqc_logger:######## Epoch 13 ########\n",
            "DEBUG:quple.classifiers.vqc_logger:loss: 0.24596622586250305\n",
            "DEBUG:quple.classifiers.vqc_logger:binary_accuracy: 0.6069999933242798\n",
            "DEBUG:quple.classifiers.vqc_logger:q_auc_6: 0.6601966619491577\n",
            "DEBUG:quple.classifiers.vqc_logger:val_loss: 0.23469753563404083\n",
            "DEBUG:quple.classifiers.vqc_logger:val_binary_accuracy: 0.6340000033378601\n",
            "DEBUG:quple.classifiers.vqc_logger:val_q_auc_6: 0.7160398364067078\n"
          ]
        },
        {
          "output_type": "stream",
          "name": "stdout",
          "text": [
            "16/16 [==============================] - 3s 201ms/step - loss: 0.2460 - binary_accuracy: 0.6070 - q_auc_6: 0.6602 - val_loss: 0.2347 - val_binary_accuracy: 0.6340 - val_q_auc_6: 0.7160\n",
            "Epoch 15/100\n",
            "16/16 [==============================] - ETA: 0s - loss: 0.2410 - binary_accuracy: 0.6210 - q_auc_6: 0.6713"
          ]
        },
        {
          "output_type": "stream",
          "name": "stderr",
          "text": [
            "DEBUG:quple.classifiers.vqc_logger:######## Epoch 14 ########\n",
            "DEBUG:quple.classifiers.vqc_logger:loss: 0.24096499383449554\n",
            "DEBUG:quple.classifiers.vqc_logger:binary_accuracy: 0.6209999918937683\n",
            "DEBUG:quple.classifiers.vqc_logger:q_auc_6: 0.671338677406311\n",
            "DEBUG:quple.classifiers.vqc_logger:val_loss: 0.2307509183883667\n",
            "DEBUG:quple.classifiers.vqc_logger:val_binary_accuracy: 0.6579999923706055\n",
            "DEBUG:quple.classifiers.vqc_logger:val_q_auc_6: 0.723676323890686\n"
          ]
        },
        {
          "output_type": "stream",
          "name": "stdout",
          "text": [
            "16/16 [==============================] - 2s 130ms/step - loss: 0.2410 - binary_accuracy: 0.6210 - q_auc_6: 0.6713 - val_loss: 0.2308 - val_binary_accuracy: 0.6580 - val_q_auc_6: 0.7237\n",
            "Epoch 16/100\n",
            "16/16 [==============================] - ETA: 0s - loss: 0.2365 - binary_accuracy: 0.6320 - q_auc_6: 0.6867"
          ]
        },
        {
          "output_type": "stream",
          "name": "stderr",
          "text": [
            "DEBUG:quple.classifiers.vqc_logger:######## Epoch 15 ########\n",
            "DEBUG:quple.classifiers.vqc_logger:loss: 0.23649071156978607\n",
            "DEBUG:quple.classifiers.vqc_logger:binary_accuracy: 0.6320000290870667\n",
            "DEBUG:quple.classifiers.vqc_logger:q_auc_6: 0.6867027282714844\n",
            "DEBUG:quple.classifiers.vqc_logger:val_loss: 0.22739987075328827\n",
            "DEBUG:quple.classifiers.vqc_logger:val_binary_accuracy: 0.6660000085830688\n",
            "DEBUG:quple.classifiers.vqc_logger:val_q_auc_6: 0.732914924621582\n"
          ]
        },
        {
          "output_type": "stream",
          "name": "stdout",
          "text": [
            "16/16 [==============================] - 2s 129ms/step - loss: 0.2365 - binary_accuracy: 0.6320 - q_auc_6: 0.6867 - val_loss: 0.2274 - val_binary_accuracy: 0.6660 - val_q_auc_6: 0.7329\n",
            "Epoch 17/100\n",
            "16/16 [==============================] - ETA: 0s - loss: 0.2325 - binary_accuracy: 0.6450 - q_auc_6: 0.6984"
          ]
        },
        {
          "output_type": "stream",
          "name": "stderr",
          "text": [
            "DEBUG:quple.classifiers.vqc_logger:######## Epoch 16 ########\n",
            "DEBUG:quple.classifiers.vqc_logger:loss: 0.23245294392108917\n",
            "DEBUG:quple.classifiers.vqc_logger:binary_accuracy: 0.6449999809265137\n",
            "DEBUG:quple.classifiers.vqc_logger:q_auc_6: 0.6983668208122253\n",
            "DEBUG:quple.classifiers.vqc_logger:val_loss: 0.2242884337902069\n",
            "DEBUG:quple.classifiers.vqc_logger:val_binary_accuracy: 0.6800000071525574\n",
            "DEBUG:quple.classifiers.vqc_logger:val_q_auc_6: 0.7398552894592285\n"
          ]
        },
        {
          "output_type": "stream",
          "name": "stdout",
          "text": [
            "16/16 [==============================] - 2s 129ms/step - loss: 0.2325 - binary_accuracy: 0.6450 - q_auc_6: 0.6984 - val_loss: 0.2243 - val_binary_accuracy: 0.6800 - val_q_auc_6: 0.7399\n",
            "Epoch 18/100\n",
            "16/16 [==============================] - ETA: 0s - loss: 0.2287 - binary_accuracy: 0.6550 - q_auc_6: 0.7122"
          ]
        },
        {
          "output_type": "stream",
          "name": "stderr",
          "text": [
            "DEBUG:quple.classifiers.vqc_logger:######## Epoch 17 ########\n",
            "DEBUG:quple.classifiers.vqc_logger:loss: 0.22871550917625427\n",
            "DEBUG:quple.classifiers.vqc_logger:binary_accuracy: 0.6549999713897705\n",
            "DEBUG:quple.classifiers.vqc_logger:q_auc_6: 0.712182879447937\n",
            "DEBUG:quple.classifiers.vqc_logger:val_loss: 0.22173315286636353\n",
            "DEBUG:quple.classifiers.vqc_logger:val_binary_accuracy: 0.6859999895095825\n",
            "DEBUG:quple.classifiers.vqc_logger:val_q_auc_6: 0.7499560117721558\n"
          ]
        },
        {
          "output_type": "stream",
          "name": "stdout",
          "text": [
            "16/16 [==============================] - 2s 130ms/step - loss: 0.2287 - binary_accuracy: 0.6550 - q_auc_6: 0.7122 - val_loss: 0.2217 - val_binary_accuracy: 0.6860 - val_q_auc_6: 0.7500\n",
            "Epoch 19/100\n",
            "16/16 [==============================] - ETA: 0s - loss: 0.2253 - binary_accuracy: 0.6660 - q_auc_6: 0.7266"
          ]
        },
        {
          "output_type": "stream",
          "name": "stderr",
          "text": [
            "DEBUG:quple.classifiers.vqc_logger:######## Epoch 18 ########\n",
            "DEBUG:quple.classifiers.vqc_logger:loss: 0.2253495156764984\n",
            "DEBUG:quple.classifiers.vqc_logger:binary_accuracy: 0.6660000085830688\n",
            "DEBUG:quple.classifiers.vqc_logger:q_auc_6: 0.7265949249267578\n",
            "DEBUG:quple.classifiers.vqc_logger:val_loss: 0.2193172574043274\n",
            "DEBUG:quple.classifiers.vqc_logger:val_binary_accuracy: 0.6940000057220459\n",
            "DEBUG:quple.classifiers.vqc_logger:val_q_auc_6: 0.7574445009231567\n"
          ]
        },
        {
          "output_type": "stream",
          "name": "stdout",
          "text": [
            "16/16 [==============================] - 3s 197ms/step - loss: 0.2253 - binary_accuracy: 0.6660 - q_auc_6: 0.7266 - val_loss: 0.2193 - val_binary_accuracy: 0.6940 - val_q_auc_6: 0.7574\n",
            "Epoch 20/100\n",
            "16/16 [==============================] - ETA: 0s - loss: 0.2224 - binary_accuracy: 0.6770 - q_auc_6: 0.7383"
          ]
        },
        {
          "output_type": "stream",
          "name": "stderr",
          "text": [
            "DEBUG:quple.classifiers.vqc_logger:######## Epoch 19 ########\n",
            "DEBUG:quple.classifiers.vqc_logger:loss: 0.22237232327461243\n",
            "DEBUG:quple.classifiers.vqc_logger:binary_accuracy: 0.6769999861717224\n",
            "DEBUG:quple.classifiers.vqc_logger:q_auc_6: 0.7382969856262207\n",
            "DEBUG:quple.classifiers.vqc_logger:val_loss: 0.21702080965042114\n",
            "DEBUG:quple.classifiers.vqc_logger:val_binary_accuracy: 0.699999988079071\n",
            "DEBUG:quple.classifiers.vqc_logger:val_q_auc_6: 0.7643209099769592\n"
          ]
        },
        {
          "output_type": "stream",
          "name": "stdout",
          "text": [
            "16/16 [==============================] - 3s 217ms/step - loss: 0.2224 - binary_accuracy: 0.6770 - q_auc_6: 0.7383 - val_loss: 0.2170 - val_binary_accuracy: 0.7000 - val_q_auc_6: 0.7643\n",
            "Epoch 21/100\n",
            "16/16 [==============================] - ETA: 0s - loss: 0.2194 - binary_accuracy: 0.6840 - q_auc_6: 0.7533"
          ]
        },
        {
          "output_type": "stream",
          "name": "stderr",
          "text": [
            "DEBUG:quple.classifiers.vqc_logger:######## Epoch 20 ########\n",
            "DEBUG:quple.classifiers.vqc_logger:loss: 0.21940530836582184\n",
            "DEBUG:quple.classifiers.vqc_logger:binary_accuracy: 0.6840000152587891\n",
            "DEBUG:quple.classifiers.vqc_logger:q_auc_6: 0.7532850503921509\n",
            "DEBUG:quple.classifiers.vqc_logger:val_loss: 0.215025395154953\n",
            "DEBUG:quple.classifiers.vqc_logger:val_binary_accuracy: 0.703000009059906\n",
            "DEBUG:quple.classifiers.vqc_logger:val_q_auc_6: 0.7716894149780273\n"
          ]
        },
        {
          "output_type": "stream",
          "name": "stdout",
          "text": [
            "16/16 [==============================] - 3s 157ms/step - loss: 0.2194 - binary_accuracy: 0.6840 - q_auc_6: 0.7533 - val_loss: 0.2150 - val_binary_accuracy: 0.7030 - val_q_auc_6: 0.7717\n",
            "Epoch 22/100\n",
            "16/16 [==============================] - ETA: 0s - loss: 0.2168 - binary_accuracy: 0.6930 - q_auc_6: 0.7672"
          ]
        },
        {
          "output_type": "stream",
          "name": "stderr",
          "text": [
            "DEBUG:quple.classifiers.vqc_logger:######## Epoch 21 ########\n",
            "DEBUG:quple.classifiers.vqc_logger:loss: 0.21675144135951996\n",
            "DEBUG:quple.classifiers.vqc_logger:binary_accuracy: 0.6930000185966492\n",
            "DEBUG:quple.classifiers.vqc_logger:q_auc_6: 0.7671810388565063\n",
            "DEBUG:quple.classifiers.vqc_logger:val_loss: 0.2132192701101303\n",
            "DEBUG:quple.classifiers.vqc_logger:val_binary_accuracy: 0.7009999752044678\n",
            "DEBUG:quple.classifiers.vqc_logger:val_q_auc_6: 0.778367817401886\n"
          ]
        },
        {
          "output_type": "stream",
          "name": "stdout",
          "text": [
            "16/16 [==============================] - 2s 130ms/step - loss: 0.2168 - binary_accuracy: 0.6930 - q_auc_6: 0.7672 - val_loss: 0.2132 - val_binary_accuracy: 0.7010 - val_q_auc_6: 0.7784\n",
            "Epoch 23/100\n",
            "16/16 [==============================] - ETA: 0s - loss: 0.2143 - binary_accuracy: 0.6980 - q_auc_6: 0.7797"
          ]
        },
        {
          "output_type": "stream",
          "name": "stderr",
          "text": [
            "DEBUG:quple.classifiers.vqc_logger:######## Epoch 22 ########\n",
            "DEBUG:quple.classifiers.vqc_logger:loss: 0.21425555646419525\n",
            "DEBUG:quple.classifiers.vqc_logger:binary_accuracy: 0.6980000138282776\n",
            "DEBUG:quple.classifiers.vqc_logger:q_auc_6: 0.7796651124954224\n",
            "DEBUG:quple.classifiers.vqc_logger:val_loss: 0.21154922246932983\n",
            "DEBUG:quple.classifiers.vqc_logger:val_binary_accuracy: 0.7009999752044678\n",
            "DEBUG:quple.classifiers.vqc_logger:val_q_auc_6: 0.7840821743011475\n"
          ]
        },
        {
          "output_type": "stream",
          "name": "stdout",
          "text": [
            "16/16 [==============================] - 2s 132ms/step - loss: 0.2143 - binary_accuracy: 0.6980 - q_auc_6: 0.7797 - val_loss: 0.2115 - val_binary_accuracy: 0.7010 - val_q_auc_6: 0.7841\n",
            "Epoch 24/100\n",
            "16/16 [==============================] - ETA: 0s - loss: 0.2121 - binary_accuracy: 0.6980 - q_auc_6: 0.7892"
          ]
        },
        {
          "output_type": "stream",
          "name": "stderr",
          "text": [
            "DEBUG:quple.classifiers.vqc_logger:######## Epoch 23 ########\n",
            "DEBUG:quple.classifiers.vqc_logger:loss: 0.2120954841375351\n",
            "DEBUG:quple.classifiers.vqc_logger:binary_accuracy: 0.6980000138282776\n",
            "DEBUG:quple.classifiers.vqc_logger:q_auc_6: 0.7892351746559143\n",
            "DEBUG:quple.classifiers.vqc_logger:val_loss: 0.20988322794437408\n",
            "DEBUG:quple.classifiers.vqc_logger:val_binary_accuracy: 0.7049999833106995\n",
            "DEBUG:quple.classifiers.vqc_logger:val_q_auc_6: 0.7900545597076416\n"
          ]
        },
        {
          "output_type": "stream",
          "name": "stdout",
          "text": [
            "16/16 [==============================] - 2s 134ms/step - loss: 0.2121 - binary_accuracy: 0.6980 - q_auc_6: 0.7892 - val_loss: 0.2099 - val_binary_accuracy: 0.7050 - val_q_auc_6: 0.7901\n",
            "Epoch 25/100\n",
            "16/16 [==============================] - ETA: 0s - loss: 0.2099 - binary_accuracy: 0.7110 - q_auc_6: 0.7972"
          ]
        },
        {
          "output_type": "stream",
          "name": "stderr",
          "text": [
            "DEBUG:quple.classifiers.vqc_logger:######## Epoch 24 ########\n",
            "DEBUG:quple.classifiers.vqc_logger:loss: 0.20992282032966614\n",
            "DEBUG:quple.classifiers.vqc_logger:binary_accuracy: 0.7110000252723694\n",
            "DEBUG:quple.classifiers.vqc_logger:q_auc_6: 0.7972052097320557\n",
            "DEBUG:quple.classifiers.vqc_logger:val_loss: 0.20840217173099518\n",
            "DEBUG:quple.classifiers.vqc_logger:val_binary_accuracy: 0.7080000042915344\n",
            "DEBUG:quple.classifiers.vqc_logger:val_q_auc_6: 0.7940747737884521\n"
          ]
        },
        {
          "output_type": "stream",
          "name": "stdout",
          "text": [
            "\b\b\b\b\b\b\b\b\b\b\b\b\b\b\b\b\b\b\b\b\b\b\b\b\b\b\b\b\b\b\b\b\b\b\b\b\b\b\b\b\b\b\b\b\b\b\b\b\b\b\b\b\b\b\b\b\b\b\b\b\b\b\b\b\b\b\b\b\b\b\b\b\b\b\b\b\b\b\b\b\b\b\b\b\b\b\b\b\b\b\b\b\b\b\b\b\b\b\b\b\b\b\b\b\b\b\b\r16/16 [==============================] - 4s 272ms/step - loss: 0.2099 - binary_accuracy: 0.7110 - q_auc_6: 0.7972 - val_loss: 0.2084 - val_binary_accuracy: 0.7080 - val_q_auc_6: 0.7941\n",
            "Epoch 26/100\n",
            "16/16 [==============================] - ETA: 0s - loss: 0.2080 - binary_accuracy: 0.7170 - q_auc_6: 0.8052"
          ]
        },
        {
          "output_type": "stream",
          "name": "stderr",
          "text": [
            "DEBUG:quple.classifiers.vqc_logger:######## Epoch 25 ########\n",
            "DEBUG:quple.classifiers.vqc_logger:loss: 0.20797839760780334\n",
            "DEBUG:quple.classifiers.vqc_logger:binary_accuracy: 0.7170000076293945\n",
            "DEBUG:quple.classifiers.vqc_logger:q_auc_6: 0.805179238319397\n",
            "DEBUG:quple.classifiers.vqc_logger:val_loss: 0.20700713992118835\n",
            "DEBUG:quple.classifiers.vqc_logger:val_binary_accuracy: 0.7160000205039978\n",
            "DEBUG:quple.classifiers.vqc_logger:val_q_auc_6: 0.7989831566810608\n"
          ]
        },
        {
          "output_type": "stream",
          "name": "stdout",
          "text": [
            "16/16 [==============================] - 4s 247ms/step - loss: 0.2080 - binary_accuracy: 0.7170 - q_auc_6: 0.8052 - val_loss: 0.2070 - val_binary_accuracy: 0.7160 - val_q_auc_6: 0.7990\n",
            "Epoch 27/100\n",
            "16/16 [==============================] - ETA: 0s - loss: 0.2061 - binary_accuracy: 0.7210 - q_auc_6: 0.8132"
          ]
        },
        {
          "output_type": "stream",
          "name": "stderr",
          "text": [
            "DEBUG:quple.classifiers.vqc_logger:######## Epoch 26 ########\n",
            "DEBUG:quple.classifiers.vqc_logger:loss: 0.20613263547420502\n",
            "DEBUG:quple.classifiers.vqc_logger:binary_accuracy: 0.7210000157356262\n",
            "DEBUG:quple.classifiers.vqc_logger:q_auc_6: 0.8132492303848267\n",
            "DEBUG:quple.classifiers.vqc_logger:val_loss: 0.2057008296251297\n",
            "DEBUG:quple.classifiers.vqc_logger:val_binary_accuracy: 0.7179999947547913\n",
            "DEBUG:quple.classifiers.vqc_logger:val_q_auc_6: 0.802467405796051\n"
          ]
        },
        {
          "output_type": "stream",
          "name": "stdout",
          "text": [
            "16/16 [==============================] - 2s 150ms/step - loss: 0.2061 - binary_accuracy: 0.7210 - q_auc_6: 0.8132 - val_loss: 0.2057 - val_binary_accuracy: 0.7180 - val_q_auc_6: 0.8025\n",
            "Epoch 28/100\n",
            "16/16 [==============================] - ETA: 0s - loss: 0.2046 - binary_accuracy: 0.7210 - q_auc_6: 0.8171"
          ]
        },
        {
          "output_type": "stream",
          "name": "stderr",
          "text": [
            "DEBUG:quple.classifiers.vqc_logger:######## Epoch 27 ########\n",
            "DEBUG:quple.classifiers.vqc_logger:loss: 0.20462685823440552\n",
            "DEBUG:quple.classifiers.vqc_logger:binary_accuracy: 0.7210000157356262\n",
            "DEBUG:quple.classifiers.vqc_logger:q_auc_6: 0.8170613050460815\n",
            "DEBUG:quple.classifiers.vqc_logger:val_loss: 0.20455388724803925\n",
            "DEBUG:quple.classifiers.vqc_logger:val_binary_accuracy: 0.7239999771118164\n",
            "DEBUG:quple.classifiers.vqc_logger:val_q_auc_6: 0.8051595687866211\n"
          ]
        },
        {
          "output_type": "stream",
          "name": "stdout",
          "text": [
            "16/16 [==============================] - 2s 130ms/step - loss: 0.2046 - binary_accuracy: 0.7210 - q_auc_6: 0.8171 - val_loss: 0.2046 - val_binary_accuracy: 0.7240 - val_q_auc_6: 0.8052\n",
            "Epoch 29/100\n",
            "16/16 [==============================] - ETA: 0s - loss: 0.2029 - binary_accuracy: 0.7320 - q_auc_6: 0.8223"
          ]
        },
        {
          "output_type": "stream",
          "name": "stderr",
          "text": [
            "DEBUG:quple.classifiers.vqc_logger:######## Epoch 28 ########\n",
            "DEBUG:quple.classifiers.vqc_logger:loss: 0.2028530389070511\n",
            "DEBUG:quple.classifiers.vqc_logger:binary_accuracy: 0.7319999933242798\n",
            "DEBUG:quple.classifiers.vqc_logger:q_auc_6: 0.8222593069076538\n",
            "DEBUG:quple.classifiers.vqc_logger:val_loss: 0.20326775312423706\n",
            "DEBUG:quple.classifiers.vqc_logger:val_binary_accuracy: 0.7279999852180481\n",
            "DEBUG:quple.classifiers.vqc_logger:val_q_auc_6: 0.8108699321746826\n"
          ]
        },
        {
          "output_type": "stream",
          "name": "stdout",
          "text": [
            "16/16 [==============================] - 2s 132ms/step - loss: 0.2029 - binary_accuracy: 0.7320 - q_auc_6: 0.8223 - val_loss: 0.2033 - val_binary_accuracy: 0.7280 - val_q_auc_6: 0.8109\n",
            "Epoch 30/100\n",
            "16/16 [==============================] - ETA: 0s - loss: 0.2014 - binary_accuracy: 0.7350 - q_auc_6: 0.8273"
          ]
        },
        {
          "output_type": "stream",
          "name": "stderr",
          "text": [
            "DEBUG:quple.classifiers.vqc_logger:######## Epoch 29 ########\n",
            "DEBUG:quple.classifiers.vqc_logger:loss: 0.20142869651317596\n",
            "DEBUG:quple.classifiers.vqc_logger:binary_accuracy: 0.7350000143051147\n",
            "DEBUG:quple.classifiers.vqc_logger:q_auc_6: 0.8272672891616821\n",
            "DEBUG:quple.classifiers.vqc_logger:val_loss: 0.2020830363035202\n",
            "DEBUG:quple.classifiers.vqc_logger:val_binary_accuracy: 0.734000027179718\n",
            "DEBUG:quple.classifiers.vqc_logger:val_q_auc_6: 0.812794029712677\n"
          ]
        },
        {
          "output_type": "stream",
          "name": "stdout",
          "text": [
            "16/16 [==============================] - 2s 129ms/step - loss: 0.2014 - binary_accuracy: 0.7350 - q_auc_6: 0.8273 - val_loss: 0.2021 - val_binary_accuracy: 0.7340 - val_q_auc_6: 0.8128\n",
            "Epoch 31/100\n",
            "16/16 [==============================] - ETA: 0s - loss: 0.2000 - binary_accuracy: 0.7360 - q_auc_6: 0.8303"
          ]
        },
        {
          "output_type": "stream",
          "name": "stderr",
          "text": [
            "DEBUG:quple.classifiers.vqc_logger:######## Epoch 30 ########\n",
            "DEBUG:quple.classifiers.vqc_logger:loss: 0.20002074539661407\n",
            "DEBUG:quple.classifiers.vqc_logger:binary_accuracy: 0.7360000014305115\n",
            "DEBUG:quple.classifiers.vqc_logger:q_auc_6: 0.8302953243255615\n",
            "DEBUG:quple.classifiers.vqc_logger:val_loss: 0.2009636014699936\n",
            "DEBUG:quple.classifiers.vqc_logger:val_binary_accuracy: 0.7329999804496765\n",
            "DEBUG:quple.classifiers.vqc_logger:val_q_auc_6: 0.8160742521286011\n"
          ]
        },
        {
          "output_type": "stream",
          "name": "stdout",
          "text": [
            "16/16 [==============================] - 2s 145ms/step - loss: 0.2000 - binary_accuracy: 0.7360 - q_auc_6: 0.8303 - val_loss: 0.2010 - val_binary_accuracy: 0.7330 - val_q_auc_6: 0.8161\n",
            "Epoch 32/100\n",
            "16/16 [==============================] - ETA: 0s - loss: 0.1985 - binary_accuracy: 0.7390 - q_auc_6: 0.8344"
          ]
        },
        {
          "output_type": "stream",
          "name": "stderr",
          "text": [
            "DEBUG:quple.classifiers.vqc_logger:######## Epoch 31 ########\n",
            "DEBUG:quple.classifiers.vqc_logger:loss: 0.19847899675369263\n",
            "DEBUG:quple.classifiers.vqc_logger:binary_accuracy: 0.7390000224113464\n",
            "DEBUG:quple.classifiers.vqc_logger:q_auc_6: 0.8344453573226929\n",
            "DEBUG:quple.classifiers.vqc_logger:val_loss: 0.1998644471168518\n",
            "DEBUG:quple.classifiers.vqc_logger:val_binary_accuracy: 0.7379999756813049\n",
            "DEBUG:quple.classifiers.vqc_logger:val_q_auc_6: 0.8191904425621033\n"
          ]
        },
        {
          "output_type": "stream",
          "name": "stdout",
          "text": [
            "16/16 [==============================] - 4s 226ms/step - loss: 0.1985 - binary_accuracy: 0.7390 - q_auc_6: 0.8344 - val_loss: 0.1999 - val_binary_accuracy: 0.7380 - val_q_auc_6: 0.8192\n",
            "Epoch 33/100\n",
            "16/16 [==============================] - ETA: 0s - loss: 0.1973 - binary_accuracy: 0.7370 - q_auc_6: 0.8363"
          ]
        },
        {
          "output_type": "stream",
          "name": "stderr",
          "text": [
            "DEBUG:quple.classifiers.vqc_logger:######## Epoch 32 ########\n",
            "DEBUG:quple.classifiers.vqc_logger:loss: 0.19731639325618744\n",
            "DEBUG:quple.classifiers.vqc_logger:binary_accuracy: 0.7369999885559082\n",
            "DEBUG:quple.classifiers.vqc_logger:q_auc_6: 0.8363133668899536\n",
            "DEBUG:quple.classifiers.vqc_logger:val_loss: 0.19877716898918152\n",
            "DEBUG:quple.classifiers.vqc_logger:val_binary_accuracy: 0.7379999756813049\n",
            "DEBUG:quple.classifiers.vqc_logger:val_q_auc_6: 0.8213645815849304\n"
          ]
        },
        {
          "output_type": "stream",
          "name": "stdout",
          "text": [
            "16/16 [==============================] - 3s 205ms/step - loss: 0.1973 - binary_accuracy: 0.7370 - q_auc_6: 0.8363 - val_loss: 0.1988 - val_binary_accuracy: 0.7380 - val_q_auc_6: 0.8214\n",
            "Epoch 34/100\n",
            "16/16 [==============================] - ETA: 0s - loss: 0.1959 - binary_accuracy: 0.7430 - q_auc_6: 0.8401"
          ]
        },
        {
          "output_type": "stream",
          "name": "stderr",
          "text": [
            "DEBUG:quple.classifiers.vqc_logger:######## Epoch 33 ########\n",
            "DEBUG:quple.classifiers.vqc_logger:loss: 0.19588962197303772\n",
            "DEBUG:quple.classifiers.vqc_logger:binary_accuracy: 0.7429999709129333\n",
            "DEBUG:quple.classifiers.vqc_logger:q_auc_6: 0.8400673866271973\n",
            "DEBUG:quple.classifiers.vqc_logger:val_loss: 0.19755791127681732\n",
            "DEBUG:quple.classifiers.vqc_logger:val_binary_accuracy: 0.7400000095367432\n",
            "DEBUG:quple.classifiers.vqc_logger:val_q_auc_6: 0.8236067295074463\n"
          ]
        },
        {
          "output_type": "stream",
          "name": "stdout",
          "text": [
            "16/16 [==============================] - 2s 134ms/step - loss: 0.1959 - binary_accuracy: 0.7430 - q_auc_6: 0.8401 - val_loss: 0.1976 - val_binary_accuracy: 0.7400 - val_q_auc_6: 0.8236\n",
            "Epoch 35/100\n",
            "16/16 [==============================] - ETA: 0s - loss: 0.1947 - binary_accuracy: 0.7520 - q_auc_6: 0.8425"
          ]
        },
        {
          "output_type": "stream",
          "name": "stderr",
          "text": [
            "DEBUG:quple.classifiers.vqc_logger:######## Epoch 34 ########\n",
            "DEBUG:quple.classifiers.vqc_logger:loss: 0.194705531001091\n",
            "DEBUG:quple.classifiers.vqc_logger:binary_accuracy: 0.7519999742507935\n",
            "DEBUG:quple.classifiers.vqc_logger:q_auc_6: 0.8425493836402893\n",
            "DEBUG:quple.classifiers.vqc_logger:val_loss: 0.19647645950317383\n",
            "DEBUG:quple.classifiers.vqc_logger:val_binary_accuracy: 0.7419999837875366\n",
            "DEBUG:quple.classifiers.vqc_logger:val_q_auc_6: 0.8265029191970825\n"
          ]
        },
        {
          "output_type": "stream",
          "name": "stdout",
          "text": [
            "16/16 [==============================] - 2s 132ms/step - loss: 0.1947 - binary_accuracy: 0.7520 - q_auc_6: 0.8425 - val_loss: 0.1965 - val_binary_accuracy: 0.7420 - val_q_auc_6: 0.8265\n",
            "Epoch 36/100\n",
            "16/16 [==============================] - ETA: 0s - loss: 0.1936 - binary_accuracy: 0.7440 - q_auc_6: 0.8434"
          ]
        },
        {
          "output_type": "stream",
          "name": "stderr",
          "text": [
            "DEBUG:quple.classifiers.vqc_logger:######## Epoch 35 ########\n",
            "DEBUG:quple.classifiers.vqc_logger:loss: 0.19358162581920624\n",
            "DEBUG:quple.classifiers.vqc_logger:binary_accuracy: 0.7440000176429749\n",
            "DEBUG:quple.classifiers.vqc_logger:q_auc_6: 0.8434233665466309\n",
            "DEBUG:quple.classifiers.vqc_logger:val_loss: 0.195492222905159\n",
            "DEBUG:quple.classifiers.vqc_logger:val_binary_accuracy: 0.7390000224113464\n",
            "DEBUG:quple.classifiers.vqc_logger:val_q_auc_6: 0.8285510540008545\n"
          ]
        },
        {
          "output_type": "stream",
          "name": "stdout",
          "text": [
            "16/16 [==============================] - 2s 129ms/step - loss: 0.1936 - binary_accuracy: 0.7440 - q_auc_6: 0.8434 - val_loss: 0.1955 - val_binary_accuracy: 0.7390 - val_q_auc_6: 0.8286\n",
            "Epoch 37/100\n",
            "16/16 [==============================] - ETA: 0s - loss: 0.1922 - binary_accuracy: 0.7460 - q_auc_6: 0.8472"
          ]
        },
        {
          "output_type": "stream",
          "name": "stderr",
          "text": [
            "DEBUG:quple.classifiers.vqc_logger:######## Epoch 36 ########\n",
            "DEBUG:quple.classifiers.vqc_logger:loss: 0.1922260820865631\n",
            "DEBUG:quple.classifiers.vqc_logger:binary_accuracy: 0.7459999918937683\n",
            "DEBUG:quple.classifiers.vqc_logger:q_auc_6: 0.8472113609313965\n",
            "DEBUG:quple.classifiers.vqc_logger:val_loss: 0.1944110095500946\n",
            "DEBUG:quple.classifiers.vqc_logger:val_binary_accuracy: 0.7360000014305115\n",
            "DEBUG:quple.classifiers.vqc_logger:val_q_auc_6: 0.8310651779174805\n"
          ]
        },
        {
          "output_type": "stream",
          "name": "stdout",
          "text": [
            "16/16 [==============================] - 2s 131ms/step - loss: 0.1922 - binary_accuracy: 0.7460 - q_auc_6: 0.8472 - val_loss: 0.1944 - val_binary_accuracy: 0.7360 - val_q_auc_6: 0.8311\n",
            "Epoch 38/100\n",
            "16/16 [==============================] - ETA: 0s - loss: 0.1910 - binary_accuracy: 0.7510 - q_auc_6: 0.8482"
          ]
        },
        {
          "output_type": "stream",
          "name": "stderr",
          "text": [
            "DEBUG:quple.classifiers.vqc_logger:######## Epoch 37 ########\n",
            "DEBUG:quple.classifiers.vqc_logger:loss: 0.1910368949174881\n",
            "DEBUG:quple.classifiers.vqc_logger:binary_accuracy: 0.7509999871253967\n",
            "DEBUG:quple.classifiers.vqc_logger:q_auc_6: 0.8481674194335938\n",
            "DEBUG:quple.classifiers.vqc_logger:val_loss: 0.19314485788345337\n",
            "DEBUG:quple.classifiers.vqc_logger:val_binary_accuracy: 0.7400000095367432\n",
            "DEBUG:quple.classifiers.vqc_logger:val_q_auc_6: 0.8319852352142334\n"
          ]
        },
        {
          "output_type": "stream",
          "name": "stdout",
          "text": [
            "16/16 [==============================] - 3s 196ms/step - loss: 0.1910 - binary_accuracy: 0.7510 - q_auc_6: 0.8482 - val_loss: 0.1931 - val_binary_accuracy: 0.7400 - val_q_auc_6: 0.8320\n",
            "Epoch 39/100\n",
            "16/16 [==============================] - ETA: 0s - loss: 0.1899 - binary_accuracy: 0.7560 - q_auc_6: 0.8511"
          ]
        },
        {
          "output_type": "stream",
          "name": "stderr",
          "text": [
            "DEBUG:quple.classifiers.vqc_logger:######## Epoch 38 ########\n",
            "DEBUG:quple.classifiers.vqc_logger:loss: 0.1899183988571167\n",
            "DEBUG:quple.classifiers.vqc_logger:binary_accuracy: 0.7559999823570251\n",
            "DEBUG:quple.classifiers.vqc_logger:q_auc_6: 0.8511173725128174\n",
            "DEBUG:quple.classifiers.vqc_logger:val_loss: 0.19205325841903687\n",
            "DEBUG:quple.classifiers.vqc_logger:val_binary_accuracy: 0.7419999837875366\n",
            "DEBUG:quple.classifiers.vqc_logger:val_q_auc_6: 0.8337133526802063\n"
          ]
        },
        {
          "output_type": "stream",
          "name": "stdout",
          "text": [
            "16/16 [==============================] - 3s 218ms/step - loss: 0.1899 - binary_accuracy: 0.7560 - q_auc_6: 0.8511 - val_loss: 0.1921 - val_binary_accuracy: 0.7420 - val_q_auc_6: 0.8337\n",
            "Epoch 40/100\n",
            "16/16 [==============================] - ETA: 0s - loss: 0.1887 - binary_accuracy: 0.7540 - q_auc_6: 0.8518"
          ]
        },
        {
          "output_type": "stream",
          "name": "stderr",
          "text": [
            "DEBUG:quple.classifiers.vqc_logger:######## Epoch 39 ########\n",
            "DEBUG:quple.classifiers.vqc_logger:loss: 0.18873710930347443\n",
            "DEBUG:quple.classifiers.vqc_logger:binary_accuracy: 0.7540000081062317\n",
            "DEBUG:quple.classifiers.vqc_logger:q_auc_6: 0.8518173694610596\n",
            "DEBUG:quple.classifiers.vqc_logger:val_loss: 0.19098947942256927\n",
            "DEBUG:quple.classifiers.vqc_logger:val_binary_accuracy: 0.7329999804496765\n",
            "DEBUG:quple.classifiers.vqc_logger:val_q_auc_6: 0.8342713713645935\n"
          ]
        },
        {
          "output_type": "stream",
          "name": "stdout",
          "text": [
            "16/16 [==============================] - 3s 161ms/step - loss: 0.1887 - binary_accuracy: 0.7540 - q_auc_6: 0.8518 - val_loss: 0.1910 - val_binary_accuracy: 0.7330 - val_q_auc_6: 0.8343\n",
            "Epoch 41/100\n",
            "16/16 [==============================] - ETA: 0s - loss: 0.1875 - binary_accuracy: 0.7550 - q_auc_6: 0.8532"
          ]
        },
        {
          "output_type": "stream",
          "name": "stderr",
          "text": [
            "DEBUG:quple.classifiers.vqc_logger:######## Epoch 40 ########\n",
            "DEBUG:quple.classifiers.vqc_logger:loss: 0.18754588067531586\n",
            "DEBUG:quple.classifiers.vqc_logger:binary_accuracy: 0.7549999952316284\n",
            "DEBUG:quple.classifiers.vqc_logger:q_auc_6: 0.8532214164733887\n",
            "DEBUG:quple.classifiers.vqc_logger:val_loss: 0.18989774584770203\n",
            "DEBUG:quple.classifiers.vqc_logger:val_binary_accuracy: 0.7350000143051147\n",
            "DEBUG:quple.classifiers.vqc_logger:val_q_auc_6: 0.8368895053863525\n"
          ]
        },
        {
          "output_type": "stream",
          "name": "stdout",
          "text": [
            "16/16 [==============================] - 2s 134ms/step - loss: 0.1875 - binary_accuracy: 0.7550 - q_auc_6: 0.8532 - val_loss: 0.1899 - val_binary_accuracy: 0.7350 - val_q_auc_6: 0.8369\n",
            "Epoch 42/100\n",
            "16/16 [==============================] - ETA: 0s - loss: 0.1865 - binary_accuracy: 0.7550 - q_auc_6: 0.8546"
          ]
        },
        {
          "output_type": "stream",
          "name": "stderr",
          "text": [
            "DEBUG:quple.classifiers.vqc_logger:######## Epoch 41 ########\n",
            "DEBUG:quple.classifiers.vqc_logger:loss: 0.18647298216819763\n",
            "DEBUG:quple.classifiers.vqc_logger:binary_accuracy: 0.7549999952316284\n",
            "DEBUG:quple.classifiers.vqc_logger:q_auc_6: 0.8545613884925842\n",
            "DEBUG:quple.classifiers.vqc_logger:val_loss: 0.1887705773115158\n",
            "DEBUG:quple.classifiers.vqc_logger:val_binary_accuracy: 0.734000027179718\n",
            "DEBUG:quple.classifiers.vqc_logger:val_q_auc_6: 0.838383674621582\n"
          ]
        },
        {
          "output_type": "stream",
          "name": "stdout",
          "text": [
            "16/16 [==============================] - 2s 131ms/step - loss: 0.1865 - binary_accuracy: 0.7550 - q_auc_6: 0.8546 - val_loss: 0.1888 - val_binary_accuracy: 0.7340 - val_q_auc_6: 0.8384\n",
            "Epoch 43/100\n",
            "16/16 [==============================] - ETA: 0s - loss: 0.1853 - binary_accuracy: 0.7580 - q_auc_6: 0.8551"
          ]
        },
        {
          "output_type": "stream",
          "name": "stderr",
          "text": [
            "DEBUG:quple.classifiers.vqc_logger:######## Epoch 42 ########\n",
            "DEBUG:quple.classifiers.vqc_logger:loss: 0.18529118597507477\n",
            "DEBUG:quple.classifiers.vqc_logger:binary_accuracy: 0.7580000162124634\n",
            "DEBUG:quple.classifiers.vqc_logger:q_auc_6: 0.8551114201545715\n",
            "DEBUG:quple.classifiers.vqc_logger:val_loss: 0.1876152902841568\n",
            "DEBUG:quple.classifiers.vqc_logger:val_binary_accuracy: 0.7360000014305115\n",
            "DEBUG:quple.classifiers.vqc_logger:val_q_auc_6: 0.8399277329444885\n"
          ]
        },
        {
          "output_type": "stream",
          "name": "stdout",
          "text": [
            "16/16 [==============================] - 2s 135ms/step - loss: 0.1853 - binary_accuracy: 0.7580 - q_auc_6: 0.8551 - val_loss: 0.1876 - val_binary_accuracy: 0.7360 - val_q_auc_6: 0.8399\n",
            "Epoch 44/100\n",
            "16/16 [==============================] - ETA: 0s - loss: 0.1843 - binary_accuracy: 0.7590 - q_auc_6: 0.8569"
          ]
        },
        {
          "output_type": "stream",
          "name": "stderr",
          "text": [
            "DEBUG:quple.classifiers.vqc_logger:######## Epoch 43 ########\n",
            "DEBUG:quple.classifiers.vqc_logger:loss: 0.18426157534122467\n",
            "DEBUG:quple.classifiers.vqc_logger:binary_accuracy: 0.7590000033378601\n",
            "DEBUG:quple.classifiers.vqc_logger:q_auc_6: 0.8568534851074219\n",
            "DEBUG:quple.classifiers.vqc_logger:val_loss: 0.1864662617444992\n",
            "DEBUG:quple.classifiers.vqc_logger:val_binary_accuracy: 0.7419999837875366\n",
            "DEBUG:quple.classifiers.vqc_logger:val_q_auc_6: 0.8411178588867188\n"
          ]
        },
        {
          "output_type": "stream",
          "name": "stdout",
          "text": [
            "16/16 [==============================] - 2s 141ms/step - loss: 0.1843 - binary_accuracy: 0.7590 - q_auc_6: 0.8569 - val_loss: 0.1865 - val_binary_accuracy: 0.7420 - val_q_auc_6: 0.8411\n",
            "Epoch 45/100\n",
            "16/16 [==============================] - ETA: 0s - loss: 0.1831 - binary_accuracy: 0.7590 - q_auc_6: 0.8570"
          ]
        },
        {
          "output_type": "stream",
          "name": "stderr",
          "text": [
            "DEBUG:quple.classifiers.vqc_logger:######## Epoch 44 ########\n",
            "DEBUG:quple.classifiers.vqc_logger:loss: 0.18313105404376984\n",
            "DEBUG:quple.classifiers.vqc_logger:binary_accuracy: 0.7590000033378601\n",
            "DEBUG:quple.classifiers.vqc_logger:q_auc_6: 0.8570073843002319\n",
            "DEBUG:quple.classifiers.vqc_logger:val_loss: 0.1854051649570465\n",
            "DEBUG:quple.classifiers.vqc_logger:val_binary_accuracy: 0.7379999756813049\n",
            "DEBUG:quple.classifiers.vqc_logger:val_q_auc_6: 0.8412917852401733\n"
          ]
        },
        {
          "output_type": "stream",
          "name": "stdout",
          "text": [
            "16/16 [==============================] - 4s 229ms/step - loss: 0.1831 - binary_accuracy: 0.7590 - q_auc_6: 0.8570 - val_loss: 0.1854 - val_binary_accuracy: 0.7380 - val_q_auc_6: 0.8413\n",
            "Epoch 46/100\n",
            "16/16 [==============================] - ETA: 0s - loss: 0.1821 - binary_accuracy: 0.7570 - q_auc_6: 0.8577"
          ]
        },
        {
          "output_type": "stream",
          "name": "stderr",
          "text": [
            "DEBUG:quple.classifiers.vqc_logger:######## Epoch 45 ########\n",
            "DEBUG:quple.classifiers.vqc_logger:loss: 0.18207940459251404\n",
            "DEBUG:quple.classifiers.vqc_logger:binary_accuracy: 0.7570000290870667\n",
            "DEBUG:quple.classifiers.vqc_logger:q_auc_6: 0.8577374219894409\n",
            "DEBUG:quple.classifiers.vqc_logger:val_loss: 0.18433398008346558\n",
            "DEBUG:quple.classifiers.vqc_logger:val_binary_accuracy: 0.7379999756813049\n",
            "DEBUG:quple.classifiers.vqc_logger:val_q_auc_6: 0.8430240154266357\n"
          ]
        },
        {
          "output_type": "stream",
          "name": "stdout",
          "text": [
            "16/16 [==============================] - 3s 210ms/step - loss: 0.1821 - binary_accuracy: 0.7570 - q_auc_6: 0.8577 - val_loss: 0.1843 - val_binary_accuracy: 0.7380 - val_q_auc_6: 0.8430\n",
            "Epoch 47/100\n",
            "16/16 [==============================] - ETA: 0s - loss: 0.1810 - binary_accuracy: 0.7570 - q_auc_6: 0.8587"
          ]
        },
        {
          "output_type": "stream",
          "name": "stderr",
          "text": [
            "DEBUG:quple.classifiers.vqc_logger:######## Epoch 46 ########\n",
            "DEBUG:quple.classifiers.vqc_logger:loss: 0.18102779984474182\n",
            "DEBUG:quple.classifiers.vqc_logger:binary_accuracy: 0.7570000290870667\n",
            "DEBUG:quple.classifiers.vqc_logger:q_auc_6: 0.8587434887886047\n",
            "DEBUG:quple.classifiers.vqc_logger:val_loss: 0.18334487080574036\n",
            "DEBUG:quple.classifiers.vqc_logger:val_binary_accuracy: 0.7369999885559082\n",
            "DEBUG:quple.classifiers.vqc_logger:val_q_auc_6: 0.843485951423645\n"
          ]
        },
        {
          "output_type": "stream",
          "name": "stdout",
          "text": [
            "16/16 [==============================] - 2s 131ms/step - loss: 0.1810 - binary_accuracy: 0.7570 - q_auc_6: 0.8587 - val_loss: 0.1833 - val_binary_accuracy: 0.7370 - val_q_auc_6: 0.8435\n",
            "Epoch 48/100\n",
            "16/16 [==============================] - ETA: 0s - loss: 0.1802 - binary_accuracy: 0.7570 - q_auc_6: 0.8588"
          ]
        },
        {
          "output_type": "stream",
          "name": "stderr",
          "text": [
            "DEBUG:quple.classifiers.vqc_logger:######## Epoch 47 ########\n",
            "DEBUG:quple.classifiers.vqc_logger:loss: 0.1801503747701645\n",
            "DEBUG:quple.classifiers.vqc_logger:binary_accuracy: 0.7570000290870667\n",
            "DEBUG:quple.classifiers.vqc_logger:q_auc_6: 0.8587874174118042\n",
            "DEBUG:quple.classifiers.vqc_logger:val_loss: 0.1823815554380417\n",
            "DEBUG:quple.classifiers.vqc_logger:val_binary_accuracy: 0.7390000224113464\n",
            "DEBUG:quple.classifiers.vqc_logger:val_q_auc_6: 0.843966007232666\n"
          ]
        },
        {
          "output_type": "stream",
          "name": "stdout",
          "text": [
            "16/16 [==============================] - 2s 131ms/step - loss: 0.1802 - binary_accuracy: 0.7570 - q_auc_6: 0.8588 - val_loss: 0.1824 - val_binary_accuracy: 0.7390 - val_q_auc_6: 0.8440\n",
            "Epoch 49/100\n",
            "16/16 [==============================] - ETA: 0s - loss: 0.1792 - binary_accuracy: 0.7580 - q_auc_6: 0.8592"
          ]
        },
        {
          "output_type": "stream",
          "name": "stderr",
          "text": [
            "DEBUG:quple.classifiers.vqc_logger:######## Epoch 48 ########\n",
            "DEBUG:quple.classifiers.vqc_logger:loss: 0.17924270033836365\n",
            "DEBUG:quple.classifiers.vqc_logger:binary_accuracy: 0.7580000162124634\n",
            "DEBUG:quple.classifiers.vqc_logger:q_auc_6: 0.8592174053192139\n",
            "DEBUG:quple.classifiers.vqc_logger:val_loss: 0.18137063086032867\n",
            "DEBUG:quple.classifiers.vqc_logger:val_binary_accuracy: 0.7409999966621399\n",
            "DEBUG:quple.classifiers.vqc_logger:val_q_auc_6: 0.8441300392150879\n"
          ]
        },
        {
          "output_type": "stream",
          "name": "stdout",
          "text": [
            "16/16 [==============================] - 2s 130ms/step - loss: 0.1792 - binary_accuracy: 0.7580 - q_auc_6: 0.8592 - val_loss: 0.1814 - val_binary_accuracy: 0.7410 - val_q_auc_6: 0.8441\n",
            "Epoch 50/100\n",
            "16/16 [==============================] - ETA: 0s - loss: 0.1783 - binary_accuracy: 0.7620 - q_auc_6: 0.8591"
          ]
        },
        {
          "output_type": "stream",
          "name": "stderr",
          "text": [
            "DEBUG:quple.classifiers.vqc_logger:######## Epoch 49 ########\n",
            "DEBUG:quple.classifiers.vqc_logger:loss: 0.17832337319850922\n",
            "DEBUG:quple.classifiers.vqc_logger:binary_accuracy: 0.7620000243186951\n",
            "DEBUG:quple.classifiers.vqc_logger:q_auc_6: 0.8590834140777588\n",
            "DEBUG:quple.classifiers.vqc_logger:val_loss: 0.18046799302101135\n",
            "DEBUG:quple.classifiers.vqc_logger:val_binary_accuracy: 0.7409999966621399\n",
            "DEBUG:quple.classifiers.vqc_logger:val_q_auc_6: 0.8454301357269287\n"
          ]
        },
        {
          "output_type": "stream",
          "name": "stdout",
          "text": [
            "16/16 [==============================] - 2s 134ms/step - loss: 0.1783 - binary_accuracy: 0.7620 - q_auc_6: 0.8591 - val_loss: 0.1805 - val_binary_accuracy: 0.7410 - val_q_auc_6: 0.8454\n",
            "Epoch 51/100\n",
            "16/16 [==============================] - ETA: 0s - loss: 0.1774 - binary_accuracy: 0.7640 - q_auc_6: 0.8589"
          ]
        },
        {
          "output_type": "stream",
          "name": "stderr",
          "text": [
            "DEBUG:quple.classifiers.vqc_logger:######## Epoch 50 ########\n",
            "DEBUG:quple.classifiers.vqc_logger:loss: 0.17744138836860657\n",
            "DEBUG:quple.classifiers.vqc_logger:binary_accuracy: 0.7639999985694885\n",
            "DEBUG:quple.classifiers.vqc_logger:q_auc_6: 0.8589473962783813\n",
            "DEBUG:quple.classifiers.vqc_logger:val_loss: 0.17966346442699432\n",
            "DEBUG:quple.classifiers.vqc_logger:val_binary_accuracy: 0.7429999709129333\n",
            "DEBUG:quple.classifiers.vqc_logger:val_q_auc_6: 0.8472381830215454\n"
          ]
        },
        {
          "output_type": "stream",
          "name": "stdout",
          "text": [
            "16/16 [==============================] - 3s 194ms/step - loss: 0.1774 - binary_accuracy: 0.7640 - q_auc_6: 0.8589 - val_loss: 0.1797 - val_binary_accuracy: 0.7430 - val_q_auc_6: 0.8472\n",
            "Epoch 52/100\n",
            "16/16 [==============================] - ETA: 0s - loss: 0.1767 - binary_accuracy: 0.7610 - q_auc_6: 0.8589"
          ]
        },
        {
          "output_type": "stream",
          "name": "stderr",
          "text": [
            "DEBUG:quple.classifiers.vqc_logger:######## Epoch 51 ########\n",
            "DEBUG:quple.classifiers.vqc_logger:loss: 0.1766875684261322\n",
            "DEBUG:quple.classifiers.vqc_logger:binary_accuracy: 0.7609999775886536\n",
            "DEBUG:quple.classifiers.vqc_logger:q_auc_6: 0.8589154481887817\n",
            "DEBUG:quple.classifiers.vqc_logger:val_loss: 0.17890872061252594\n",
            "DEBUG:quple.classifiers.vqc_logger:val_binary_accuracy: 0.7429999709129333\n",
            "DEBUG:quple.classifiers.vqc_logger:val_q_auc_6: 0.8462642431259155\n"
          ]
        },
        {
          "output_type": "stream",
          "name": "stdout",
          "text": [
            "16/16 [==============================] - 4s 219ms/step - loss: 0.1767 - binary_accuracy: 0.7610 - q_auc_6: 0.8589 - val_loss: 0.1789 - val_binary_accuracy: 0.7430 - val_q_auc_6: 0.8463\n",
            "Epoch 53/100\n",
            "16/16 [==============================] - ETA: 0s - loss: 0.1761 - binary_accuracy: 0.7620 - q_auc_6: 0.8595"
          ]
        },
        {
          "output_type": "stream",
          "name": "stderr",
          "text": [
            "DEBUG:quple.classifiers.vqc_logger:######## Epoch 52 ########\n",
            "DEBUG:quple.classifiers.vqc_logger:loss: 0.17607221007347107\n",
            "DEBUG:quple.classifiers.vqc_logger:binary_accuracy: 0.7620000243186951\n",
            "DEBUG:quple.classifiers.vqc_logger:q_auc_6: 0.8594794273376465\n",
            "DEBUG:quple.classifiers.vqc_logger:val_loss: 0.1781529039144516\n",
            "DEBUG:quple.classifiers.vqc_logger:val_binary_accuracy: 0.7459999918937683\n",
            "DEBUG:quple.classifiers.vqc_logger:val_q_auc_6: 0.8472022414207458\n"
          ]
        },
        {
          "output_type": "stream",
          "name": "stdout",
          "text": [
            "16/16 [==============================] - 3s 163ms/step - loss: 0.1761 - binary_accuracy: 0.7620 - q_auc_6: 0.8595 - val_loss: 0.1782 - val_binary_accuracy: 0.7460 - val_q_auc_6: 0.8472\n",
            "Epoch 54/100\n",
            "16/16 [==============================] - ETA: 0s - loss: 0.1753 - binary_accuracy: 0.7600 - q_auc_6: 0.8596"
          ]
        },
        {
          "output_type": "stream",
          "name": "stderr",
          "text": [
            "DEBUG:quple.classifiers.vqc_logger:######## Epoch 53 ########\n",
            "DEBUG:quple.classifiers.vqc_logger:loss: 0.17528164386749268\n",
            "DEBUG:quple.classifiers.vqc_logger:binary_accuracy: 0.7599999904632568\n",
            "DEBUG:quple.classifiers.vqc_logger:q_auc_6: 0.8596293926239014\n",
            "DEBUG:quple.classifiers.vqc_logger:val_loss: 0.17754057049751282\n",
            "DEBUG:quple.classifiers.vqc_logger:val_binary_accuracy: 0.7459999918937683\n",
            "DEBUG:quple.classifiers.vqc_logger:val_q_auc_6: 0.8477362394332886\n"
          ]
        },
        {
          "output_type": "stream",
          "name": "stdout",
          "text": [
            "16/16 [==============================] - 2s 133ms/step - loss: 0.1753 - binary_accuracy: 0.7600 - q_auc_6: 0.8596 - val_loss: 0.1775 - val_binary_accuracy: 0.7460 - val_q_auc_6: 0.8477\n",
            "Epoch 55/100\n",
            "16/16 [==============================] - ETA: 0s - loss: 0.1746 - binary_accuracy: 0.7600 - q_auc_6: 0.8603"
          ]
        },
        {
          "output_type": "stream",
          "name": "stderr",
          "text": [
            "DEBUG:quple.classifiers.vqc_logger:######## Epoch 54 ########\n",
            "DEBUG:quple.classifiers.vqc_logger:loss: 0.1746230125427246\n",
            "DEBUG:quple.classifiers.vqc_logger:binary_accuracy: 0.7599999904632568\n",
            "DEBUG:quple.classifiers.vqc_logger:q_auc_6: 0.8602614402770996\n",
            "DEBUG:quple.classifiers.vqc_logger:val_loss: 0.17692504823207855\n",
            "DEBUG:quple.classifiers.vqc_logger:val_binary_accuracy: 0.746999979019165\n",
            "DEBUG:quple.classifiers.vqc_logger:val_q_auc_6: 0.8473021984100342\n"
          ]
        },
        {
          "output_type": "stream",
          "name": "stdout",
          "text": [
            "16/16 [==============================] - 2s 133ms/step - loss: 0.1746 - binary_accuracy: 0.7600 - q_auc_6: 0.8603 - val_loss: 0.1769 - val_binary_accuracy: 0.7470 - val_q_auc_6: 0.8473\n",
            "Epoch 56/100\n",
            "16/16 [==============================] - ETA: 0s - loss: 0.1741 - binary_accuracy: 0.7620 - q_auc_6: 0.8599"
          ]
        },
        {
          "output_type": "stream",
          "name": "stderr",
          "text": [
            "DEBUG:quple.classifiers.vqc_logger:######## Epoch 55 ########\n",
            "DEBUG:quple.classifiers.vqc_logger:loss: 0.17406579852104187\n",
            "DEBUG:quple.classifiers.vqc_logger:binary_accuracy: 0.7620000243186951\n",
            "DEBUG:quple.classifiers.vqc_logger:q_auc_6: 0.8599294424057007\n",
            "DEBUG:quple.classifiers.vqc_logger:val_loss: 0.1762067973613739\n",
            "DEBUG:quple.classifiers.vqc_logger:val_binary_accuracy: 0.753000020980835\n",
            "DEBUG:quple.classifiers.vqc_logger:val_q_auc_6: 0.8485463261604309\n"
          ]
        },
        {
          "output_type": "stream",
          "name": "stdout",
          "text": [
            "16/16 [==============================] - 2s 134ms/step - loss: 0.1741 - binary_accuracy: 0.7620 - q_auc_6: 0.8599 - val_loss: 0.1762 - val_binary_accuracy: 0.7530 - val_q_auc_6: 0.8485\n",
            "Epoch 57/100\n",
            "16/16 [==============================] - ETA: 0s - loss: 0.1735 - binary_accuracy: 0.7620 - q_auc_6: 0.8594"
          ]
        },
        {
          "output_type": "stream",
          "name": "stderr",
          "text": [
            "DEBUG:quple.classifiers.vqc_logger:######## Epoch 56 ########\n",
            "DEBUG:quple.classifiers.vqc_logger:loss: 0.17352594435214996\n",
            "DEBUG:quple.classifiers.vqc_logger:binary_accuracy: 0.7620000243186951\n",
            "DEBUG:quple.classifiers.vqc_logger:q_auc_6: 0.859357476234436\n",
            "DEBUG:quple.classifiers.vqc_logger:val_loss: 0.17563040554523468\n",
            "DEBUG:quple.classifiers.vqc_logger:val_binary_accuracy: 0.7519999742507935\n",
            "DEBUG:quple.classifiers.vqc_logger:val_q_auc_6: 0.848416268825531\n"
          ]
        },
        {
          "output_type": "stream",
          "name": "stdout",
          "text": [
            "16/16 [==============================] - 3s 160ms/step - loss: 0.1735 - binary_accuracy: 0.7620 - q_auc_6: 0.8594 - val_loss: 0.1756 - val_binary_accuracy: 0.7520 - val_q_auc_6: 0.8484\n",
            "Epoch 58/100\n",
            "16/16 [==============================] - ETA: 0s - loss: 0.1730 - binary_accuracy: 0.7630 - q_auc_6: 0.8602"
          ]
        },
        {
          "output_type": "stream",
          "name": "stderr",
          "text": [
            "DEBUG:quple.classifiers.vqc_logger:######## Epoch 57 ########\n",
            "DEBUG:quple.classifiers.vqc_logger:loss: 0.17301368713378906\n",
            "DEBUG:quple.classifiers.vqc_logger:binary_accuracy: 0.7630000114440918\n",
            "DEBUG:quple.classifiers.vqc_logger:q_auc_6: 0.8601574897766113\n",
            "DEBUG:quple.classifiers.vqc_logger:val_loss: 0.17511731386184692\n",
            "DEBUG:quple.classifiers.vqc_logger:val_binary_accuracy: 0.753000020980835\n",
            "DEBUG:quple.classifiers.vqc_logger:val_q_auc_6: 0.8490943908691406\n"
          ]
        },
        {
          "output_type": "stream",
          "name": "stdout",
          "text": [
            "16/16 [==============================] - 4s 233ms/step - loss: 0.1730 - binary_accuracy: 0.7630 - q_auc_6: 0.8602 - val_loss: 0.1751 - val_binary_accuracy: 0.7530 - val_q_auc_6: 0.8491\n",
            "Epoch 59/100\n",
            "16/16 [==============================] - ETA: 0s - loss: 0.1724 - binary_accuracy: 0.7650 - q_auc_6: 0.8594"
          ]
        },
        {
          "output_type": "stream",
          "name": "stderr",
          "text": [
            "DEBUG:quple.classifiers.vqc_logger:######## Epoch 58 ########\n",
            "DEBUG:quple.classifiers.vqc_logger:loss: 0.17243781685829163\n",
            "DEBUG:quple.classifiers.vqc_logger:binary_accuracy: 0.7649999856948853\n",
            "DEBUG:quple.classifiers.vqc_logger:q_auc_6: 0.8593634366989136\n",
            "DEBUG:quple.classifiers.vqc_logger:val_loss: 0.17462259531021118\n",
            "DEBUG:quple.classifiers.vqc_logger:val_binary_accuracy: 0.7559999823570251\n",
            "DEBUG:quple.classifiers.vqc_logger:val_q_auc_6: 0.8492423295974731\n"
          ]
        },
        {
          "output_type": "stream",
          "name": "stdout",
          "text": [
            "16/16 [==============================] - 3s 203ms/step - loss: 0.1724 - binary_accuracy: 0.7650 - q_auc_6: 0.8594 - val_loss: 0.1746 - val_binary_accuracy: 0.7560 - val_q_auc_6: 0.8492\n",
            "Epoch 60/100\n",
            "16/16 [==============================] - ETA: 0s - loss: 0.1720 - binary_accuracy: 0.7680 - q_auc_6: 0.8601"
          ]
        },
        {
          "output_type": "stream",
          "name": "stderr",
          "text": [
            "DEBUG:quple.classifiers.vqc_logger:######## Epoch 59 ########\n",
            "DEBUG:quple.classifiers.vqc_logger:loss: 0.17197352647781372\n",
            "DEBUG:quple.classifiers.vqc_logger:binary_accuracy: 0.7680000066757202\n",
            "DEBUG:quple.classifiers.vqc_logger:q_auc_6: 0.8601434230804443\n",
            "DEBUG:quple.classifiers.vqc_logger:val_loss: 0.17416879534721375\n",
            "DEBUG:quple.classifiers.vqc_logger:val_binary_accuracy: 0.7580000162124634\n",
            "DEBUG:quple.classifiers.vqc_logger:val_q_auc_6: 0.849410355091095\n"
          ]
        },
        {
          "output_type": "stream",
          "name": "stdout",
          "text": [
            "16/16 [==============================] - 2s 134ms/step - loss: 0.1720 - binary_accuracy: 0.7680 - q_auc_6: 0.8601 - val_loss: 0.1742 - val_binary_accuracy: 0.7580 - val_q_auc_6: 0.8494\n",
            "Epoch 61/100\n",
            "16/16 [==============================] - ETA: 0s - loss: 0.1717 - binary_accuracy: 0.7640 - q_auc_6: 0.8600"
          ]
        },
        {
          "output_type": "stream",
          "name": "stderr",
          "text": [
            "DEBUG:quple.classifiers.vqc_logger:######## Epoch 60 ########\n",
            "DEBUG:quple.classifiers.vqc_logger:loss: 0.17167560756206512\n",
            "DEBUG:quple.classifiers.vqc_logger:binary_accuracy: 0.7639999985694885\n",
            "DEBUG:quple.classifiers.vqc_logger:q_auc_6: 0.8599694967269897\n",
            "DEBUG:quple.classifiers.vqc_logger:val_loss: 0.1737499237060547\n",
            "DEBUG:quple.classifiers.vqc_logger:val_binary_accuracy: 0.7590000033378601\n",
            "DEBUG:quple.classifiers.vqc_logger:val_q_auc_6: 0.8498703837394714\n"
          ]
        },
        {
          "output_type": "stream",
          "name": "stdout",
          "text": [
            "16/16 [==============================] - 2s 136ms/step - loss: 0.1717 - binary_accuracy: 0.7640 - q_auc_6: 0.8600 - val_loss: 0.1737 - val_binary_accuracy: 0.7590 - val_q_auc_6: 0.8499\n",
            "Epoch 62/100\n",
            "16/16 [==============================] - ETA: 0s - loss: 0.1711 - binary_accuracy: 0.7680 - q_auc_6: 0.8606"
          ]
        },
        {
          "output_type": "stream",
          "name": "stderr",
          "text": [
            "DEBUG:quple.classifiers.vqc_logger:######## Epoch 61 ########\n",
            "DEBUG:quple.classifiers.vqc_logger:loss: 0.17114676535129547\n",
            "DEBUG:quple.classifiers.vqc_logger:binary_accuracy: 0.7680000066757202\n",
            "DEBUG:quple.classifiers.vqc_logger:q_auc_6: 0.8605834245681763\n",
            "DEBUG:quple.classifiers.vqc_logger:val_loss: 0.17344418168067932\n",
            "DEBUG:quple.classifiers.vqc_logger:val_binary_accuracy: 0.753000020980835\n",
            "DEBUG:quple.classifiers.vqc_logger:val_q_auc_6: 0.8494603633880615\n"
          ]
        },
        {
          "output_type": "stream",
          "name": "stdout",
          "text": [
            "16/16 [==============================] - 2s 132ms/step - loss: 0.1711 - binary_accuracy: 0.7680 - q_auc_6: 0.8606 - val_loss: 0.1734 - val_binary_accuracy: 0.7530 - val_q_auc_6: 0.8495\n",
            "Epoch 63/100\n",
            "16/16 [==============================] - ETA: 0s - loss: 0.1709 - binary_accuracy: 0.7670 - q_auc_6: 0.8597"
          ]
        },
        {
          "output_type": "stream",
          "name": "stderr",
          "text": [
            "DEBUG:quple.classifiers.vqc_logger:######## Epoch 62 ########\n",
            "DEBUG:quple.classifiers.vqc_logger:loss: 0.17089085280895233\n",
            "DEBUG:quple.classifiers.vqc_logger:binary_accuracy: 0.7670000195503235\n",
            "DEBUG:quple.classifiers.vqc_logger:q_auc_6: 0.8596934080123901\n",
            "DEBUG:quple.classifiers.vqc_logger:val_loss: 0.1730675995349884\n",
            "DEBUG:quple.classifiers.vqc_logger:val_binary_accuracy: 0.7590000033378601\n",
            "DEBUG:quple.classifiers.vqc_logger:val_q_auc_6: 0.8499143719673157\n"
          ]
        },
        {
          "output_type": "stream",
          "name": "stdout",
          "text": [
            "16/16 [==============================] - 2s 134ms/step - loss: 0.1709 - binary_accuracy: 0.7670 - q_auc_6: 0.8597 - val_loss: 0.1731 - val_binary_accuracy: 0.7590 - val_q_auc_6: 0.8499\n",
            "Epoch 64/100\n",
            "16/16 [==============================] - ETA: 0s - loss: 0.1705 - binary_accuracy: 0.7700 - q_auc_6: 0.8605"
          ]
        },
        {
          "output_type": "stream",
          "name": "stderr",
          "text": [
            "DEBUG:quple.classifiers.vqc_logger:######## Epoch 63 ########\n",
            "DEBUG:quple.classifiers.vqc_logger:loss: 0.17049537599086761\n",
            "DEBUG:quple.classifiers.vqc_logger:binary_accuracy: 0.7699999809265137\n",
            "DEBUG:quple.classifiers.vqc_logger:q_auc_6: 0.8605474233627319\n",
            "DEBUG:quple.classifiers.vqc_logger:val_loss: 0.17271694540977478\n",
            "DEBUG:quple.classifiers.vqc_logger:val_binary_accuracy: 0.7580000162124634\n",
            "DEBUG:quple.classifiers.vqc_logger:val_q_auc_6: 0.8494364023208618\n"
          ]
        },
        {
          "output_type": "stream",
          "name": "stdout",
          "text": [
            "16/16 [==============================] - 4s 219ms/step - loss: 0.1705 - binary_accuracy: 0.7700 - q_auc_6: 0.8605 - val_loss: 0.1727 - val_binary_accuracy: 0.7580 - val_q_auc_6: 0.8494\n",
            "Epoch 65/100\n",
            "16/16 [==============================] - ETA: 0s - loss: 0.1701 - binary_accuracy: 0.7680 - q_auc_6: 0.8603"
          ]
        },
        {
          "output_type": "stream",
          "name": "stderr",
          "text": [
            "DEBUG:quple.classifiers.vqc_logger:######## Epoch 64 ########\n",
            "DEBUG:quple.classifiers.vqc_logger:loss: 0.17014840245246887\n",
            "DEBUG:quple.classifiers.vqc_logger:binary_accuracy: 0.7680000066757202\n",
            "DEBUG:quple.classifiers.vqc_logger:q_auc_6: 0.8602814674377441\n",
            "DEBUG:quple.classifiers.vqc_logger:val_loss: 0.17230679094791412\n",
            "DEBUG:quple.classifiers.vqc_logger:val_binary_accuracy: 0.7609999775886536\n",
            "DEBUG:quple.classifiers.vqc_logger:val_q_auc_6: 0.8507744073867798\n"
          ]
        },
        {
          "output_type": "stream",
          "name": "stdout",
          "text": [
            "16/16 [==============================] - 4s 229ms/step - loss: 0.1701 - binary_accuracy: 0.7680 - q_auc_6: 0.8603 - val_loss: 0.1723 - val_binary_accuracy: 0.7610 - val_q_auc_6: 0.8508\n",
            "Epoch 66/100\n",
            "16/16 [==============================] - ETA: 0s - loss: 0.1700 - binary_accuracy: 0.7690 - q_auc_6: 0.8595"
          ]
        },
        {
          "output_type": "stream",
          "name": "stderr",
          "text": [
            "DEBUG:quple.classifiers.vqc_logger:######## Epoch 65 ########\n",
            "DEBUG:quple.classifiers.vqc_logger:loss: 0.16996295750141144\n",
            "DEBUG:quple.classifiers.vqc_logger:binary_accuracy: 0.7689999938011169\n",
            "DEBUG:quple.classifiers.vqc_logger:q_auc_6: 0.8594954013824463\n",
            "DEBUG:quple.classifiers.vqc_logger:val_loss: 0.17199890315532684\n",
            "DEBUG:quple.classifiers.vqc_logger:val_binary_accuracy: 0.7609999775886536\n",
            "DEBUG:quple.classifiers.vqc_logger:val_q_auc_6: 0.850210428237915\n"
          ]
        },
        {
          "output_type": "stream",
          "name": "stdout",
          "text": [
            "16/16 [==============================] - 2s 142ms/step - loss: 0.1700 - binary_accuracy: 0.7690 - q_auc_6: 0.8595 - val_loss: 0.1720 - val_binary_accuracy: 0.7610 - val_q_auc_6: 0.8502\n",
            "Epoch 67/100\n",
            "16/16 [==============================] - ETA: 0s - loss: 0.1697 - binary_accuracy: 0.7660 - q_auc_6: 0.8605"
          ]
        },
        {
          "output_type": "stream",
          "name": "stderr",
          "text": [
            "DEBUG:quple.classifiers.vqc_logger:######## Epoch 66 ########\n",
            "DEBUG:quple.classifiers.vqc_logger:loss: 0.1696980893611908\n",
            "DEBUG:quple.classifiers.vqc_logger:binary_accuracy: 0.765999972820282\n",
            "DEBUG:quple.classifiers.vqc_logger:q_auc_6: 0.8605234622955322\n",
            "DEBUG:quple.classifiers.vqc_logger:val_loss: 0.17185761034488678\n",
            "DEBUG:quple.classifiers.vqc_logger:val_binary_accuracy: 0.7590000033378601\n",
            "DEBUG:quple.classifiers.vqc_logger:val_q_auc_6: 0.8505344390869141\n"
          ]
        },
        {
          "output_type": "stream",
          "name": "stdout",
          "text": [
            "16/16 [==============================] - 2s 139ms/step - loss: 0.1697 - binary_accuracy: 0.7660 - q_auc_6: 0.8605 - val_loss: 0.1719 - val_binary_accuracy: 0.7590 - val_q_auc_6: 0.8505\n",
            "Epoch 68/100\n",
            "16/16 [==============================] - ETA: 0s - loss: 0.1693 - binary_accuracy: 0.7660 - q_auc_6: 0.8604"
          ]
        },
        {
          "output_type": "stream",
          "name": "stderr",
          "text": [
            "DEBUG:quple.classifiers.vqc_logger:######## Epoch 67 ########\n",
            "DEBUG:quple.classifiers.vqc_logger:loss: 0.1693294495344162\n",
            "DEBUG:quple.classifiers.vqc_logger:binary_accuracy: 0.765999972820282\n",
            "DEBUG:quple.classifiers.vqc_logger:q_auc_6: 0.8603774309158325\n",
            "DEBUG:quple.classifiers.vqc_logger:val_loss: 0.17155833542346954\n",
            "DEBUG:quple.classifiers.vqc_logger:val_binary_accuracy: 0.7599999904632568\n",
            "DEBUG:quple.classifiers.vqc_logger:val_q_auc_6: 0.8504544496536255\n"
          ]
        },
        {
          "output_type": "stream",
          "name": "stdout",
          "text": [
            "16/16 [==============================] - 2s 143ms/step - loss: 0.1693 - binary_accuracy: 0.7660 - q_auc_6: 0.8604 - val_loss: 0.1716 - val_binary_accuracy: 0.7600 - val_q_auc_6: 0.8505\n",
            "Epoch 69/100\n",
            "16/16 [==============================] - ETA: 0s - loss: 0.1694 - binary_accuracy: 0.7670 - q_auc_6: 0.8587"
          ]
        },
        {
          "output_type": "stream",
          "name": "stderr",
          "text": [
            "DEBUG:quple.classifiers.vqc_logger:######## Epoch 68 ########\n",
            "DEBUG:quple.classifiers.vqc_logger:loss: 0.1693505495786667\n",
            "DEBUG:quple.classifiers.vqc_logger:binary_accuracy: 0.7670000195503235\n",
            "DEBUG:quple.classifiers.vqc_logger:q_auc_6: 0.85874342918396\n",
            "DEBUG:quple.classifiers.vqc_logger:val_loss: 0.17125855386257172\n",
            "DEBUG:quple.classifiers.vqc_logger:val_binary_accuracy: 0.7620000243186951\n",
            "DEBUG:quple.classifiers.vqc_logger:val_q_auc_6: 0.8509764671325684\n"
          ]
        },
        {
          "output_type": "stream",
          "name": "stdout",
          "text": [
            "16/16 [==============================] - 2s 144ms/step - loss: 0.1694 - binary_accuracy: 0.7670 - q_auc_6: 0.8587 - val_loss: 0.1713 - val_binary_accuracy: 0.7620 - val_q_auc_6: 0.8510\n",
            "Epoch 70/100\n",
            "16/16 [==============================] - ETA: 0s - loss: 0.1688 - binary_accuracy: 0.7690 - q_auc_6: 0.8606"
          ]
        },
        {
          "output_type": "stream",
          "name": "stderr",
          "text": [
            "DEBUG:quple.classifiers.vqc_logger:######## Epoch 69 ########\n",
            "DEBUG:quple.classifiers.vqc_logger:loss: 0.168839693069458\n",
            "DEBUG:quple.classifiers.vqc_logger:binary_accuracy: 0.7689999938011169\n",
            "DEBUG:quple.classifiers.vqc_logger:q_auc_6: 0.8605874180793762\n",
            "DEBUG:quple.classifiers.vqc_logger:val_loss: 0.17107631266117096\n",
            "DEBUG:quple.classifiers.vqc_logger:val_binary_accuracy: 0.7609999775886536\n",
            "DEBUG:quple.classifiers.vqc_logger:val_q_auc_6: 0.8507544994354248\n"
          ]
        },
        {
          "output_type": "stream",
          "name": "stdout",
          "text": [
            "16/16 [==============================] - 3s 212ms/step - loss: 0.1688 - binary_accuracy: 0.7690 - q_auc_6: 0.8606 - val_loss: 0.1711 - val_binary_accuracy: 0.7610 - val_q_auc_6: 0.8508\n",
            "Epoch 71/100\n",
            "16/16 [==============================] - ETA: 0s - loss: 0.1686 - binary_accuracy: 0.7680 - q_auc_6: 0.8601"
          ]
        },
        {
          "output_type": "stream",
          "name": "stderr",
          "text": [
            "DEBUG:quple.classifiers.vqc_logger:######## Epoch 70 ########\n",
            "DEBUG:quple.classifiers.vqc_logger:loss: 0.16861110925674438\n",
            "DEBUG:quple.classifiers.vqc_logger:binary_accuracy: 0.7680000066757202\n",
            "DEBUG:quple.classifiers.vqc_logger:q_auc_6: 0.8600934743881226\n",
            "DEBUG:quple.classifiers.vqc_logger:val_loss: 0.17091017961502075\n",
            "DEBUG:quple.classifiers.vqc_logger:val_binary_accuracy: 0.7599999904632568\n",
            "DEBUG:quple.classifiers.vqc_logger:val_q_auc_6: 0.8511884808540344\n"
          ]
        },
        {
          "output_type": "stream",
          "name": "stdout",
          "text": [
            "16/16 [==============================] - 4s 223ms/step - loss: 0.1686 - binary_accuracy: 0.7680 - q_auc_6: 0.8601 - val_loss: 0.1709 - val_binary_accuracy: 0.7600 - val_q_auc_6: 0.8512\n",
            "Epoch 72/100\n",
            "16/16 [==============================] - ETA: 0s - loss: 0.1687 - binary_accuracy: 0.7650 - q_auc_6: 0.8594"
          ]
        },
        {
          "output_type": "stream",
          "name": "stderr",
          "text": [
            "DEBUG:quple.classifiers.vqc_logger:######## Epoch 71 ########\n",
            "DEBUG:quple.classifiers.vqc_logger:loss: 0.16867442429065704\n",
            "DEBUG:quple.classifiers.vqc_logger:binary_accuracy: 0.7649999856948853\n",
            "DEBUG:quple.classifiers.vqc_logger:q_auc_6: 0.8593794107437134\n",
            "DEBUG:quple.classifiers.vqc_logger:val_loss: 0.1708090454339981\n",
            "DEBUG:quple.classifiers.vqc_logger:val_binary_accuracy: 0.7620000243186951\n",
            "DEBUG:quple.classifiers.vqc_logger:val_q_auc_6: 0.8508044481277466\n"
          ]
        },
        {
          "output_type": "stream",
          "name": "stdout",
          "text": [
            "16/16 [==============================] - 2s 147ms/step - loss: 0.1687 - binary_accuracy: 0.7650 - q_auc_6: 0.8594 - val_loss: 0.1708 - val_binary_accuracy: 0.7620 - val_q_auc_6: 0.8508\n",
            "Epoch 73/100\n",
            "16/16 [==============================] - ETA: 0s - loss: 0.1682 - binary_accuracy: 0.7680 - q_auc_6: 0.8613"
          ]
        },
        {
          "output_type": "stream",
          "name": "stderr",
          "text": [
            "DEBUG:quple.classifiers.vqc_logger:######## Epoch 72 ########\n",
            "DEBUG:quple.classifiers.vqc_logger:loss: 0.16815605759620667\n",
            "DEBUG:quple.classifiers.vqc_logger:binary_accuracy: 0.7680000066757202\n",
            "DEBUG:quple.classifiers.vqc_logger:q_auc_6: 0.8612633943557739\n",
            "DEBUG:quple.classifiers.vqc_logger:val_loss: 0.17044006288051605\n",
            "DEBUG:quple.classifiers.vqc_logger:val_binary_accuracy: 0.7639999985694885\n",
            "DEBUG:quple.classifiers.vqc_logger:val_q_auc_6: 0.8506284952163696\n"
          ]
        },
        {
          "output_type": "stream",
          "name": "stdout",
          "text": [
            "16/16 [==============================] - 2s 135ms/step - loss: 0.1682 - binary_accuracy: 0.7680 - q_auc_6: 0.8613 - val_loss: 0.1704 - val_binary_accuracy: 0.7640 - val_q_auc_6: 0.8506\n",
            "Epoch 74/100\n",
            "16/16 [==============================] - ETA: 0s - loss: 0.1683 - binary_accuracy: 0.7690 - q_auc_6: 0.8596"
          ]
        },
        {
          "output_type": "stream",
          "name": "stderr",
          "text": [
            "DEBUG:quple.classifiers.vqc_logger:######## Epoch 73 ########\n",
            "DEBUG:quple.classifiers.vqc_logger:loss: 0.16833381354808807\n",
            "DEBUG:quple.classifiers.vqc_logger:binary_accuracy: 0.7689999938011169\n",
            "DEBUG:quple.classifiers.vqc_logger:q_auc_6: 0.8595654368400574\n",
            "DEBUG:quple.classifiers.vqc_logger:val_loss: 0.17030876874923706\n",
            "DEBUG:quple.classifiers.vqc_logger:val_binary_accuracy: 0.7599999904632568\n",
            "DEBUG:quple.classifiers.vqc_logger:val_q_auc_6: 0.8503383994102478\n"
          ]
        },
        {
          "output_type": "stream",
          "name": "stdout",
          "text": [
            "16/16 [==============================] - 2s 134ms/step - loss: 0.1683 - binary_accuracy: 0.7690 - q_auc_6: 0.8596 - val_loss: 0.1703 - val_binary_accuracy: 0.7600 - val_q_auc_6: 0.8503\n",
            "Epoch 75/100\n",
            "16/16 [==============================] - ETA: 0s - loss: 0.1679 - binary_accuracy: 0.7690 - q_auc_6: 0.8603"
          ]
        },
        {
          "output_type": "stream",
          "name": "stderr",
          "text": [
            "DEBUG:quple.classifiers.vqc_logger:######## Epoch 74 ########\n",
            "DEBUG:quple.classifiers.vqc_logger:loss: 0.1678621917963028\n",
            "DEBUG:quple.classifiers.vqc_logger:binary_accuracy: 0.7689999938011169\n",
            "DEBUG:quple.classifiers.vqc_logger:q_auc_6: 0.8603473901748657\n",
            "DEBUG:quple.classifiers.vqc_logger:val_loss: 0.17010676860809326\n",
            "DEBUG:quple.classifiers.vqc_logger:val_binary_accuracy: 0.7630000114440918\n",
            "DEBUG:quple.classifiers.vqc_logger:val_q_auc_6: 0.8510344624519348\n"
          ]
        },
        {
          "output_type": "stream",
          "name": "stdout",
          "text": [
            "16/16 [==============================] - 2s 135ms/step - loss: 0.1679 - binary_accuracy: 0.7690 - q_auc_6: 0.8603 - val_loss: 0.1701 - val_binary_accuracy: 0.7630 - val_q_auc_6: 0.8510\n",
            "Epoch 76/100\n",
            "16/16 [==============================] - ETA: 0s - loss: 0.1679 - binary_accuracy: 0.7640 - q_auc_6: 0.8600"
          ]
        },
        {
          "output_type": "stream",
          "name": "stderr",
          "text": [
            "DEBUG:quple.classifiers.vqc_logger:######## Epoch 75 ########\n",
            "DEBUG:quple.classifiers.vqc_logger:loss: 0.1679055392742157\n",
            "DEBUG:quple.classifiers.vqc_logger:binary_accuracy: 0.7639999985694885\n",
            "DEBUG:quple.classifiers.vqc_logger:q_auc_6: 0.8600294589996338\n",
            "DEBUG:quple.classifiers.vqc_logger:val_loss: 0.1702137291431427\n",
            "DEBUG:quple.classifiers.vqc_logger:val_binary_accuracy: 0.7599999904632568\n",
            "DEBUG:quple.classifiers.vqc_logger:val_q_auc_6: 0.8502743244171143\n"
          ]
        },
        {
          "output_type": "stream",
          "name": "stdout",
          "text": [
            "16/16 [==============================] - 3s 171ms/step - loss: 0.1679 - binary_accuracy: 0.7640 - q_auc_6: 0.8600 - val_loss: 0.1702 - val_binary_accuracy: 0.7600 - val_q_auc_6: 0.8503\n",
            "Epoch 77/100\n",
            "16/16 [==============================] - ETA: 0s - loss: 0.1677 - binary_accuracy: 0.7660 - q_auc_6: 0.8609"
          ]
        },
        {
          "output_type": "stream",
          "name": "stderr",
          "text": [
            "DEBUG:quple.classifiers.vqc_logger:######## Epoch 76 ########\n",
            "DEBUG:quple.classifiers.vqc_logger:loss: 0.16769640147686005\n",
            "DEBUG:quple.classifiers.vqc_logger:binary_accuracy: 0.765999972820282\n",
            "DEBUG:quple.classifiers.vqc_logger:q_auc_6: 0.8608534336090088\n",
            "DEBUG:quple.classifiers.vqc_logger:val_loss: 0.16985107958316803\n",
            "DEBUG:quple.classifiers.vqc_logger:val_binary_accuracy: 0.7630000114440918\n",
            "DEBUG:quple.classifiers.vqc_logger:val_q_auc_6: 0.851190447807312\n"
          ]
        },
        {
          "output_type": "stream",
          "name": "stdout",
          "text": [
            "16/16 [==============================] - 4s 226ms/step - loss: 0.1677 - binary_accuracy: 0.7660 - q_auc_6: 0.8609 - val_loss: 0.1699 - val_binary_accuracy: 0.7630 - val_q_auc_6: 0.8512\n",
            "Epoch 78/100\n",
            "16/16 [==============================] - ETA: 0s - loss: 0.1675 - binary_accuracy: 0.7660 - q_auc_6: 0.8603"
          ]
        },
        {
          "output_type": "stream",
          "name": "stderr",
          "text": [
            "DEBUG:quple.classifiers.vqc_logger:######## Epoch 77 ########\n",
            "DEBUG:quple.classifiers.vqc_logger:loss: 0.16748134791851044\n",
            "DEBUG:quple.classifiers.vqc_logger:binary_accuracy: 0.765999972820282\n",
            "DEBUG:quple.classifiers.vqc_logger:q_auc_6: 0.8602734804153442\n",
            "DEBUG:quple.classifiers.vqc_logger:val_loss: 0.16971144080162048\n",
            "DEBUG:quple.classifiers.vqc_logger:val_binary_accuracy: 0.7630000114440918\n",
            "DEBUG:quple.classifiers.vqc_logger:val_q_auc_6: 0.8513104915618896\n"
          ]
        },
        {
          "output_type": "stream",
          "name": "stdout",
          "text": [
            "16/16 [==============================] - 3s 192ms/step - loss: 0.1675 - binary_accuracy: 0.7660 - q_auc_6: 0.8603 - val_loss: 0.1697 - val_binary_accuracy: 0.7630 - val_q_auc_6: 0.8513\n",
            "Epoch 79/100\n",
            "16/16 [==============================] - ETA: 0s - loss: 0.1674 - binary_accuracy: 0.7670 - q_auc_6: 0.8602"
          ]
        },
        {
          "output_type": "stream",
          "name": "stderr",
          "text": [
            "DEBUG:quple.classifiers.vqc_logger:######## Epoch 78 ########\n",
            "DEBUG:quple.classifiers.vqc_logger:loss: 0.16740773618221283\n",
            "DEBUG:quple.classifiers.vqc_logger:binary_accuracy: 0.7670000195503235\n",
            "DEBUG:quple.classifiers.vqc_logger:q_auc_6: 0.8602434396743774\n",
            "DEBUG:quple.classifiers.vqc_logger:val_loss: 0.16962459683418274\n",
            "DEBUG:quple.classifiers.vqc_logger:val_binary_accuracy: 0.7620000243186951\n",
            "DEBUG:quple.classifiers.vqc_logger:val_q_auc_6: 0.850684404373169\n"
          ]
        },
        {
          "output_type": "stream",
          "name": "stdout",
          "text": [
            "16/16 [==============================] - 2s 135ms/step - loss: 0.1674 - binary_accuracy: 0.7670 - q_auc_6: 0.8602 - val_loss: 0.1696 - val_binary_accuracy: 0.7620 - val_q_auc_6: 0.8507\n",
            "Epoch 80/100\n",
            "16/16 [==============================] - ETA: 0s - loss: 0.1673 - binary_accuracy: 0.7690 - q_auc_6: 0.8600"
          ]
        },
        {
          "output_type": "stream",
          "name": "stderr",
          "text": [
            "DEBUG:quple.classifiers.vqc_logger:######## Epoch 79 ########\n",
            "DEBUG:quple.classifiers.vqc_logger:loss: 0.16729186475276947\n",
            "DEBUG:quple.classifiers.vqc_logger:binary_accuracy: 0.7689999938011169\n",
            "DEBUG:quple.classifiers.vqc_logger:q_auc_6: 0.8599894046783447\n",
            "DEBUG:quple.classifiers.vqc_logger:val_loss: 0.16940937936306\n",
            "DEBUG:quple.classifiers.vqc_logger:val_binary_accuracy: 0.7649999856948853\n",
            "DEBUG:quple.classifiers.vqc_logger:val_q_auc_6: 0.8513044714927673\n"
          ]
        },
        {
          "output_type": "stream",
          "name": "stdout",
          "text": [
            "16/16 [==============================] - 2s 135ms/step - loss: 0.1673 - binary_accuracy: 0.7690 - q_auc_6: 0.8600 - val_loss: 0.1694 - val_binary_accuracy: 0.7650 - val_q_auc_6: 0.8513\n",
            "Epoch 81/100\n",
            "16/16 [==============================] - ETA: 0s - loss: 0.1673 - binary_accuracy: 0.7670 - q_auc_6: 0.8596"
          ]
        },
        {
          "output_type": "stream",
          "name": "stderr",
          "text": [
            "DEBUG:quple.classifiers.vqc_logger:######## Epoch 80 ########\n",
            "DEBUG:quple.classifiers.vqc_logger:loss: 0.16726404428482056\n",
            "DEBUG:quple.classifiers.vqc_logger:binary_accuracy: 0.7670000195503235\n",
            "DEBUG:quple.classifiers.vqc_logger:q_auc_6: 0.8596494197845459\n",
            "DEBUG:quple.classifiers.vqc_logger:val_loss: 0.1693236380815506\n",
            "DEBUG:quple.classifiers.vqc_logger:val_binary_accuracy: 0.7630000114440918\n",
            "DEBUG:quple.classifiers.vqc_logger:val_q_auc_6: 0.8511664867401123\n"
          ]
        },
        {
          "output_type": "stream",
          "name": "stdout",
          "text": [
            "16/16 [==============================] - 2s 136ms/step - loss: 0.1673 - binary_accuracy: 0.7670 - q_auc_6: 0.8596 - val_loss: 0.1693 - val_binary_accuracy: 0.7630 - val_q_auc_6: 0.8512\n",
            "Epoch 82/100\n",
            "16/16 [==============================] - ETA: 0s - loss: 0.1670 - binary_accuracy: 0.7670 - q_auc_6: 0.8593"
          ]
        },
        {
          "output_type": "stream",
          "name": "stderr",
          "text": [
            "DEBUG:quple.classifiers.vqc_logger:######## Epoch 81 ########\n",
            "DEBUG:quple.classifiers.vqc_logger:loss: 0.16701489686965942\n",
            "DEBUG:quple.classifiers.vqc_logger:binary_accuracy: 0.7670000195503235\n",
            "DEBUG:quple.classifiers.vqc_logger:q_auc_6: 0.8593233823776245\n",
            "DEBUG:quple.classifiers.vqc_logger:val_loss: 0.1692991703748703\n",
            "DEBUG:quple.classifiers.vqc_logger:val_binary_accuracy: 0.7609999775886536\n",
            "DEBUG:quple.classifiers.vqc_logger:val_q_auc_6: 0.8510764837265015\n"
          ]
        },
        {
          "output_type": "stream",
          "name": "stdout",
          "text": [
            "16/16 [==============================] - 2s 138ms/step - loss: 0.1670 - binary_accuracy: 0.7670 - q_auc_6: 0.8593 - val_loss: 0.1693 - val_binary_accuracy: 0.7610 - val_q_auc_6: 0.8511\n",
            "Epoch 83/100\n",
            "16/16 [==============================] - ETA: 0s - loss: 0.1669 - binary_accuracy: 0.7650 - q_auc_6: 0.8605"
          ]
        },
        {
          "output_type": "stream",
          "name": "stderr",
          "text": [
            "DEBUG:quple.classifiers.vqc_logger:######## Epoch 82 ########\n",
            "DEBUG:quple.classifiers.vqc_logger:loss: 0.1669105887413025\n",
            "DEBUG:quple.classifiers.vqc_logger:binary_accuracy: 0.7649999856948853\n",
            "DEBUG:quple.classifiers.vqc_logger:q_auc_6: 0.8604654669761658\n",
            "DEBUG:quple.classifiers.vqc_logger:val_loss: 0.1691725254058838\n",
            "DEBUG:quple.classifiers.vqc_logger:val_binary_accuracy: 0.7609999775886536\n",
            "DEBUG:quple.classifiers.vqc_logger:val_q_auc_6: 0.8511924743652344\n"
          ]
        },
        {
          "output_type": "stream",
          "name": "stdout",
          "text": [
            "16/16 [==============================] - 4s 236ms/step - loss: 0.1669 - binary_accuracy: 0.7650 - q_auc_6: 0.8605 - val_loss: 0.1692 - val_binary_accuracy: 0.7610 - val_q_auc_6: 0.8512\n",
            "Epoch 84/100\n",
            "16/16 [==============================] - ETA: 0s - loss: 0.1668 - binary_accuracy: 0.7650 - q_auc_6: 0.8605"
          ]
        },
        {
          "output_type": "stream",
          "name": "stderr",
          "text": [
            "DEBUG:quple.classifiers.vqc_logger:######## Epoch 83 ########\n",
            "DEBUG:quple.classifiers.vqc_logger:loss: 0.16678741574287415\n",
            "DEBUG:quple.classifiers.vqc_logger:binary_accuracy: 0.7649999856948853\n",
            "DEBUG:quple.classifiers.vqc_logger:q_auc_6: 0.8605334162712097\n",
            "DEBUG:quple.classifiers.vqc_logger:val_loss: 0.16906562447547913\n",
            "DEBUG:quple.classifiers.vqc_logger:val_binary_accuracy: 0.7630000114440918\n",
            "DEBUG:quple.classifiers.vqc_logger:val_q_auc_6: 0.8513265252113342\n"
          ]
        },
        {
          "output_type": "stream",
          "name": "stdout",
          "text": [
            "16/16 [==============================] - 3s 215ms/step - loss: 0.1668 - binary_accuracy: 0.7650 - q_auc_6: 0.8605 - val_loss: 0.1691 - val_binary_accuracy: 0.7630 - val_q_auc_6: 0.8513\n",
            "Epoch 85/100\n",
            "16/16 [==============================] - ETA: 0s - loss: 0.1668 - binary_accuracy: 0.7650 - q_auc_6: 0.8601"
          ]
        },
        {
          "output_type": "stream",
          "name": "stderr",
          "text": [
            "DEBUG:quple.classifiers.vqc_logger:######## Epoch 84 ########\n",
            "DEBUG:quple.classifiers.vqc_logger:loss: 0.16679538786411285\n",
            "DEBUG:quple.classifiers.vqc_logger:binary_accuracy: 0.7649999856948853\n",
            "DEBUG:quple.classifiers.vqc_logger:q_auc_6: 0.8600634336471558\n",
            "DEBUG:quple.classifiers.vqc_logger:val_loss: 0.1689269095659256\n",
            "DEBUG:quple.classifiers.vqc_logger:val_binary_accuracy: 0.7649999856948853\n",
            "DEBUG:quple.classifiers.vqc_logger:val_q_auc_6: 0.8507744073867798\n"
          ]
        },
        {
          "output_type": "stream",
          "name": "stdout",
          "text": [
            "16/16 [==============================] - 2s 136ms/step - loss: 0.1668 - binary_accuracy: 0.7650 - q_auc_6: 0.8601 - val_loss: 0.1689 - val_binary_accuracy: 0.7650 - val_q_auc_6: 0.8508\n",
            "Epoch 86/100\n",
            "16/16 [==============================] - ETA: 0s - loss: 0.1666 - binary_accuracy: 0.7660 - q_auc_6: 0.8608"
          ]
        },
        {
          "output_type": "stream",
          "name": "stderr",
          "text": [
            "DEBUG:quple.classifiers.vqc_logger:######## Epoch 85 ########\n",
            "DEBUG:quple.classifiers.vqc_logger:loss: 0.16657754778862\n",
            "DEBUG:quple.classifiers.vqc_logger:binary_accuracy: 0.765999972820282\n",
            "DEBUG:quple.classifiers.vqc_logger:q_auc_6: 0.8608194589614868\n",
            "DEBUG:quple.classifiers.vqc_logger:val_loss: 0.16884663701057434\n",
            "DEBUG:quple.classifiers.vqc_logger:val_binary_accuracy: 0.7639999985694885\n",
            "DEBUG:quple.classifiers.vqc_logger:val_q_auc_6: 0.8516404628753662\n"
          ]
        },
        {
          "output_type": "stream",
          "name": "stdout",
          "text": [
            "16/16 [==============================] - 2s 136ms/step - loss: 0.1666 - binary_accuracy: 0.7660 - q_auc_6: 0.8608 - val_loss: 0.1688 - val_binary_accuracy: 0.7640 - val_q_auc_6: 0.8516\n",
            "Epoch 87/100\n",
            "16/16 [==============================] - ETA: 0s - loss: 0.1667 - binary_accuracy: 0.7660 - q_auc_6: 0.8591"
          ]
        },
        {
          "output_type": "stream",
          "name": "stderr",
          "text": [
            "DEBUG:quple.classifiers.vqc_logger:######## Epoch 86 ########\n",
            "DEBUG:quple.classifiers.vqc_logger:loss: 0.16672886908054352\n",
            "DEBUG:quple.classifiers.vqc_logger:binary_accuracy: 0.765999972820282\n",
            "DEBUG:quple.classifiers.vqc_logger:q_auc_6: 0.8590654134750366\n",
            "DEBUG:quple.classifiers.vqc_logger:val_loss: 0.1688607782125473\n",
            "DEBUG:quple.classifiers.vqc_logger:val_binary_accuracy: 0.7609999775886536\n",
            "DEBUG:quple.classifiers.vqc_logger:val_q_auc_6: 0.850806474685669\n"
          ]
        },
        {
          "output_type": "stream",
          "name": "stdout",
          "text": [
            "16/16 [==============================] - 2s 136ms/step - loss: 0.1667 - binary_accuracy: 0.7660 - q_auc_6: 0.8591 - val_loss: 0.1689 - val_binary_accuracy: 0.7610 - val_q_auc_6: 0.8508\n",
            "Epoch 88/100\n",
            "16/16 [==============================] - ETA: 0s - loss: 0.1663 - binary_accuracy: 0.7640 - q_auc_6: 0.8607"
          ]
        },
        {
          "output_type": "stream",
          "name": "stderr",
          "text": [
            "DEBUG:quple.classifiers.vqc_logger:######## Epoch 87 ########\n",
            "DEBUG:quple.classifiers.vqc_logger:loss: 0.16634723544120789\n",
            "DEBUG:quple.classifiers.vqc_logger:binary_accuracy: 0.7639999985694885\n",
            "DEBUG:quple.classifiers.vqc_logger:q_auc_6: 0.8606734275817871\n",
            "DEBUG:quple.classifiers.vqc_logger:val_loss: 0.16864578425884247\n",
            "DEBUG:quple.classifiers.vqc_logger:val_binary_accuracy: 0.765999972820282\n",
            "DEBUG:quple.classifiers.vqc_logger:val_q_auc_6: 0.8508884906768799\n"
          ]
        },
        {
          "output_type": "stream",
          "name": "stdout",
          "text": [
            "16/16 [==============================] - 2s 135ms/step - loss: 0.1663 - binary_accuracy: 0.7640 - q_auc_6: 0.8607 - val_loss: 0.1686 - val_binary_accuracy: 0.7660 - val_q_auc_6: 0.8509\n",
            "Epoch 89/100\n",
            "16/16 [==============================] - ETA: 0s - loss: 0.1664 - binary_accuracy: 0.7630 - q_auc_6: 0.8604"
          ]
        },
        {
          "output_type": "stream",
          "name": "stderr",
          "text": [
            "DEBUG:quple.classifiers.vqc_logger:######## Epoch 88 ########\n",
            "DEBUG:quple.classifiers.vqc_logger:loss: 0.16637732088565826\n",
            "DEBUG:quple.classifiers.vqc_logger:binary_accuracy: 0.7630000114440918\n",
            "DEBUG:quple.classifiers.vqc_logger:q_auc_6: 0.8604394197463989\n",
            "DEBUG:quple.classifiers.vqc_logger:val_loss: 0.16855013370513916\n",
            "DEBUG:quple.classifiers.vqc_logger:val_binary_accuracy: 0.7649999856948853\n",
            "DEBUG:quple.classifiers.vqc_logger:val_q_auc_6: 0.8511644601821899\n"
          ]
        },
        {
          "output_type": "stream",
          "name": "stdout",
          "text": [
            "16/16 [==============================] - 3s 209ms/step - loss: 0.1664 - binary_accuracy: 0.7630 - q_auc_6: 0.8604 - val_loss: 0.1686 - val_binary_accuracy: 0.7650 - val_q_auc_6: 0.8512\n",
            "Epoch 90/100\n",
            "16/16 [==============================] - ETA: 0s - loss: 0.1663 - binary_accuracy: 0.7660 - q_auc_6: 0.8600"
          ]
        },
        {
          "output_type": "stream",
          "name": "stderr",
          "text": [
            "DEBUG:quple.classifiers.vqc_logger:######## Epoch 89 ########\n",
            "DEBUG:quple.classifiers.vqc_logger:loss: 0.16633649170398712\n",
            "DEBUG:quple.classifiers.vqc_logger:binary_accuracy: 0.765999972820282\n",
            "DEBUG:quple.classifiers.vqc_logger:q_auc_6: 0.8599874973297119\n",
            "DEBUG:quple.classifiers.vqc_logger:val_loss: 0.1685178577899933\n",
            "DEBUG:quple.classifiers.vqc_logger:val_binary_accuracy: 0.7639999985694885\n",
            "DEBUG:quple.classifiers.vqc_logger:val_q_auc_6: 0.8510104417800903\n"
          ]
        },
        {
          "output_type": "stream",
          "name": "stdout",
          "text": [
            "16/16 [==============================] - 4s 227ms/step - loss: 0.1663 - binary_accuracy: 0.7660 - q_auc_6: 0.8600 - val_loss: 0.1685 - val_binary_accuracy: 0.7640 - val_q_auc_6: 0.8510\n",
            "Epoch 91/100\n",
            "16/16 [==============================] - ETA: 0s - loss: 0.1662 - binary_accuracy: 0.7650 - q_auc_6: 0.8598"
          ]
        },
        {
          "output_type": "stream",
          "name": "stderr",
          "text": [
            "DEBUG:quple.classifiers.vqc_logger:######## Epoch 90 ########\n",
            "DEBUG:quple.classifiers.vqc_logger:loss: 0.16618628799915314\n",
            "DEBUG:quple.classifiers.vqc_logger:binary_accuracy: 0.7649999856948853\n",
            "DEBUG:quple.classifiers.vqc_logger:q_auc_6: 0.8598434329032898\n",
            "DEBUG:quple.classifiers.vqc_logger:val_loss: 0.16850455105304718\n",
            "DEBUG:quple.classifiers.vqc_logger:val_binary_accuracy: 0.7639999985694885\n",
            "DEBUG:quple.classifiers.vqc_logger:val_q_auc_6: 0.8510624766349792\n"
          ]
        },
        {
          "output_type": "stream",
          "name": "stdout",
          "text": [
            "16/16 [==============================] - 2s 156ms/step - loss: 0.1662 - binary_accuracy: 0.7650 - q_auc_6: 0.8598 - val_loss: 0.1685 - val_binary_accuracy: 0.7640 - val_q_auc_6: 0.8511\n",
            "Epoch 92/100\n",
            "16/16 [==============================] - ETA: 0s - loss: 0.1662 - binary_accuracy: 0.7650 - q_auc_6: 0.8605"
          ]
        },
        {
          "output_type": "stream",
          "name": "stderr",
          "text": [
            "DEBUG:quple.classifiers.vqc_logger:######## Epoch 91 ########\n",
            "DEBUG:quple.classifiers.vqc_logger:loss: 0.16617736220359802\n",
            "DEBUG:quple.classifiers.vqc_logger:binary_accuracy: 0.7649999856948853\n",
            "DEBUG:quple.classifiers.vqc_logger:q_auc_6: 0.86050945520401\n",
            "DEBUG:quple.classifiers.vqc_logger:val_loss: 0.1684930920600891\n",
            "DEBUG:quple.classifiers.vqc_logger:val_binary_accuracy: 0.7609999775886536\n",
            "DEBUG:quple.classifiers.vqc_logger:val_q_auc_6: 0.8512744903564453\n"
          ]
        },
        {
          "output_type": "stream",
          "name": "stdout",
          "text": [
            "16/16 [==============================] - 2s 136ms/step - loss: 0.1662 - binary_accuracy: 0.7650 - q_auc_6: 0.8605 - val_loss: 0.1685 - val_binary_accuracy: 0.7610 - val_q_auc_6: 0.8513\n",
            "Epoch 93/100\n",
            "16/16 [==============================] - ETA: 0s - loss: 0.1662 - binary_accuracy: 0.7650 - q_auc_6: 0.8598"
          ]
        },
        {
          "output_type": "stream",
          "name": "stderr",
          "text": [
            "DEBUG:quple.classifiers.vqc_logger:######## Epoch 92 ########\n",
            "DEBUG:quple.classifiers.vqc_logger:loss: 0.16615237295627594\n",
            "DEBUG:quple.classifiers.vqc_logger:binary_accuracy: 0.7649999856948853\n",
            "DEBUG:quple.classifiers.vqc_logger:q_auc_6: 0.8597934246063232\n",
            "DEBUG:quple.classifiers.vqc_logger:val_loss: 0.16836848855018616\n",
            "DEBUG:quple.classifiers.vqc_logger:val_binary_accuracy: 0.7630000114440918\n",
            "DEBUG:quple.classifiers.vqc_logger:val_q_auc_6: 0.8516265153884888\n"
          ]
        },
        {
          "output_type": "stream",
          "name": "stdout",
          "text": [
            "16/16 [==============================] - 2s 136ms/step - loss: 0.1662 - binary_accuracy: 0.7650 - q_auc_6: 0.8598 - val_loss: 0.1684 - val_binary_accuracy: 0.7630 - val_q_auc_6: 0.8516\n",
            "Epoch 94/100\n",
            "16/16 [==============================] - ETA: 0s - loss: 0.1660 - binary_accuracy: 0.7640 - q_auc_6: 0.8603"
          ]
        },
        {
          "output_type": "stream",
          "name": "stderr",
          "text": [
            "DEBUG:quple.classifiers.vqc_logger:######## Epoch 93 ########\n",
            "DEBUG:quple.classifiers.vqc_logger:loss: 0.16600455343723297\n",
            "DEBUG:quple.classifiers.vqc_logger:binary_accuracy: 0.7639999985694885\n",
            "DEBUG:quple.classifiers.vqc_logger:q_auc_6: 0.8603214025497437\n",
            "DEBUG:quple.classifiers.vqc_logger:val_loss: 0.16834697127342224\n",
            "DEBUG:quple.classifiers.vqc_logger:val_binary_accuracy: 0.7630000114440918\n",
            "DEBUG:quple.classifiers.vqc_logger:val_q_auc_6: 0.8508964776992798\n"
          ]
        },
        {
          "output_type": "stream",
          "name": "stdout",
          "text": [
            "16/16 [==============================] - 2s 138ms/step - loss: 0.1660 - binary_accuracy: 0.7640 - q_auc_6: 0.8603 - val_loss: 0.1683 - val_binary_accuracy: 0.7630 - val_q_auc_6: 0.8509\n",
            "Epoch 95/100\n",
            "16/16 [==============================] - ETA: 0s - loss: 0.1660 - binary_accuracy: 0.7630 - q_auc_6: 0.8604"
          ]
        },
        {
          "output_type": "stream",
          "name": "stderr",
          "text": [
            "DEBUG:quple.classifiers.vqc_logger:######## Epoch 94 ########\n",
            "DEBUG:quple.classifiers.vqc_logger:loss: 0.16599798202514648\n",
            "DEBUG:quple.classifiers.vqc_logger:binary_accuracy: 0.7630000114440918\n",
            "DEBUG:quple.classifiers.vqc_logger:q_auc_6: 0.8604434132575989\n",
            "DEBUG:quple.classifiers.vqc_logger:val_loss: 0.16834035515785217\n",
            "DEBUG:quple.classifiers.vqc_logger:val_binary_accuracy: 0.7609999775886536\n",
            "DEBUG:quple.classifiers.vqc_logger:val_q_auc_6: 0.8511505126953125\n"
          ]
        },
        {
          "output_type": "stream",
          "name": "stdout",
          "text": [
            "16/16 [==============================] - 3s 176ms/step - loss: 0.1660 - binary_accuracy: 0.7630 - q_auc_6: 0.8604 - val_loss: 0.1683 - val_binary_accuracy: 0.7610 - val_q_auc_6: 0.8512\n",
            "Epoch 96/100\n",
            "16/16 [==============================] - ETA: 0s - loss: 0.1660 - binary_accuracy: 0.7640 - q_auc_6: 0.8597"
          ]
        },
        {
          "output_type": "stream",
          "name": "stderr",
          "text": [
            "DEBUG:quple.classifiers.vqc_logger:######## Epoch 95 ########\n",
            "DEBUG:quple.classifiers.vqc_logger:loss: 0.16601796448230743\n",
            "DEBUG:quple.classifiers.vqc_logger:binary_accuracy: 0.7639999985694885\n",
            "DEBUG:quple.classifiers.vqc_logger:q_auc_6: 0.859715461730957\n",
            "DEBUG:quple.classifiers.vqc_logger:val_loss: 0.16820064187049866\n",
            "DEBUG:quple.classifiers.vqc_logger:val_binary_accuracy: 0.7639999985694885\n",
            "DEBUG:quple.classifiers.vqc_logger:val_q_auc_6: 0.8512964844703674\n"
          ]
        },
        {
          "output_type": "stream",
          "name": "stdout",
          "text": [
            "16/16 [==============================] - 4s 235ms/step - loss: 0.1660 - binary_accuracy: 0.7640 - q_auc_6: 0.8597 - val_loss: 0.1682 - val_binary_accuracy: 0.7640 - val_q_auc_6: 0.8513\n",
            "Epoch 97/100\n",
            "16/16 [==============================] - ETA: 0s - loss: 0.1658 - binary_accuracy: 0.7620 - q_auc_6: 0.8605"
          ]
        },
        {
          "output_type": "stream",
          "name": "stderr",
          "text": [
            "DEBUG:quple.classifiers.vqc_logger:######## Epoch 96 ########\n",
            "DEBUG:quple.classifiers.vqc_logger:loss: 0.1657891720533371\n",
            "DEBUG:quple.classifiers.vqc_logger:binary_accuracy: 0.7620000243186951\n",
            "DEBUG:quple.classifiers.vqc_logger:q_auc_6: 0.8604694604873657\n",
            "DEBUG:quple.classifiers.vqc_logger:val_loss: 0.16823013126850128\n",
            "DEBUG:quple.classifiers.vqc_logger:val_binary_accuracy: 0.7609999775886536\n",
            "DEBUG:quple.classifiers.vqc_logger:val_q_auc_6: 0.8513424396514893\n"
          ]
        },
        {
          "output_type": "stream",
          "name": "stdout",
          "text": [
            "16/16 [==============================] - 3s 179ms/step - loss: 0.1658 - binary_accuracy: 0.7620 - q_auc_6: 0.8605 - val_loss: 0.1682 - val_binary_accuracy: 0.7610 - val_q_auc_6: 0.8513\n",
            "Epoch 98/100\n",
            "16/16 [==============================] - ETA: 0s - loss: 0.1658 - binary_accuracy: 0.7640 - q_auc_6: 0.8607"
          ]
        },
        {
          "output_type": "stream",
          "name": "stderr",
          "text": [
            "DEBUG:quple.classifiers.vqc_logger:######## Epoch 97 ########\n",
            "DEBUG:quple.classifiers.vqc_logger:loss: 0.16582080721855164\n",
            "DEBUG:quple.classifiers.vqc_logger:binary_accuracy: 0.7639999985694885\n",
            "DEBUG:quple.classifiers.vqc_logger:q_auc_6: 0.8607274293899536\n",
            "DEBUG:quple.classifiers.vqc_logger:val_loss: 0.16821326315402985\n",
            "DEBUG:quple.classifiers.vqc_logger:val_binary_accuracy: 0.7609999775886536\n",
            "DEBUG:quple.classifiers.vqc_logger:val_q_auc_6: 0.8515664935112\n"
          ]
        },
        {
          "output_type": "stream",
          "name": "stdout",
          "text": [
            "16/16 [==============================] - 2s 135ms/step - loss: 0.1658 - binary_accuracy: 0.7640 - q_auc_6: 0.8607 - val_loss: 0.1682 - val_binary_accuracy: 0.7610 - val_q_auc_6: 0.8516\n",
            "Epoch 99/100\n",
            "16/16 [==============================] - ETA: 0s - loss: 0.1659 - binary_accuracy: 0.7610 - q_auc_6: 0.8600"
          ]
        },
        {
          "output_type": "stream",
          "name": "stderr",
          "text": [
            "DEBUG:quple.classifiers.vqc_logger:######## Epoch 98 ########\n",
            "DEBUG:quple.classifiers.vqc_logger:loss: 0.1659003496170044\n",
            "DEBUG:quple.classifiers.vqc_logger:binary_accuracy: 0.7609999775886536\n",
            "DEBUG:quple.classifiers.vqc_logger:q_auc_6: 0.8600454330444336\n",
            "DEBUG:quple.classifiers.vqc_logger:val_loss: 0.16813218593597412\n",
            "DEBUG:quple.classifiers.vqc_logger:val_binary_accuracy: 0.7609999775886536\n",
            "DEBUG:quple.classifiers.vqc_logger:val_q_auc_6: 0.8513385057449341\n"
          ]
        },
        {
          "output_type": "stream",
          "name": "stdout",
          "text": [
            "16/16 [==============================] - 2s 138ms/step - loss: 0.1659 - binary_accuracy: 0.7610 - q_auc_6: 0.8600 - val_loss: 0.1681 - val_binary_accuracy: 0.7610 - val_q_auc_6: 0.8513\n",
            "Epoch 100/100\n",
            "16/16 [==============================] - ETA: 0s - loss: 0.1657 - binary_accuracy: 0.7650 - q_auc_6: 0.8601"
          ]
        },
        {
          "output_type": "stream",
          "name": "stderr",
          "text": [
            "DEBUG:quple.classifiers.vqc_logger:######## Epoch 99 ########\n",
            "DEBUG:quple.classifiers.vqc_logger:loss: 0.16567395627498627\n",
            "DEBUG:quple.classifiers.vqc_logger:binary_accuracy: 0.7649999856948853\n",
            "DEBUG:quple.classifiers.vqc_logger:q_auc_6: 0.8600614070892334\n",
            "DEBUG:quple.classifiers.vqc_logger:val_loss: 0.16798502206802368\n",
            "DEBUG:quple.classifiers.vqc_logger:val_binary_accuracy: 0.7620000243186951\n",
            "DEBUG:quple.classifiers.vqc_logger:val_q_auc_6: 0.8512305021286011\n"
          ]
        },
        {
          "output_type": "stream",
          "name": "stdout",
          "text": [
            "\b\b\b\b\b\b\b\b\b\b\b\b\b\b\b\b\b\b\b\b\b\b\b\b\b\b\b\b\b\b\b\b\b\b\b\b\b\b\b\b\b\b\b\b\b\b\b\b\b\b\b\b\b\b\b\b\b\b\b\b\b\b\b\b\b\b\b\b\b\b\b\b\b\b\b\b\b\b\b\b\b\b\b\b\b\b\b\b\b\b\b\b\b\b\b\b\b\b\b\b\b\b\b\b\b\b\b\r16/16 [==============================] - 2s 139ms/step - loss: 0.1657 - binary_accuracy: 0.7650 - q_auc_6: 0.8601 - val_loss: 0.1680 - val_binary_accuracy: 0.7620 - val_q_auc_6: 0.8512\n"
          ]
        },
        {
          "output_type": "stream",
          "name": "stderr",
          "text": [
            "INFO:quple.classifiers.vqc_logger:######## Training Ends ########\n",
            "INFO:quple.classifiers.vqc_logger:Model weights: \n",
            "[ 3.4833806   1.3571444   5.381436    0.012061    3.2444727   4.6609426\n",
            "  2.9495177   3.295276    0.17180203  3.5379705   1.3839997   5.004648\n",
            "  6.389941    0.5875288   1.6813424   6.0233865   3.6727226   5.513766\n",
            "  1.2503586   4.017027    3.0610278   0.21722032  5.897611    5.0021358\n",
            "  4.722839    0.9990612   3.2601633   2.9509146   2.006841    4.049438\n",
            "  1.4685293   5.984891   -0.09850819  2.980411    0.60006136]\n",
            "Converting circuits to tensors...\n",
            "INFO:quple.classifiers.vqc:Converting circuits to tensors...\n",
            "INFO:quple.classifiers.vqc_logger:######## Test Begins ########\n",
            "INFO:quple.classifiers.vqc_logger:Number of samples for Testing: 1000\n",
            "INFO:quple.classifiers.vqc_logger:Number of Epochs: 100\n",
            "INFO:quple.classifiers.vqc_logger:Batch Size: 64\n"
          ]
        },
        {
          "output_type": "stream",
          "name": "stdout",
          "text": [
            "31/32 [============================>.] - ETA: 0s - loss: 0.1605 - binary_accuracy: 0.7893 - q_auc_6: 0.8702"
          ]
        },
        {
          "output_type": "stream",
          "name": "stderr",
          "text": [
            "INFO:quple.classifiers.vqc_logger:######## Test Ends ########\n"
          ]
        },
        {
          "output_type": "stream",
          "name": "stdout",
          "text": [
            "\b\b\b\b\b\b\b\b\b\b\b\b\b\b\b\b\b\b\b\b\b\b\b\b\b\b\b\b\b\b\b\b\b\b\b\b\b\b\b\b\b\b\b\b\b\b\b\b\b\b\b\b\b\b\b\b\b\b\b\b\b\b\b\b\b\b\b\b\b\b\b\b\b\b\b\b\b\b\b\b\b\b\b\b\b\b\b\b\b\b\b\b\b\b\b\b\b\b\b\b\b\b\b\b\b\b\b\r32/32 [==============================] - 2s 50ms/step - loss: 0.1610 - binary_accuracy: 0.7880 - q_auc_6: 0.8690\n"
          ]
        },
        {
          "output_type": "stream",
          "name": "stderr",
          "text": [
            "DEBUG:quple.classifiers.vqc_logger:######## ROC curve information ########\n",
            "DEBUG:quple.classifiers.vqc_logger:fpr:\n",
            "[0.         0.         0.         0.00192678 0.00192678 0.00385356\n",
            " 0.00385356 0.00578035 0.00578035 0.00770713 0.00770713 0.00963391\n",
            " 0.00963391 0.01156069 0.01156069 0.01348748 0.01348748 0.01734104\n",
            " 0.01734104 0.01926782 0.01926782 0.02119461 0.02119461 0.02504817\n",
            " 0.02504817 0.02697495 0.02697495 0.03082852 0.03082852 0.0327553\n",
            " 0.0327553  0.03468208 0.03468208 0.03660886 0.03660886 0.03853565\n",
            " 0.03853565 0.04046243 0.04046243 0.04238921 0.04238921 0.04238921\n",
            " 0.04238921 0.04431599 0.04431599 0.04624277 0.04624277 0.04816956\n",
            " 0.04816956 0.0539499  0.0539499  0.05780347 0.05780347 0.06165703\n",
            " 0.06165703 0.06165703 0.06165703 0.06358382 0.06358382 0.0655106\n",
            " 0.0655106  0.06743738 0.06743738 0.07129094 0.07129094 0.07321773\n",
            " 0.07321773 0.07899807 0.07899807 0.08092486 0.08092486 0.08477842\n",
            " 0.08477842 0.0867052  0.0867052  0.08863198 0.08863198 0.09248555\n",
            " 0.09248555 0.09441233 0.09441233 0.09633911 0.09633911 0.0982659\n",
            " 0.0982659  0.10019268 0.10019268 0.10211946 0.10211946 0.10404624\n",
            " 0.10404624 0.10597303 0.10597303 0.11175337 0.11175337 0.11560694\n",
            " 0.11560694 0.1194605  0.1194605  0.12331407 0.12331407 0.12716763\n",
            " 0.12716763 0.13294798 0.13294798 0.13487476 0.13487476 0.13680154\n",
            " 0.13680154 0.13872832 0.13872832 0.14258189 0.14258189 0.14450867\n",
            " 0.14450867 0.15028902 0.15028902 0.15414258 0.15414258 0.15799615\n",
            " 0.15799615 0.15992293 0.15992293 0.16377649 0.16377649 0.16570328\n",
            " 0.16570328 0.16763006 0.16763006 0.16955684 0.16955684 0.17919075\n",
            " 0.17919075 0.1849711  0.1849711  0.18689788 0.18689788 0.19267823\n",
            " 0.19267823 0.19460501 0.19460501 0.19845857 0.19845857 0.2061657\n",
            " 0.2061657  0.21965318 0.21965318 0.22350674 0.22350674 0.23314066\n",
            " 0.23314066 0.23699422 0.23699422 0.238921   0.238921   0.24277457\n",
            " 0.24277457 0.25433526 0.25433526 0.2716763  0.2716763  0.27360308\n",
            " 0.27360308 0.27745665 0.27745665 0.28901734 0.28901734 0.29287091\n",
            " 0.29287091 0.29865125 0.29865125 0.30057803 0.30057803 0.3044316\n",
            " 0.3044316  0.30828516 0.30828516 0.32177264 0.32177264 0.32369942\n",
            " 0.32369942 0.32755299 0.32755299 0.33140655 0.33140655 0.3371869\n",
            " 0.3371869  0.35260116 0.35260116 0.35452794 0.35452794 0.35645472\n",
            " 0.35645472 0.36030829 0.36030829 0.37572254 0.37572254 0.3911368\n",
            " 0.3911368  0.4026975  0.4026975  0.41618497 0.41618497 0.42003854\n",
            " 0.42003854 0.42581888 0.42581888 0.43159923 0.43159923 0.43352601\n",
            " 0.43352601 0.43545279 0.43545279 0.44123314 0.44123314 0.45472062\n",
            " 0.45472062 0.46435453 0.46435453 0.48362235 0.48362235 0.48554913\n",
            " 0.48554913 0.50096339 0.50096339 0.51637765 0.51637765 0.52408478\n",
            " 0.52408478 0.53179191 0.53179191 0.53371869 0.53371869 0.54913295\n",
            " 0.54913295 0.55105973 0.55105973 0.55298651 0.55298651 0.56069364\n",
            " 0.56069364 0.58766859 0.58766859 0.59152216 0.59152216 0.6088632\n",
            " 0.6088632  0.63198459 0.63198459 0.63969171 0.63969171 0.66473988\n",
            " 0.66473988 0.66859345 0.66859345 0.67244701 0.67244701 0.70712909\n",
            " 0.70712909 0.72447013 0.72447013 0.76493256 0.76493256 0.78998073\n",
            " 0.78998073 0.79961464 0.79961464 0.84007707 0.84007707 0.91907514\n",
            " 0.91907514 0.93063584 0.93063584 1.        ]\n",
            "DEBUG:quple.classifiers.vqc_logger:tpr:\n",
            "[0.         0.002079   0.01247401 0.01247401 0.03950104 0.03950104\n",
            " 0.06029106 0.06029106 0.0997921  0.0997921  0.13097713 0.13097713\n",
            " 0.16632017 0.16632017 0.19126819 0.19126819 0.2016632  0.2016632\n",
            " 0.22869023 0.22869023 0.23284823 0.23284823 0.23700624 0.23700624\n",
            " 0.25155925 0.25155925 0.25571726 0.25571726 0.27442827 0.27442827\n",
            " 0.28898129 0.28898129 0.32016632 0.32016632 0.33056133 0.33056133\n",
            " 0.39293139 0.39293139 0.3991684  0.3991684  0.41995842 0.42411642\n",
            " 0.43866944 0.43866944 0.48024948 0.48024948 0.49064449 0.49064449\n",
            " 0.49480249 0.49480249 0.51143451 0.51143451 0.52182952 0.52182952\n",
            " 0.52598753 0.53014553 0.55093555 0.55093555 0.57380457 0.57380457\n",
            " 0.59251559 0.59251559 0.5987526  0.5987526  0.62577963 0.62577963\n",
            " 0.62785863 0.62785863 0.62993763 0.62993763 0.63409563 0.63409563\n",
            " 0.64033264 0.64033264 0.64241164 0.64241164 0.65488565 0.65488565\n",
            " 0.65904366 0.65904366 0.66112266 0.66112266 0.66320166 0.66320166\n",
            " 0.66528067 0.66528067 0.66943867 0.66943867 0.67359667 0.67359667\n",
            " 0.67983368 0.67983368 0.68399168 0.68399168 0.6985447  0.6985447\n",
            " 0.7006237  0.7006237  0.7027027  0.7027027  0.7047817  0.7047817\n",
            " 0.71309771 0.71309771 0.71517672 0.71517672 0.72141372 0.72141372\n",
            " 0.72557173 0.72557173 0.72765073 0.72765073 0.72972973 0.72972973\n",
            " 0.74012474 0.74012474 0.74428274 0.74428274 0.74636175 0.74636175\n",
            " 0.74844075 0.74844075 0.75051975 0.75051975 0.75467775 0.75467775\n",
            " 0.76091476 0.76091476 0.76299376 0.76299376 0.76507277 0.76507277\n",
            " 0.76715177 0.76715177 0.77130977 0.77130977 0.77338877 0.77338877\n",
            " 0.77962578 0.77962578 0.78586279 0.78586279 0.79002079 0.79002079\n",
            " 0.79417879 0.79417879 0.7962578  0.7962578  0.8004158  0.8004158\n",
            " 0.80665281 0.80665281 0.81081081 0.81081081 0.81288981 0.81288981\n",
            " 0.81704782 0.81704782 0.82120582 0.82120582 0.82536383 0.82536383\n",
            " 0.83367983 0.83367983 0.83575884 0.83575884 0.83783784 0.83783784\n",
            " 0.84199584 0.84199584 0.85031185 0.85031185 0.85239085 0.85239085\n",
            " 0.85446985 0.85446985 0.85654886 0.85654886 0.86486486 0.86486486\n",
            " 0.86694387 0.86694387 0.87318087 0.87318087 0.87525988 0.87525988\n",
            " 0.88357588 0.88357588 0.88773389 0.88773389 0.88981289 0.88981289\n",
            " 0.89189189 0.89189189 0.89397089 0.89397089 0.8960499  0.8960499\n",
            " 0.8981289  0.8981289  0.9002079  0.9002079  0.9043659  0.9043659\n",
            " 0.90644491 0.90644491 0.90852391 0.90852391 0.91060291 0.91060291\n",
            " 0.91268191 0.91268191 0.91891892 0.91891892 0.92307692 0.92307692\n",
            " 0.92723493 0.92723493 0.92931393 0.92931393 0.93139293 0.93139293\n",
            " 0.93762994 0.93762994 0.94178794 0.94178794 0.94386694 0.94386694\n",
            " 0.94594595 0.94594595 0.94802495 0.94802495 0.95010395 0.95010395\n",
            " 0.95218295 0.95218295 0.95426195 0.95426195 0.95634096 0.95634096\n",
            " 0.95841996 0.95841996 0.96673597 0.96673597 0.96881497 0.96881497\n",
            " 0.97089397 0.97089397 0.97505198 0.97505198 0.97713098 0.97713098\n",
            " 0.97920998 0.97920998 0.98128898 0.98128898 0.98336798 0.98336798\n",
            " 0.98544699 0.98544699 0.98752599 0.98752599 0.98960499 0.98960499\n",
            " 0.99168399 0.99168399 0.99376299 0.99376299 0.995842   0.995842\n",
            " 0.997921   0.997921   1.         1.        ]\n",
            "DEBUG:quple.classifiers.vqc_logger:auc:\n",
            "0.8692431871622623\n",
            "WARNING:matplotlib.backends.backend_ps:The PostScript backend does not support transparency; partially transparent artists will be rendered opaque.\n"
          ]
        },
        {
          "output_type": "display_data",
          "data": {
            "text/plain": [
              "<Figure size 432x288 with 1 Axes>"
            ],
            "image/png": "[encoded data removed]"
          },
          "metadata": {
            "needs_background": "light"
          }
        }
      ]
    },
    {
      "cell_type": "code",
      "source": [],
      "metadata": {
        "id": "WxaDD91wGnyb"
      },
      "execution_count": null,
      "outputs": []
    }
  ]
}